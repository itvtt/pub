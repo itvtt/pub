{
 "cells": [
  {
   "cell_type": "code",
   "execution_count": 1,
   "metadata": {},
   "outputs": [
    {
     "data": {
      "text/html": [
       "<div>\n",
       "<style scoped>\n",
       "    .dataframe tbody tr th:only-of-type {\n",
       "        vertical-align: middle;\n",
       "    }\n",
       "\n",
       "    .dataframe tbody tr th {\n",
       "        vertical-align: top;\n",
       "    }\n",
       "\n",
       "    .dataframe thead th {\n",
       "        text-align: right;\n",
       "    }\n",
       "</style>\n",
       "<table border=\"1\" class=\"dataframe\">\n",
       "  <thead>\n",
       "    <tr style=\"text-align: right;\">\n",
       "      <th></th>\n",
       "      <th>title</th>\n",
       "      <th>time</th>\n",
       "    </tr>\n",
       "  </thead>\n",
       "  <tbody>\n",
       "    <tr>\n",
       "      <th>0</th>\n",
       "      <td>A1</td>\n",
       "      <td>2023-11-09 10:00:00</td>\n",
       "    </tr>\n",
       "    <tr>\n",
       "      <th>1</th>\n",
       "      <td>A2</td>\n",
       "      <td>2023-11-09 23:59:00</td>\n",
       "    </tr>\n",
       "  </tbody>\n",
       "</table>\n",
       "</div>"
      ],
      "text/plain": [
       "  title                time\n",
       "0    A1 2023-11-09 10:00:00\n",
       "1    A2 2023-11-09 23:59:00"
      ]
     },
     "execution_count": 1,
     "metadata": {},
     "output_type": "execute_result"
    }
   ],
   "source": [
    "from datetime import datetime\n",
    "import pandas as pd\n",
    "\n",
    "# Given data in the image\n",
    "data = {\n",
    "    \"time\": [\n",
    "        \"2023-11-09 10:00\",\n",
    "        \"2023-11-09 10:00\",\n",
    "        \"2023-11-09 10:00\",\n",
    "        \"2023-11-09 10:00\",\n",
    "        \"2023-11-09 10:00\",\n",
    "        \"2023-11-09 10:00\",\n",
    "        \"2023-11-09 23:59\",\n",
    "        \"2023-11-10 0:00\"\n",
    "    ],\n",
    "    \"title\": [\"A1\", \"A1\", \"A1\", \"A1\", \"A1\", \"A1\", \"A2\", \"A2\"]\n",
    "}\n",
    "\n",
    "# Create a DataFrame\n",
    "df = pd.DataFrame(data)\n",
    "\n",
    "# Convert the time column to datetime\n",
    "df['time'] = pd.to_datetime(df['time'])\n",
    "\n",
    "# Group by the title and find the earliest time for each\n",
    "earliest_times = df.groupby('title')['time'].min().reset_index()\n",
    "\n",
    "earliest_times\n"
   ]
  },
  {
   "cell_type": "code",
   "execution_count": null,
   "metadata": {},
   "outputs": [],
   "source": []
  },
  {
   "cell_type": "code",
   "execution_count": 12,
   "metadata": {},
   "outputs": [
    {
     "name": "stdout",
     "output_type": "stream",
     "text": [
      "apple 사과\n",
      "apple 인캘리포니아\n",
      "apple 파인\n"
     ]
    }
   ],
   "source": [
    "my_dict = {\"사과\":\"apple\",\"바나나\":\"banana\", \"당근\":\"carrot\", \"체리\":\"cherry\",\"인캘리포니아\":\"apple\",\"파인\":\"apple\",\"버내너\":\"banana\"}\n",
    "num = 0\n",
    "data = []\n",
    "for i in my_dict.values():\n",
    "    if i == \"apple\":\n",
    "        result = list(my_dict)[num]\n",
    "        data.append(num)\n",
    "    num = num+1\n",
    "for i in data:\n",
    "    i = list(my_dict)[i]\n",
    "    t = my_dict[f\"{i}\"]\n",
    "    print(t+' '+i)"
   ]
  },
  {
   "cell_type": "code",
   "execution_count": null,
   "metadata": {},
   "outputs": [],
   "source": []
  },
  {
   "cell_type": "code",
   "execution_count": null,
   "metadata": {},
   "outputs": [],
   "source": []
  },
  {
   "cell_type": "code",
   "execution_count": 1,
   "metadata": {},
   "outputs": [
    {
     "name": "stdout",
     "output_type": "stream",
     "text": [
      "'안녕하세요'의 글자 수는 5개 입니다.\n"
     ]
    }
   ],
   "source": [
    "# 문자열을 정의합니다.\n",
    "text = \"안녕하세요\"\n",
    "\n",
    "# len() 함수를 사용하여 글자 수를 알아냅니다.\n",
    "length = len(text)\n",
    "\n",
    "# 글자 수를 출력합니다.\n",
    "print(f\"'{text}'의 글자 수는 {length}개 입니다.\")\n"
   ]
  },
  {
   "cell_type": "code",
   "execution_count": 8,
   "metadata": {},
   "outputs": [
    {
     "data": {
      "text/plain": [
       "0"
      ]
     },
     "execution_count": 8,
     "metadata": {},
     "output_type": "execute_result"
    }
   ],
   "source": [
    "num = input(333)\n",
    "len(num)"
   ]
  },
  {
   "cell_type": "code",
   "execution_count": null,
   "metadata": {},
   "outputs": [],
   "source": []
  },
  {
   "cell_type": "code",
   "execution_count": 3,
   "metadata": {},
   "outputs": [
    {
     "name": "stdout",
     "output_type": "stream",
     "text": [
      "1.6666666666666667\n"
     ]
    }
   ],
   "source": [
    "print(5 / 3)"
   ]
  },
  {
   "cell_type": "code",
   "execution_count": 14,
   "metadata": {},
   "outputs": [
    {
     "name": "stdout",
     "output_type": "stream",
     "text": [
      "2\n"
     ]
    }
   ],
   "source": [
    "print(8 % 6)"
   ]
  }
 ],
 "metadata": {
  "kernelspec": {
   "display_name": "Python 3",
   "language": "python",
   "name": "python3"
  },
  "language_info": {
   "codemirror_mode": {
    "name": "ipython",
    "version": 3
   },
   "file_extension": ".py",
   "mimetype": "text/x-python",
   "name": "python",
   "nbconvert_exporter": "python",
   "pygments_lexer": "ipython3",
   "version": "3.10.9"
  }
 },
 "nbformat": 4,
 "nbformat_minor": 2
}
