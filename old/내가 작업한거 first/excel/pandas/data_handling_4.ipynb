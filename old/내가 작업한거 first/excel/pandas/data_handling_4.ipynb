{
 "cells": [
  {
   "cell_type": "code",
   "execution_count": 1,
   "id": "64bfefd0",
   "metadata": {},
   "outputs": [],
   "source": [
    "import pandas as pd"
   ]
  },
  {
   "cell_type": "code",
   "execution_count": 2,
   "id": "0dcfc26b",
   "metadata": {},
   "outputs": [],
   "source": [
    "df = pd.read_excel('best_movies_on_netflix.xlsx',index_col='Rank',usecols='A:F')"
   ]
  },
  {
   "cell_type": "markdown",
   "id": "b541f97e",
   "metadata": {},
   "source": [
    "### ### best_movies_on_netflix.xlsx 파일을 Rank 컬럼을 인덱스로 컬럼은 A:F까지 데이터프레임으로 가져오기"
   ]
  },
  {
   "cell_type": "markdown",
   "id": "06269c71",
   "metadata": {},
   "source": [
    "### iloc : integer location"
   ]
  },
  {
   "cell_type": "markdown",
   "id": "afadb382",
   "metadata": {},
   "source": [
    "### 0번 row"
   ]
  },
  {
   "cell_type": "code",
   "execution_count": 3,
   "id": "6000240e",
   "metadata": {},
   "outputs": [
    {
     "data": {
      "text/plain": [
       "Movie Title                                            His House\n",
       "Year                                                        2020\n",
       "Score                                                        100\n",
       "Director                                             Remi Weekes\n",
       "Cast           Wunmi Mosaku, Sope Dirisu, Matt Smith, Cornell...\n",
       "Name: 1, dtype: object"
      ]
     },
     "execution_count": 3,
     "metadata": {},
     "output_type": "execute_result"
    }
   ],
   "source": [
    "df.iloc[0]"
   ]
  },
  {
   "cell_type": "code",
   "execution_count": 4,
   "id": "b692171e",
   "metadata": {
    "scrolled": true
   },
   "outputs": [
    {
     "data": {
      "text/html": [
       "<div>\n",
       "<style scoped>\n",
       "    .dataframe tbody tr th:only-of-type {\n",
       "        vertical-align: middle;\n",
       "    }\n",
       "\n",
       "    .dataframe tbody tr th {\n",
       "        vertical-align: top;\n",
       "    }\n",
       "\n",
       "    .dataframe thead th {\n",
       "        text-align: right;\n",
       "    }\n",
       "</style>\n",
       "<table border=\"1\" class=\"dataframe\">\n",
       "  <thead>\n",
       "    <tr style=\"text-align: right;\">\n",
       "      <th></th>\n",
       "      <th>Movie Title</th>\n",
       "      <th>Year</th>\n",
       "      <th>Score</th>\n",
       "      <th>Director</th>\n",
       "      <th>Cast</th>\n",
       "    </tr>\n",
       "    <tr>\n",
       "      <th>Rank</th>\n",
       "      <th></th>\n",
       "      <th></th>\n",
       "      <th></th>\n",
       "      <th></th>\n",
       "      <th></th>\n",
       "    </tr>\n",
       "  </thead>\n",
       "  <tbody>\n",
       "    <tr>\n",
       "      <th>1</th>\n",
       "      <td>His House</td>\n",
       "      <td>2020</td>\n",
       "      <td>100</td>\n",
       "      <td>Remi Weekes</td>\n",
       "      <td>Wunmi Mosaku, Sope Dirisu, Matt Smith, Cornell...</td>\n",
       "    </tr>\n",
       "    <tr>\n",
       "      <th>2</th>\n",
       "      <td>How to Train Your Dragon</td>\n",
       "      <td>2010</td>\n",
       "      <td>99</td>\n",
       "      <td>Christopher Sanders</td>\n",
       "      <td>Jay Baruchel, Gerard Butler, America Ferrera, ...</td>\n",
       "    </tr>\n",
       "    <tr>\n",
       "      <th>3</th>\n",
       "      <td>The Forty-Year-Old Version</td>\n",
       "      <td>2020</td>\n",
       "      <td>99</td>\n",
       "      <td>Radha Blank</td>\n",
       "      <td>Welker White, Reed Birney, Radha Blank, Peter Kim</td>\n",
       "    </tr>\n",
       "    <tr>\n",
       "      <th>4</th>\n",
       "      <td>Under the Shadow</td>\n",
       "      <td>2016</td>\n",
       "      <td>99</td>\n",
       "      <td>Babak Anvari</td>\n",
       "      <td>Narges Rashidi, Avin Manshadi, Bobby Naderi, R...</td>\n",
       "    </tr>\n",
       "    <tr>\n",
       "      <th>5</th>\n",
       "      <td>Monty Python and the Holy Grail</td>\n",
       "      <td>1975</td>\n",
       "      <td>98</td>\n",
       "      <td>Terry Gilliam</td>\n",
       "      <td>Graham Chapman, John Cleese, Terry Gilliam, Er...</td>\n",
       "    </tr>\n",
       "    <tr>\n",
       "      <th>...</th>\n",
       "      <td>...</td>\n",
       "      <td>...</td>\n",
       "      <td>...</td>\n",
       "      <td>...</td>\n",
       "      <td>...</td>\n",
       "    </tr>\n",
       "    <tr>\n",
       "      <th>96</th>\n",
       "      <td>Fear Street Part Three: 1666</td>\n",
       "      <td>2021</td>\n",
       "      <td>88</td>\n",
       "      <td>Leigh Janiak</td>\n",
       "      <td>Kiana Madeira, Ashley Zukerman, Gillian Jacobs...</td>\n",
       "    </tr>\n",
       "    <tr>\n",
       "      <th>97</th>\n",
       "      <td>Donnie Brasco</td>\n",
       "      <td>1997</td>\n",
       "      <td>88</td>\n",
       "      <td>Mike Newell</td>\n",
       "      <td>Al Pacino, Johnny Depp, Michael Madsen, Bruno ...</td>\n",
       "    </tr>\n",
       "    <tr>\n",
       "      <th>98</th>\n",
       "      <td>Inception</td>\n",
       "      <td>2010</td>\n",
       "      <td>87</td>\n",
       "      <td>Christopher Nolan</td>\n",
       "      <td>Leonardo DiCaprio, Joseph Gordon-Levitt, Ellio...</td>\n",
       "    </tr>\n",
       "    <tr>\n",
       "      <th>99</th>\n",
       "      <td>American Beauty</td>\n",
       "      <td>1999</td>\n",
       "      <td>87</td>\n",
       "      <td>Sam Mendes</td>\n",
       "      <td>Kevin Spacey, Annette Bening, Thora Birch, Wes...</td>\n",
       "    </tr>\n",
       "    <tr>\n",
       "      <th>100</th>\n",
       "      <td>Kung Fu Panda</td>\n",
       "      <td>2008</td>\n",
       "      <td>87</td>\n",
       "      <td>John Stevenson</td>\n",
       "      <td>Jack Black, Angelina Jolie, Jackie Chan, David...</td>\n",
       "    </tr>\n",
       "  </tbody>\n",
       "</table>\n",
       "<p>100 rows × 5 columns</p>\n",
       "</div>"
      ],
      "text/plain": [
       "                          Movie Title  Year  Score             Director  \\\n",
       "Rank                                                                      \n",
       "1                           His House  2020    100          Remi Weekes   \n",
       "2            How to Train Your Dragon  2010     99  Christopher Sanders   \n",
       "3          The Forty-Year-Old Version  2020     99          Radha Blank   \n",
       "4                    Under the Shadow  2016     99         Babak Anvari   \n",
       "5     Monty Python and the Holy Grail  1975     98        Terry Gilliam   \n",
       "...                               ...   ...    ...                  ...   \n",
       "96       Fear Street Part Three: 1666  2021     88         Leigh Janiak   \n",
       "97                      Donnie Brasco  1997     88          Mike Newell   \n",
       "98                          Inception  2010     87    Christopher Nolan   \n",
       "99                    American Beauty  1999     87           Sam Mendes   \n",
       "100                     Kung Fu Panda  2008     87       John Stevenson   \n",
       "\n",
       "                                                   Cast  \n",
       "Rank                                                     \n",
       "1     Wunmi Mosaku, Sope Dirisu, Matt Smith, Cornell...  \n",
       "2     Jay Baruchel, Gerard Butler, America Ferrera, ...  \n",
       "3     Welker White, Reed Birney, Radha Blank, Peter Kim  \n",
       "4     Narges Rashidi, Avin Manshadi, Bobby Naderi, R...  \n",
       "5     Graham Chapman, John Cleese, Terry Gilliam, Er...  \n",
       "...                                                 ...  \n",
       "96    Kiana Madeira, Ashley Zukerman, Gillian Jacobs...  \n",
       "97    Al Pacino, Johnny Depp, Michael Madsen, Bruno ...  \n",
       "98    Leonardo DiCaprio, Joseph Gordon-Levitt, Ellio...  \n",
       "99    Kevin Spacey, Annette Bening, Thora Birch, Wes...  \n",
       "100   Jack Black, Angelina Jolie, Jackie Chan, David...  \n",
       "\n",
       "[100 rows x 5 columns]"
      ]
     },
     "execution_count": 4,
     "metadata": {},
     "output_type": "execute_result"
    }
   ],
   "source": [
    "df"
   ]
  },
  {
   "cell_type": "code",
   "execution_count": null,
   "id": "58d41a0d",
   "metadata": {},
   "outputs": [],
   "source": []
  },
  {
   "cell_type": "markdown",
   "id": "10eb05a2",
   "metadata": {},
   "source": [
    "### 0번~4번 row"
   ]
  },
  {
   "cell_type": "code",
   "execution_count": 7,
   "id": "7c163d02",
   "metadata": {},
   "outputs": [
    {
     "data": {
      "text/html": [
       "<div>\n",
       "<style scoped>\n",
       "    .dataframe tbody tr th:only-of-type {\n",
       "        vertical-align: middle;\n",
       "    }\n",
       "\n",
       "    .dataframe tbody tr th {\n",
       "        vertical-align: top;\n",
       "    }\n",
       "\n",
       "    .dataframe thead th {\n",
       "        text-align: right;\n",
       "    }\n",
       "</style>\n",
       "<table border=\"1\" class=\"dataframe\">\n",
       "  <thead>\n",
       "    <tr style=\"text-align: right;\">\n",
       "      <th></th>\n",
       "      <th>Movie Title</th>\n",
       "      <th>Year</th>\n",
       "      <th>Score</th>\n",
       "      <th>Director</th>\n",
       "      <th>Cast</th>\n",
       "    </tr>\n",
       "    <tr>\n",
       "      <th>Rank</th>\n",
       "      <th></th>\n",
       "      <th></th>\n",
       "      <th></th>\n",
       "      <th></th>\n",
       "      <th></th>\n",
       "    </tr>\n",
       "  </thead>\n",
       "  <tbody>\n",
       "    <tr>\n",
       "      <th>1</th>\n",
       "      <td>His House</td>\n",
       "      <td>2020</td>\n",
       "      <td>100</td>\n",
       "      <td>Remi Weekes</td>\n",
       "      <td>Wunmi Mosaku, Sope Dirisu, Matt Smith, Cornell...</td>\n",
       "    </tr>\n",
       "    <tr>\n",
       "      <th>2</th>\n",
       "      <td>How to Train Your Dragon</td>\n",
       "      <td>2010</td>\n",
       "      <td>99</td>\n",
       "      <td>Christopher Sanders</td>\n",
       "      <td>Jay Baruchel, Gerard Butler, America Ferrera, ...</td>\n",
       "    </tr>\n",
       "    <tr>\n",
       "      <th>3</th>\n",
       "      <td>The Forty-Year-Old Version</td>\n",
       "      <td>2020</td>\n",
       "      <td>99</td>\n",
       "      <td>Radha Blank</td>\n",
       "      <td>Welker White, Reed Birney, Radha Blank, Peter Kim</td>\n",
       "    </tr>\n",
       "    <tr>\n",
       "      <th>4</th>\n",
       "      <td>Under the Shadow</td>\n",
       "      <td>2016</td>\n",
       "      <td>99</td>\n",
       "      <td>Babak Anvari</td>\n",
       "      <td>Narges Rashidi, Avin Manshadi, Bobby Naderi, R...</td>\n",
       "    </tr>\n",
       "    <tr>\n",
       "      <th>5</th>\n",
       "      <td>Monty Python and the Holy Grail</td>\n",
       "      <td>1975</td>\n",
       "      <td>98</td>\n",
       "      <td>Terry Gilliam</td>\n",
       "      <td>Graham Chapman, John Cleese, Terry Gilliam, Er...</td>\n",
       "    </tr>\n",
       "  </tbody>\n",
       "</table>\n",
       "</div>"
      ],
      "text/plain": [
       "                          Movie Title  Year  Score             Director  \\\n",
       "Rank                                                                      \n",
       "1                           His House  2020    100          Remi Weekes   \n",
       "2            How to Train Your Dragon  2010     99  Christopher Sanders   \n",
       "3          The Forty-Year-Old Version  2020     99          Radha Blank   \n",
       "4                    Under the Shadow  2016     99         Babak Anvari   \n",
       "5     Monty Python and the Holy Grail  1975     98        Terry Gilliam   \n",
       "\n",
       "                                                   Cast  \n",
       "Rank                                                     \n",
       "1     Wunmi Mosaku, Sope Dirisu, Matt Smith, Cornell...  \n",
       "2     Jay Baruchel, Gerard Butler, America Ferrera, ...  \n",
       "3     Welker White, Reed Birney, Radha Blank, Peter Kim  \n",
       "4     Narges Rashidi, Avin Manshadi, Bobby Naderi, R...  \n",
       "5     Graham Chapman, John Cleese, Terry Gilliam, Er...  "
      ]
     },
     "execution_count": 7,
     "metadata": {},
     "output_type": "execute_result"
    }
   ],
   "source": [
    "df.iloc[0:5]"
   ]
  },
  {
   "cell_type": "markdown",
   "id": "bc6bbf1d",
   "metadata": {},
   "source": [
    "### 0~4번 row, 0번 col"
   ]
  },
  {
   "cell_type": "code",
   "execution_count": 8,
   "id": "86e07c91",
   "metadata": {},
   "outputs": [
    {
     "data": {
      "text/plain": [
       "Rank\n",
       "1                          His House\n",
       "2           How to Train Your Dragon\n",
       "3         The Forty-Year-Old Version\n",
       "4                   Under the Shadow\n",
       "5    Monty Python and the Holy Grail\n",
       "Name: Movie Title, dtype: object"
      ]
     },
     "execution_count": 8,
     "metadata": {},
     "output_type": "execute_result"
    }
   ],
   "source": [
    "df.iloc[0:5, 0]"
   ]
  },
  {
   "cell_type": "markdown",
   "id": "29fc4c9a",
   "metadata": {},
   "source": [
    "### 0 ~ 4번 row, 0 ~ 2번 col"
   ]
  },
  {
   "cell_type": "code",
   "execution_count": 10,
   "id": "70b96e97",
   "metadata": {},
   "outputs": [
    {
     "data": {
      "text/html": [
       "<div>\n",
       "<style scoped>\n",
       "    .dataframe tbody tr th:only-of-type {\n",
       "        vertical-align: middle;\n",
       "    }\n",
       "\n",
       "    .dataframe tbody tr th {\n",
       "        vertical-align: top;\n",
       "    }\n",
       "\n",
       "    .dataframe thead th {\n",
       "        text-align: right;\n",
       "    }\n",
       "</style>\n",
       "<table border=\"1\" class=\"dataframe\">\n",
       "  <thead>\n",
       "    <tr style=\"text-align: right;\">\n",
       "      <th></th>\n",
       "      <th>Movie Title</th>\n",
       "      <th>Year</th>\n",
       "      <th>Score</th>\n",
       "    </tr>\n",
       "    <tr>\n",
       "      <th>Rank</th>\n",
       "      <th></th>\n",
       "      <th></th>\n",
       "      <th></th>\n",
       "    </tr>\n",
       "  </thead>\n",
       "  <tbody>\n",
       "    <tr>\n",
       "      <th>1</th>\n",
       "      <td>His House</td>\n",
       "      <td>2020</td>\n",
       "      <td>100</td>\n",
       "    </tr>\n",
       "    <tr>\n",
       "      <th>2</th>\n",
       "      <td>How to Train Your Dragon</td>\n",
       "      <td>2010</td>\n",
       "      <td>99</td>\n",
       "    </tr>\n",
       "    <tr>\n",
       "      <th>3</th>\n",
       "      <td>The Forty-Year-Old Version</td>\n",
       "      <td>2020</td>\n",
       "      <td>99</td>\n",
       "    </tr>\n",
       "    <tr>\n",
       "      <th>4</th>\n",
       "      <td>Under the Shadow</td>\n",
       "      <td>2016</td>\n",
       "      <td>99</td>\n",
       "    </tr>\n",
       "    <tr>\n",
       "      <th>5</th>\n",
       "      <td>Monty Python and the Holy Grail</td>\n",
       "      <td>1975</td>\n",
       "      <td>98</td>\n",
       "    </tr>\n",
       "  </tbody>\n",
       "</table>\n",
       "</div>"
      ],
      "text/plain": [
       "                          Movie Title  Year  Score\n",
       "Rank                                              \n",
       "1                           His House  2020    100\n",
       "2            How to Train Your Dragon  2010     99\n",
       "3          The Forty-Year-Old Version  2020     99\n",
       "4                    Under the Shadow  2016     99\n",
       "5     Monty Python and the Holy Grail  1975     98"
      ]
     },
     "execution_count": 10,
     "metadata": {},
     "output_type": "execute_result"
    }
   ],
   "source": [
    "df.iloc[0:5, 0:3]"
   ]
  },
  {
   "cell_type": "markdown",
   "id": "a89e1b48",
   "metadata": {},
   "source": [
    "### 0번과 5번 row, 0번과 3번 col"
   ]
  },
  {
   "cell_type": "code",
   "execution_count": 15,
   "id": "f47f0648",
   "metadata": {},
   "outputs": [
    {
     "data": {
      "text/html": [
       "<div>\n",
       "<style scoped>\n",
       "    .dataframe tbody tr th:only-of-type {\n",
       "        vertical-align: middle;\n",
       "    }\n",
       "\n",
       "    .dataframe tbody tr th {\n",
       "        vertical-align: top;\n",
       "    }\n",
       "\n",
       "    .dataframe thead th {\n",
       "        text-align: right;\n",
       "    }\n",
       "</style>\n",
       "<table border=\"1\" class=\"dataframe\">\n",
       "  <thead>\n",
       "    <tr style=\"text-align: right;\">\n",
       "      <th></th>\n",
       "      <th>Movie Title</th>\n",
       "      <th>Director</th>\n",
       "    </tr>\n",
       "    <tr>\n",
       "      <th>Rank</th>\n",
       "      <th></th>\n",
       "      <th></th>\n",
       "    </tr>\n",
       "  </thead>\n",
       "  <tbody>\n",
       "    <tr>\n",
       "      <th>1</th>\n",
       "      <td>His House</td>\n",
       "      <td>Remi Weekes</td>\n",
       "    </tr>\n",
       "    <tr>\n",
       "      <th>6</th>\n",
       "      <td>Ma Rainey's Black Bottom</td>\n",
       "      <td>George C. Wolfe</td>\n",
       "    </tr>\n",
       "  </tbody>\n",
       "</table>\n",
       "</div>"
      ],
      "text/plain": [
       "                   Movie Title         Director\n",
       "Rank                                           \n",
       "1                    His House      Remi Weekes\n",
       "6     Ma Rainey's Black Bottom  George C. Wolfe"
      ]
     },
     "execution_count": 15,
     "metadata": {},
     "output_type": "execute_result"
    }
   ],
   "source": [
    "df.iloc[[0,5], [0,3]]"
   ]
  }
 ],
 "metadata": {
  "kernelspec": {
   "display_name": "Python 3 (ipykernel)",
   "language": "python",
   "name": "python3"
  },
  "language_info": {
   "codemirror_mode": {
    "name": "ipython",
    "version": 3
   },
   "file_extension": ".py",
   "mimetype": "text/x-python",
   "name": "python",
   "nbconvert_exporter": "python",
   "pygments_lexer": "ipython3",
   "version": "3.10.9"
  }
 },
 "nbformat": 4,
 "nbformat_minor": 5
}
