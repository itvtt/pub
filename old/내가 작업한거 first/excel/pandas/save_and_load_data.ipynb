{
 "cells": [
  {
   "cell_type": "code",
   "execution_count": 1,
   "id": "395a52c1",
   "metadata": {},
   "outputs": [],
   "source": [
    "import pandas as pd"
   ]
  },
  {
   "cell_type": "code",
   "execution_count": 2,
   "id": "21310c6a",
   "metadata": {},
   "outputs": [],
   "source": [
    "data = {\n",
    "    'Movie Title' : ['His House', 'How to Train Your Dragon', 'The Forty-Year-Old Version', \n",
    "                     'Under the Shadow', 'Monty Python and the Holy Grail'],\n",
    "    'Year' : [2020, 2010, 2020, 2016, 1975],\n",
    "    'Score' : [100, 98, 95, 89, 86],\n",
    "    'Director' : ['Remi Weekes', 'Christopher Sanders', 'Radha Blank', 'Babak Anvari', 'Terry Gilliam'],\n",
    "    'Cast' : ['Wunmi Mosaku, Sope Dirisu', 'Jay Baruchel, Gerard Butler', 'Welker White, Reed Birney', \n",
    "              'Narges Rashidi, Avin Manshadi', 'Graham Chapman, John Cleese']\n",
    "}"
   ]
  },
  {
   "cell_type": "code",
   "execution_count": 3,
   "id": "455df217",
   "metadata": {},
   "outputs": [],
   "source": [
    "df = pd.DataFrame(data, index=['1위','2위','3위','4위','5위'])"
   ]
  },
  {
   "cell_type": "code",
   "execution_count": 4,
   "id": "f1a1c14e",
   "metadata": {},
   "outputs": [],
   "source": [
    "df.index.name='Rank'"
   ]
  },
  {
   "cell_type": "code",
   "execution_count": 5,
   "id": "660b8f17",
   "metadata": {},
   "outputs": [
    {
     "data": {
      "text/html": [
       "<div>\n",
       "<style scoped>\n",
       "    .dataframe tbody tr th:only-of-type {\n",
       "        vertical-align: middle;\n",
       "    }\n",
       "\n",
       "    .dataframe tbody tr th {\n",
       "        vertical-align: top;\n",
       "    }\n",
       "\n",
       "    .dataframe thead th {\n",
       "        text-align: right;\n",
       "    }\n",
       "</style>\n",
       "<table border=\"1\" class=\"dataframe\">\n",
       "  <thead>\n",
       "    <tr style=\"text-align: right;\">\n",
       "      <th></th>\n",
       "      <th>Movie Title</th>\n",
       "      <th>Year</th>\n",
       "      <th>Score</th>\n",
       "      <th>Director</th>\n",
       "      <th>Cast</th>\n",
       "    </tr>\n",
       "    <tr>\n",
       "      <th>Rank</th>\n",
       "      <th></th>\n",
       "      <th></th>\n",
       "      <th></th>\n",
       "      <th></th>\n",
       "      <th></th>\n",
       "    </tr>\n",
       "  </thead>\n",
       "  <tbody>\n",
       "    <tr>\n",
       "      <th>1위</th>\n",
       "      <td>His House</td>\n",
       "      <td>2020</td>\n",
       "      <td>100</td>\n",
       "      <td>Remi Weekes</td>\n",
       "      <td>Wunmi Mosaku, Sope Dirisu</td>\n",
       "    </tr>\n",
       "    <tr>\n",
       "      <th>2위</th>\n",
       "      <td>How to Train Your Dragon</td>\n",
       "      <td>2010</td>\n",
       "      <td>98</td>\n",
       "      <td>Christopher Sanders</td>\n",
       "      <td>Jay Baruchel, Gerard Butler</td>\n",
       "    </tr>\n",
       "  </tbody>\n",
       "</table>\n",
       "</div>"
      ],
      "text/plain": [
       "                   Movie Title  Year  Score             Director  \\\n",
       "Rank                                                               \n",
       "1위                   His House  2020    100          Remi Weekes   \n",
       "2위    How to Train Your Dragon  2010     98  Christopher Sanders   \n",
       "\n",
       "                             Cast  \n",
       "Rank                               \n",
       "1위      Wunmi Mosaku, Sope Dirisu  \n",
       "2위    Jay Baruchel, Gerard Butler  "
      ]
     },
     "execution_count": 5,
     "metadata": {},
     "output_type": "execute_result"
    }
   ],
   "source": [
    "df.head(2)"
   ]
  },
  {
   "cell_type": "markdown",
   "id": "b6c34eff",
   "metadata": {},
   "source": [
    "### 데이터를 csv, excel로 추출 "
   ]
  },
  {
   "cell_type": "code",
   "execution_count": 8,
   "id": "f93a3da3",
   "metadata": {},
   "outputs": [],
   "source": [
    "df.to_csv('movie_rank.csv', encoding= 'utf-8')"
   ]
  },
  {
   "cell_type": "code",
   "execution_count": 9,
   "id": "dfcd2ad5",
   "metadata": {},
   "outputs": [],
   "source": [
    "df.to_excel('movie_rank.xlsx')"
   ]
  },
  {
   "cell_type": "markdown",
   "id": "c0ae8b1b",
   "metadata": {},
   "source": [
    "### csv, excel 파일에서 데이터 가져오기"
   ]
  },
  {
   "cell_type": "code",
   "execution_count": 13,
   "id": "f3f7c12f",
   "metadata": {},
   "outputs": [],
   "source": [
    "df2 = pd.read_csv('movie_rank.csv', encoding='utf-8')"
   ]
  },
  {
   "cell_type": "code",
   "execution_count": 14,
   "id": "bd68283b",
   "metadata": {},
   "outputs": [
    {
     "data": {
      "text/html": [
       "<div>\n",
       "<style scoped>\n",
       "    .dataframe tbody tr th:only-of-type {\n",
       "        vertical-align: middle;\n",
       "    }\n",
       "\n",
       "    .dataframe tbody tr th {\n",
       "        vertical-align: top;\n",
       "    }\n",
       "\n",
       "    .dataframe thead th {\n",
       "        text-align: right;\n",
       "    }\n",
       "</style>\n",
       "<table border=\"1\" class=\"dataframe\">\n",
       "  <thead>\n",
       "    <tr style=\"text-align: right;\">\n",
       "      <th></th>\n",
       "      <th>Rank</th>\n",
       "      <th>Movie Title</th>\n",
       "      <th>Year</th>\n",
       "      <th>Score</th>\n",
       "      <th>Director</th>\n",
       "      <th>Cast</th>\n",
       "    </tr>\n",
       "  </thead>\n",
       "  <tbody>\n",
       "    <tr>\n",
       "      <th>0</th>\n",
       "      <td>1위</td>\n",
       "      <td>His House</td>\n",
       "      <td>2020</td>\n",
       "      <td>100</td>\n",
       "      <td>Remi Weekes</td>\n",
       "      <td>Wunmi Mosaku, Sope Dirisu</td>\n",
       "    </tr>\n",
       "    <tr>\n",
       "      <th>1</th>\n",
       "      <td>2위</td>\n",
       "      <td>How to Train Your Dragon</td>\n",
       "      <td>2010</td>\n",
       "      <td>98</td>\n",
       "      <td>Christopher Sanders</td>\n",
       "      <td>Jay Baruchel, Gerard Butler</td>\n",
       "    </tr>\n",
       "    <tr>\n",
       "      <th>2</th>\n",
       "      <td>3위</td>\n",
       "      <td>The Forty-Year-Old Version</td>\n",
       "      <td>2020</td>\n",
       "      <td>95</td>\n",
       "      <td>Radha Blank</td>\n",
       "      <td>Welker White, Reed Birney</td>\n",
       "    </tr>\n",
       "    <tr>\n",
       "      <th>3</th>\n",
       "      <td>4위</td>\n",
       "      <td>Under the Shadow</td>\n",
       "      <td>2016</td>\n",
       "      <td>89</td>\n",
       "      <td>Babak Anvari</td>\n",
       "      <td>Narges Rashidi, Avin Manshadi</td>\n",
       "    </tr>\n",
       "    <tr>\n",
       "      <th>4</th>\n",
       "      <td>5위</td>\n",
       "      <td>Monty Python and the Holy Grail</td>\n",
       "      <td>1975</td>\n",
       "      <td>86</td>\n",
       "      <td>Terry Gilliam</td>\n",
       "      <td>Graham Chapman, John Cleese</td>\n",
       "    </tr>\n",
       "  </tbody>\n",
       "</table>\n",
       "</div>"
      ],
      "text/plain": [
       "  Rank                      Movie Title  Year  Score             Director  \\\n",
       "0   1위                        His House  2020    100          Remi Weekes   \n",
       "1   2위         How to Train Your Dragon  2010     98  Christopher Sanders   \n",
       "2   3위       The Forty-Year-Old Version  2020     95          Radha Blank   \n",
       "3   4위                 Under the Shadow  2016     89         Babak Anvari   \n",
       "4   5위  Monty Python and the Holy Grail  1975     86        Terry Gilliam   \n",
       "\n",
       "                            Cast  \n",
       "0      Wunmi Mosaku, Sope Dirisu  \n",
       "1    Jay Baruchel, Gerard Butler  \n",
       "2      Welker White, Reed Birney  \n",
       "3  Narges Rashidi, Avin Manshadi  \n",
       "4    Graham Chapman, John Cleese  "
      ]
     },
     "execution_count": 14,
     "metadata": {},
     "output_type": "execute_result"
    }
   ],
   "source": [
    "df2"
   ]
  },
  {
   "cell_type": "code",
   "execution_count": 10,
   "id": "59f5936e",
   "metadata": {},
   "outputs": [],
   "source": [
    "df3 = pd.read_excel('movie_rank.xlsx')"
   ]
  },
  {
   "cell_type": "code",
   "execution_count": 11,
   "id": "f43b8eba",
   "metadata": {},
   "outputs": [
    {
     "data": {
      "text/html": [
       "<div>\n",
       "<style scoped>\n",
       "    .dataframe tbody tr th:only-of-type {\n",
       "        vertical-align: middle;\n",
       "    }\n",
       "\n",
       "    .dataframe tbody tr th {\n",
       "        vertical-align: top;\n",
       "    }\n",
       "\n",
       "    .dataframe thead th {\n",
       "        text-align: right;\n",
       "    }\n",
       "</style>\n",
       "<table border=\"1\" class=\"dataframe\">\n",
       "  <thead>\n",
       "    <tr style=\"text-align: right;\">\n",
       "      <th></th>\n",
       "      <th>Rank</th>\n",
       "      <th>Movie Title</th>\n",
       "      <th>Year</th>\n",
       "      <th>Score</th>\n",
       "      <th>Director</th>\n",
       "      <th>Cast</th>\n",
       "    </tr>\n",
       "  </thead>\n",
       "  <tbody>\n",
       "    <tr>\n",
       "      <th>0</th>\n",
       "      <td>1위</td>\n",
       "      <td>His House</td>\n",
       "      <td>2020</td>\n",
       "      <td>100</td>\n",
       "      <td>Remi Weekes</td>\n",
       "      <td>Wunmi Mosaku, Sope Dirisu</td>\n",
       "    </tr>\n",
       "    <tr>\n",
       "      <th>1</th>\n",
       "      <td>2위</td>\n",
       "      <td>How to Train Your Dragon</td>\n",
       "      <td>2010</td>\n",
       "      <td>98</td>\n",
       "      <td>Christopher Sanders</td>\n",
       "      <td>Jay Baruchel, Gerard Butler</td>\n",
       "    </tr>\n",
       "    <tr>\n",
       "      <th>2</th>\n",
       "      <td>3위</td>\n",
       "      <td>The Forty-Year-Old Version</td>\n",
       "      <td>2020</td>\n",
       "      <td>95</td>\n",
       "      <td>Radha Blank</td>\n",
       "      <td>Welker White, Reed Birney</td>\n",
       "    </tr>\n",
       "    <tr>\n",
       "      <th>3</th>\n",
       "      <td>4위</td>\n",
       "      <td>Under the Shadow</td>\n",
       "      <td>2016</td>\n",
       "      <td>89</td>\n",
       "      <td>Babak Anvari</td>\n",
       "      <td>Narges Rashidi, Avin Manshadi</td>\n",
       "    </tr>\n",
       "    <tr>\n",
       "      <th>4</th>\n",
       "      <td>5위</td>\n",
       "      <td>Monty Python and the Holy Grail</td>\n",
       "      <td>1975</td>\n",
       "      <td>86</td>\n",
       "      <td>Terry Gilliam</td>\n",
       "      <td>Graham Chapman, John Cleese</td>\n",
       "    </tr>\n",
       "  </tbody>\n",
       "</table>\n",
       "</div>"
      ],
      "text/plain": [
       "  Rank                      Movie Title  Year  Score             Director  \\\n",
       "0   1위                        His House  2020    100          Remi Weekes   \n",
       "1   2위         How to Train Your Dragon  2010     98  Christopher Sanders   \n",
       "2   3위       The Forty-Year-Old Version  2020     95          Radha Blank   \n",
       "3   4위                 Under the Shadow  2016     89         Babak Anvari   \n",
       "4   5위  Monty Python and the Holy Grail  1975     86        Terry Gilliam   \n",
       "\n",
       "                            Cast  \n",
       "0      Wunmi Mosaku, Sope Dirisu  \n",
       "1    Jay Baruchel, Gerard Butler  \n",
       "2      Welker White, Reed Birney  \n",
       "3  Narges Rashidi, Avin Manshadi  \n",
       "4    Graham Chapman, John Cleese  "
      ]
     },
     "execution_count": 11,
     "metadata": {},
     "output_type": "execute_result"
    }
   ],
   "source": [
    "df3"
   ]
  },
  {
   "cell_type": "code",
   "execution_count": null,
   "id": "45d47a69",
   "metadata": {},
   "outputs": [],
   "source": []
  }
 ],
 "metadata": {
  "kernelspec": {
   "display_name": "Python 3 (ipykernel)",
   "language": "python",
   "name": "python3"
  },
  "language_info": {
   "codemirror_mode": {
    "name": "ipython",
    "version": 3
   },
   "file_extension": ".py",
   "mimetype": "text/x-python",
   "name": "python",
   "nbconvert_exporter": "python",
   "pygments_lexer": "ipython3",
   "version": "3.10.9"
  }
 },
 "nbformat": 4,
 "nbformat_minor": 5
}
