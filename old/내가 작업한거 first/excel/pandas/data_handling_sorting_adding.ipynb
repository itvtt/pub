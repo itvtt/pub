{
 "cells": [
  {
   "cell_type": "code",
   "execution_count": 1,
   "id": "6ba31953",
   "metadata": {},
   "outputs": [],
   "source": [
    "import pandas as pd"
   ]
  },
  {
   "cell_type": "markdown",
   "id": "2e3be47e",
   "metadata": {},
   "source": [
    "##### best_movies_on_netflix.xlsx 파일을 Rank 컬럼을 인덱스로 컬럼은 A:F까지 Year와 Score의 데이터 타입은 int형으로 데이터프레임으로 가져오기"
   ]
  },
  {
   "cell_type": "code",
   "execution_count": 86,
   "id": "be05c914",
   "metadata": {},
   "outputs": [],
   "source": [
    "df = pd.read_excel('best_movies_on_netflix.xlsx',index_col='Rank', usecols='A:F', \n",
    "                   dtype={'Year' : int, 'Score' : int})"
   ]
  },
  {
   "cell_type": "code",
   "execution_count": 87,
   "id": "081f0424",
   "metadata": {},
   "outputs": [
    {
     "data": {
      "text/html": [
       "<div>\n",
       "<style scoped>\n",
       "    .dataframe tbody tr th:only-of-type {\n",
       "        vertical-align: middle;\n",
       "    }\n",
       "\n",
       "    .dataframe tbody tr th {\n",
       "        vertical-align: top;\n",
       "    }\n",
       "\n",
       "    .dataframe thead th {\n",
       "        text-align: right;\n",
       "    }\n",
       "</style>\n",
       "<table border=\"1\" class=\"dataframe\">\n",
       "  <thead>\n",
       "    <tr style=\"text-align: right;\">\n",
       "      <th></th>\n",
       "      <th>Movie Title</th>\n",
       "      <th>Year</th>\n",
       "      <th>Score</th>\n",
       "      <th>Director</th>\n",
       "      <th>Cast</th>\n",
       "    </tr>\n",
       "    <tr>\n",
       "      <th>Rank</th>\n",
       "      <th></th>\n",
       "      <th></th>\n",
       "      <th></th>\n",
       "      <th></th>\n",
       "      <th></th>\n",
       "    </tr>\n",
       "  </thead>\n",
       "  <tbody>\n",
       "    <tr>\n",
       "      <th>1</th>\n",
       "      <td>His House</td>\n",
       "      <td>2020</td>\n",
       "      <td>100</td>\n",
       "      <td>Remi Weekes</td>\n",
       "      <td>Wunmi Mosaku, Sope Dirisu, Matt Smith, Cornell...</td>\n",
       "    </tr>\n",
       "    <tr>\n",
       "      <th>2</th>\n",
       "      <td>How to Train Your Dragon</td>\n",
       "      <td>2010</td>\n",
       "      <td>99</td>\n",
       "      <td>Christopher Sanders</td>\n",
       "      <td>Jay Baruchel, Gerard Butler, America Ferrera, ...</td>\n",
       "    </tr>\n",
       "    <tr>\n",
       "      <th>3</th>\n",
       "      <td>The Forty-Year-Old Version</td>\n",
       "      <td>2020</td>\n",
       "      <td>99</td>\n",
       "      <td>Radha Blank</td>\n",
       "      <td>Welker White, Reed Birney, Radha Blank, Peter Kim</td>\n",
       "    </tr>\n",
       "    <tr>\n",
       "      <th>4</th>\n",
       "      <td>Under the Shadow</td>\n",
       "      <td>2016</td>\n",
       "      <td>99</td>\n",
       "      <td>Babak Anvari</td>\n",
       "      <td>Narges Rashidi, Avin Manshadi, Bobby Naderi, R...</td>\n",
       "    </tr>\n",
       "    <tr>\n",
       "      <th>5</th>\n",
       "      <td>Monty Python and the Holy Grail</td>\n",
       "      <td>1975</td>\n",
       "      <td>98</td>\n",
       "      <td>Terry Gilliam</td>\n",
       "      <td>Graham Chapman, John Cleese, Terry Gilliam, Er...</td>\n",
       "    </tr>\n",
       "  </tbody>\n",
       "</table>\n",
       "</div>"
      ],
      "text/plain": [
       "                          Movie Title  Year  Score             Director  \\\n",
       "Rank                                                                      \n",
       "1                           His House  2020    100          Remi Weekes   \n",
       "2            How to Train Your Dragon  2010     99  Christopher Sanders   \n",
       "3          The Forty-Year-Old Version  2020     99          Radha Blank   \n",
       "4                    Under the Shadow  2016     99         Babak Anvari   \n",
       "5     Monty Python and the Holy Grail  1975     98        Terry Gilliam   \n",
       "\n",
       "                                                   Cast  \n",
       "Rank                                                     \n",
       "1     Wunmi Mosaku, Sope Dirisu, Matt Smith, Cornell...  \n",
       "2     Jay Baruchel, Gerard Butler, America Ferrera, ...  \n",
       "3     Welker White, Reed Birney, Radha Blank, Peter Kim  \n",
       "4     Narges Rashidi, Avin Manshadi, Bobby Naderi, R...  \n",
       "5     Graham Chapman, John Cleese, Terry Gilliam, Er...  "
      ]
     },
     "execution_count": 87,
     "metadata": {},
     "output_type": "execute_result"
    }
   ],
   "source": [
    "df.head(5)"
   ]
  },
  {
   "cell_type": "markdown",
   "id": "16542759",
   "metadata": {},
   "source": [
    "## 정렬"
   ]
  },
  {
   "cell_type": "markdown",
   "id": "2af4cc0a",
   "metadata": {},
   "source": [
    "### 개봉연도 오름차순"
   ]
  },
  {
   "cell_type": "code",
   "execution_count": 9,
   "id": "e6fe94c5",
   "metadata": {},
   "outputs": [
    {
     "data": {
      "text/html": [
       "<div>\n",
       "<style scoped>\n",
       "    .dataframe tbody tr th:only-of-type {\n",
       "        vertical-align: middle;\n",
       "    }\n",
       "\n",
       "    .dataframe tbody tr th {\n",
       "        vertical-align: top;\n",
       "    }\n",
       "\n",
       "    .dataframe thead th {\n",
       "        text-align: right;\n",
       "    }\n",
       "</style>\n",
       "<table border=\"1\" class=\"dataframe\">\n",
       "  <thead>\n",
       "    <tr style=\"text-align: right;\">\n",
       "      <th></th>\n",
       "      <th>Movie Title</th>\n",
       "      <th>Year</th>\n",
       "      <th>Score</th>\n",
       "      <th>Director</th>\n",
       "      <th>Cast</th>\n",
       "    </tr>\n",
       "    <tr>\n",
       "      <th>Rank</th>\n",
       "      <th></th>\n",
       "      <th></th>\n",
       "      <th></th>\n",
       "      <th></th>\n",
       "      <th></th>\n",
       "    </tr>\n",
       "  </thead>\n",
       "  <tbody>\n",
       "    <tr>\n",
       "      <th>32</th>\n",
       "      <td>The Sea Beast</td>\n",
       "      <td>2022</td>\n",
       "      <td>94</td>\n",
       "      <td>Chris Williams</td>\n",
       "      <td>Karl Urban, Zaris-Angel Hator, Jared Harris, D...</td>\n",
       "    </tr>\n",
       "    <tr>\n",
       "      <th>40</th>\n",
       "      <td>Hustle</td>\n",
       "      <td>2022</td>\n",
       "      <td>93</td>\n",
       "      <td>Jeremiah Zagar</td>\n",
       "      <td>Adam Sandler, Juancho Hernangomez, Queen Latif...</td>\n",
       "    </tr>\n",
       "    <tr>\n",
       "      <th>87</th>\n",
       "      <td>All Quiet on the Western Front</td>\n",
       "      <td>2022</td>\n",
       "      <td>90</td>\n",
       "      <td>Edward Berger</td>\n",
       "      <td>Felix Kammerer, Albrecht Schuch, Aaron Hilmer,...</td>\n",
       "    </tr>\n",
       "    <tr>\n",
       "      <th>68</th>\n",
       "      <td>Apollo 10 1/2: A Space Age Childhood</td>\n",
       "      <td>2022</td>\n",
       "      <td>91</td>\n",
       "      <td>Richard Linklater</td>\n",
       "      <td>Jack Black, Bill Wise, Lee Eddy, Milo Coy</td>\n",
       "    </tr>\n",
       "    <tr>\n",
       "      <th>52</th>\n",
       "      <td>Roald Dahl's Matilda the Musical</td>\n",
       "      <td>2022</td>\n",
       "      <td>92</td>\n",
       "      <td>Matthew Warchus</td>\n",
       "      <td>Alisha Weir, Emma Thompson, Lashana Lynch, Ste...</td>\n",
       "    </tr>\n",
       "    <tr>\n",
       "      <th>...</th>\n",
       "      <td>...</td>\n",
       "      <td>...</td>\n",
       "      <td>...</td>\n",
       "      <td>...</td>\n",
       "      <td>...</td>\n",
       "    </tr>\n",
       "    <tr>\n",
       "      <th>74</th>\n",
       "      <td>National Lampoon's Animal House</td>\n",
       "      <td>1978</td>\n",
       "      <td>91</td>\n",
       "      <td>John Landis</td>\n",
       "      <td>John Belushi, Kevin Bacon, Donald Sutherland, ...</td>\n",
       "    </tr>\n",
       "    <tr>\n",
       "      <th>53</th>\n",
       "      <td>Rocky</td>\n",
       "      <td>1976</td>\n",
       "      <td>92</td>\n",
       "      <td>John G. Avildsen</td>\n",
       "      <td>Sylvester Stallone, Talia Shire, Burgess Mered...</td>\n",
       "    </tr>\n",
       "    <tr>\n",
       "      <th>5</th>\n",
       "      <td>Monty Python and the Holy Grail</td>\n",
       "      <td>1975</td>\n",
       "      <td>98</td>\n",
       "      <td>Terry Gilliam</td>\n",
       "      <td>Graham Chapman, John Cleese, Terry Gilliam, Er...</td>\n",
       "    </tr>\n",
       "    <tr>\n",
       "      <th>35</th>\n",
       "      <td>The Birds</td>\n",
       "      <td>1963</td>\n",
       "      <td>94</td>\n",
       "      <td>Alfred Hitchcock</td>\n",
       "      <td>Rod Taylor, Tippi Hedren, Suzanne Pleshette, J...</td>\n",
       "    </tr>\n",
       "    <tr>\n",
       "      <th>17</th>\n",
       "      <td>Psycho</td>\n",
       "      <td>1960</td>\n",
       "      <td>96</td>\n",
       "      <td>Alfred Hitchcock</td>\n",
       "      <td>Anthony Perkins, Janet Leigh, Vera Miles, John...</td>\n",
       "    </tr>\n",
       "  </tbody>\n",
       "</table>\n",
       "<p>100 rows × 5 columns</p>\n",
       "</div>"
      ],
      "text/plain": [
       "                               Movie Title  Year  Score           Director  \\\n",
       "Rank                                                                         \n",
       "32                           The Sea Beast  2022     94     Chris Williams   \n",
       "40                                  Hustle  2022     93     Jeremiah Zagar   \n",
       "87          All Quiet on the Western Front  2022     90      Edward Berger   \n",
       "68    Apollo 10 1/2: A Space Age Childhood  2022     91  Richard Linklater   \n",
       "52        Roald Dahl's Matilda the Musical  2022     92    Matthew Warchus   \n",
       "...                                    ...   ...    ...                ...   \n",
       "74         National Lampoon's Animal House  1978     91        John Landis   \n",
       "53                                   Rocky  1976     92   John G. Avildsen   \n",
       "5          Monty Python and the Holy Grail  1975     98      Terry Gilliam   \n",
       "35                               The Birds  1963     94   Alfred Hitchcock   \n",
       "17                                  Psycho  1960     96   Alfred Hitchcock   \n",
       "\n",
       "                                                   Cast  \n",
       "Rank                                                     \n",
       "32    Karl Urban, Zaris-Angel Hator, Jared Harris, D...  \n",
       "40    Adam Sandler, Juancho Hernangomez, Queen Latif...  \n",
       "87    Felix Kammerer, Albrecht Schuch, Aaron Hilmer,...  \n",
       "68            Jack Black, Bill Wise, Lee Eddy, Milo Coy  \n",
       "52    Alisha Weir, Emma Thompson, Lashana Lynch, Ste...  \n",
       "...                                                 ...  \n",
       "74    John Belushi, Kevin Bacon, Donald Sutherland, ...  \n",
       "53    Sylvester Stallone, Talia Shire, Burgess Mered...  \n",
       "5     Graham Chapman, John Cleese, Terry Gilliam, Er...  \n",
       "35    Rod Taylor, Tippi Hedren, Suzanne Pleshette, J...  \n",
       "17    Anthony Perkins, Janet Leigh, Vera Miles, John...  \n",
       "\n",
       "[100 rows x 5 columns]"
      ]
     },
     "execution_count": 9,
     "metadata": {},
     "output_type": "execute_result"
    }
   ],
   "source": [
    "df.sort_values('Year')"
   ]
  },
  {
   "cell_type": "markdown",
   "id": "f4214417",
   "metadata": {},
   "source": [
    "### 개봉 연도 내림차순"
   ]
  },
  {
   "cell_type": "code",
   "execution_count": null,
   "id": "1cc3bb6e",
   "metadata": {},
   "outputs": [],
   "source": [
    "df.sort_values('Year', ascending=False)"
   ]
  },
  {
   "cell_type": "markdown",
   "id": "348b3515",
   "metadata": {},
   "source": [
    "### 정렬을 일단 Year로 한 후 같은 Year에 한해 Score로 정렬"
   ]
  },
  {
   "cell_type": "code",
   "execution_count": 12,
   "id": "78ca665f",
   "metadata": {},
   "outputs": [
    {
     "data": {
      "text/html": [
       "<div>\n",
       "<style scoped>\n",
       "    .dataframe tbody tr th:only-of-type {\n",
       "        vertical-align: middle;\n",
       "    }\n",
       "\n",
       "    .dataframe tbody tr th {\n",
       "        vertical-align: top;\n",
       "    }\n",
       "\n",
       "    .dataframe thead th {\n",
       "        text-align: right;\n",
       "    }\n",
       "</style>\n",
       "<table border=\"1\" class=\"dataframe\">\n",
       "  <thead>\n",
       "    <tr style=\"text-align: right;\">\n",
       "      <th></th>\n",
       "      <th>Movie Title</th>\n",
       "      <th>Year</th>\n",
       "      <th>Score</th>\n",
       "      <th>Director</th>\n",
       "      <th>Cast</th>\n",
       "    </tr>\n",
       "    <tr>\n",
       "      <th>Rank</th>\n",
       "      <th></th>\n",
       "      <th></th>\n",
       "      <th></th>\n",
       "      <th></th>\n",
       "      <th></th>\n",
       "    </tr>\n",
       "  </thead>\n",
       "  <tbody>\n",
       "    <tr>\n",
       "      <th>17</th>\n",
       "      <td>Psycho</td>\n",
       "      <td>1960</td>\n",
       "      <td>96</td>\n",
       "      <td>Alfred Hitchcock</td>\n",
       "      <td>Anthony Perkins, Janet Leigh, Vera Miles, John...</td>\n",
       "    </tr>\n",
       "    <tr>\n",
       "      <th>35</th>\n",
       "      <td>The Birds</td>\n",
       "      <td>1963</td>\n",
       "      <td>94</td>\n",
       "      <td>Alfred Hitchcock</td>\n",
       "      <td>Rod Taylor, Tippi Hedren, Suzanne Pleshette, J...</td>\n",
       "    </tr>\n",
       "    <tr>\n",
       "      <th>5</th>\n",
       "      <td>Monty Python and the Holy Grail</td>\n",
       "      <td>1975</td>\n",
       "      <td>98</td>\n",
       "      <td>Terry Gilliam</td>\n",
       "      <td>Graham Chapman, John Cleese, Terry Gilliam, Er...</td>\n",
       "    </tr>\n",
       "    <tr>\n",
       "      <th>53</th>\n",
       "      <td>Rocky</td>\n",
       "      <td>1976</td>\n",
       "      <td>92</td>\n",
       "      <td>John G. Avildsen</td>\n",
       "      <td>Sylvester Stallone, Talia Shire, Burgess Mered...</td>\n",
       "    </tr>\n",
       "    <tr>\n",
       "      <th>74</th>\n",
       "      <td>National Lampoon's Animal House</td>\n",
       "      <td>1978</td>\n",
       "      <td>91</td>\n",
       "      <td>John Landis</td>\n",
       "      <td>John Belushi, Kevin Bacon, Donald Sutherland, ...</td>\n",
       "    </tr>\n",
       "    <tr>\n",
       "      <th>...</th>\n",
       "      <td>...</td>\n",
       "      <td>...</td>\n",
       "      <td>...</td>\n",
       "      <td>...</td>\n",
       "      <td>...</td>\n",
       "    </tr>\n",
       "    <tr>\n",
       "      <th>44</th>\n",
       "      <td>Glass Onion: A Knives Out Mystery</td>\n",
       "      <td>2022</td>\n",
       "      <td>92</td>\n",
       "      <td>Rian Johnson</td>\n",
       "      <td>Daniel Craig, Ed Norton, Dave Bautista, Kate H...</td>\n",
       "    </tr>\n",
       "    <tr>\n",
       "      <th>52</th>\n",
       "      <td>Roald Dahl's Matilda the Musical</td>\n",
       "      <td>2022</td>\n",
       "      <td>92</td>\n",
       "      <td>Matthew Warchus</td>\n",
       "      <td>Alisha Weir, Emma Thompson, Lashana Lynch, Ste...</td>\n",
       "    </tr>\n",
       "    <tr>\n",
       "      <th>40</th>\n",
       "      <td>Hustle</td>\n",
       "      <td>2022</td>\n",
       "      <td>93</td>\n",
       "      <td>Jeremiah Zagar</td>\n",
       "      <td>Adam Sandler, Juancho Hernangomez, Queen Latif...</td>\n",
       "    </tr>\n",
       "    <tr>\n",
       "      <th>32</th>\n",
       "      <td>The Sea Beast</td>\n",
       "      <td>2022</td>\n",
       "      <td>94</td>\n",
       "      <td>Chris Williams</td>\n",
       "      <td>Karl Urban, Zaris-Angel Hator, Jared Harris, D...</td>\n",
       "    </tr>\n",
       "    <tr>\n",
       "      <th>34</th>\n",
       "      <td>Enola Holmes 2</td>\n",
       "      <td>2022</td>\n",
       "      <td>94</td>\n",
       "      <td>Harry Bradbeer</td>\n",
       "      <td>Millie Bobby Brown, Henry Cavill, Helena Bonha...</td>\n",
       "    </tr>\n",
       "  </tbody>\n",
       "</table>\n",
       "<p>100 rows × 5 columns</p>\n",
       "</div>"
      ],
      "text/plain": [
       "                            Movie Title  Year  Score          Director  \\\n",
       "Rank                                                                     \n",
       "17                               Psycho  1960     96  Alfred Hitchcock   \n",
       "35                            The Birds  1963     94  Alfred Hitchcock   \n",
       "5       Monty Python and the Holy Grail  1975     98     Terry Gilliam   \n",
       "53                                Rocky  1976     92  John G. Avildsen   \n",
       "74      National Lampoon's Animal House  1978     91       John Landis   \n",
       "...                                 ...   ...    ...               ...   \n",
       "44    Glass Onion: A Knives Out Mystery  2022     92      Rian Johnson   \n",
       "52     Roald Dahl's Matilda the Musical  2022     92   Matthew Warchus   \n",
       "40                               Hustle  2022     93    Jeremiah Zagar   \n",
       "32                        The Sea Beast  2022     94    Chris Williams   \n",
       "34                       Enola Holmes 2  2022     94    Harry Bradbeer   \n",
       "\n",
       "                                                   Cast  \n",
       "Rank                                                     \n",
       "17    Anthony Perkins, Janet Leigh, Vera Miles, John...  \n",
       "35    Rod Taylor, Tippi Hedren, Suzanne Pleshette, J...  \n",
       "5     Graham Chapman, John Cleese, Terry Gilliam, Er...  \n",
       "53    Sylvester Stallone, Talia Shire, Burgess Mered...  \n",
       "74    John Belushi, Kevin Bacon, Donald Sutherland, ...  \n",
       "...                                                 ...  \n",
       "44    Daniel Craig, Ed Norton, Dave Bautista, Kate H...  \n",
       "52    Alisha Weir, Emma Thompson, Lashana Lynch, Ste...  \n",
       "40    Adam Sandler, Juancho Hernangomez, Queen Latif...  \n",
       "32    Karl Urban, Zaris-Angel Hator, Jared Harris, D...  \n",
       "34    Millie Bobby Brown, Henry Cavill, Helena Bonha...  \n",
       "\n",
       "[100 rows x 5 columns]"
      ]
     },
     "execution_count": 12,
     "metadata": {},
     "output_type": "execute_result"
    }
   ],
   "source": [
    "df.sort_values(['Year', 'Score'])"
   ]
  },
  {
   "cell_type": "markdown",
   "id": "d7a453f8",
   "metadata": {},
   "source": [
    "### 정렬을 일단 Score로 한 후 같은 Score에 한해 Year로 정렬"
   ]
  },
  {
   "cell_type": "code",
   "execution_count": 14,
   "id": "dfb6bf4a",
   "metadata": {},
   "outputs": [
    {
     "data": {
      "text/html": [
       "<div>\n",
       "<style scoped>\n",
       "    .dataframe tbody tr th:only-of-type {\n",
       "        vertical-align: middle;\n",
       "    }\n",
       "\n",
       "    .dataframe tbody tr th {\n",
       "        vertical-align: top;\n",
       "    }\n",
       "\n",
       "    .dataframe thead th {\n",
       "        text-align: right;\n",
       "    }\n",
       "</style>\n",
       "<table border=\"1\" class=\"dataframe\">\n",
       "  <thead>\n",
       "    <tr style=\"text-align: right;\">\n",
       "      <th></th>\n",
       "      <th>Movie Title</th>\n",
       "      <th>Year</th>\n",
       "      <th>Score</th>\n",
       "      <th>Director</th>\n",
       "      <th>Cast</th>\n",
       "    </tr>\n",
       "    <tr>\n",
       "      <th>Rank</th>\n",
       "      <th></th>\n",
       "      <th></th>\n",
       "      <th></th>\n",
       "      <th></th>\n",
       "      <th></th>\n",
       "    </tr>\n",
       "  </thead>\n",
       "  <tbody>\n",
       "    <tr>\n",
       "      <th>1</th>\n",
       "      <td>His House</td>\n",
       "      <td>2020</td>\n",
       "      <td>100</td>\n",
       "      <td>Remi Weekes</td>\n",
       "      <td>Wunmi Mosaku, Sope Dirisu, Matt Smith, Cornell...</td>\n",
       "    </tr>\n",
       "    <tr>\n",
       "      <th>3</th>\n",
       "      <td>The Forty-Year-Old Version</td>\n",
       "      <td>2020</td>\n",
       "      <td>99</td>\n",
       "      <td>Radha Blank</td>\n",
       "      <td>Welker White, Reed Birney, Radha Blank, Peter Kim</td>\n",
       "    </tr>\n",
       "    <tr>\n",
       "      <th>4</th>\n",
       "      <td>Under the Shadow</td>\n",
       "      <td>2016</td>\n",
       "      <td>99</td>\n",
       "      <td>Babak Anvari</td>\n",
       "      <td>Narges Rashidi, Avin Manshadi, Bobby Naderi, R...</td>\n",
       "    </tr>\n",
       "    <tr>\n",
       "      <th>2</th>\n",
       "      <td>How to Train Your Dragon</td>\n",
       "      <td>2010</td>\n",
       "      <td>99</td>\n",
       "      <td>Christopher Sanders</td>\n",
       "      <td>Jay Baruchel, Gerard Butler, America Ferrera, ...</td>\n",
       "    </tr>\n",
       "    <tr>\n",
       "      <th>5</th>\n",
       "      <td>Monty Python and the Holy Grail</td>\n",
       "      <td>1975</td>\n",
       "      <td>98</td>\n",
       "      <td>Terry Gilliam</td>\n",
       "      <td>Graham Chapman, John Cleese, Terry Gilliam, Er...</td>\n",
       "    </tr>\n",
       "    <tr>\n",
       "      <th>...</th>\n",
       "      <td>...</td>\n",
       "      <td>...</td>\n",
       "      <td>...</td>\n",
       "      <td>...</td>\n",
       "      <td>...</td>\n",
       "    </tr>\n",
       "    <tr>\n",
       "      <th>92</th>\n",
       "      <td>Rango</td>\n",
       "      <td>2011</td>\n",
       "      <td>88</td>\n",
       "      <td>Gore Verbinski</td>\n",
       "      <td>Johnny Depp, Isla Fisher, Abigail Breslin, Ned...</td>\n",
       "    </tr>\n",
       "    <tr>\n",
       "      <th>97</th>\n",
       "      <td>Donnie Brasco</td>\n",
       "      <td>1997</td>\n",
       "      <td>88</td>\n",
       "      <td>Mike Newell</td>\n",
       "      <td>Al Pacino, Johnny Depp, Michael Madsen, Bruno ...</td>\n",
       "    </tr>\n",
       "    <tr>\n",
       "      <th>98</th>\n",
       "      <td>Inception</td>\n",
       "      <td>2010</td>\n",
       "      <td>87</td>\n",
       "      <td>Christopher Nolan</td>\n",
       "      <td>Leonardo DiCaprio, Joseph Gordon-Levitt, Ellio...</td>\n",
       "    </tr>\n",
       "    <tr>\n",
       "      <th>100</th>\n",
       "      <td>Kung Fu Panda</td>\n",
       "      <td>2008</td>\n",
       "      <td>87</td>\n",
       "      <td>John Stevenson</td>\n",
       "      <td>Jack Black, Angelina Jolie, Jackie Chan, David...</td>\n",
       "    </tr>\n",
       "    <tr>\n",
       "      <th>99</th>\n",
       "      <td>American Beauty</td>\n",
       "      <td>1999</td>\n",
       "      <td>87</td>\n",
       "      <td>Sam Mendes</td>\n",
       "      <td>Kevin Spacey, Annette Bening, Thora Birch, Wes...</td>\n",
       "    </tr>\n",
       "  </tbody>\n",
       "</table>\n",
       "<p>100 rows × 5 columns</p>\n",
       "</div>"
      ],
      "text/plain": [
       "                          Movie Title  Year  Score             Director  \\\n",
       "Rank                                                                      \n",
       "1                           His House  2020    100          Remi Weekes   \n",
       "3          The Forty-Year-Old Version  2020     99          Radha Blank   \n",
       "4                    Under the Shadow  2016     99         Babak Anvari   \n",
       "2            How to Train Your Dragon  2010     99  Christopher Sanders   \n",
       "5     Monty Python and the Holy Grail  1975     98        Terry Gilliam   \n",
       "...                               ...   ...    ...                  ...   \n",
       "92                              Rango  2011     88       Gore Verbinski   \n",
       "97                      Donnie Brasco  1997     88          Mike Newell   \n",
       "98                          Inception  2010     87    Christopher Nolan   \n",
       "100                     Kung Fu Panda  2008     87       John Stevenson   \n",
       "99                    American Beauty  1999     87           Sam Mendes   \n",
       "\n",
       "                                                   Cast  \n",
       "Rank                                                     \n",
       "1     Wunmi Mosaku, Sope Dirisu, Matt Smith, Cornell...  \n",
       "3     Welker White, Reed Birney, Radha Blank, Peter Kim  \n",
       "4     Narges Rashidi, Avin Manshadi, Bobby Naderi, R...  \n",
       "2     Jay Baruchel, Gerard Butler, America Ferrera, ...  \n",
       "5     Graham Chapman, John Cleese, Terry Gilliam, Er...  \n",
       "...                                                 ...  \n",
       "92    Johnny Depp, Isla Fisher, Abigail Breslin, Ned...  \n",
       "97    Al Pacino, Johnny Depp, Michael Madsen, Bruno ...  \n",
       "98    Leonardo DiCaprio, Joseph Gordon-Levitt, Ellio...  \n",
       "100   Jack Black, Angelina Jolie, Jackie Chan, David...  \n",
       "99    Kevin Spacey, Annette Bening, Thora Birch, Wes...  \n",
       "\n",
       "[100 rows x 5 columns]"
      ]
     },
     "execution_count": 14,
     "metadata": {},
     "output_type": "execute_result"
    }
   ],
   "source": [
    "df.sort_values(['Score', 'Year'],ascending=False)"
   ]
  },
  {
   "cell_type": "markdown",
   "id": "5313eff2",
   "metadata": {},
   "source": [
    "## 행 추가"
   ]
  },
  {
   "cell_type": "markdown",
   "id": "8b23c0bb",
   "metadata": {},
   "source": [
    "### 첫번째 방법 - loc을 이용"
   ]
  },
  {
   "cell_type": "code",
   "execution_count": 18,
   "id": "bfa3e963",
   "metadata": {},
   "outputs": [],
   "source": [
    "df.loc[df.index[-1]+1] = [\"John Wick 5\", 2024, 95, 'Chad Starhelski', 'Keanu Charlis Reeves, Laurence John']"
   ]
  },
  {
   "cell_type": "code",
   "execution_count": 20,
   "id": "a9f9e225",
   "metadata": {},
   "outputs": [
    {
     "data": {
      "text/html": [
       "<div>\n",
       "<style scoped>\n",
       "    .dataframe tbody tr th:only-of-type {\n",
       "        vertical-align: middle;\n",
       "    }\n",
       "\n",
       "    .dataframe tbody tr th {\n",
       "        vertical-align: top;\n",
       "    }\n",
       "\n",
       "    .dataframe thead th {\n",
       "        text-align: right;\n",
       "    }\n",
       "</style>\n",
       "<table border=\"1\" class=\"dataframe\">\n",
       "  <thead>\n",
       "    <tr style=\"text-align: right;\">\n",
       "      <th></th>\n",
       "      <th>Movie Title</th>\n",
       "      <th>Year</th>\n",
       "      <th>Score</th>\n",
       "      <th>Director</th>\n",
       "      <th>Cast</th>\n",
       "    </tr>\n",
       "    <tr>\n",
       "      <th>Rank</th>\n",
       "      <th></th>\n",
       "      <th></th>\n",
       "      <th></th>\n",
       "      <th></th>\n",
       "      <th></th>\n",
       "    </tr>\n",
       "  </thead>\n",
       "  <tbody>\n",
       "    <tr>\n",
       "      <th>100</th>\n",
       "      <td>Kung Fu Panda</td>\n",
       "      <td>2008</td>\n",
       "      <td>87</td>\n",
       "      <td>John Stevenson</td>\n",
       "      <td>Jack Black, Angelina Jolie, Jackie Chan, David...</td>\n",
       "    </tr>\n",
       "    <tr>\n",
       "      <th>101</th>\n",
       "      <td>John Wick 5</td>\n",
       "      <td>2024</td>\n",
       "      <td>95</td>\n",
       "      <td>Chad Starhelski</td>\n",
       "      <td>Keanu Charlis Reeves, Laurence John</td>\n",
       "    </tr>\n",
       "  </tbody>\n",
       "</table>\n",
       "</div>"
      ],
      "text/plain": [
       "        Movie Title  Year  Score         Director  \\\n",
       "Rank                                                \n",
       "100   Kung Fu Panda  2008     87   John Stevenson   \n",
       "101     John Wick 5  2024     95  Chad Starhelski   \n",
       "\n",
       "                                                   Cast  \n",
       "Rank                                                     \n",
       "100   Jack Black, Angelina Jolie, Jackie Chan, David...  \n",
       "101                 Keanu Charlis Reeves, Laurence John  "
      ]
     },
     "execution_count": 20,
     "metadata": {},
     "output_type": "execute_result"
    }
   ],
   "source": [
    "df.tail(2)"
   ]
  },
  {
   "cell_type": "markdown",
   "id": "9e4c10f6",
   "metadata": {},
   "source": [
    "### 두번째 방법 - pd.concat 이용"
   ]
  },
  {
   "cell_type": "code",
   "execution_count": 21,
   "id": "3e3dd97a",
   "metadata": {},
   "outputs": [],
   "source": [
    "row = {\n",
    "    'Movie Title' : 'John Wick 5',\n",
    "    'Year' : 2024,\n",
    "    'Score' : 95,\n",
    "    'Director' : 'Chad Stahelski',\n",
    "    'Cast' : 'Keanu Charles Reeves, Laurence John Fishburne'\n",
    "}"
   ]
  },
  {
   "cell_type": "markdown",
   "id": "f444a4ba",
   "metadata": {},
   "source": [
    "##### 데이터를 이용해서 인덱스를 101로 데이터프레임을 만든다"
   ]
  },
  {
   "cell_type": "code",
   "execution_count": 41,
   "id": "5aa1d8d5",
   "metadata": {},
   "outputs": [],
   "source": [
    "df2 = pd.DataFrame(row, index=[102])"
   ]
  },
  {
   "cell_type": "code",
   "execution_count": 42,
   "id": "e8f0067f",
   "metadata": {},
   "outputs": [
    {
     "data": {
      "text/html": [
       "<div>\n",
       "<style scoped>\n",
       "    .dataframe tbody tr th:only-of-type {\n",
       "        vertical-align: middle;\n",
       "    }\n",
       "\n",
       "    .dataframe tbody tr th {\n",
       "        vertical-align: top;\n",
       "    }\n",
       "\n",
       "    .dataframe thead th {\n",
       "        text-align: right;\n",
       "    }\n",
       "</style>\n",
       "<table border=\"1\" class=\"dataframe\">\n",
       "  <thead>\n",
       "    <tr style=\"text-align: right;\">\n",
       "      <th></th>\n",
       "      <th>Movie Title</th>\n",
       "      <th>Year</th>\n",
       "      <th>Score</th>\n",
       "      <th>Director</th>\n",
       "      <th>Cast</th>\n",
       "    </tr>\n",
       "  </thead>\n",
       "  <tbody>\n",
       "    <tr>\n",
       "      <th>102</th>\n",
       "      <td>John Wick 5</td>\n",
       "      <td>2024</td>\n",
       "      <td>95</td>\n",
       "      <td>Chad Stahelski</td>\n",
       "      <td>Keanu Charles Reeves, Laurence John Fishburne</td>\n",
       "    </tr>\n",
       "  </tbody>\n",
       "</table>\n",
       "</div>"
      ],
      "text/plain": [
       "     Movie Title  Year  Score        Director  \\\n",
       "102  John Wick 5  2024     95  Chad Stahelski   \n",
       "\n",
       "                                              Cast  \n",
       "102  Keanu Charles Reeves, Laurence John Fishburne  "
      ]
     },
     "execution_count": 42,
     "metadata": {},
     "output_type": "execute_result"
    }
   ],
   "source": [
    "df2"
   ]
  },
  {
   "cell_type": "markdown",
   "id": "a9d9d82f",
   "metadata": {},
   "source": [
    "##### df와 df2를 concat해서 df로 만든다"
   ]
  },
  {
   "cell_type": "code",
   "execution_count": 45,
   "id": "357fd590",
   "metadata": {},
   "outputs": [],
   "source": [
    "df = pd.concat([df, df2])"
   ]
  },
  {
   "cell_type": "code",
   "execution_count": 46,
   "id": "53d06835",
   "metadata": {},
   "outputs": [
    {
     "data": {
      "text/html": [
       "<div>\n",
       "<style scoped>\n",
       "    .dataframe tbody tr th:only-of-type {\n",
       "        vertical-align: middle;\n",
       "    }\n",
       "\n",
       "    .dataframe tbody tr th {\n",
       "        vertical-align: top;\n",
       "    }\n",
       "\n",
       "    .dataframe thead th {\n",
       "        text-align: right;\n",
       "    }\n",
       "</style>\n",
       "<table border=\"1\" class=\"dataframe\">\n",
       "  <thead>\n",
       "    <tr style=\"text-align: right;\">\n",
       "      <th></th>\n",
       "      <th>Movie Title</th>\n",
       "      <th>Year</th>\n",
       "      <th>Score</th>\n",
       "      <th>Director</th>\n",
       "      <th>Cast</th>\n",
       "    </tr>\n",
       "  </thead>\n",
       "  <tbody>\n",
       "    <tr>\n",
       "      <th>1</th>\n",
       "      <td>His House</td>\n",
       "      <td>2020</td>\n",
       "      <td>100</td>\n",
       "      <td>Remi Weekes</td>\n",
       "      <td>Wunmi Mosaku, Sope Dirisu, Matt Smith, Cornell...</td>\n",
       "    </tr>\n",
       "    <tr>\n",
       "      <th>2</th>\n",
       "      <td>How to Train Your Dragon</td>\n",
       "      <td>2010</td>\n",
       "      <td>99</td>\n",
       "      <td>Christopher Sanders</td>\n",
       "      <td>Jay Baruchel, Gerard Butler, America Ferrera, ...</td>\n",
       "    </tr>\n",
       "    <tr>\n",
       "      <th>3</th>\n",
       "      <td>The Forty-Year-Old Version</td>\n",
       "      <td>2020</td>\n",
       "      <td>99</td>\n",
       "      <td>Radha Blank</td>\n",
       "      <td>Welker White, Reed Birney, Radha Blank, Peter Kim</td>\n",
       "    </tr>\n",
       "    <tr>\n",
       "      <th>4</th>\n",
       "      <td>Under the Shadow</td>\n",
       "      <td>2016</td>\n",
       "      <td>99</td>\n",
       "      <td>Babak Anvari</td>\n",
       "      <td>Narges Rashidi, Avin Manshadi, Bobby Naderi, R...</td>\n",
       "    </tr>\n",
       "    <tr>\n",
       "      <th>5</th>\n",
       "      <td>Monty Python and the Holy Grail</td>\n",
       "      <td>1975</td>\n",
       "      <td>98</td>\n",
       "      <td>Terry Gilliam</td>\n",
       "      <td>Graham Chapman, John Cleese, Terry Gilliam, Er...</td>\n",
       "    </tr>\n",
       "    <tr>\n",
       "      <th>...</th>\n",
       "      <td>...</td>\n",
       "      <td>...</td>\n",
       "      <td>...</td>\n",
       "      <td>...</td>\n",
       "      <td>...</td>\n",
       "    </tr>\n",
       "    <tr>\n",
       "      <th>99</th>\n",
       "      <td>American Beauty</td>\n",
       "      <td>1999</td>\n",
       "      <td>87</td>\n",
       "      <td>Sam Mendes</td>\n",
       "      <td>Kevin Spacey, Annette Bening, Thora Birch, Wes...</td>\n",
       "    </tr>\n",
       "    <tr>\n",
       "      <th>100</th>\n",
       "      <td>Kung Fu Panda</td>\n",
       "      <td>2008</td>\n",
       "      <td>87</td>\n",
       "      <td>John Stevenson</td>\n",
       "      <td>Jack Black, Angelina Jolie, Jackie Chan, David...</td>\n",
       "    </tr>\n",
       "    <tr>\n",
       "      <th>101</th>\n",
       "      <td>John Wick 5</td>\n",
       "      <td>2024</td>\n",
       "      <td>95</td>\n",
       "      <td>Chad Starhelski</td>\n",
       "      <td>Keanu Charlis Reeves, Laurence John</td>\n",
       "    </tr>\n",
       "    <tr>\n",
       "      <th>101</th>\n",
       "      <td>John Wick 5</td>\n",
       "      <td>2024</td>\n",
       "      <td>95</td>\n",
       "      <td>Chad Stahelski</td>\n",
       "      <td>Keanu Charles Reeves, Laurence John Fishburne</td>\n",
       "    </tr>\n",
       "    <tr>\n",
       "      <th>102</th>\n",
       "      <td>John Wick 5</td>\n",
       "      <td>2024</td>\n",
       "      <td>95</td>\n",
       "      <td>Chad Stahelski</td>\n",
       "      <td>Keanu Charles Reeves, Laurence John Fishburne</td>\n",
       "    </tr>\n",
       "  </tbody>\n",
       "</table>\n",
       "<p>103 rows × 5 columns</p>\n",
       "</div>"
      ],
      "text/plain": [
       "                         Movie Title  Year  Score             Director  \\\n",
       "1                          His House  2020    100          Remi Weekes   \n",
       "2           How to Train Your Dragon  2010     99  Christopher Sanders   \n",
       "3         The Forty-Year-Old Version  2020     99          Radha Blank   \n",
       "4                   Under the Shadow  2016     99         Babak Anvari   \n",
       "5    Monty Python and the Holy Grail  1975     98        Terry Gilliam   \n",
       "..                               ...   ...    ...                  ...   \n",
       "99                   American Beauty  1999     87           Sam Mendes   \n",
       "100                    Kung Fu Panda  2008     87       John Stevenson   \n",
       "101                      John Wick 5  2024     95      Chad Starhelski   \n",
       "101                      John Wick 5  2024     95       Chad Stahelski   \n",
       "102                      John Wick 5  2024     95       Chad Stahelski   \n",
       "\n",
       "                                                  Cast  \n",
       "1    Wunmi Mosaku, Sope Dirisu, Matt Smith, Cornell...  \n",
       "2    Jay Baruchel, Gerard Butler, America Ferrera, ...  \n",
       "3    Welker White, Reed Birney, Radha Blank, Peter Kim  \n",
       "4    Narges Rashidi, Avin Manshadi, Bobby Naderi, R...  \n",
       "5    Graham Chapman, John Cleese, Terry Gilliam, Er...  \n",
       "..                                                 ...  \n",
       "99   Kevin Spacey, Annette Bening, Thora Birch, Wes...  \n",
       "100  Jack Black, Angelina Jolie, Jackie Chan, David...  \n",
       "101                Keanu Charlis Reeves, Laurence John  \n",
       "101      Keanu Charles Reeves, Laurence John Fishburne  \n",
       "102      Keanu Charles Reeves, Laurence John Fishburne  \n",
       "\n",
       "[103 rows x 5 columns]"
      ]
     },
     "execution_count": 46,
     "metadata": {},
     "output_type": "execute_result"
    }
   ],
   "source": [
    "df"
   ]
  },
  {
   "cell_type": "markdown",
   "id": "5bbd1024",
   "metadata": {},
   "source": [
    "### 잘못된 데이터가 들어왔을때 대처법 \n",
    "##### 제목만 가지고 나머지는 np.NaN을 가진 행을 추가"
   ]
  },
  {
   "cell_type": "code",
   "execution_count": 47,
   "id": "ea534fcd",
   "metadata": {},
   "outputs": [
    {
     "data": {
      "text/plain": [
       "Movie Title    object\n",
       "Year            int64\n",
       "Score           int64\n",
       "Director       object\n",
       "Cast           object\n",
       "dtype: object"
      ]
     },
     "execution_count": 47,
     "metadata": {},
     "output_type": "execute_result"
    }
   ],
   "source": [
    "df.dtypes"
   ]
  },
  {
   "cell_type": "code",
   "execution_count": 48,
   "id": "34d9d3f5",
   "metadata": {},
   "outputs": [
    {
     "data": {
      "text/html": [
       "<div>\n",
       "<style scoped>\n",
       "    .dataframe tbody tr th:only-of-type {\n",
       "        vertical-align: middle;\n",
       "    }\n",
       "\n",
       "    .dataframe tbody tr th {\n",
       "        vertical-align: top;\n",
       "    }\n",
       "\n",
       "    .dataframe thead th {\n",
       "        text-align: right;\n",
       "    }\n",
       "</style>\n",
       "<table border=\"1\" class=\"dataframe\">\n",
       "  <thead>\n",
       "    <tr style=\"text-align: right;\">\n",
       "      <th></th>\n",
       "      <th>Movie Title</th>\n",
       "      <th>Year</th>\n",
       "      <th>Score</th>\n",
       "      <th>Director</th>\n",
       "      <th>Cast</th>\n",
       "    </tr>\n",
       "  </thead>\n",
       "  <tbody>\n",
       "    <tr>\n",
       "      <th>101</th>\n",
       "      <td>John Wick 5</td>\n",
       "      <td>2024</td>\n",
       "      <td>95</td>\n",
       "      <td>Chad Stahelski</td>\n",
       "      <td>Keanu Charles Reeves, Laurence John Fishburne</td>\n",
       "    </tr>\n",
       "    <tr>\n",
       "      <th>102</th>\n",
       "      <td>John Wick 5</td>\n",
       "      <td>2024</td>\n",
       "      <td>95</td>\n",
       "      <td>Chad Stahelski</td>\n",
       "      <td>Keanu Charles Reeves, Laurence John Fishburne</td>\n",
       "    </tr>\n",
       "  </tbody>\n",
       "</table>\n",
       "</div>"
      ],
      "text/plain": [
       "     Movie Title  Year  Score        Director  \\\n",
       "101  John Wick 5  2024     95  Chad Stahelski   \n",
       "102  John Wick 5  2024     95  Chad Stahelski   \n",
       "\n",
       "                                              Cast  \n",
       "101  Keanu Charles Reeves, Laurence John Fishburne  \n",
       "102  Keanu Charles Reeves, Laurence John Fishburne  "
      ]
     },
     "execution_count": 48,
     "metadata": {},
     "output_type": "execute_result"
    }
   ],
   "source": [
    "df.tail(2)"
   ]
  },
  {
   "cell_type": "code",
   "execution_count": 38,
   "id": "6c933c0b",
   "metadata": {},
   "outputs": [],
   "source": [
    "import numpy as np"
   ]
  },
  {
   "cell_type": "code",
   "execution_count": 60,
   "id": "09f4a253",
   "metadata": {},
   "outputs": [
    {
     "ename": "AttributeError",
     "evalue": "module 'numpy' has no attribute 'Nan'",
     "output_type": "error",
     "traceback": [
      "\u001b[1;31m---------------------------------------------------------------------------\u001b[0m",
      "\u001b[1;31mAttributeError\u001b[0m                            Traceback (most recent call last)",
      "Cell \u001b[1;32mIn[60], line 1\u001b[0m\n\u001b[1;32m----> 1\u001b[0m df\u001b[38;5;241m.\u001b[39mloc[\u001b[38;5;241m103\u001b[39m] \u001b[38;5;241m=\u001b[39m [\u001b[38;5;124m'\u001b[39m\u001b[38;5;124mJohn Wick 6\u001b[39m\u001b[38;5;124m'\u001b[39m, \u001b[43mnp\u001b[49m\u001b[38;5;241;43m.\u001b[39;49m\u001b[43mNan\u001b[49m, np\u001b[38;5;241m.\u001b[39mNaN, np\u001b[38;5;241m.\u001b[39mNan]\n",
      "File \u001b[1;32mC:\\ProgramData\\anaconda3\\lib\\site-packages\\numpy\\__init__.py:311\u001b[0m, in \u001b[0;36m__getattr__\u001b[1;34m(attr)\u001b[0m\n\u001b[0;32m    308\u001b[0m     \u001b[38;5;28;01mfrom\u001b[39;00m \u001b[38;5;21;01m.\u001b[39;00m\u001b[38;5;21;01mtesting\u001b[39;00m \u001b[38;5;28;01mimport\u001b[39;00m Tester\n\u001b[0;32m    309\u001b[0m     \u001b[38;5;28;01mreturn\u001b[39;00m Tester\n\u001b[1;32m--> 311\u001b[0m \u001b[38;5;28;01mraise\u001b[39;00m \u001b[38;5;167;01mAttributeError\u001b[39;00m(\u001b[38;5;124m\"\u001b[39m\u001b[38;5;124mmodule \u001b[39m\u001b[38;5;132;01m{!r}\u001b[39;00m\u001b[38;5;124m has no attribute \u001b[39m\u001b[38;5;124m\"\u001b[39m\n\u001b[0;32m    312\u001b[0m                      \u001b[38;5;124m\"\u001b[39m\u001b[38;5;132;01m{!r}\u001b[39;00m\u001b[38;5;124m\"\u001b[39m\u001b[38;5;241m.\u001b[39mformat(\u001b[38;5;18m__name__\u001b[39m, attr))\n",
      "\u001b[1;31mAttributeError\u001b[0m: module 'numpy' has no attribute 'Nan'"
     ]
    }
   ],
   "source": [
    "df.loc[103] = ['John Wick 6', np.Nan, np.NaN, np.Nan]\n"
   ]
  },
  {
   "cell_type": "markdown",
   "id": "e681f5ea",
   "metadata": {},
   "source": [
    "##### 먼저 문제는 Year와 Score의 데이터 타입이 float로 변경됨"
   ]
  },
  {
   "cell_type": "markdown",
   "id": "eed98175",
   "metadata": {},
   "source": [
    "### 첫번째 방법 : 잘못된 데이터를 삭제"
   ]
  },
  {
   "cell_type": "code",
   "execution_count": null,
   "id": "f0e3ab88",
   "metadata": {},
   "outputs": [],
   "source": []
  },
  {
   "cell_type": "markdown",
   "id": "4992c522",
   "metadata": {},
   "source": [
    "##### dropna() 사용법 1 : NaN을 하나라도 가진 행 삭제"
   ]
  },
  {
   "cell_type": "code",
   "execution_count": 49,
   "id": "9a5e9a79",
   "metadata": {},
   "outputs": [
    {
     "data": {
      "text/html": [
       "<div>\n",
       "<style scoped>\n",
       "    .dataframe tbody tr th:only-of-type {\n",
       "        vertical-align: middle;\n",
       "    }\n",
       "\n",
       "    .dataframe tbody tr th {\n",
       "        vertical-align: top;\n",
       "    }\n",
       "\n",
       "    .dataframe thead th {\n",
       "        text-align: right;\n",
       "    }\n",
       "</style>\n",
       "<table border=\"1\" class=\"dataframe\">\n",
       "  <thead>\n",
       "    <tr style=\"text-align: right;\">\n",
       "      <th></th>\n",
       "      <th>Movie Title</th>\n",
       "      <th>Year</th>\n",
       "      <th>Score</th>\n",
       "      <th>Director</th>\n",
       "      <th>Cast</th>\n",
       "    </tr>\n",
       "  </thead>\n",
       "  <tbody>\n",
       "    <tr>\n",
       "      <th>1</th>\n",
       "      <td>His House</td>\n",
       "      <td>2020</td>\n",
       "      <td>100</td>\n",
       "      <td>Remi Weekes</td>\n",
       "      <td>Wunmi Mosaku, Sope Dirisu, Matt Smith, Cornell...</td>\n",
       "    </tr>\n",
       "    <tr>\n",
       "      <th>2</th>\n",
       "      <td>How to Train Your Dragon</td>\n",
       "      <td>2010</td>\n",
       "      <td>99</td>\n",
       "      <td>Christopher Sanders</td>\n",
       "      <td>Jay Baruchel, Gerard Butler, America Ferrera, ...</td>\n",
       "    </tr>\n",
       "    <tr>\n",
       "      <th>3</th>\n",
       "      <td>The Forty-Year-Old Version</td>\n",
       "      <td>2020</td>\n",
       "      <td>99</td>\n",
       "      <td>Radha Blank</td>\n",
       "      <td>Welker White, Reed Birney, Radha Blank, Peter Kim</td>\n",
       "    </tr>\n",
       "    <tr>\n",
       "      <th>4</th>\n",
       "      <td>Under the Shadow</td>\n",
       "      <td>2016</td>\n",
       "      <td>99</td>\n",
       "      <td>Babak Anvari</td>\n",
       "      <td>Narges Rashidi, Avin Manshadi, Bobby Naderi, R...</td>\n",
       "    </tr>\n",
       "    <tr>\n",
       "      <th>5</th>\n",
       "      <td>Monty Python and the Holy Grail</td>\n",
       "      <td>1975</td>\n",
       "      <td>98</td>\n",
       "      <td>Terry Gilliam</td>\n",
       "      <td>Graham Chapman, John Cleese, Terry Gilliam, Er...</td>\n",
       "    </tr>\n",
       "    <tr>\n",
       "      <th>...</th>\n",
       "      <td>...</td>\n",
       "      <td>...</td>\n",
       "      <td>...</td>\n",
       "      <td>...</td>\n",
       "      <td>...</td>\n",
       "    </tr>\n",
       "    <tr>\n",
       "      <th>99</th>\n",
       "      <td>American Beauty</td>\n",
       "      <td>1999</td>\n",
       "      <td>87</td>\n",
       "      <td>Sam Mendes</td>\n",
       "      <td>Kevin Spacey, Annette Bening, Thora Birch, Wes...</td>\n",
       "    </tr>\n",
       "    <tr>\n",
       "      <th>100</th>\n",
       "      <td>Kung Fu Panda</td>\n",
       "      <td>2008</td>\n",
       "      <td>87</td>\n",
       "      <td>John Stevenson</td>\n",
       "      <td>Jack Black, Angelina Jolie, Jackie Chan, David...</td>\n",
       "    </tr>\n",
       "    <tr>\n",
       "      <th>101</th>\n",
       "      <td>John Wick 5</td>\n",
       "      <td>2024</td>\n",
       "      <td>95</td>\n",
       "      <td>Chad Starhelski</td>\n",
       "      <td>Keanu Charlis Reeves, Laurence John</td>\n",
       "    </tr>\n",
       "    <tr>\n",
       "      <th>101</th>\n",
       "      <td>John Wick 5</td>\n",
       "      <td>2024</td>\n",
       "      <td>95</td>\n",
       "      <td>Chad Stahelski</td>\n",
       "      <td>Keanu Charles Reeves, Laurence John Fishburne</td>\n",
       "    </tr>\n",
       "    <tr>\n",
       "      <th>102</th>\n",
       "      <td>John Wick 5</td>\n",
       "      <td>2024</td>\n",
       "      <td>95</td>\n",
       "      <td>Chad Stahelski</td>\n",
       "      <td>Keanu Charles Reeves, Laurence John Fishburne</td>\n",
       "    </tr>\n",
       "  </tbody>\n",
       "</table>\n",
       "<p>103 rows × 5 columns</p>\n",
       "</div>"
      ],
      "text/plain": [
       "                         Movie Title  Year  Score             Director  \\\n",
       "1                          His House  2020    100          Remi Weekes   \n",
       "2           How to Train Your Dragon  2010     99  Christopher Sanders   \n",
       "3         The Forty-Year-Old Version  2020     99          Radha Blank   \n",
       "4                   Under the Shadow  2016     99         Babak Anvari   \n",
       "5    Monty Python and the Holy Grail  1975     98        Terry Gilliam   \n",
       "..                               ...   ...    ...                  ...   \n",
       "99                   American Beauty  1999     87           Sam Mendes   \n",
       "100                    Kung Fu Panda  2008     87       John Stevenson   \n",
       "101                      John Wick 5  2024     95      Chad Starhelski   \n",
       "101                      John Wick 5  2024     95       Chad Stahelski   \n",
       "102                      John Wick 5  2024     95       Chad Stahelski   \n",
       "\n",
       "                                                  Cast  \n",
       "1    Wunmi Mosaku, Sope Dirisu, Matt Smith, Cornell...  \n",
       "2    Jay Baruchel, Gerard Butler, America Ferrera, ...  \n",
       "3    Welker White, Reed Birney, Radha Blank, Peter Kim  \n",
       "4    Narges Rashidi, Avin Manshadi, Bobby Naderi, R...  \n",
       "5    Graham Chapman, John Cleese, Terry Gilliam, Er...  \n",
       "..                                                 ...  \n",
       "99   Kevin Spacey, Annette Bening, Thora Birch, Wes...  \n",
       "100  Jack Black, Angelina Jolie, Jackie Chan, David...  \n",
       "101                Keanu Charlis Reeves, Laurence John  \n",
       "101      Keanu Charles Reeves, Laurence John Fishburne  \n",
       "102      Keanu Charles Reeves, Laurence John Fishburne  \n",
       "\n",
       "[103 rows x 5 columns]"
      ]
     },
     "execution_count": 49,
     "metadata": {},
     "output_type": "execute_result"
    }
   ],
   "source": [
    "df.dropna()"
   ]
  },
  {
   "cell_type": "markdown",
   "id": "6ed3ab16",
   "metadata": {},
   "source": [
    "#### dropna() 사용법 2 : 컬럼 기준으로 NaN를 하나라도 가진 열 삭제"
   ]
  },
  {
   "cell_type": "code",
   "execution_count": 50,
   "id": "a389ee22",
   "metadata": {},
   "outputs": [
    {
     "data": {
      "text/html": [
       "<div>\n",
       "<style scoped>\n",
       "    .dataframe tbody tr th:only-of-type {\n",
       "        vertical-align: middle;\n",
       "    }\n",
       "\n",
       "    .dataframe tbody tr th {\n",
       "        vertical-align: top;\n",
       "    }\n",
       "\n",
       "    .dataframe thead th {\n",
       "        text-align: right;\n",
       "    }\n",
       "</style>\n",
       "<table border=\"1\" class=\"dataframe\">\n",
       "  <thead>\n",
       "    <tr style=\"text-align: right;\">\n",
       "      <th></th>\n",
       "      <th>Movie Title</th>\n",
       "      <th>Year</th>\n",
       "      <th>Score</th>\n",
       "      <th>Director</th>\n",
       "      <th>Cast</th>\n",
       "    </tr>\n",
       "  </thead>\n",
       "  <tbody>\n",
       "    <tr>\n",
       "      <th>1</th>\n",
       "      <td>His House</td>\n",
       "      <td>2020</td>\n",
       "      <td>100</td>\n",
       "      <td>Remi Weekes</td>\n",
       "      <td>Wunmi Mosaku, Sope Dirisu, Matt Smith, Cornell...</td>\n",
       "    </tr>\n",
       "    <tr>\n",
       "      <th>2</th>\n",
       "      <td>How to Train Your Dragon</td>\n",
       "      <td>2010</td>\n",
       "      <td>99</td>\n",
       "      <td>Christopher Sanders</td>\n",
       "      <td>Jay Baruchel, Gerard Butler, America Ferrera, ...</td>\n",
       "    </tr>\n",
       "    <tr>\n",
       "      <th>3</th>\n",
       "      <td>The Forty-Year-Old Version</td>\n",
       "      <td>2020</td>\n",
       "      <td>99</td>\n",
       "      <td>Radha Blank</td>\n",
       "      <td>Welker White, Reed Birney, Radha Blank, Peter Kim</td>\n",
       "    </tr>\n",
       "    <tr>\n",
       "      <th>4</th>\n",
       "      <td>Under the Shadow</td>\n",
       "      <td>2016</td>\n",
       "      <td>99</td>\n",
       "      <td>Babak Anvari</td>\n",
       "      <td>Narges Rashidi, Avin Manshadi, Bobby Naderi, R...</td>\n",
       "    </tr>\n",
       "    <tr>\n",
       "      <th>5</th>\n",
       "      <td>Monty Python and the Holy Grail</td>\n",
       "      <td>1975</td>\n",
       "      <td>98</td>\n",
       "      <td>Terry Gilliam</td>\n",
       "      <td>Graham Chapman, John Cleese, Terry Gilliam, Er...</td>\n",
       "    </tr>\n",
       "    <tr>\n",
       "      <th>...</th>\n",
       "      <td>...</td>\n",
       "      <td>...</td>\n",
       "      <td>...</td>\n",
       "      <td>...</td>\n",
       "      <td>...</td>\n",
       "    </tr>\n",
       "    <tr>\n",
       "      <th>99</th>\n",
       "      <td>American Beauty</td>\n",
       "      <td>1999</td>\n",
       "      <td>87</td>\n",
       "      <td>Sam Mendes</td>\n",
       "      <td>Kevin Spacey, Annette Bening, Thora Birch, Wes...</td>\n",
       "    </tr>\n",
       "    <tr>\n",
       "      <th>100</th>\n",
       "      <td>Kung Fu Panda</td>\n",
       "      <td>2008</td>\n",
       "      <td>87</td>\n",
       "      <td>John Stevenson</td>\n",
       "      <td>Jack Black, Angelina Jolie, Jackie Chan, David...</td>\n",
       "    </tr>\n",
       "    <tr>\n",
       "      <th>101</th>\n",
       "      <td>John Wick 5</td>\n",
       "      <td>2024</td>\n",
       "      <td>95</td>\n",
       "      <td>Chad Starhelski</td>\n",
       "      <td>Keanu Charlis Reeves, Laurence John</td>\n",
       "    </tr>\n",
       "    <tr>\n",
       "      <th>101</th>\n",
       "      <td>John Wick 5</td>\n",
       "      <td>2024</td>\n",
       "      <td>95</td>\n",
       "      <td>Chad Stahelski</td>\n",
       "      <td>Keanu Charles Reeves, Laurence John Fishburne</td>\n",
       "    </tr>\n",
       "    <tr>\n",
       "      <th>102</th>\n",
       "      <td>John Wick 5</td>\n",
       "      <td>2024</td>\n",
       "      <td>95</td>\n",
       "      <td>Chad Stahelski</td>\n",
       "      <td>Keanu Charles Reeves, Laurence John Fishburne</td>\n",
       "    </tr>\n",
       "  </tbody>\n",
       "</table>\n",
       "<p>103 rows × 5 columns</p>\n",
       "</div>"
      ],
      "text/plain": [
       "                         Movie Title  Year  Score             Director  \\\n",
       "1                          His House  2020    100          Remi Weekes   \n",
       "2           How to Train Your Dragon  2010     99  Christopher Sanders   \n",
       "3         The Forty-Year-Old Version  2020     99          Radha Blank   \n",
       "4                   Under the Shadow  2016     99         Babak Anvari   \n",
       "5    Monty Python and the Holy Grail  1975     98        Terry Gilliam   \n",
       "..                               ...   ...    ...                  ...   \n",
       "99                   American Beauty  1999     87           Sam Mendes   \n",
       "100                    Kung Fu Panda  2008     87       John Stevenson   \n",
       "101                      John Wick 5  2024     95      Chad Starhelski   \n",
       "101                      John Wick 5  2024     95       Chad Stahelski   \n",
       "102                      John Wick 5  2024     95       Chad Stahelski   \n",
       "\n",
       "                                                  Cast  \n",
       "1    Wunmi Mosaku, Sope Dirisu, Matt Smith, Cornell...  \n",
       "2    Jay Baruchel, Gerard Butler, America Ferrera, ...  \n",
       "3    Welker White, Reed Birney, Radha Blank, Peter Kim  \n",
       "4    Narges Rashidi, Avin Manshadi, Bobby Naderi, R...  \n",
       "5    Graham Chapman, John Cleese, Terry Gilliam, Er...  \n",
       "..                                                 ...  \n",
       "99   Kevin Spacey, Annette Bening, Thora Birch, Wes...  \n",
       "100  Jack Black, Angelina Jolie, Jackie Chan, David...  \n",
       "101                Keanu Charlis Reeves, Laurence John  \n",
       "101      Keanu Charles Reeves, Laurence John Fishburne  \n",
       "102      Keanu Charles Reeves, Laurence John Fishburne  \n",
       "\n",
       "[103 rows x 5 columns]"
      ]
     },
     "execution_count": 50,
     "metadata": {},
     "output_type": "execute_result"
    }
   ],
   "source": [
    "df.dropna(axis=1)"
   ]
  },
  {
   "cell_type": "markdown",
   "id": "647e7947",
   "metadata": {},
   "source": [
    "\n",
    "### how : {'any', 'all'}, default 'any'\n",
    "####        Determine if row or column is removed from DataFrame, when we have\n",
    "####        at least one NA or all NA.\n",
    "    \n",
    "####        * 'any' : If any NA values are present, drop that row or column.\n",
    "####        * 'all' : If all values are NA, drop that row or column."
   ]
  },
  {
   "cell_type": "markdown",
   "id": "4cee9a98",
   "metadata": {},
   "source": [
    "##### how가 all이면 행의 모든 데이터가 NA일 때만 행 삭제"
   ]
  },
  {
   "cell_type": "markdown",
   "id": "a7fe35ea",
   "metadata": {},
   "source": [
    "### 두번째 방법 : 잘못된 데이터를 수정"
   ]
  },
  {
   "cell_type": "markdown",
   "id": "00f480a2",
   "metadata": {},
   "source": [
    "일단 먼저 숫자형이든 문자열이든 상관 없이 모두 같은 값으로 채우기 : 이건 아닌 듯..."
   ]
  },
  {
   "cell_type": "markdown",
   "id": "d3a1170c",
   "metadata": {},
   "source": [
    "##### 숫자형 데이터를 채우는 두 가지 방법"
   ]
  },
  {
   "cell_type": "markdown",
   "id": "bb266e5e",
   "metadata": {},
   "source": [
    "##### 숫자형 데이터를 채우는 첫번째 방법 - 기본 값으로 채우기\n",
    "###### Year는 1900, Score는 0\n",
    "#### 문자열은 빈 문자열로 채운다"
   ]
  },
  {
   "cell_type": "code",
   "execution_count": 51,
   "id": "e3ea55ed",
   "metadata": {},
   "outputs": [],
   "source": [
    "values = {\n",
    "    'Year' : 1900,\n",
    "    'Score' : 0,\n",
    "    'Director' : \"\",\n",
    "    'cast' : \"\"\n",
    "}"
   ]
  },
  {
   "cell_type": "code",
   "execution_count": 53,
   "id": "df8c1d10",
   "metadata": {},
   "outputs": [
    {
     "data": {
      "text/plain": [
       "<bound method DataFrame.fillna of                          Movie Title  Year  Score             Director  \\\n",
       "1                          His House  2020    100          Remi Weekes   \n",
       "2           How to Train Your Dragon  2010     99  Christopher Sanders   \n",
       "3         The Forty-Year-Old Version  2020     99          Radha Blank   \n",
       "4                   Under the Shadow  2016     99         Babak Anvari   \n",
       "5    Monty Python and the Holy Grail  1975     98        Terry Gilliam   \n",
       "..                               ...   ...    ...                  ...   \n",
       "99                   American Beauty  1999     87           Sam Mendes   \n",
       "100                    Kung Fu Panda  2008     87       John Stevenson   \n",
       "101                      John Wick 5  2024     95      Chad Starhelski   \n",
       "101                      John Wick 5  2024     95       Chad Stahelski   \n",
       "102                      John Wick 5  2024     95       Chad Stahelski   \n",
       "\n",
       "                                                  Cast  \n",
       "1    Wunmi Mosaku, Sope Dirisu, Matt Smith, Cornell...  \n",
       "2    Jay Baruchel, Gerard Butler, America Ferrera, ...  \n",
       "3    Welker White, Reed Birney, Radha Blank, Peter Kim  \n",
       "4    Narges Rashidi, Avin Manshadi, Bobby Naderi, R...  \n",
       "5    Graham Chapman, John Cleese, Terry Gilliam, Er...  \n",
       "..                                                 ...  \n",
       "99   Kevin Spacey, Annette Bening, Thora Birch, Wes...  \n",
       "100  Jack Black, Angelina Jolie, Jackie Chan, David...  \n",
       "101                Keanu Charlis Reeves, Laurence John  \n",
       "101      Keanu Charles Reeves, Laurence John Fishburne  \n",
       "102      Keanu Charles Reeves, Laurence John Fishburne  \n",
       "\n",
       "[103 rows x 5 columns]>"
      ]
     },
     "execution_count": 53,
     "metadata": {},
     "output_type": "execute_result"
    }
   ],
   "source": [
    "df.fillna"
   ]
  },
  {
   "cell_type": "markdown",
   "id": "3f2d5d16",
   "metadata": {},
   "source": [
    "##### 숫자형 데이터를 채우는 두번째 방법 - 중간값으로 채우기\n",
    "#### 문자열은 빈 문자열로 채운다"
   ]
  },
  {
   "cell_type": "code",
   "execution_count": 55,
   "id": "b72bf954",
   "metadata": {},
   "outputs": [],
   "source": [
    "values = {\n",
    "    'Year' : int(df['Year'].median()),\n",
    "    'Score' : int(df['Score'].median()),\n",
    "    'Director' : \"\",\n",
    "    'cast' : \"\"\n",
    "}"
   ]
  },
  {
   "cell_type": "code",
   "execution_count": 56,
   "id": "7c942308",
   "metadata": {},
   "outputs": [
    {
     "data": {
      "text/plain": [
       "{'Year': 2017, 'Score': 92, 'Director': '', 'cast': ''}"
      ]
     },
     "execution_count": 56,
     "metadata": {},
     "output_type": "execute_result"
    }
   ],
   "source": [
    "values"
   ]
  },
  {
   "cell_type": "markdown",
   "id": "34c59f4c",
   "metadata": {},
   "source": [
    "### dropna 매개변수 subset"
   ]
  },
  {
   "cell_type": "code",
   "execution_count": null,
   "id": "94283895",
   "metadata": {},
   "outputs": [],
   "source": []
  },
  {
   "cell_type": "markdown",
   "id": "bd56fb94",
   "metadata": {},
   "source": [
    "##### 102 행에 Year와 Director 추가"
   ]
  },
  {
   "cell_type": "code",
   "execution_count": null,
   "id": "e6d51e6a",
   "metadata": {},
   "outputs": [],
   "source": []
  },
  {
   "cell_type": "markdown",
   "id": "2f7fa464",
   "metadata": {},
   "source": [
    "### Year가 NaN이면 삭제"
   ]
  },
  {
   "cell_type": "code",
   "execution_count": 83,
   "id": "30673717",
   "metadata": {},
   "outputs": [
    {
     "data": {
      "text/html": [
       "<div>\n",
       "<style scoped>\n",
       "    .dataframe tbody tr th:only-of-type {\n",
       "        vertical-align: middle;\n",
       "    }\n",
       "\n",
       "    .dataframe tbody tr th {\n",
       "        vertical-align: top;\n",
       "    }\n",
       "\n",
       "    .dataframe thead th {\n",
       "        text-align: right;\n",
       "    }\n",
       "</style>\n",
       "<table border=\"1\" class=\"dataframe\">\n",
       "  <thead>\n",
       "    <tr style=\"text-align: right;\">\n",
       "      <th></th>\n",
       "      <th>Movie Title</th>\n",
       "      <th>Year</th>\n",
       "      <th>Score</th>\n",
       "      <th>Director</th>\n",
       "      <th>Cast</th>\n",
       "    </tr>\n",
       "  </thead>\n",
       "  <tbody>\n",
       "    <tr>\n",
       "      <th>103</th>\n",
       "      <td>John Wick 5</td>\n",
       "      <td>2024</td>\n",
       "      <td>95</td>\n",
       "      <td>NaN</td>\n",
       "      <td></td>\n",
       "    </tr>\n",
       "  </tbody>\n",
       "</table>\n",
       "</div>"
      ],
      "text/plain": [
       "     Movie Title  Year  Score Director Cast\n",
       "103  John Wick 5  2024     95      NaN     "
      ]
     },
     "execution_count": 83,
     "metadata": {},
     "output_type": "execute_result"
    }
   ],
   "source": [
    "df"
   ]
  },
  {
   "cell_type": "markdown",
   "id": "71d3cfde",
   "metadata": {},
   "source": [
    "### Score가 NaN이면 삭제"
   ]
  },
  {
   "cell_type": "code",
   "execution_count": 74,
   "id": "32945a27",
   "metadata": {},
   "outputs": [],
   "source": [
    "row = {\n",
    "    'Movie Title' : 'John Wick 5',\n",
    "    'Year' : 2024,\n",
    "    'Score' : 95,\n",
    "    'Director' : 'NaN',\n",
    "    'Cast' : ''\n",
    "}"
   ]
  },
  {
   "cell_type": "code",
   "execution_count": 75,
   "id": "93475f33",
   "metadata": {},
   "outputs": [],
   "source": [
    "\n",
    "df = pd.DataFrame(row, index=[103])"
   ]
  },
  {
   "cell_type": "code",
   "execution_count": 76,
   "id": "3bf93803",
   "metadata": {},
   "outputs": [
    {
     "data": {
      "text/html": [
       "<div>\n",
       "<style scoped>\n",
       "    .dataframe tbody tr th:only-of-type {\n",
       "        vertical-align: middle;\n",
       "    }\n",
       "\n",
       "    .dataframe tbody tr th {\n",
       "        vertical-align: top;\n",
       "    }\n",
       "\n",
       "    .dataframe thead th {\n",
       "        text-align: right;\n",
       "    }\n",
       "</style>\n",
       "<table border=\"1\" class=\"dataframe\">\n",
       "  <thead>\n",
       "    <tr style=\"text-align: right;\">\n",
       "      <th></th>\n",
       "      <th>Movie Title</th>\n",
       "      <th>Year</th>\n",
       "      <th>Score</th>\n",
       "      <th>Director</th>\n",
       "      <th>Cast</th>\n",
       "    </tr>\n",
       "  </thead>\n",
       "  <tbody>\n",
       "    <tr>\n",
       "      <th>103</th>\n",
       "      <td>John Wick 5</td>\n",
       "      <td>2024</td>\n",
       "      <td>95</td>\n",
       "      <td>NaN</td>\n",
       "      <td></td>\n",
       "    </tr>\n",
       "  </tbody>\n",
       "</table>\n",
       "</div>"
      ],
      "text/plain": [
       "     Movie Title  Year  Score Director Cast\n",
       "103  John Wick 5  2024     95      NaN     "
      ]
     },
     "execution_count": 76,
     "metadata": {},
     "output_type": "execute_result"
    }
   ],
   "source": [
    "df"
   ]
  },
  {
   "cell_type": "markdown",
   "id": "53abbb75",
   "metadata": {},
   "source": [
    "### Year와 Score가 모두 NaN이면 삭제"
   ]
  },
  {
   "cell_type": "code",
   "execution_count": 80,
   "id": "2065b6cd",
   "metadata": {},
   "outputs": [
    {
     "data": {
      "text/html": [
       "<div>\n",
       "<style scoped>\n",
       "    .dataframe tbody tr th:only-of-type {\n",
       "        vertical-align: middle;\n",
       "    }\n",
       "\n",
       "    .dataframe tbody tr th {\n",
       "        vertical-align: top;\n",
       "    }\n",
       "\n",
       "    .dataframe thead th {\n",
       "        text-align: right;\n",
       "    }\n",
       "</style>\n",
       "<table border=\"1\" class=\"dataframe\">\n",
       "  <thead>\n",
       "    <tr style=\"text-align: right;\">\n",
       "      <th></th>\n",
       "      <th>Movie Title</th>\n",
       "      <th>Year</th>\n",
       "      <th>Score</th>\n",
       "      <th>Director</th>\n",
       "      <th>Cast</th>\n",
       "    </tr>\n",
       "  </thead>\n",
       "  <tbody>\n",
       "    <tr>\n",
       "      <th>103</th>\n",
       "      <td>John Wick 5</td>\n",
       "      <td>2024</td>\n",
       "      <td>95</td>\n",
       "      <td>NaN</td>\n",
       "      <td></td>\n",
       "    </tr>\n",
       "  </tbody>\n",
       "</table>\n",
       "</div>"
      ],
      "text/plain": [
       "     Movie Title  Year  Score Director Cast\n",
       "103  John Wick 5  2024     95      NaN     "
      ]
     },
     "execution_count": 80,
     "metadata": {},
     "output_type": "execute_result"
    }
   ],
   "source": [
    "df.dropna(subset=['Year','Score'], how='all')"
   ]
  },
  {
   "cell_type": "markdown",
   "id": "4123ca45",
   "metadata": {},
   "source": [
    "### Year와 Score 둘 중 하나만 NaN이어도 삭제"
   ]
  },
  {
   "cell_type": "code",
   "execution_count": 81,
   "id": "61bb7034",
   "metadata": {},
   "outputs": [
    {
     "data": {
      "text/html": [
       "<div>\n",
       "<style scoped>\n",
       "    .dataframe tbody tr th:only-of-type {\n",
       "        vertical-align: middle;\n",
       "    }\n",
       "\n",
       "    .dataframe tbody tr th {\n",
       "        vertical-align: top;\n",
       "    }\n",
       "\n",
       "    .dataframe thead th {\n",
       "        text-align: right;\n",
       "    }\n",
       "</style>\n",
       "<table border=\"1\" class=\"dataframe\">\n",
       "  <thead>\n",
       "    <tr style=\"text-align: right;\">\n",
       "      <th></th>\n",
       "      <th>Movie Title</th>\n",
       "      <th>Year</th>\n",
       "      <th>Score</th>\n",
       "      <th>Director</th>\n",
       "      <th>Cast</th>\n",
       "    </tr>\n",
       "  </thead>\n",
       "  <tbody>\n",
       "    <tr>\n",
       "      <th>103</th>\n",
       "      <td>John Wick 5</td>\n",
       "      <td>2024</td>\n",
       "      <td>95</td>\n",
       "      <td>NaN</td>\n",
       "      <td></td>\n",
       "    </tr>\n",
       "  </tbody>\n",
       "</table>\n",
       "</div>"
      ],
      "text/plain": [
       "     Movie Title  Year  Score Director Cast\n",
       "103  John Wick 5  2024     95      NaN     "
      ]
     },
     "execution_count": 81,
     "metadata": {},
     "output_type": "execute_result"
    }
   ],
   "source": [
    "df.dropna(subset=['Year','Score'], how='any')"
   ]
  },
  {
   "cell_type": "code",
   "execution_count": 82,
   "id": "acc0a4b7",
   "metadata": {
    "scrolled": true
   },
   "outputs": [
    {
     "data": {
      "text/html": [
       "<div>\n",
       "<style scoped>\n",
       "    .dataframe tbody tr th:only-of-type {\n",
       "        vertical-align: middle;\n",
       "    }\n",
       "\n",
       "    .dataframe tbody tr th {\n",
       "        vertical-align: top;\n",
       "    }\n",
       "\n",
       "    .dataframe thead th {\n",
       "        text-align: right;\n",
       "    }\n",
       "</style>\n",
       "<table border=\"1\" class=\"dataframe\">\n",
       "  <thead>\n",
       "    <tr style=\"text-align: right;\">\n",
       "      <th></th>\n",
       "      <th>Movie Title</th>\n",
       "      <th>Year</th>\n",
       "      <th>Score</th>\n",
       "      <th>Director</th>\n",
       "      <th>Cast</th>\n",
       "    </tr>\n",
       "  </thead>\n",
       "  <tbody>\n",
       "    <tr>\n",
       "      <th>103</th>\n",
       "      <td>John Wick 5</td>\n",
       "      <td>2024</td>\n",
       "      <td>95</td>\n",
       "      <td>NaN</td>\n",
       "      <td></td>\n",
       "    </tr>\n",
       "  </tbody>\n",
       "</table>\n",
       "</div>"
      ],
      "text/plain": [
       "     Movie Title  Year  Score Director Cast\n",
       "103  John Wick 5  2024     95      NaN     "
      ]
     },
     "execution_count": 82,
     "metadata": {},
     "output_type": "execute_result"
    }
   ],
   "source": [
    "df"
   ]
  },
  {
   "cell_type": "code",
   "execution_count": 90,
   "id": "668c906d",
   "metadata": {},
   "outputs": [],
   "source": [
    "df.loc[df.index[-1]+1] = [\"John Wick 5\", 2024, 'NaN', 'Chad Starhelski', 'Keanu Charlis Reeves, Laurence John']"
   ]
  },
  {
   "cell_type": "markdown",
   "id": "369e705d",
   "metadata": {},
   "source": [
    "### 데이터 프레임 컬럼 데이터 타입을 바꾸는 방법"
   ]
  },
  {
   "cell_type": "code",
   "execution_count": 91,
   "id": "71f85e08",
   "metadata": {},
   "outputs": [
    {
     "data": {
      "text/html": [
       "<div>\n",
       "<style scoped>\n",
       "    .dataframe tbody tr th:only-of-type {\n",
       "        vertical-align: middle;\n",
       "    }\n",
       "\n",
       "    .dataframe tbody tr th {\n",
       "        vertical-align: top;\n",
       "    }\n",
       "\n",
       "    .dataframe thead th {\n",
       "        text-align: right;\n",
       "    }\n",
       "</style>\n",
       "<table border=\"1\" class=\"dataframe\">\n",
       "  <thead>\n",
       "    <tr style=\"text-align: right;\">\n",
       "      <th></th>\n",
       "      <th>Movie Title</th>\n",
       "      <th>Year</th>\n",
       "      <th>Score</th>\n",
       "      <th>Director</th>\n",
       "      <th>Cast</th>\n",
       "    </tr>\n",
       "    <tr>\n",
       "      <th>Rank</th>\n",
       "      <th></th>\n",
       "      <th></th>\n",
       "      <th></th>\n",
       "      <th></th>\n",
       "      <th></th>\n",
       "    </tr>\n",
       "  </thead>\n",
       "  <tbody>\n",
       "    <tr>\n",
       "      <th>100</th>\n",
       "      <td>Kung Fu Panda</td>\n",
       "      <td>2008</td>\n",
       "      <td>87</td>\n",
       "      <td>John Stevenson</td>\n",
       "      <td>Jack Black, Angelina Jolie, Jackie Chan, David...</td>\n",
       "    </tr>\n",
       "    <tr>\n",
       "      <th>101</th>\n",
       "      <td>John Wick 5</td>\n",
       "      <td>2024</td>\n",
       "      <td>NaN</td>\n",
       "      <td>Chad Starhelski</td>\n",
       "      <td>Keanu Charlis Reeves, Laurence John</td>\n",
       "    </tr>\n",
       "  </tbody>\n",
       "</table>\n",
       "</div>"
      ],
      "text/plain": [
       "        Movie Title  Year Score         Director  \\\n",
       "Rank                                               \n",
       "100   Kung Fu Panda  2008    87   John Stevenson   \n",
       "101     John Wick 5  2024   NaN  Chad Starhelski   \n",
       "\n",
       "                                                   Cast  \n",
       "Rank                                                     \n",
       "100   Jack Black, Angelina Jolie, Jackie Chan, David...  \n",
       "101                 Keanu Charlis Reeves, Laurence John  "
      ]
     },
     "execution_count": 91,
     "metadata": {},
     "output_type": "execute_result"
    }
   ],
   "source": [
    "df.tail(2)"
   ]
  },
  {
   "cell_type": "code",
   "execution_count": null,
   "id": "f72e9d01",
   "metadata": {},
   "outputs": [],
   "source": []
  },
  {
   "cell_type": "markdown",
   "id": "a84e9b91",
   "metadata": {},
   "source": [
    "### Score에도 중간값 넣고 데이터 타입 변경"
   ]
  },
  {
   "cell_type": "code",
   "execution_count": null,
   "id": "a4259118",
   "metadata": {},
   "outputs": [],
   "source": []
  }
 ],
 "metadata": {
  "kernelspec": {
   "display_name": "Python 3 (ipykernel)",
   "language": "python",
   "name": "python3"
  },
  "language_info": {
   "codemirror_mode": {
    "name": "ipython",
    "version": 3
   },
   "file_extension": ".py",
   "mimetype": "text/x-python",
   "name": "python",
   "nbconvert_exporter": "python",
   "pygments_lexer": "ipython3",
   "version": "3.10.9"
  }
 },
 "nbformat": 4,
 "nbformat_minor": 5
}
