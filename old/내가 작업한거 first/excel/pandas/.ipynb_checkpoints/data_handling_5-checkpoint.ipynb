{
 "cells": [
  {
   "cell_type": "code",
   "execution_count": 1,
   "id": "4ae771e4",
   "metadata": {},
   "outputs": [],
   "source": [
    "import pandas as pd"
   ]
  },
  {
   "cell_type": "markdown",
   "id": "afde8859",
   "metadata": {},
   "source": [
    "### best_movies_on_netflix.xlsx 파일을 Rank 컬럼을 인덱스로 컬럼은 A:F까지 데이터프레임으로 가져오기"
   ]
  },
  {
   "cell_type": "code",
   "execution_count": 2,
   "id": "a92ba2c0",
   "metadata": {},
   "outputs": [],
   "source": [
    "df = pd.read_excel('best_movies_on_netflix.xlsx',index_col='Rank',usecols='A:F')"
   ]
  },
  {
   "cell_type": "markdown",
   "id": "2377d27c",
   "metadata": {},
   "source": [
    "### 컬럼 추가"
   ]
  },
  {
   "cell_type": "code",
   "execution_count": 4,
   "id": "1633bc16",
   "metadata": {},
   "outputs": [],
   "source": [
    "df['Latest']=df['Year'] >2020"
   ]
  },
  {
   "cell_type": "code",
   "execution_count": 5,
   "id": "bcf3b5c6",
   "metadata": {},
   "outputs": [
    {
     "data": {
      "text/html": [
       "<div>\n",
       "<style scoped>\n",
       "    .dataframe tbody tr th:only-of-type {\n",
       "        vertical-align: middle;\n",
       "    }\n",
       "\n",
       "    .dataframe tbody tr th {\n",
       "        vertical-align: top;\n",
       "    }\n",
       "\n",
       "    .dataframe thead th {\n",
       "        text-align: right;\n",
       "    }\n",
       "</style>\n",
       "<table border=\"1\" class=\"dataframe\">\n",
       "  <thead>\n",
       "    <tr style=\"text-align: right;\">\n",
       "      <th></th>\n",
       "      <th>Movie Title</th>\n",
       "      <th>Year</th>\n",
       "      <th>Score</th>\n",
       "      <th>Director</th>\n",
       "      <th>Cast</th>\n",
       "      <th>Latest</th>\n",
       "    </tr>\n",
       "    <tr>\n",
       "      <th>Rank</th>\n",
       "      <th></th>\n",
       "      <th></th>\n",
       "      <th></th>\n",
       "      <th></th>\n",
       "      <th></th>\n",
       "      <th></th>\n",
       "    </tr>\n",
       "  </thead>\n",
       "  <tbody>\n",
       "    <tr>\n",
       "      <th>1</th>\n",
       "      <td>His House</td>\n",
       "      <td>2020</td>\n",
       "      <td>100</td>\n",
       "      <td>Remi Weekes</td>\n",
       "      <td>Wunmi Mosaku, Sope Dirisu, Matt Smith, Cornell...</td>\n",
       "      <td>False</td>\n",
       "    </tr>\n",
       "    <tr>\n",
       "      <th>2</th>\n",
       "      <td>How to Train Your Dragon</td>\n",
       "      <td>2010</td>\n",
       "      <td>99</td>\n",
       "      <td>Christopher Sanders</td>\n",
       "      <td>Jay Baruchel, Gerard Butler, America Ferrera, ...</td>\n",
       "      <td>False</td>\n",
       "    </tr>\n",
       "    <tr>\n",
       "      <th>3</th>\n",
       "      <td>The Forty-Year-Old Version</td>\n",
       "      <td>2020</td>\n",
       "      <td>99</td>\n",
       "      <td>Radha Blank</td>\n",
       "      <td>Welker White, Reed Birney, Radha Blank, Peter Kim</td>\n",
       "      <td>False</td>\n",
       "    </tr>\n",
       "    <tr>\n",
       "      <th>4</th>\n",
       "      <td>Under the Shadow</td>\n",
       "      <td>2016</td>\n",
       "      <td>99</td>\n",
       "      <td>Babak Anvari</td>\n",
       "      <td>Narges Rashidi, Avin Manshadi, Bobby Naderi, R...</td>\n",
       "      <td>False</td>\n",
       "    </tr>\n",
       "    <tr>\n",
       "      <th>5</th>\n",
       "      <td>Monty Python and the Holy Grail</td>\n",
       "      <td>1975</td>\n",
       "      <td>98</td>\n",
       "      <td>Terry Gilliam</td>\n",
       "      <td>Graham Chapman, John Cleese, Terry Gilliam, Er...</td>\n",
       "      <td>False</td>\n",
       "    </tr>\n",
       "    <tr>\n",
       "      <th>...</th>\n",
       "      <td>...</td>\n",
       "      <td>...</td>\n",
       "      <td>...</td>\n",
       "      <td>...</td>\n",
       "      <td>...</td>\n",
       "      <td>...</td>\n",
       "    </tr>\n",
       "    <tr>\n",
       "      <th>96</th>\n",
       "      <td>Fear Street Part Three: 1666</td>\n",
       "      <td>2021</td>\n",
       "      <td>88</td>\n",
       "      <td>Leigh Janiak</td>\n",
       "      <td>Kiana Madeira, Ashley Zukerman, Gillian Jacobs...</td>\n",
       "      <td>True</td>\n",
       "    </tr>\n",
       "    <tr>\n",
       "      <th>97</th>\n",
       "      <td>Donnie Brasco</td>\n",
       "      <td>1997</td>\n",
       "      <td>88</td>\n",
       "      <td>Mike Newell</td>\n",
       "      <td>Al Pacino, Johnny Depp, Michael Madsen, Bruno ...</td>\n",
       "      <td>False</td>\n",
       "    </tr>\n",
       "    <tr>\n",
       "      <th>98</th>\n",
       "      <td>Inception</td>\n",
       "      <td>2010</td>\n",
       "      <td>87</td>\n",
       "      <td>Christopher Nolan</td>\n",
       "      <td>Leonardo DiCaprio, Joseph Gordon-Levitt, Ellio...</td>\n",
       "      <td>False</td>\n",
       "    </tr>\n",
       "    <tr>\n",
       "      <th>99</th>\n",
       "      <td>American Beauty</td>\n",
       "      <td>1999</td>\n",
       "      <td>87</td>\n",
       "      <td>Sam Mendes</td>\n",
       "      <td>Kevin Spacey, Annette Bening, Thora Birch, Wes...</td>\n",
       "      <td>False</td>\n",
       "    </tr>\n",
       "    <tr>\n",
       "      <th>100</th>\n",
       "      <td>Kung Fu Panda</td>\n",
       "      <td>2008</td>\n",
       "      <td>87</td>\n",
       "      <td>John Stevenson</td>\n",
       "      <td>Jack Black, Angelina Jolie, Jackie Chan, David...</td>\n",
       "      <td>False</td>\n",
       "    </tr>\n",
       "  </tbody>\n",
       "</table>\n",
       "<p>100 rows × 6 columns</p>\n",
       "</div>"
      ],
      "text/plain": [
       "                          Movie Title  Year  Score             Director  \\\n",
       "Rank                                                                      \n",
       "1                           His House  2020    100          Remi Weekes   \n",
       "2            How to Train Your Dragon  2010     99  Christopher Sanders   \n",
       "3          The Forty-Year-Old Version  2020     99          Radha Blank   \n",
       "4                    Under the Shadow  2016     99         Babak Anvari   \n",
       "5     Monty Python and the Holy Grail  1975     98        Terry Gilliam   \n",
       "...                               ...   ...    ...                  ...   \n",
       "96       Fear Street Part Three: 1666  2021     88         Leigh Janiak   \n",
       "97                      Donnie Brasco  1997     88          Mike Newell   \n",
       "98                          Inception  2010     87    Christopher Nolan   \n",
       "99                    American Beauty  1999     87           Sam Mendes   \n",
       "100                     Kung Fu Panda  2008     87       John Stevenson   \n",
       "\n",
       "                                                   Cast  Latest  \n",
       "Rank                                                             \n",
       "1     Wunmi Mosaku, Sope Dirisu, Matt Smith, Cornell...   False  \n",
       "2     Jay Baruchel, Gerard Butler, America Ferrera, ...   False  \n",
       "3     Welker White, Reed Birney, Radha Blank, Peter Kim   False  \n",
       "4     Narges Rashidi, Avin Manshadi, Bobby Naderi, R...   False  \n",
       "5     Graham Chapman, John Cleese, Terry Gilliam, Er...   False  \n",
       "...                                                 ...     ...  \n",
       "96    Kiana Madeira, Ashley Zukerman, Gillian Jacobs...    True  \n",
       "97    Al Pacino, Johnny Depp, Michael Madsen, Bruno ...   False  \n",
       "98    Leonardo DiCaprio, Joseph Gordon-Levitt, Ellio...   False  \n",
       "99    Kevin Spacey, Annette Bening, Thora Birch, Wes...   False  \n",
       "100   Jack Black, Angelina Jolie, Jackie Chan, David...   False  \n",
       "\n",
       "[100 rows x 6 columns]"
      ]
     },
     "execution_count": 5,
     "metadata": {},
     "output_type": "execute_result"
    }
   ],
   "source": [
    "df"
   ]
  },
  {
   "cell_type": "markdown",
   "id": "15fe99ce",
   "metadata": {},
   "source": [
    "### 최신 영화 수"
   ]
  },
  {
   "cell_type": "code",
   "execution_count": 7,
   "id": "3930e716",
   "metadata": {},
   "outputs": [
    {
     "data": {
      "text/plain": [
       "13"
      ]
     },
     "execution_count": 7,
     "metadata": {},
     "output_type": "execute_result"
    }
   ],
   "source": [
    "df[df['Latest'] == True] ['Latest'].sum()"
   ]
  }
 ],
 "metadata": {
  "kernelspec": {
   "display_name": "Python 3 (ipykernel)",
   "language": "python",
   "name": "python3"
  },
  "language_info": {
   "codemirror_mode": {
    "name": "ipython",
    "version": 3
   },
   "file_extension": ".py",
   "mimetype": "text/x-python",
   "name": "python",
   "nbconvert_exporter": "python",
   "pygments_lexer": "ipython3",
   "version": "3.10.9"
  }
 },
 "nbformat": 4,
 "nbformat_minor": 5
}
