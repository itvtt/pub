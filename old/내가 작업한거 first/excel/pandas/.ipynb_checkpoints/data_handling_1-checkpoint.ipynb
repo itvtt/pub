{
 "cells": [
  {
   "cell_type": "code",
   "execution_count": 1,
   "id": "5dc39232",
   "metadata": {},
   "outputs": [],
   "source": [
    "import pandas as pd"
   ]
  },
  {
   "cell_type": "markdown",
   "id": "a294b6c8",
   "metadata": {},
   "source": [
    "### 엑셀 파일 열기"
   ]
  },
  {
   "cell_type": "code",
   "execution_count": 6,
   "id": "738046b9",
   "metadata": {},
   "outputs": [],
   "source": [
    "df = pd.read_excel('best_movies_on_netflix.xlsx', index_col='Rank', usecols='A:F')"
   ]
  },
  {
   "cell_type": "code",
   "execution_count": 8,
   "id": "f72c1af6",
   "metadata": {},
   "outputs": [
    {
     "data": {
      "text/plain": [
       "Movie Title    object\n",
       "Year            int64\n",
       "Score           int64\n",
       "Director       object\n",
       "Cast           object\n",
       "dtype: object"
      ]
     },
     "execution_count": 8,
     "metadata": {},
     "output_type": "execute_result"
    }
   ],
   "source": [
    "df.dtypes"
   ]
  },
  {
   "cell_type": "code",
   "execution_count": 9,
   "id": "3f7107b5",
   "metadata": {},
   "outputs": [
    {
     "data": {
      "text/plain": [
       "<function pandas.io.excel._base.read_excel(io, sheet_name: 'str | int | list[IntStrT] | None' = 0, *, header: 'int | Sequence[int] | None' = 0, names: 'list[str] | None' = None, index_col: 'int | Sequence[int] | None' = None, usecols: 'int | str | Sequence[int] | Sequence[str] | Callable[[str], bool] | None' = None, squeeze: 'bool | None' = None, dtype: 'DtypeArg | None' = None, engine: \"Literal['xlrd', 'openpyxl', 'odf', 'pyxlsb'] | None\" = None, converters: 'dict[str, Callable] | dict[int, Callable] | None' = None, true_values: 'Iterable[Hashable] | None' = None, false_values: 'Iterable[Hashable] | None' = None, skiprows: 'Sequence[int] | int | Callable[[int], object] | None' = None, nrows: 'int | None' = None, na_values=None, keep_default_na: 'bool' = True, na_filter: 'bool' = True, verbose: 'bool' = False, parse_dates: 'list | dict | bool' = False, date_parser: 'Callable | None' = None, thousands: 'str | None' = None, decimal: 'str' = '.', comment: 'str | None' = None, skipfooter: 'int' = 0, convert_float: 'bool | None' = None, mangle_dupe_cols: 'bool' = True, storage_options: 'StorageOptions' = None) -> 'DataFrame | dict[IntStrT, DataFrame]'>"
      ]
     },
     "execution_count": 9,
     "metadata": {},
     "output_type": "execute_result"
    }
   ],
   "source": [
    "pd.read_excel"
   ]
  },
  {
   "cell_type": "markdown",
   "id": "2c9849b1",
   "metadata": {},
   "source": [
    "##### best_movies_on_netflix.xlsx 파일을 Rank 컬럼을 인덱스로 컬럼은 A:F까지 Year와 Score의 데이터 타입은 int형으로 데이터프레임으로 가져오기"
   ]
  },
  {
   "cell_type": "markdown",
   "id": "82983036",
   "metadata": {},
   "source": [
    "### 데이터 프레임 전체 모양 살펴보기"
   ]
  },
  {
   "cell_type": "markdown",
   "id": "22f2d2f7",
   "metadata": {},
   "source": [
    "##### 숫자형 데이터에 대한 다양한 통계 정보"
   ]
  },
  {
   "cell_type": "code",
   "execution_count": 10,
   "id": "b695a35d",
   "metadata": {},
   "outputs": [
    {
     "data": {
      "text/html": [
       "<div>\n",
       "<style scoped>\n",
       "    .dataframe tbody tr th:only-of-type {\n",
       "        vertical-align: middle;\n",
       "    }\n",
       "\n",
       "    .dataframe tbody tr th {\n",
       "        vertical-align: top;\n",
       "    }\n",
       "\n",
       "    .dataframe thead th {\n",
       "        text-align: right;\n",
       "    }\n",
       "</style>\n",
       "<table border=\"1\" class=\"dataframe\">\n",
       "  <thead>\n",
       "    <tr style=\"text-align: right;\">\n",
       "      <th></th>\n",
       "      <th>Year</th>\n",
       "      <th>Score</th>\n",
       "    </tr>\n",
       "  </thead>\n",
       "  <tbody>\n",
       "    <tr>\n",
       "      <th>count</th>\n",
       "      <td>100.000000</td>\n",
       "      <td>100.000000</td>\n",
       "    </tr>\n",
       "    <tr>\n",
       "      <th>mean</th>\n",
       "      <td>2011.540000</td>\n",
       "      <td>92.520000</td>\n",
       "    </tr>\n",
       "    <tr>\n",
       "      <th>std</th>\n",
       "      <td>12.971157</td>\n",
       "      <td>3.063239</td>\n",
       "    </tr>\n",
       "    <tr>\n",
       "      <th>min</th>\n",
       "      <td>1960.000000</td>\n",
       "      <td>87.000000</td>\n",
       "    </tr>\n",
       "    <tr>\n",
       "      <th>25%</th>\n",
       "      <td>2009.750000</td>\n",
       "      <td>90.000000</td>\n",
       "    </tr>\n",
       "    <tr>\n",
       "      <th>50%</th>\n",
       "      <td>2017.000000</td>\n",
       "      <td>92.000000</td>\n",
       "    </tr>\n",
       "    <tr>\n",
       "      <th>75%</th>\n",
       "      <td>2019.000000</td>\n",
       "      <td>95.000000</td>\n",
       "    </tr>\n",
       "    <tr>\n",
       "      <th>max</th>\n",
       "      <td>2022.000000</td>\n",
       "      <td>100.000000</td>\n",
       "    </tr>\n",
       "  </tbody>\n",
       "</table>\n",
       "</div>"
      ],
      "text/plain": [
       "              Year       Score\n",
       "count   100.000000  100.000000\n",
       "mean   2011.540000   92.520000\n",
       "std      12.971157    3.063239\n",
       "min    1960.000000   87.000000\n",
       "25%    2009.750000   90.000000\n",
       "50%    2017.000000   92.000000\n",
       "75%    2019.000000   95.000000\n",
       "max    2022.000000  100.000000"
      ]
     },
     "execution_count": 10,
     "metadata": {},
     "output_type": "execute_result"
    }
   ],
   "source": [
    "df.describe()"
   ]
  },
  {
   "cell_type": "markdown",
   "id": "33a62e30",
   "metadata": {},
   "source": [
    "##### 각 컬럼에 대한 요약 정보"
   ]
  },
  {
   "cell_type": "code",
   "execution_count": 11,
   "id": "81741d01",
   "metadata": {},
   "outputs": [
    {
     "name": "stdout",
     "output_type": "stream",
     "text": [
      "<class 'pandas.core.frame.DataFrame'>\n",
      "Int64Index: 100 entries, 1 to 100\n",
      "Data columns (total 5 columns):\n",
      " #   Column       Non-Null Count  Dtype \n",
      "---  ------       --------------  ----- \n",
      " 0   Movie Title  100 non-null    object\n",
      " 1   Year         100 non-null    int64 \n",
      " 2   Score        100 non-null    int64 \n",
      " 3   Director     100 non-null    object\n",
      " 4   Cast         100 non-null    object\n",
      "dtypes: int64(2), object(3)\n",
      "memory usage: 4.7+ KB\n"
     ]
    }
   ],
   "source": [
    "df.info()"
   ]
  },
  {
   "cell_type": "markdown",
   "id": "df9917c3",
   "metadata": {},
   "source": [
    "##### 데이터프레임의 처음 데이터"
   ]
  },
  {
   "cell_type": "code",
   "execution_count": 12,
   "id": "88f27c43",
   "metadata": {},
   "outputs": [
    {
     "data": {
      "text/html": [
       "<div>\n",
       "<style scoped>\n",
       "    .dataframe tbody tr th:only-of-type {\n",
       "        vertical-align: middle;\n",
       "    }\n",
       "\n",
       "    .dataframe tbody tr th {\n",
       "        vertical-align: top;\n",
       "    }\n",
       "\n",
       "    .dataframe thead th {\n",
       "        text-align: right;\n",
       "    }\n",
       "</style>\n",
       "<table border=\"1\" class=\"dataframe\">\n",
       "  <thead>\n",
       "    <tr style=\"text-align: right;\">\n",
       "      <th></th>\n",
       "      <th>Movie Title</th>\n",
       "      <th>Year</th>\n",
       "      <th>Score</th>\n",
       "      <th>Director</th>\n",
       "      <th>Cast</th>\n",
       "    </tr>\n",
       "    <tr>\n",
       "      <th>Rank</th>\n",
       "      <th></th>\n",
       "      <th></th>\n",
       "      <th></th>\n",
       "      <th></th>\n",
       "      <th></th>\n",
       "    </tr>\n",
       "  </thead>\n",
       "  <tbody>\n",
       "    <tr>\n",
       "      <th>1</th>\n",
       "      <td>His House</td>\n",
       "      <td>2020</td>\n",
       "      <td>100</td>\n",
       "      <td>Remi Weekes</td>\n",
       "      <td>Wunmi Mosaku, Sope Dirisu, Matt Smith, Cornell...</td>\n",
       "    </tr>\n",
       "    <tr>\n",
       "      <th>2</th>\n",
       "      <td>How to Train Your Dragon</td>\n",
       "      <td>2010</td>\n",
       "      <td>99</td>\n",
       "      <td>Christopher Sanders</td>\n",
       "      <td>Jay Baruchel, Gerard Butler, America Ferrera, ...</td>\n",
       "    </tr>\n",
       "  </tbody>\n",
       "</table>\n",
       "</div>"
      ],
      "text/plain": [
       "                   Movie Title  Year  Score             Director  \\\n",
       "Rank                                                               \n",
       "1                    His House  2020    100          Remi Weekes   \n",
       "2     How to Train Your Dragon  2010     99  Christopher Sanders   \n",
       "\n",
       "                                                   Cast  \n",
       "Rank                                                     \n",
       "1     Wunmi Mosaku, Sope Dirisu, Matt Smith, Cornell...  \n",
       "2     Jay Baruchel, Gerard Butler, America Ferrera, ...  "
      ]
     },
     "execution_count": 12,
     "metadata": {},
     "output_type": "execute_result"
    }
   ],
   "source": [
    "df.head(2)"
   ]
  },
  {
   "cell_type": "markdown",
   "id": "9a0cf879",
   "metadata": {},
   "source": [
    "##### 데이터프레임의 마지막 데이터"
   ]
  },
  {
   "cell_type": "code",
   "execution_count": 13,
   "id": "ca3335ca",
   "metadata": {},
   "outputs": [
    {
     "data": {
      "text/html": [
       "<div>\n",
       "<style scoped>\n",
       "    .dataframe tbody tr th:only-of-type {\n",
       "        vertical-align: middle;\n",
       "    }\n",
       "\n",
       "    .dataframe tbody tr th {\n",
       "        vertical-align: top;\n",
       "    }\n",
       "\n",
       "    .dataframe thead th {\n",
       "        text-align: right;\n",
       "    }\n",
       "</style>\n",
       "<table border=\"1\" class=\"dataframe\">\n",
       "  <thead>\n",
       "    <tr style=\"text-align: right;\">\n",
       "      <th></th>\n",
       "      <th>Movie Title</th>\n",
       "      <th>Year</th>\n",
       "      <th>Score</th>\n",
       "      <th>Director</th>\n",
       "      <th>Cast</th>\n",
       "    </tr>\n",
       "    <tr>\n",
       "      <th>Rank</th>\n",
       "      <th></th>\n",
       "      <th></th>\n",
       "      <th></th>\n",
       "      <th></th>\n",
       "      <th></th>\n",
       "    </tr>\n",
       "  </thead>\n",
       "  <tbody>\n",
       "    <tr>\n",
       "      <th>96</th>\n",
       "      <td>Fear Street Part Three: 1666</td>\n",
       "      <td>2021</td>\n",
       "      <td>88</td>\n",
       "      <td>Leigh Janiak</td>\n",
       "      <td>Kiana Madeira, Ashley Zukerman, Gillian Jacobs...</td>\n",
       "    </tr>\n",
       "    <tr>\n",
       "      <th>97</th>\n",
       "      <td>Donnie Brasco</td>\n",
       "      <td>1997</td>\n",
       "      <td>88</td>\n",
       "      <td>Mike Newell</td>\n",
       "      <td>Al Pacino, Johnny Depp, Michael Madsen, Bruno ...</td>\n",
       "    </tr>\n",
       "    <tr>\n",
       "      <th>98</th>\n",
       "      <td>Inception</td>\n",
       "      <td>2010</td>\n",
       "      <td>87</td>\n",
       "      <td>Christopher Nolan</td>\n",
       "      <td>Leonardo DiCaprio, Joseph Gordon-Levitt, Ellio...</td>\n",
       "    </tr>\n",
       "    <tr>\n",
       "      <th>99</th>\n",
       "      <td>American Beauty</td>\n",
       "      <td>1999</td>\n",
       "      <td>87</td>\n",
       "      <td>Sam Mendes</td>\n",
       "      <td>Kevin Spacey, Annette Bening, Thora Birch, Wes...</td>\n",
       "    </tr>\n",
       "    <tr>\n",
       "      <th>100</th>\n",
       "      <td>Kung Fu Panda</td>\n",
       "      <td>2008</td>\n",
       "      <td>87</td>\n",
       "      <td>John Stevenson</td>\n",
       "      <td>Jack Black, Angelina Jolie, Jackie Chan, David...</td>\n",
       "    </tr>\n",
       "  </tbody>\n",
       "</table>\n",
       "</div>"
      ],
      "text/plain": [
       "                       Movie Title  Year  Score           Director  \\\n",
       "Rank                                                                 \n",
       "96    Fear Street Part Three: 1666  2021     88       Leigh Janiak   \n",
       "97                   Donnie Brasco  1997     88        Mike Newell   \n",
       "98                       Inception  2010     87  Christopher Nolan   \n",
       "99                 American Beauty  1999     87         Sam Mendes   \n",
       "100                  Kung Fu Panda  2008     87     John Stevenson   \n",
       "\n",
       "                                                   Cast  \n",
       "Rank                                                     \n",
       "96    Kiana Madeira, Ashley Zukerman, Gillian Jacobs...  \n",
       "97    Al Pacino, Johnny Depp, Michael Madsen, Bruno ...  \n",
       "98    Leonardo DiCaprio, Joseph Gordon-Levitt, Ellio...  \n",
       "99    Kevin Spacey, Annette Bening, Thora Birch, Wes...  \n",
       "100   Jack Black, Angelina Jolie, Jackie Chan, David...  "
      ]
     },
     "execution_count": 13,
     "metadata": {},
     "output_type": "execute_result"
    }
   ],
   "source": [
    "df.tail()"
   ]
  },
  {
   "cell_type": "markdown",
   "id": "9675afdd",
   "metadata": {},
   "source": [
    "##### 데이터프레임의 행 정보를 담고 있는 인덱스"
   ]
  },
  {
   "cell_type": "code",
   "execution_count": 14,
   "id": "5e5b97ff",
   "metadata": {},
   "outputs": [
    {
     "data": {
      "text/plain": [
       "Int64Index([  1,   2,   3,   4,   5,   6,   7,   8,   9,  10,  11,  12,  13,\n",
       "             14,  15,  16,  17,  18,  19,  20,  21,  22,  23,  24,  25,  26,\n",
       "             27,  28,  29,  30,  31,  32,  33,  34,  35,  36,  37,  38,  39,\n",
       "             40,  41,  42,  43,  44,  45,  46,  47,  48,  49,  50,  51,  52,\n",
       "             53,  54,  55,  56,  57,  58,  59,  60,  61,  62,  63,  64,  65,\n",
       "             66,  67,  68,  69,  70,  71,  72,  73,  74,  75,  76,  77,  78,\n",
       "             79,  80,  81,  82,  83,  84,  85,  86,  87,  88,  89,  90,  91,\n",
       "             92,  93,  94,  95,  96,  97,  98,  99, 100],\n",
       "           dtype='int64', name='Rank')"
      ]
     },
     "execution_count": 14,
     "metadata": {},
     "output_type": "execute_result"
    }
   ],
   "source": [
    "df.index"
   ]
  },
  {
   "cell_type": "markdown",
   "id": "c9e1616e",
   "metadata": {},
   "source": [
    "##### 데이터프레임의 컬럼 정보"
   ]
  },
  {
   "cell_type": "code",
   "execution_count": 15,
   "id": "04770f72",
   "metadata": {},
   "outputs": [
    {
     "data": {
      "text/plain": [
       "Index(['Movie Title', 'Year', 'Score', 'Director', 'Cast'], dtype='object')"
      ]
     },
     "execution_count": 15,
     "metadata": {},
     "output_type": "execute_result"
    }
   ],
   "source": [
    "df.columns"
   ]
  },
  {
   "cell_type": "markdown",
   "id": "67527c88",
   "metadata": {},
   "source": [
    "##### 데이터프레임의 특정 컬럼"
   ]
  },
  {
   "cell_type": "code",
   "execution_count": 16,
   "id": "364fbe1f",
   "metadata": {},
   "outputs": [
    {
     "data": {
      "text/plain": [
       "(100, 5)"
      ]
     },
     "execution_count": 16,
     "metadata": {},
     "output_type": "execute_result"
    }
   ],
   "source": [
    "df.shape"
   ]
  },
  {
   "cell_type": "code",
   "execution_count": 17,
   "id": "df90f5eb",
   "metadata": {},
   "outputs": [
    {
     "data": {
      "text/plain": [
       "Rank\n",
       "1      100\n",
       "2       99\n",
       "3       99\n",
       "4       99\n",
       "5       98\n",
       "      ... \n",
       "96      88\n",
       "97      88\n",
       "98      87\n",
       "99      87\n",
       "100     87\n",
       "Name: Score, Length: 100, dtype: int64"
      ]
     },
     "execution_count": 17,
     "metadata": {},
     "output_type": "execute_result"
    }
   ],
   "source": [
    "df['Score']"
   ]
  },
  {
   "cell_type": "markdown",
   "id": "89fb75e1",
   "metadata": {},
   "source": [
    "##### 데이터프레임의 컬럼을 추출하면 시리즈 객체가 나옴"
   ]
  },
  {
   "cell_type": "code",
   "execution_count": null,
   "id": "4342c7bd",
   "metadata": {},
   "outputs": [],
   "source": []
  },
  {
   "cell_type": "markdown",
   "id": "87eb06b2",
   "metadata": {},
   "source": [
    "##### 특정 컬럼에 대한 통계 정보"
   ]
  },
  {
   "cell_type": "code",
   "execution_count": 20,
   "id": "b30bbf9c",
   "metadata": {},
   "outputs": [
    {
     "data": {
      "text/plain": [
       "count    100.000000\n",
       "mean      92.520000\n",
       "std        3.063239\n",
       "min       87.000000\n",
       "25%       90.000000\n",
       "50%       92.000000\n",
       "75%       95.000000\n",
       "max      100.000000\n",
       "Name: Score, dtype: float64"
      ]
     },
     "execution_count": 20,
     "metadata": {},
     "output_type": "execute_result"
    }
   ],
   "source": [
    "df['Score'].describe()"
   ]
  },
  {
   "cell_type": "markdown",
   "id": "ff6d8a18",
   "metadata": {},
   "source": [
    "##### 컬럼의 평균"
   ]
  },
  {
   "cell_type": "code",
   "execution_count": 21,
   "id": "77c53d6c",
   "metadata": {},
   "outputs": [
    {
     "data": {
      "text/plain": [
       "92.52"
      ]
     },
     "execution_count": 21,
     "metadata": {},
     "output_type": "execute_result"
    }
   ],
   "source": [
    "df['Score'].mean()"
   ]
  },
  {
   "cell_type": "markdown",
   "id": "5388414f",
   "metadata": {},
   "source": [
    "##### 컬럼의 표준 편차"
   ]
  },
  {
   "cell_type": "code",
   "execution_count": 22,
   "id": "81685ad5",
   "metadata": {},
   "outputs": [
    {
     "data": {
      "text/plain": [
       "3.063239191351918"
      ]
     },
     "execution_count": 22,
     "metadata": {},
     "output_type": "execute_result"
    }
   ],
   "source": [
    "df['Score'].std()"
   ]
  },
  {
   "cell_type": "markdown",
   "id": "8c668776",
   "metadata": {},
   "source": [
    "##### 컬럼의 최대값"
   ]
  },
  {
   "cell_type": "code",
   "execution_count": 23,
   "id": "a94f619d",
   "metadata": {},
   "outputs": [
    {
     "data": {
      "text/plain": [
       "100"
      ]
     },
     "execution_count": 23,
     "metadata": {},
     "output_type": "execute_result"
    }
   ],
   "source": [
    "df['Score'].max()"
   ]
  },
  {
   "cell_type": "markdown",
   "id": "96437b12",
   "metadata": {},
   "source": [
    "##### 컬럼의 최솟값"
   ]
  },
  {
   "cell_type": "code",
   "execution_count": 24,
   "id": "ec456615",
   "metadata": {},
   "outputs": [
    {
     "data": {
      "text/plain": [
       "87"
      ]
     },
     "execution_count": 24,
     "metadata": {},
     "output_type": "execute_result"
    }
   ],
   "source": [
    "df['Score'].min()"
   ]
  },
  {
   "cell_type": "markdown",
   "id": "7aa6a8e2",
   "metadata": {},
   "source": [
    "##### 컬럼에서 가장 큰 값 10개 추출"
   ]
  },
  {
   "cell_type": "code",
   "execution_count": 35,
   "id": "b26c9fce",
   "metadata": {},
   "outputs": [
    {
     "data": {
      "text/plain": [
       "Rank\n",
       "32    2022\n",
       "34    2022\n",
       "40    2022\n",
       "44    2022\n",
       "52    2022\n",
       "68    2022\n",
       "87    2022\n",
       "93    2022\n",
       "28    2021\n",
       "31    2021\n",
       "Name: Year, dtype: int64"
      ]
     },
     "execution_count": 35,
     "metadata": {},
     "output_type": "execute_result"
    }
   ],
   "source": [
    "df['Year'].nlargest(10)"
   ]
  },
  {
   "cell_type": "markdown",
   "id": "fa8bcfa0",
   "metadata": {},
   "source": [
    "##### 컬럼에서 가장 큰 값 3개의 인덱스"
   ]
  },
  {
   "cell_type": "code",
   "execution_count": null,
   "id": "7cab26f1",
   "metadata": {},
   "outputs": [],
   "source": []
  },
  {
   "cell_type": "markdown",
   "id": "5b43314e",
   "metadata": {},
   "source": [
    "##### 컬럼의 유니크 값 리스트"
   ]
  },
  {
   "cell_type": "code",
   "execution_count": 37,
   "id": "05eef6c0",
   "metadata": {},
   "outputs": [
    {
     "data": {
      "text/plain": [
       "array([2020, 2010, 2016, 1975, 2008, 2018, 2019, 2017, 1960, 1979, 2014,\n",
       "       2002, 1998, 2021, 2015, 2011, 2022, 1963, 2013, 2004, 2003, 2012,\n",
       "       2007, 1976, 1989, 2001, 1987, 1978, 2009, 1992, 1995, 1997, 1999],\n",
       "      dtype=int64)"
      ]
     },
     "execution_count": 37,
     "metadata": {},
     "output_type": "execute_result"
    }
   ],
   "source": [
    "df['Year'].unique()"
   ]
  },
  {
   "cell_type": "code",
   "execution_count": 38,
   "id": "c68d90cd",
   "metadata": {},
   "outputs": [
    {
     "data": {
      "text/plain": [
       "Int64Index([  1,   2,   3,   4,   5,   6,   7,   8,   9,  10,  11,  12,  13,\n",
       "             14,  15,  16,  17,  18,  19,  20,  21,  22,  23,  24,  25,  26,\n",
       "             27,  28,  29,  30,  31,  32,  33,  34,  35,  36,  37,  38,  39,\n",
       "             40,  41,  42,  43,  44,  45,  46,  47,  48,  49,  50,  51,  52,\n",
       "             53,  54,  55,  56,  57,  58,  59,  60,  61,  62,  63,  64,  65,\n",
       "             66,  67,  68,  69,  70,  71,  72,  73,  74,  75,  76,  77,  78,\n",
       "             79,  80,  81,  82,  83,  84,  85,  86,  87,  88,  89,  90,  91,\n",
       "             92,  93,  94,  95,  96,  97,  98,  99, 100],\n",
       "           dtype='int64', name='Rank')"
      ]
     },
     "execution_count": 38,
     "metadata": {},
     "output_type": "execute_result"
    }
   ],
   "source": [
    "df.index"
   ]
  },
  {
   "cell_type": "code",
   "execution_count": null,
   "id": "2fb7ccc8",
   "metadata": {},
   "outputs": [],
   "source": []
  },
  {
   "cell_type": "code",
   "execution_count": null,
   "id": "1b5e0189",
   "metadata": {},
   "outputs": [],
   "source": []
  },
  {
   "cell_type": "code",
   "execution_count": 39,
   "id": "bd4eb0c8",
   "metadata": {},
   "outputs": [
    {
     "data": {
      "text/plain": [
       "Index(['Movie Title', 'Year', 'Score', 'Director', 'Cast'], dtype='object')"
      ]
     },
     "execution_count": 39,
     "metadata": {},
     "output_type": "execute_result"
    }
   ],
   "source": [
    "df.columns"
   ]
  }
 ],
 "metadata": {
  "kernelspec": {
   "display_name": "Python 3 (ipykernel)",
   "language": "python",
   "name": "python3"
  },
  "language_info": {
   "codemirror_mode": {
    "name": "ipython",
    "version": 3
   },
   "file_extension": ".py",
   "mimetype": "text/x-python",
   "name": "python",
   "nbconvert_exporter": "python",
   "pygments_lexer": "ipython3",
   "version": "3.10.9"
  }
 },
 "nbformat": 4,
 "nbformat_minor": 5
}
