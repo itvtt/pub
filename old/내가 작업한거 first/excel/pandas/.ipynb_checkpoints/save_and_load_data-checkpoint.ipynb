{
 "cells": [
  {
   "cell_type": "code",
   "execution_count": 1,
   "id": "395a52c1",
   "metadata": {},
   "outputs": [],
   "source": [
    "import pandas as pd"
   ]
  },
  {
   "cell_type": "code",
   "execution_count": 2,
   "id": "21310c6a",
   "metadata": {},
   "outputs": [],
   "source": [
    "data = {\n",
    "    'Movie Title' : ['His House', 'How to Train Your Dragon', 'The Forty-Year-Old Version', \n",
    "                     'Under the Shadow', 'Monty Python and the Holy Grail'],\n",
    "    'Year' : [2020, 2010, 2020, 2016, 1975],\n",
    "    'Score' : [100, 98, 95, 89, 86],\n",
    "    'Director' : ['Remi Weekes', 'Christopher Sanders', 'Radha Blank', 'Babak Anvari', 'Terry Gilliam'],\n",
    "    'Cast' : ['Wunmi Mosaku, Sope Dirisu', 'Jay Baruchel, Gerard Butler', 'Welker White, Reed Birney', \n",
    "              'Narges Rashidi, Avin Manshadi', 'Graham Chapman, John Cleese']\n",
    "}"
   ]
  },
  {
   "cell_type": "code",
   "execution_count": 3,
   "id": "46cc742a",
   "metadata": {},
   "outputs": [],
   "source": [
    "df = pd.DataFrame(data, index=['1위','2위','3위','4위','5위'])"
   ]
  },
  {
   "cell_type": "code",
   "execution_count": 4,
   "id": "f3dd0fbf",
   "metadata": {},
   "outputs": [],
   "source": [
    "df.index.name='Rank'"
   ]
  },
  {
   "cell_type": "code",
   "execution_count": 5,
   "id": "0b52b562",
   "metadata": {},
   "outputs": [
    {
     "data": {
      "text/html": [
       "<div>\n",
       "<style scoped>\n",
       "    .dataframe tbody tr th:only-of-type {\n",
       "        vertical-align: middle;\n",
       "    }\n",
       "\n",
       "    .dataframe tbody tr th {\n",
       "        vertical-align: top;\n",
       "    }\n",
       "\n",
       "    .dataframe thead th {\n",
       "        text-align: right;\n",
       "    }\n",
       "</style>\n",
       "<table border=\"1\" class=\"dataframe\">\n",
       "  <thead>\n",
       "    <tr style=\"text-align: right;\">\n",
       "      <th></th>\n",
       "      <th>Movie Title</th>\n",
       "      <th>Year</th>\n",
       "      <th>Score</th>\n",
       "      <th>Director</th>\n",
       "      <th>Cast</th>\n",
       "    </tr>\n",
       "    <tr>\n",
       "      <th>Rank</th>\n",
       "      <th></th>\n",
       "      <th></th>\n",
       "      <th></th>\n",
       "      <th></th>\n",
       "      <th></th>\n",
       "    </tr>\n",
       "  </thead>\n",
       "  <tbody>\n",
       "    <tr>\n",
       "      <th>1위</th>\n",
       "      <td>His House</td>\n",
       "      <td>2020</td>\n",
       "      <td>100</td>\n",
       "      <td>Remi Weekes</td>\n",
       "      <td>Wunmi Mosaku, Sope Dirisu</td>\n",
       "    </tr>\n",
       "    <tr>\n",
       "      <th>2위</th>\n",
       "      <td>How to Train Your Dragon</td>\n",
       "      <td>2010</td>\n",
       "      <td>98</td>\n",
       "      <td>Christopher Sanders</td>\n",
       "      <td>Jay Baruchel, Gerard Butler</td>\n",
       "    </tr>\n",
       "  </tbody>\n",
       "</table>\n",
       "</div>"
      ],
      "text/plain": [
       "                   Movie Title  Year  Score             Director  \\\n",
       "Rank                                                               \n",
       "1위                   His House  2020    100          Remi Weekes   \n",
       "2위    How to Train Your Dragon  2010     98  Christopher Sanders   \n",
       "\n",
       "                             Cast  \n",
       "Rank                               \n",
       "1위      Wunmi Mosaku, Sope Dirisu  \n",
       "2위    Jay Baruchel, Gerard Butler  "
      ]
     },
     "execution_count": 5,
     "metadata": {},
     "output_type": "execute_result"
    }
   ],
   "source": [
    "df.head(2)"
   ]
  },
  {
   "cell_type": "markdown",
   "id": "b6c34eff",
   "metadata": {},
   "source": [
    "### 데이터를 csv, excel로 추출 "
   ]
  },
  {
   "cell_type": "markdown",
   "id": "c0ae8b1b",
   "metadata": {},
   "source": [
    "### csv, excel 파일에서 데이터 가져오기"
   ]
  },
  {
   "cell_type": "code",
   "execution_count": null,
   "id": "34aa9388",
   "metadata": {},
   "outputs": [],
   "source": []
  }
 ],
 "metadata": {
  "kernelspec": {
   "display_name": "Python 3 (ipykernel)",
   "language": "python",
   "name": "python3"
  },
  "language_info": {
   "codemirror_mode": {
    "name": "ipython",
    "version": 3
   },
   "file_extension": ".py",
   "mimetype": "text/x-python",
   "name": "python",
   "nbconvert_exporter": "python",
   "pygments_lexer": "ipython3",
   "version": "3.10.9"
  }
 },
 "nbformat": 4,
 "nbformat_minor": 5
}
