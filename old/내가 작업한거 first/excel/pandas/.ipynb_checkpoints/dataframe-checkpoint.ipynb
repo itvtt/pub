{
 "cells": [
  {
   "cell_type": "code",
   "execution_count": 1,
   "id": "c26861b9",
   "metadata": {},
   "outputs": [],
   "source": [
    "import pandas as pd"
   ]
  },
  {
   "cell_type": "code",
   "execution_count": 2,
   "id": "7a17940e",
   "metadata": {},
   "outputs": [],
   "source": [
    "data = {\n",
    "    'Movie Title' : ['His House', 'How to Train Your Dragon', 'The Forty-Year-Old Version', \n",
    "                     'Under the Shadow', 'Monty Python and the Holy Grail'],\n",
    "    'Year' : [2020, 2010, 2020, 2016, 1975],\n",
    "    'Score' : [100, 98, 95, 89, 86],\n",
    "    'Director' : ['Remi Weekes', 'Christopher Sanders', 'Radha Blank', 'Babak Anvari', 'Terry Gilliam'],\n",
    "    'Cast' : ['Wunmi Mosaku, Sope Dirisu', 'Jay Baruchel, Gerard Butler', 'Welker White, Reed Birney', \n",
    "              'Narges Rashidi, Avin Manshadi', 'Graham Chapman, John Cleese']\n",
    "}"
   ]
  },
  {
   "cell_type": "markdown",
   "id": "fda6de13",
   "metadata": {},
   "source": [
    "### 조건 없이 데이터만으로 데이터프레임 만들기"
   ]
  },
  {
   "cell_type": "code",
   "execution_count": 4,
   "id": "12d656c2",
   "metadata": {},
   "outputs": [],
   "source": [
    "df = pd.DataFrame(data)"
   ]
  },
  {
   "cell_type": "code",
   "execution_count": 5,
   "id": "b66068d4",
   "metadata": {},
   "outputs": [
    {
     "data": {
      "text/html": [
       "<div>\n",
       "<style scoped>\n",
       "    .dataframe tbody tr th:only-of-type {\n",
       "        vertical-align: middle;\n",
       "    }\n",
       "\n",
       "    .dataframe tbody tr th {\n",
       "        vertical-align: top;\n",
       "    }\n",
       "\n",
       "    .dataframe thead th {\n",
       "        text-align: right;\n",
       "    }\n",
       "</style>\n",
       "<table border=\"1\" class=\"dataframe\">\n",
       "  <thead>\n",
       "    <tr style=\"text-align: right;\">\n",
       "      <th></th>\n",
       "      <th>Movie Title</th>\n",
       "      <th>Year</th>\n",
       "      <th>Score</th>\n",
       "      <th>Director</th>\n",
       "      <th>Cast</th>\n",
       "    </tr>\n",
       "  </thead>\n",
       "  <tbody>\n",
       "    <tr>\n",
       "      <th>0</th>\n",
       "      <td>His House</td>\n",
       "      <td>2020</td>\n",
       "      <td>100</td>\n",
       "      <td>Remi Weekes</td>\n",
       "      <td>Wunmi Mosaku, Sope Dirisu</td>\n",
       "    </tr>\n",
       "    <tr>\n",
       "      <th>1</th>\n",
       "      <td>How to Train Your Dragon</td>\n",
       "      <td>2010</td>\n",
       "      <td>98</td>\n",
       "      <td>Christopher Sanders</td>\n",
       "      <td>Jay Baruchel, Gerard Butler</td>\n",
       "    </tr>\n",
       "    <tr>\n",
       "      <th>2</th>\n",
       "      <td>The Forty-Year-Old Version</td>\n",
       "      <td>2020</td>\n",
       "      <td>95</td>\n",
       "      <td>Radha Blank</td>\n",
       "      <td>Welker White, Reed Birney</td>\n",
       "    </tr>\n",
       "    <tr>\n",
       "      <th>3</th>\n",
       "      <td>Under the Shadow</td>\n",
       "      <td>2016</td>\n",
       "      <td>89</td>\n",
       "      <td>Babak Anvari</td>\n",
       "      <td>Narges Rashidi, Avin Manshadi</td>\n",
       "    </tr>\n",
       "    <tr>\n",
       "      <th>4</th>\n",
       "      <td>Monty Python and the Holy Grail</td>\n",
       "      <td>1975</td>\n",
       "      <td>86</td>\n",
       "      <td>Terry Gilliam</td>\n",
       "      <td>Graham Chapman, John Cleese</td>\n",
       "    </tr>\n",
       "  </tbody>\n",
       "</table>\n",
       "</div>"
      ],
      "text/plain": [
       "                       Movie Title  Year  Score             Director  \\\n",
       "0                        His House  2020    100          Remi Weekes   \n",
       "1         How to Train Your Dragon  2010     98  Christopher Sanders   \n",
       "2       The Forty-Year-Old Version  2020     95          Radha Blank   \n",
       "3                 Under the Shadow  2016     89         Babak Anvari   \n",
       "4  Monty Python and the Holy Grail  1975     86        Terry Gilliam   \n",
       "\n",
       "                            Cast  \n",
       "0      Wunmi Mosaku, Sope Dirisu  \n",
       "1    Jay Baruchel, Gerard Butler  \n",
       "2      Welker White, Reed Birney  \n",
       "3  Narges Rashidi, Avin Manshadi  \n",
       "4    Graham Chapman, John Cleese  "
      ]
     },
     "execution_count": 5,
     "metadata": {},
     "output_type": "execute_result"
    }
   ],
   "source": [
    "df"
   ]
  },
  {
   "cell_type": "markdown",
   "id": "7fe6a246",
   "metadata": {},
   "source": [
    "### 인덱스를 지정해서 데이터프레임 만들기"
   ]
  },
  {
   "cell_type": "code",
   "execution_count": 6,
   "id": "e3f5d651",
   "metadata": {},
   "outputs": [],
   "source": [
    "df = pd.DataFrame(data, index=['1위','2위','3위','4위','5위'])"
   ]
  },
  {
   "cell_type": "code",
   "execution_count": 8,
   "id": "b8129168",
   "metadata": {},
   "outputs": [
    {
     "data": {
      "text/html": [
       "<div>\n",
       "<style scoped>\n",
       "    .dataframe tbody tr th:only-of-type {\n",
       "        vertical-align: middle;\n",
       "    }\n",
       "\n",
       "    .dataframe tbody tr th {\n",
       "        vertical-align: top;\n",
       "    }\n",
       "\n",
       "    .dataframe thead th {\n",
       "        text-align: right;\n",
       "    }\n",
       "</style>\n",
       "<table border=\"1\" class=\"dataframe\">\n",
       "  <thead>\n",
       "    <tr style=\"text-align: right;\">\n",
       "      <th></th>\n",
       "      <th>Movie Title</th>\n",
       "      <th>Year</th>\n",
       "      <th>Score</th>\n",
       "      <th>Director</th>\n",
       "      <th>Cast</th>\n",
       "    </tr>\n",
       "  </thead>\n",
       "  <tbody>\n",
       "    <tr>\n",
       "      <th>1위</th>\n",
       "      <td>His House</td>\n",
       "      <td>2020</td>\n",
       "      <td>100</td>\n",
       "      <td>Remi Weekes</td>\n",
       "      <td>Wunmi Mosaku, Sope Dirisu</td>\n",
       "    </tr>\n",
       "    <tr>\n",
       "      <th>2위</th>\n",
       "      <td>How to Train Your Dragon</td>\n",
       "      <td>2010</td>\n",
       "      <td>98</td>\n",
       "      <td>Christopher Sanders</td>\n",
       "      <td>Jay Baruchel, Gerard Butler</td>\n",
       "    </tr>\n",
       "    <tr>\n",
       "      <th>3위</th>\n",
       "      <td>The Forty-Year-Old Version</td>\n",
       "      <td>2020</td>\n",
       "      <td>95</td>\n",
       "      <td>Radha Blank</td>\n",
       "      <td>Welker White, Reed Birney</td>\n",
       "    </tr>\n",
       "    <tr>\n",
       "      <th>4위</th>\n",
       "      <td>Under the Shadow</td>\n",
       "      <td>2016</td>\n",
       "      <td>89</td>\n",
       "      <td>Babak Anvari</td>\n",
       "      <td>Narges Rashidi, Avin Manshadi</td>\n",
       "    </tr>\n",
       "    <tr>\n",
       "      <th>5위</th>\n",
       "      <td>Monty Python and the Holy Grail</td>\n",
       "      <td>1975</td>\n",
       "      <td>86</td>\n",
       "      <td>Terry Gilliam</td>\n",
       "      <td>Graham Chapman, John Cleese</td>\n",
       "    </tr>\n",
       "  </tbody>\n",
       "</table>\n",
       "</div>"
      ],
      "text/plain": [
       "                        Movie Title  Year  Score             Director  \\\n",
       "1위                        His House  2020    100          Remi Weekes   \n",
       "2위         How to Train Your Dragon  2010     98  Christopher Sanders   \n",
       "3위       The Forty-Year-Old Version  2020     95          Radha Blank   \n",
       "4위                 Under the Shadow  2016     89         Babak Anvari   \n",
       "5위  Monty Python and the Holy Grail  1975     86        Terry Gilliam   \n",
       "\n",
       "                             Cast  \n",
       "1위      Wunmi Mosaku, Sope Dirisu  \n",
       "2위    Jay Baruchel, Gerard Butler  \n",
       "3위      Welker White, Reed Birney  \n",
       "4위  Narges Rashidi, Avin Manshadi  \n",
       "5위    Graham Chapman, John Cleese  "
      ]
     },
     "execution_count": 8,
     "metadata": {},
     "output_type": "execute_result"
    }
   ],
   "source": [
    "df"
   ]
  },
  {
   "cell_type": "code",
   "execution_count": 10,
   "id": "944db18e",
   "metadata": {},
   "outputs": [],
   "source": [
    "df = pd.DataFrame(data, columns = ['Movie Title', 'Score'])"
   ]
  },
  {
   "cell_type": "code",
   "execution_count": 11,
   "id": "03c2d176",
   "metadata": {},
   "outputs": [
    {
     "data": {
      "text/html": [
       "<div>\n",
       "<style scoped>\n",
       "    .dataframe tbody tr th:only-of-type {\n",
       "        vertical-align: middle;\n",
       "    }\n",
       "\n",
       "    .dataframe tbody tr th {\n",
       "        vertical-align: top;\n",
       "    }\n",
       "\n",
       "    .dataframe thead th {\n",
       "        text-align: right;\n",
       "    }\n",
       "</style>\n",
       "<table border=\"1\" class=\"dataframe\">\n",
       "  <thead>\n",
       "    <tr style=\"text-align: right;\">\n",
       "      <th></th>\n",
       "      <th>Movie Title</th>\n",
       "      <th>Score</th>\n",
       "    </tr>\n",
       "  </thead>\n",
       "  <tbody>\n",
       "    <tr>\n",
       "      <th>0</th>\n",
       "      <td>His House</td>\n",
       "      <td>100</td>\n",
       "    </tr>\n",
       "    <tr>\n",
       "      <th>1</th>\n",
       "      <td>How to Train Your Dragon</td>\n",
       "      <td>98</td>\n",
       "    </tr>\n",
       "    <tr>\n",
       "      <th>2</th>\n",
       "      <td>The Forty-Year-Old Version</td>\n",
       "      <td>95</td>\n",
       "    </tr>\n",
       "    <tr>\n",
       "      <th>3</th>\n",
       "      <td>Under the Shadow</td>\n",
       "      <td>89</td>\n",
       "    </tr>\n",
       "    <tr>\n",
       "      <th>4</th>\n",
       "      <td>Monty Python and the Holy Grail</td>\n",
       "      <td>86</td>\n",
       "    </tr>\n",
       "  </tbody>\n",
       "</table>\n",
       "</div>"
      ],
      "text/plain": [
       "                       Movie Title  Score\n",
       "0                        His House    100\n",
       "1         How to Train Your Dragon     98\n",
       "2       The Forty-Year-Old Version     95\n",
       "3                 Under the Shadow     89\n",
       "4  Monty Python and the Holy Grail     86"
      ]
     },
     "execution_count": 11,
     "metadata": {},
     "output_type": "execute_result"
    }
   ],
   "source": [
    "df"
   ]
  },
  {
   "cell_type": "code",
   "execution_count": null,
   "id": "207e9cb8",
   "metadata": {},
   "outputs": [],
   "source": []
  },
  {
   "cell_type": "markdown",
   "id": "317aec0a",
   "metadata": {},
   "source": [
    "### 데이터에서 특정 컬럼만 가지고 데이터프레임 만들기"
   ]
  },
  {
   "cell_type": "code",
   "execution_count": null,
   "id": "88fcd291",
   "metadata": {},
   "outputs": [],
   "source": []
  }
 ],
 "metadata": {
  "kernelspec": {
   "display_name": "Python 3 (ipykernel)",
   "language": "python",
   "name": "python3"
  },
  "language_info": {
   "codemirror_mode": {
    "name": "ipython",
    "version": 3
   },
   "file_extension": ".py",
   "mimetype": "text/x-python",
   "name": "python",
   "nbconvert_exporter": "python",
   "pygments_lexer": "ipython3",
   "version": "3.10.9"
  }
 },
 "nbformat": 4,
 "nbformat_minor": 5
}
