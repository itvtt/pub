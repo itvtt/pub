{
 "cells": [
  {
   "cell_type": "code",
   "execution_count": 1,
   "id": "2586a893",
   "metadata": {},
   "outputs": [],
   "source": [
    "import pyautogui as gui\n",
    "import pyperclip\n",
    "import time"
   ]
  },
  {
   "cell_type": "markdown",
   "id": "a3fd39bb",
   "metadata": {},
   "source": [
    "### 온라인 서점에서 작가 검색하기"
   ]
  },
  {
   "cell_type": "markdown",
   "id": "f94e2c35",
   "metadata": {},
   "source": [
    "### 1. 검색창으로 마우스 이동하기"
   ]
  },
  {
   "cell_type": "code",
   "execution_count": 2,
   "id": "f807597c",
   "metadata": {},
   "outputs": [],
   "source": [
    "gui.moveTo(1337,247)"
   ]
  },
  {
   "cell_type": "markdown",
   "id": "81cc47d5",
   "metadata": {},
   "source": [
    "### 2. 검색창 클릭해서 커서 만들기"
   ]
  },
  {
   "cell_type": "code",
   "execution_count": 3,
   "id": "c42f00f2",
   "metadata": {},
   "outputs": [],
   "source": [
    "gui.click()"
   ]
  },
  {
   "cell_type": "markdown",
   "id": "7cb1749b",
   "metadata": {},
   "source": [
    "### 3. 작가 이름 입력하기"
   ]
  },
  {
   "cell_type": "code",
   "execution_count": 4,
   "id": "3f46eced",
   "metadata": {},
   "outputs": [],
   "source": [
    "pyperclip.copy('양태환')\n",
    "gui.hotkey('ctrl', 'v')"
   ]
  },
  {
   "cell_type": "markdown",
   "id": "96c8c00f",
   "metadata": {},
   "source": [
    "### 4. 검색 버튼으로 이동"
   ]
  },
  {
   "cell_type": "code",
   "execution_count": 5,
   "id": "d8ac6765",
   "metadata": {},
   "outputs": [],
   "source": [
    "gui.press('enter')"
   ]
  },
  {
   "cell_type": "markdown",
   "id": "6d260bbe",
   "metadata": {},
   "source": [
    "### 5. 검색 버튼 클릭"
   ]
  },
  {
   "cell_type": "code",
   "execution_count": null,
   "id": "e9dad1b7",
   "metadata": {},
   "outputs": [],
   "source": []
  },
  {
   "cell_type": "code",
   "execution_count": null,
   "id": "d3c42a7b",
   "metadata": {},
   "outputs": [],
   "source": [
    "import pyautogui\n",
    "\n",
    "n5 = pyautogui.locateCenterOnScreen('d:/python/button1.jpg')\n",
    "\n",
    "pyautogui.click(n5)"
   ]
  }
 ],
 "metadata": {
  "kernelspec": {
   "display_name": "Python 3 (ipykernel)",
   "language": "python",
   "name": "python3"
  },
  "language_info": {
   "codemirror_mode": {
    "name": "ipython",
    "version": 3
   },
   "file_extension": ".py",
   "mimetype": "text/x-python",
   "name": "python",
   "nbconvert_exporter": "python",
   "pygments_lexer": "ipython3",
   "version": "3.10.9"
  }
 },
 "nbformat": 4,
 "nbformat_minor": 5
}
