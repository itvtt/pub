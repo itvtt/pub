{
 "cells": [
  {
   "cell_type": "code",
   "execution_count": 2,
   "id": "6259da83",
   "metadata": {},
   "outputs": [],
   "source": [
    "import pyautogui as gui"
   ]
  },
  {
   "cell_type": "markdown",
   "id": "f2725ef2",
   "metadata": {},
   "source": [
    "### alert 창 띄우기"
   ]
  },
  {
   "cell_type": "code",
   "execution_count": 11,
   "id": "cf48bf96",
   "metadata": {},
   "outputs": [
    {
     "data": {
      "text/plain": [
       "'OK'"
      ]
     },
     "execution_count": 11,
     "metadata": {},
     "output_type": "execute_result"
    }
   ],
   "source": [
    "gui.alert(text='곧 점심')"
   ]
  },
  {
   "cell_type": "markdown",
   "id": "2825987b",
   "metadata": {},
   "source": [
    "### 확인창 띄우기"
   ]
  },
  {
   "cell_type": "code",
   "execution_count": 8,
   "id": "bdb6b80f",
   "metadata": {},
   "outputs": [
    {
     "data": {
      "text/plain": [
       "'아니오'"
      ]
     },
     "execution_count": 8,
     "metadata": {},
     "output_type": "execute_result"
    }
   ],
   "source": [
    "gui.confirm(text='곧 점심', buttons=['네', '아니오'])"
   ]
  },
  {
   "cell_type": "markdown",
   "id": "18069f1b",
   "metadata": {},
   "source": [
    "### 프롬프트 창 띄우기"
   ]
  },
  {
   "cell_type": "code",
   "execution_count": 10,
   "id": "76030568",
   "metadata": {},
   "outputs": [
    {
     "data": {
      "text/plain": [
       "'dddd'"
      ]
     },
     "execution_count": 10,
     "metadata": {},
     "output_type": "execute_result"
    }
   ],
   "source": [
    "gui.prompt(text='원하는')"
   ]
  }
 ],
 "metadata": {
  "kernelspec": {
   "display_name": "Python 3 (ipykernel)",
   "language": "python",
   "name": "python3"
  },
  "language_info": {
   "codemirror_mode": {
    "name": "ipython",
    "version": 3
   },
   "file_extension": ".py",
   "mimetype": "text/x-python",
   "name": "python",
   "nbconvert_exporter": "python",
   "pygments_lexer": "ipython3",
   "version": "3.10.9"
  }
 },
 "nbformat": 4,
 "nbformat_minor": 5
}
