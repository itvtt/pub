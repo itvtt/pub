{
 "cells": [
  {
   "cell_type": "code",
   "execution_count": 4,
   "id": "215127af",
   "metadata": {},
   "outputs": [],
   "source": [
    "import shutil"
   ]
  },
  {
   "cell_type": "markdown",
   "id": "ff702566",
   "metadata": {},
   "source": [
    "### 폴더 이동"
   ]
  },
  {
   "cell_type": "code",
   "execution_count": 1,
   "id": "3ee196da",
   "metadata": {},
   "outputs": [],
   "source": [
    "import os"
   ]
  },
  {
   "cell_type": "code",
   "execution_count": 2,
   "id": "cf6365be",
   "metadata": {},
   "outputs": [],
   "source": [
    "os.mkdir('test1')\n",
    "os.mkdir('test2')"
   ]
  },
  {
   "cell_type": "code",
   "execution_count": 5,
   "id": "1ca948a9",
   "metadata": {},
   "outputs": [
    {
     "data": {
      "text/plain": [
       "'test2\\\\test1'"
      ]
     },
     "execution_count": 5,
     "metadata": {},
     "output_type": "execute_result"
    }
   ],
   "source": [
    "shutil.move('test1','test2')"
   ]
  },
  {
   "cell_type": "code",
   "execution_count": null,
   "id": "2072bb56",
   "metadata": {},
   "outputs": [],
   "source": []
  },
  {
   "cell_type": "code",
   "execution_count": null,
   "id": "d3572a79",
   "metadata": {},
   "outputs": [],
   "source": []
  },
  {
   "cell_type": "code",
   "execution_count": null,
   "id": "6f22dfd2",
   "metadata": {},
   "outputs": [],
   "source": []
  },
  {
   "cell_type": "code",
   "execution_count": null,
   "id": "d46bdf67",
   "metadata": {},
   "outputs": [],
   "source": []
  },
  {
   "cell_type": "code",
   "execution_count": null,
   "id": "90a797e2",
   "metadata": {},
   "outputs": [],
   "source": []
  },
  {
   "cell_type": "code",
   "execution_count": null,
   "id": "0acaa135",
   "metadata": {},
   "outputs": [],
   "source": []
  },
  {
   "cell_type": "markdown",
   "id": "64cdeb3e",
   "metadata": {},
   "source": [
    "### 파일 이동"
   ]
  },
  {
   "cell_type": "code",
   "execution_count": null,
   "id": "4a96998a",
   "metadata": {},
   "outputs": [],
   "source": []
  },
  {
   "cell_type": "code",
   "execution_count": null,
   "id": "851139fd",
   "metadata": {},
   "outputs": [],
   "source": []
  },
  {
   "cell_type": "markdown",
   "id": "668d730b",
   "metadata": {},
   "source": [
    "### 파일 복사"
   ]
  },
  {
   "cell_type": "code",
   "execution_count": null,
   "id": "7821a11a",
   "metadata": {},
   "outputs": [],
   "source": []
  },
  {
   "cell_type": "code",
   "execution_count": null,
   "id": "70ae9e7d",
   "metadata": {},
   "outputs": [],
   "source": []
  },
  {
   "cell_type": "markdown",
   "id": "fe601471",
   "metadata": {},
   "source": [
    "### 폴더를 계층적으로(recursive) 복사"
   ]
  },
  {
   "cell_type": "code",
   "execution_count": null,
   "id": "e8d3096f",
   "metadata": {},
   "outputs": [],
   "source": []
  }
 ],
 "metadata": {
  "kernelspec": {
   "display_name": "Python 3 (ipykernel)",
   "language": "python",
   "name": "python3"
  },
  "language_info": {
   "codemirror_mode": {
    "name": "ipython",
    "version": 3
   },
   "file_extension": ".py",
   "mimetype": "text/x-python",
   "name": "python",
   "nbconvert_exporter": "python",
   "pygments_lexer": "ipython3",
   "version": "3.10.9"
  }
 },
 "nbformat": 4,
 "nbformat_minor": 5
}
