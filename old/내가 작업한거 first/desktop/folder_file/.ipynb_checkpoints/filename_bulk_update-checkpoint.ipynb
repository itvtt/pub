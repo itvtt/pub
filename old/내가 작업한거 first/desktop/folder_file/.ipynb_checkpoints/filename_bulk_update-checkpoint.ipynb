{
 "cells": [
  {
   "cell_type": "code",
   "execution_count": 4,
   "id": "cbb35478",
   "metadata": {},
   "outputs": [],
   "source": [
    "import os"
   ]
  },
  {
   "cell_type": "markdown",
   "id": "6516cbec",
   "metadata": {},
   "source": [
    "### bulk_file 폴더 만든 후 디렉토리 이동"
   ]
  },
  {
   "cell_type": "code",
   "execution_count": 7,
   "id": "55896855",
   "metadata": {},
   "outputs": [
    {
     "ename": "FileExistsError",
     "evalue": "[WinError 183] 파일이 이미 있으므로 만들 수 없습니다: 'bulk_file'",
     "output_type": "error",
     "traceback": [
      "\u001b[1;31m---------------------------------------------------------------------------\u001b[0m",
      "\u001b[1;31mFileExistsError\u001b[0m                           Traceback (most recent call last)",
      "Cell \u001b[1;32mIn[7], line 1\u001b[0m\n\u001b[1;32m----> 1\u001b[0m \u001b[43mos\u001b[49m\u001b[38;5;241;43m.\u001b[39;49m\u001b[43mmkdir\u001b[49m\u001b[43m(\u001b[49m\u001b[38;5;124;43m'\u001b[39;49m\u001b[38;5;124;43mbulk_file\u001b[39;49m\u001b[38;5;124;43m'\u001b[39;49m\u001b[43m)\u001b[49m\n",
      "\u001b[1;31mFileExistsError\u001b[0m: [WinError 183] 파일이 이미 있으므로 만들 수 없습니다: 'bulk_file'"
     ]
    }
   ],
   "source": [
    "os.mkdir('bulk_file')"
   ]
  },
  {
   "cell_type": "code",
   "execution_count": 9,
   "id": "77213b75",
   "metadata": {},
   "outputs": [
    {
     "ename": "FileNotFoundError",
     "evalue": "[WinError 2] 지정된 파일을 찾을 수 없습니다: 'bulk_file'",
     "output_type": "error",
     "traceback": [
      "\u001b[1;31m---------------------------------------------------------------------------\u001b[0m",
      "\u001b[1;31mFileNotFoundError\u001b[0m                         Traceback (most recent call last)",
      "Cell \u001b[1;32mIn[9], line 1\u001b[0m\n\u001b[1;32m----> 1\u001b[0m \u001b[43mos\u001b[49m\u001b[38;5;241;43m.\u001b[39;49m\u001b[43mchdir\u001b[49m\u001b[43m(\u001b[49m\u001b[38;5;124;43m'\u001b[39;49m\u001b[38;5;124;43mbulk_file\u001b[39;49m\u001b[38;5;124;43m'\u001b[39;49m\u001b[43m)\u001b[49m\n",
      "\u001b[1;31mFileNotFoundError\u001b[0m: [WinError 2] 지정된 파일을 찾을 수 없습니다: 'bulk_file'"
     ]
    }
   ],
   "source": [
    "os.chdir('bulk_file')"
   ]
  },
  {
   "cell_type": "markdown",
   "id": "67f2d359",
   "metadata": {},
   "source": [
    "### 파일 베이스 네임 정의"
   ]
  },
  {
   "cell_type": "code",
   "execution_count": 11,
   "id": "91471833",
   "metadata": {},
   "outputs": [],
   "source": [
    "base= 'bulk_file'\n",
    "\n",
    "for i in range (1, 101):\n",
    "    with open(f'{base}_{i}.txt','w') as f:\n",
    "        f.write('test')\n",
    "after_base = 'test_file'\n",
    "for i in range(1,101):\n",
    "    before=f'{base}_{i}.txt'\n",
    "    after = f'{base}_{i}.txt'\n",
    "    os.rename(before, after)"
   ]
  },
  {
   "cell_type": "markdown",
   "id": "3dff6fd7",
   "metadata": {},
   "source": [
    "### 파일 이름 변경"
   ]
  },
  {
   "cell_type": "code",
   "execution_count": null,
   "id": "3c79cae0",
   "metadata": {},
   "outputs": [],
   "source": []
  }
 ],
 "metadata": {
  "kernelspec": {
   "display_name": "Python 3 (ipykernel)",
   "language": "python",
   "name": "python3"
  },
  "language_info": {
   "codemirror_mode": {
    "name": "ipython",
    "version": 3
   },
   "file_extension": ".py",
   "mimetype": "text/x-python",
   "name": "python",
   "nbconvert_exporter": "python",
   "pygments_lexer": "ipython3",
   "version": "3.10.9"
  }
 },
 "nbformat": 4,
 "nbformat_minor": 5
}
