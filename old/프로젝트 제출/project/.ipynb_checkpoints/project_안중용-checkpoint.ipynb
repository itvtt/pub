{
 "cells": [
  {
   "cell_type": "markdown",
   "id": "a92aeaf9",
   "metadata": {
    "id": "a92aeaf9"
   },
   "source": [
    "### 프로젝트명 \n",
    "#### data scientist salary management"
   ]
  },
  {
   "cell_type": "markdown",
   "id": "cbd1d250",
   "metadata": {
    "id": "cbd1d250"
   },
   "source": [
    "### 프로젝트 설명 \n",
    "#### 1. os 모듈을 이용해 폴더를 생성할 수 있다.\n",
    "#### 2. open 함수를 이용해 설정 파일의 값을 읽어올 수 있다\n",
    "#### 3. 여러 파일에 흩어져 있는 데이터를 취합할 수 있다.\n",
    "#### 4. 데이터를 조건에 맡게 여러 파일로 나누고 이를 엑셀 파일로 만들 수 있다.\n",
    "#### 5. OS. Pandas 두 라이브러리만 사용할 것을 추천\n",
    "#### 6. 쉘 하나에 모든 코드를 정리해서 넣어두기"
   ]
  },
  {
   "cell_type": "markdown",
   "id": "76a0ca63",
   "metadata": {
    "id": "76a0ca63"
   },
   "source": [
    "### input 폴더에 주어진 csv 파일들을 가져와 데이터를 하나로 통합한 후 아래 조건에 맞는 파일을 생성하세요.\n",
    "\n",
    "#### 1. employee의 거주 국가에 따라 데이터를 그룹화해서 output 폴더 아래에 알맞은 출력 폴더를 만든 후 salaries_{거주국가}.xlsx 포맷에 맞게 여러 엑셀 파일을 만들어주세요.\n",
    "#### 2. 회사 규모에 따라 데이터를 그룹화해서 output 폴더 아래에 알맞은 출력 폴더를 만든 후 salaries_{회사규모}.xlsx 포맷에 맞게 여러 엑셀 파일을 만들어 주세요.\n",
    "#### 3. 위 두 조건을 보면 데이터를 그룹화한 후 엑셀 파일을 만드는 부분이 중복되는 걸 알 수 있습니다. 이 기능을 담은 함수를 작성하세요. 이 함수를 이용해 엑셀 파일을 만들어야 합니다. (필수 항목).\n",
    "\n",
    "#### 입력  : input 폴더, configuration.txt 파일\n",
    "#### 출력 파일 목록 1 예시 : output/employee_residence 폴더 아래  \n",
    "##### salaries_US.xlsx, salaries_GB.xlsx, 등등 employee의 거주 국가에 따른 엑셀 파일들\n",
    "#### 출력 파일 목록 2  예시: output/company_size 폴더 아래\n",
    "##### salaries_L.xlsx, salaries_M.xlsx, salaries_S.xlsx 등 회사 규모에 따른 엑셀 파일들"
   ]
  },
  {
   "cell_type": "code",
   "execution_count": 1,
   "id": "4a7e3724",
   "metadata": {
    "id": "4a7e3724"
   },
   "outputs": [],
   "source": [
    "import os\n",
    "import pandas as pd\n",
    "\n",
    "f = open('configuration.txt', 'r') \n",
    "\n",
    "li = f.readlines()\n",
    "col = li[1]\n",
    "col = col.rstrip()\n",
    "col2 = li[2]\n",
    "col2 = col2.rstrip()\n",
    "os.mkdir('output') \n",
    "os.mkdir(f'output/{col}') \n",
    "os.mkdir(f'output/{col2}') \n",
    "\n",
    "base_folder='input'\n",
    "\n",
    "files = os.listdir(base_folder)\n",
    "gathering_df = pd.DataFrame()\n",
    "\n",
    "for file in files:\n",
    "    files = os.path.join(base_folder, file)\n",
    "    df = pd.read_csv(files)\n",
    "    gathering_df = pd.concat([gathering_df, df], ignore_index=True)\n",
    "gathering_df.to_excel(f'{base_folder}\\\\total.xlsx', sheet_name='data', index=False)\n",
    "\n",
    "\n",
    "def gohome(col, col2):\n",
    "    df = pd.read_excel('input/total.xlsx')\n",
    "    grouped = df.groupby(col)\n",
    "    for group_name, group_data in grouped:\n",
    "        file_name = f\"output/{col}/salaries_{group_name}.xlsx\"\n",
    "        group_data.to_excel(file_name, index=False)\n",
    "    grouped = df.groupby(col2)\n",
    "    for group_name, group_data in grouped:\n",
    "        file_name = f\"output/{col2}/salaries_{group_name}.xlsx\"\n",
    "        group_data.to_excel(file_name, index=False)\n",
    "    \n",
    "gohome(col, col2)\n"
   ]
  }
 ],
 "metadata": {
  "colab": {
   "provenance": []
  },
  "kernelspec": {
   "display_name": "Python 3 (ipykernel)",
   "language": "python",
   "name": "python3"
  },
  "language_info": {
   "codemirror_mode": {
    "name": "ipython",
    "version": 3
   },
   "file_extension": ".py",
   "mimetype": "text/x-python",
   "name": "python",
   "nbconvert_exporter": "python",
   "pygments_lexer": "ipython3",
   "version": "3.10.9"
  }
 },
 "nbformat": 4,
 "nbformat_minor": 5
}
