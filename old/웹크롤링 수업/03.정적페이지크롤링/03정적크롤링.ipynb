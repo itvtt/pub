{
 "cells": [
  {
   "cell_type": "code",
   "execution_count": null,
   "metadata": {},
   "outputs": [],
   "source": [
    "import requests\n",
    "from bs4 import BeautifulSoup\n",
    "\n",
    "response = requests.get('https://finance.naver.com')\n",
    "html = response.text\n",
    "soup = BeautifulSoup(html, 'html.parser')\n",
    "soup = soup.select_one(\".h_strategy > span\").text\n",
    "print(soup)"
   ]
  },
  {
   "cell_type": "code",
   "execution_count": null,
   "metadata": {},
   "outputs": [],
   "source": [
    "import requests\n",
    "from bs4 import BeautifulSoup\n",
    "\n",
    "response = requests.get('https://finance.naver.com')\n",
    "html = response.text\n",
    "soup = BeautifulSoup(html, 'html.parser')\n",
    "'https://finance.naver.com' + soup.select_one(\"li > span > a\").attrs['href']\n"
   ]
  },
  {
   "cell_type": "code",
   "execution_count": null,
   "metadata": {},
   "outputs": [],
   "source": [
    "import requests\n",
    "from bs4 import BeautifulSoup\n",
    "\n",
    "response = requests.get('https://finance.naver.com')\n",
    "html = response.text\n",
    "soup = BeautifulSoup(html, 'html.parser')\n",
    "soup = soup.select_one(\".section_strategy\")\n",
    "for daw, row in soup"
   ]
  },
  {
   "cell_type": "code",
   "execution_count": 9,
   "metadata": {},
   "outputs": [
    {
     "name": "stdout",
     "output_type": "stream",
     "text": [
      "크롤링 초급\n",
      "request, beautifulsoup4 라이브러리를 이용한 일반적인 크롤링\n"
     ]
    }
   ],
   "source": [
    "import requests\n",
    "from bs4 import BeautifulSoup\n",
    "\n",
    "response = requests.get('https://startcoding-crawling.herokuapp.com/lv1')\n",
    "html = response.text\n",
    "soup = BeautifulSoup(html, 'html.parser')\n",
    "title = soup.select_one(\"h1\").text\n",
    "print(title)\n",
    "text = soup.select_one(\".subheading\").text.strip()\n",
    "print(text)\n"
   ]
  },
  {
   "cell_type": "code",
   "execution_count": null,
   "metadata": {},
   "outputs": [],
   "source": [
    "import requests\n",
    "from bs4 import BeautifulSoup\n",
    "\n",
    "response = requests.get('https://startcoding-crawling.herokuapp.com/lv1')\n",
    "html = response.text\n",
    "soup = BeautifulSoup(html, 'html.parser')\n",
    "title = soup.select_one(\"h1\").text\n",
    "text = soup.select_one(\".post-title\").text\n",
    "print(title)\n",
    "print(text)\n"
   ]
  }
 ],
 "metadata": {
  "kernelspec": {
   "display_name": "Python 3",
   "language": "python",
   "name": "python3"
  },
  "language_info": {
   "codemirror_mode": {
    "name": "ipython",
    "version": 3
   },
   "file_extension": ".py",
   "mimetype": "text/x-python",
   "name": "python",
   "nbconvert_exporter": "python",
   "pygments_lexer": "ipython3",
   "version": "3.10.9"
  },
  "orig_nbformat": 4
 },
 "nbformat": 4,
 "nbformat_minor": 2
}
