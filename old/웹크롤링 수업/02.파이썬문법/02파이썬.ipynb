{
 "cells": [
  {
   "cell_type": "code",
   "execution_count": 1,
   "metadata": {},
   "outputs": [
    {
     "name": "stdout",
     "output_type": "stream",
     "text": [
      "이니\n",
      "dd\n"
     ]
    }
   ],
   "source": [
    "class Monster:\n",
    "    def __init__(self):\n",
    "        print('이니')    \n",
    "    def say(self):\n",
    "        print('dd')\n",
    "\n",
    "\n",
    "\n",
    "ss = Monster()\n",
    "ss.say()\n"
   ]
  },
  {
   "cell_type": "code",
   "execution_count": 2,
   "metadata": {},
   "outputs": [],
   "source": [
    "class Monster:\n",
    "    def __init__(self, name, hp ,demage):\n",
    "        self.name = name \n",
    "        self.hp = hp\n",
    "        self.demage = demage\n",
    "    def say(self):\n",
    "        print(f'나는 {self.name}')\n",
    "    def info(self):\n",
    "        print(f'{self.name}, {self.hp}, {self.demage}')"
   ]
  },
  {
   "cell_type": "code",
   "execution_count": 4,
   "metadata": {},
   "outputs": [
    {
     "name": "stdout",
     "output_type": "stream",
     "text": [
      "상어, 2000, 500\n"
     ]
    }
   ],
   "source": [
    "상어 = Monster('상어',2000,500)\n",
    "상어.info()"
   ]
  },
  {
   "cell_type": "code",
   "execution_count": 7,
   "metadata": {},
   "outputs": [
    {
     "data": {
      "text/plain": [
       "2000"
      ]
     },
     "execution_count": 7,
     "metadata": {},
     "output_type": "execute_result"
    }
   ],
   "source": [
    "상어.hp"
   ]
  },
  {
   "cell_type": "code",
   "execution_count": 6,
   "metadata": {},
   "outputs": [
    {
     "name": "stdout",
     "output_type": "stream",
     "text": [
      "늑대, 200, 50\n"
     ]
    }
   ],
   "source": [
    "늑대 = Monster('늑대',200,50)\n",
    "늑대.info()"
   ]
  }
 ],
 "metadata": {
  "kernelspec": {
   "display_name": "Python 3",
   "language": "python",
   "name": "python3"
  },
  "language_info": {
   "codemirror_mode": {
    "name": "ipython",
    "version": 3
   },
   "file_extension": ".py",
   "mimetype": "text/x-python",
   "name": "python",
   "nbconvert_exporter": "python",
   "pygments_lexer": "ipython3",
   "version": "3.10.9"
  },
  "orig_nbformat": 4
 },
 "nbformat": 4,
 "nbformat_minor": 2
}
