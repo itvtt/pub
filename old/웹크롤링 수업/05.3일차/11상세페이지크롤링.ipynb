{
 "cells": [
  {
   "cell_type": "code",
   "execution_count": 8,
   "metadata": {},
   "outputs": [
    {
     "name": "stdout",
     "output_type": "stream",
     "text": [
      "BLACKPINK https://youtube-rank.com/board/bbs/board.php?bo_table=youtube&wr_id=3203&page=1\n"
     ]
    }
   ],
   "source": [
    "import requests\n",
    "import json\n",
    "import pandas as pd\n",
    "from selenium import webdriver\n",
    "from selenium.webdriver.common.by import By\n",
    "from selenium.webdriver.common.keys import Keys\n",
    "import time\n",
    "import requests\n",
    "from bs4 import BeautifulSoup\n",
    "import pandas as pd\n",
    "\n",
    "data = []\n",
    "response = requests.get(\"https://youtube-rank.com/board/bbs/board.php?bo_table=youtube&page=1\")\n",
    "html = response.text\n",
    "soup = BeautifulSoup(html, 'html.parser')\n",
    "name = soup.select_one('h1 > a').text.strip()\n",
    "link = soup.select_one('h1 > a').attrs['href']\n",
    "print(name , link)"
   ]
  },
  {
   "cell_type": "code",
   "execution_count": 11,
   "metadata": {},
   "outputs": [
    {
     "name": "stdout",
     "output_type": "stream",
     "text": [
      "BLACKPINK Official YouTube Channel\n",
      "블랙핑크 공식 유튜브 채널입니다.\n",
      "\n",
      "JISOO, JENNIE, ROSÉ, LISA\n",
      "지수, 제니, 로제, 리사\n"
     ]
    }
   ],
   "source": [
    "# 상세 페이지 요청\n",
    "response = requests.get(link)\n",
    "html = response.text\n",
    "soup = BeautifulSoup(html, 'html.parser')\n",
    "description = soup.select_one('#sns-content').text.strip()\n",
    "print(description)"
   ]
  },
  {
   "cell_type": "code",
   "execution_count": 12,
   "metadata": {},
   "outputs": [
    {
     "data": {
      "text/plain": [
       "['PHONE', 'COMPUTER', 'LAPTOP']"
      ]
     },
     "execution_count": 12,
     "metadata": {},
     "output_type": "execute_result"
    }
   ],
   "source": [
    "products = \"PHONE COMPUTER LAPTOP\"\n",
    "products.split()"
   ]
  },
  {
   "cell_type": "code",
   "execution_count": 26,
   "metadata": {},
   "outputs": [
    {
     "data": {
      "text/plain": [
       "'35000회'"
      ]
     },
     "execution_count": 26,
     "metadata": {},
     "output_type": "execute_result"
    }
   ],
   "source": [
    "products = \"sdsdsv sdge ge ewga egaweg awega ge  조회수 35000회\"\n",
    "products.split('조회수')[1].strip()\n"
   ]
  }
 ],
 "metadata": {
  "kernelspec": {
   "display_name": "Python 3",
   "language": "python",
   "name": "python3"
  },
  "language_info": {
   "codemirror_mode": {
    "name": "ipython",
    "version": 3
   },
   "file_extension": ".py",
   "mimetype": "text/x-python",
   "name": "python",
   "nbconvert_exporter": "python",
   "pygments_lexer": "ipython3",
   "version": "3.10.9"
  }
 },
 "nbformat": 4,
 "nbformat_minor": 2
}
