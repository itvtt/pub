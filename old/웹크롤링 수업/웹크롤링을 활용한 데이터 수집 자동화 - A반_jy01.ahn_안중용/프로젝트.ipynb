{
 "cells": [
  {
   "cell_type": "code",
   "execution_count": 1,
   "metadata": {},
   "outputs": [
    {
     "name": "stdout",
     "output_type": "stream",
     "text": [
      "2023.08.31. 대한민국 경제 급성장 이유 https://kin.naver.com/qna/detail.naver?d1id=4&dirId=408&docId=453685135&qb=67CY64+E7LK0&enc=utf8§ion=kin&rank=1&search_sort=3&spq=0 2\n",
      "2023.08.31. 구리 인창고vs동화고 https://kin.naver.com/qna/detail.naver?d1id=11&dirId=110308&docId=453582509&qb=67CY64+E7LK0&enc=utf8§ion=kin&rank=2&search_sort=3&spq=0 1\n",
      "2023.08.31. 진로 결정 https://kin.naver.com/qna/detail.naver?d1id=11&dirId=110404&docId=453671356&qb=67CY64+E7LK0&enc=utf8§ion=kin&rank=3&search_sort=3&spq=0 1\n",
      "2023.08.31. 내신 5등급 성균관대 https://kin.naver.com/qna/detail.naver?d1id=11&dirId=110408&docId=453668459&qb=67CY64+E7LK0&enc=utf8§ion=kin&rank=4&search_sort=3&spq=0 2\n",
      "2023.08.31. 적정기술의 사례와 사용된 과학원리 https://kin.naver.com/qna/detail.naver?d1id=11&dirId=110304&docId=453667012&qb=67CY64+E7LK0&enc=utf8§ion=kin&rank=5&search_sort=3&spq=0 1\n",
      "2023.08.31. 다이오드 질문입니다 https://kin.naver.com/qna/detail.naver?d1id=11&dirId=1118&docId=453661335&qb=67CY64+E7LK0&enc=utf8§ion=kin&rank=6&search_sort=3&spq=0 2\n",
      "2023.08.31. 중국 반도체 굴기 해결방안 https://kin.naver.com/qna/detail.naver?d1id=4&dirId=409&docId=453654929&qb=67CY64+E7LK0&enc=utf8§ion=kin&rank=7&search_sort=3&spq=0 2\n",
      "2023.08.31. 성균관대 시스템반도체 https://kin.naver.com/qna/detail.naver?d1id=11&dirId=110408&docId=453653204&qb=67CY64+E7LK0&enc=utf8§ion=kin&rank=8&search_sort=3&spq=0 4\n",
      "2023.08.31. 태양광 발전기 효율적이게 설치,디자인...  https://kin.naver.com/qna/detail.naver?d1id=5&dirId=50104&docId=453651617&qb=67CY64+E7LK0&enc=utf8§ion=kin&rank=9&search_sort=3&spq=0 4\n",
      "2023.08.31. 대기업 반도체 생산직 질문 https://kin.naver.com/qna/detail.naver?d1id=4&dirId=40609&docId=453651574&qb=67CY64+E7LK0&enc=utf8§ion=kin&rank=10&search_sort=3&spq=0 1\n"
     ]
    }
   ],
   "source": [
    "# 메인 페이지 크롤링\n",
    "import requests\n",
    "from bs4 import BeautifulSoup\n",
    "import pandas as pd\n",
    "\n",
    "data = []\n",
    "response = requests.get(\"https://kin.naver.com/search/list.naver?query=%EB%B0%98%EB%8F%84%EC%B2%B4&section=kin&period=2023.08.01.|2023.08.31.&sort=date\")\n",
    "html = response.text\n",
    "soup = BeautifulSoup(html, 'html.parser')\n",
    "posts = soup.select(\".section > ul > li\")\n",
    "for post in posts:\n",
    "    date = post.select_one(\".txt_inline\").text\n",
    "    title = post.select_one(\"._searchListTitleAnchor\").text\n",
    "    link = post.select_one(\"._searchListTitleAnchor\").attrs['href']\n",
    "    ans = post.select_one(\".hit\").text\n",
    "    ans = ans.split('답변수')[1].strip()\n",
    "    print(date, title, link, ans)"
   ]
  },
  {
   "cell_type": "code",
   "execution_count": 2,
   "metadata": {},
   "outputs": [
    {
     "name": "stdout",
     "output_type": "stream",
     "text": [
      "2023.08.31. 대한민국 경제 급성장 이유 https://kin.naver.com/qna/detail.naver?d1id=4&dirId=408&docId=453685135&qb=67CY64+E7LK0&enc=utf8§ion=kin&rank=1&search_sort=3&spq=0 2 147\n",
      "2023.08.31. 구리 인창고vs동화고 https://kin.naver.com/qna/detail.naver?d1id=11&dirId=110308&docId=453582509&qb=67CY64+E7LK0&enc=utf8§ion=kin&rank=2&search_sort=3&spq=0 1 231\n",
      "2023.08.31. 진로 결정 https://kin.naver.com/qna/detail.naver?d1id=11&dirId=110404&docId=453671356&qb=67CY64+E7LK0&enc=utf8§ion=kin&rank=3&search_sort=3&spq=0 1 80\n",
      "2023.08.31. 내신 5등급 성균관대 https://kin.naver.com/qna/detail.naver?d1id=11&dirId=110408&docId=453668459&qb=67CY64+E7LK0&enc=utf8§ion=kin&rank=4&search_sort=3&spq=0 2 127\n",
      "2023.08.31. 적정기술의 사례와 사용된 과학원리 https://kin.naver.com/qna/detail.naver?d1id=11&dirId=110304&docId=453667012&qb=67CY64+E7LK0&enc=utf8§ion=kin&rank=5&search_sort=3&spq=0 1 541\n",
      "2023.08.31. 다이오드 질문입니다 https://kin.naver.com/qna/detail.naver?d1id=11&dirId=1118&docId=453661335&qb=67CY64+E7LK0&enc=utf8§ion=kin&rank=6&search_sort=3&spq=0 2 86\n",
      "2023.08.31. 중국 반도체 굴기 해결방안 https://kin.naver.com/qna/detail.naver?d1id=4&dirId=409&docId=453654929&qb=67CY64+E7LK0&enc=utf8§ion=kin&rank=7&search_sort=3&spq=0 2 197\n",
      "2023.08.31. 성균관대 시스템반도체 https://kin.naver.com/qna/detail.naver?d1id=11&dirId=110408&docId=453653204&qb=67CY64+E7LK0&enc=utf8§ion=kin&rank=8&search_sort=3&spq=0 4 170\n",
      "2023.08.31. 태양광 발전기 효율적이게 설치,디자인...  https://kin.naver.com/qna/detail.naver?d1id=5&dirId=50104&docId=453651617&qb=67CY64+E7LK0&enc=utf8§ion=kin&rank=9&search_sort=3&spq=0 4 129\n",
      "2023.08.31. 대기업 반도체 생산직 질문 https://kin.naver.com/qna/detail.naver?d1id=4&dirId=40609&docId=453651574&qb=67CY64+E7LK0&enc=utf8§ion=kin&rank=10&search_sort=3&spq=0 1 106\n"
     ]
    }
   ],
   "source": [
    "# 상세 페이지 크롤링 합치기\n",
    "import requests\n",
    "from bs4 import BeautifulSoup\n",
    "import pandas as pd\n",
    "\n",
    "data = []\n",
    "response = requests.get(\"https://kin.naver.com/search/list.naver?query=%EB%B0%98%EB%8F%84%EC%B2%B4&section=kin&period=2023.08.01.|2023.08.31.&sort=date\")\n",
    "html = response.text\n",
    "soup = BeautifulSoup(html, 'html.parser')\n",
    "posts = soup.select(\".section > ul > li\")\n",
    "for post in posts:\n",
    "    date = post.select_one(\".txt_inline\").text\n",
    "    title = post.select_one(\"._searchListTitleAnchor\").text\n",
    "    link = post.select_one(\"._searchListTitleAnchor\").attrs['href']\n",
    "    ans = post.select_one(\".hit\").text\n",
    "    ans = ans.split('답변수')[1].strip()\n",
    "    response = requests.get(link)\n",
    "    html = response.text\n",
    "    soup = BeautifulSoup(html, 'html.parser')\n",
    "    view = soup.select_one('.c-userinfo__info:nth-of-type(2)').text\n",
    "    view = view.split()[1]\n",
    "    print(date, title, link, ans, view)"
   ]
  },
  {
   "cell_type": "code",
   "execution_count": 5,
   "metadata": {},
   "outputs": [
    {
     "name": "stdout",
     "output_type": "stream",
     "text": [
      "2023.08.31. 대한민국 경제 급성장 이유 https://kin.naver.com/qna/detail.naver?d1id=4&dirId=408&docId=453685135&qb=67CY64+E7LK0&enc=utf8§ion=kin&rank=1&search_sort=3&spq=0 2 147\n",
      "2023.08.31. 구리 인창고vs동화고 https://kin.naver.com/qna/detail.naver?d1id=11&dirId=110308&docId=453582509&qb=67CY64+E7LK0&enc=utf8§ion=kin&rank=2&search_sort=3&spq=0 1 231\n",
      "2023.08.31. 진로 결정 https://kin.naver.com/qna/detail.naver?d1id=11&dirId=110404&docId=453671356&qb=67CY64+E7LK0&enc=utf8§ion=kin&rank=3&search_sort=3&spq=0 1 81\n",
      "2023.08.31. 내신 5등급 성균관대 https://kin.naver.com/qna/detail.naver?d1id=11&dirId=110408&docId=453668459&qb=67CY64+E7LK0&enc=utf8§ion=kin&rank=4&search_sort=3&spq=0 2 127\n",
      "2023.08.31. 적정기술의 사례와 사용된 과학원리 https://kin.naver.com/qna/detail.naver?d1id=11&dirId=110304&docId=453667012&qb=67CY64+E7LK0&enc=utf8§ion=kin&rank=5&search_sort=3&spq=0 1 542\n",
      "2023.08.31. 다이오드 질문입니다 https://kin.naver.com/qna/detail.naver?d1id=11&dirId=1118&docId=453661335&qb=67CY64+E7LK0&enc=utf8§ion=kin&rank=6&search_sort=3&spq=0 2 86\n",
      "2023.08.31. 중국 반도체 굴기 해결방안 https://kin.naver.com/qna/detail.naver?d1id=4&dirId=409&docId=453654929&qb=67CY64+E7LK0&enc=utf8§ion=kin&rank=7&search_sort=3&spq=0 2 198\n",
      "2023.08.31. 성균관대 시스템반도체 https://kin.naver.com/qna/detail.naver?d1id=11&dirId=110408&docId=453653204&qb=67CY64+E7LK0&enc=utf8§ion=kin&rank=8&search_sort=3&spq=0 4 170\n",
      "2023.08.31. 태양광 발전기 효율적이게 설치,디자인...  https://kin.naver.com/qna/detail.naver?d1id=5&dirId=50104&docId=453651617&qb=67CY64+E7LK0&enc=utf8§ion=kin&rank=9&search_sort=3&spq=0 4 130\n",
      "2023.08.31. 대기업 반도체 생산직 질문 https://kin.naver.com/qna/detail.naver?d1id=4&dirId=40609&docId=453651574&qb=67CY64+E7LK0&enc=utf8§ion=kin&rank=10&search_sort=3&spq=0 1 108\n",
      "2023.08.31. 2021 k8 원격 스마트 주차보조 질문 https://kin.naver.com/qna/detail.naver?d1id=8&dirId=8110101&docId=453651052&qb=67CY64+E7LK0&enc=utf8§ion=kin&rank=11&search_sort=3&spq=0 1 265\n",
      "2023.08.31. etf 주식 투자 질문드립니다. https://kin.naver.com/qna/detail.naver?d1id=4&dirId=40102&docId=453650751&qb=67CY64+E7LK0&enc=utf8§ion=kin&rank=12&search_sort=3&spq=0 2 141\n",
      "2023.08.31. 반도체 관련 직업을 희망하는 학생입니다 https://kin.naver.com/qna/detail.naver?d1id=11&dirId=11050403&docId=453649559&qb=67CY64+E7LK0&enc=utf8§ion=kin&rank=13&search_sort=3&spq=0 1 182\n",
      "2023.08.31. 반도체 질문 https://kin.naver.com/qna/detail.naver?d1id=11&dirId=1118&docId=453649426&qb=67CY64+E7LK0&enc=utf8§ion=kin&rank=14&search_sort=3&spq=0 1 67\n",
      "2023.08.31. 교통 관련 환경문제와 그에 대한 과학적...  https://kin.naver.com/qna/detail.naver?d1id=11&dirId=1122&docId=453643903&qb=67CY64+E7LK0&enc=utf8§ion=kin&rank=15&search_sort=3&spq=0 1 79\n",
      "2023.08.31. 성동구쪽에 반도체 칩 생산알바 https://kin.naver.com/qna/detail.naver?d1id=4&dirId=40609&docId=453523294&qb=67CY64+E7LK0&enc=utf8§ion=kin&rank=16&search_sort=3&spq=0 2 100\n",
      "2023.08.31. 일본의 과학기술 https://kin.naver.com/qna/detail.naver?d1id=11&dirId=110804&docId=453635464&qb=67CY64+E7LK0&enc=utf8§ion=kin&rank=17&search_sort=3&spq=0 1 70\n",
      "2023.08.31. 영문번역 AUDIT https://kin.naver.com/qna/detail.naver?d1id=11&dirId=110812&docId=453632840&qb=67CY64+E7LK0&enc=utf8§ion=kin&rank=18&search_sort=3&spq=0 1 73\n",
      "2023.08.31. 전기기사 자격증 준비 질문 https://kin.naver.com/qna/detail.naver?d1id=4&dirId=406&docId=453632395&qb=67CY64+E7LK0&enc=utf8§ion=kin&rank=19&search_sort=3&spq=0 11 125\n",
      "2023.08.31. 생기부 관련 질문 https://kin.naver.com/qna/detail.naver?d1id=11&dirId=110408&docId=453629194&qb=67CY64+E7LK0&enc=utf8§ion=kin&rank=20&search_sort=3&spq=0 1 65\n"
     ]
    },
    {
     "data": {
      "text/plain": [
       "날짜     object\n",
       "제목     object\n",
       "링크     object\n",
       "답변수     int32\n",
       "조회수     int32\n",
       "dtype: object"
      ]
     },
     "execution_count": 5,
     "metadata": {},
     "output_type": "execute_result"
    }
   ],
   "source": [
    "# 데이터 저장\n",
    "import requests\n",
    "from bs4 import BeautifulSoup\n",
    "import pandas as pd\n",
    "\n",
    "data = []\n",
    "i = 0\n",
    "for i in range (0,2):\n",
    "    i = i+1\n",
    "    response = requests.get(f\"https://kin.naver.com/search/list.naver?sort=date&query=%EB%B0%98%EB%8F%84%EC%B2%B4&period=2023.08.01.%7C2023.08.31.&section=kin&page={i}\")\n",
    "    html = response.text\n",
    "    soup = BeautifulSoup(html, 'html.parser')\n",
    "    posts = soup.select(\".section > ul > li\")\n",
    "    for post in posts:\n",
    "        date = post.select_one(\".txt_inline\").text\n",
    "        title = post.select_one(\"._searchListTitleAnchor\").text\n",
    "        link = post.select_one(\"._searchListTitleAnchor\").attrs['href']\n",
    "        ans = post.select_one(\".hit\").text\n",
    "        ans = ans.split('답변수')[1].strip()\n",
    "        response = requests.get(link)\n",
    "        html = response.text\n",
    "        soup = BeautifulSoup(html, 'html.parser')\n",
    "        view = soup.select_one('.c-userinfo__info:nth-of-type(2)').text\n",
    "        view = view.split()[1]\n",
    "        print(date, title, link, ans, view)\n",
    "        data.append([date, title, link, ans, view])\n",
    "        df =  pd.DataFrame(data, columns = ['날짜','제목','링크','답변수','조회수'])\n",
    "df['답변수'] = df['답변수'].astype(int)\n",
    "df['조회수'] = df['조회수'].astype(int)\n",
    "df.to_excel('./result.xlsx')\n",
    "df.dtypes"
   ]
  },
  {
   "cell_type": "code",
   "execution_count": null,
   "metadata": {},
   "outputs": [],
   "source": []
  },
  {
   "cell_type": "code",
   "execution_count": null,
   "metadata": {},
   "outputs": [],
   "source": []
  },
  {
   "cell_type": "code",
   "execution_count": null,
   "metadata": {},
   "outputs": [],
   "source": []
  },
  {
   "cell_type": "code",
   "execution_count": null,
   "metadata": {},
   "outputs": [],
   "source": []
  },
  {
   "cell_type": "code",
   "execution_count": null,
   "metadata": {},
   "outputs": [],
   "source": []
  },
  {
   "cell_type": "code",
   "execution_count": null,
   "metadata": {},
   "outputs": [],
   "source": []
  },
  {
   "cell_type": "code",
   "execution_count": null,
   "metadata": {},
   "outputs": [],
   "source": [
    "posts = soup.select(\".product_list_item__b84TO\")\n",
    "# print(posts)\n",
    "data = []\n",
    "for post in posts:\n",
    "    # time.sleep(3)\n",
    "    title = post.select_one(\".product_info_tit__c5_pb\").text\n",
    "    link = post.select_one(\".product_btn_link__ArGCa.linkAnchor\").attrs['href']\n",
    "    money = post.select_one(\".product_num__iQsWh\").text\n",
    "    data.append([title, money, link])\n",
    "df =  pd.DataFrame(data, columns = ['제목','가격','링크'])\n",
    "df.to_excel('./aaa.xlsx')"
   ]
  },
  {
   "cell_type": "code",
   "execution_count": null,
   "metadata": {},
   "outputs": [],
   "source": []
  },
  {
   "cell_type": "code",
   "execution_count": null,
   "metadata": {},
   "outputs": [],
   "source": []
  },
  {
   "cell_type": "code",
   "execution_count": null,
   "metadata": {},
   "outputs": [],
   "source": []
  },
  {
   "cell_type": "code",
   "execution_count": null,
   "metadata": {},
   "outputs": [],
   "source": []
  },
  {
   "cell_type": "code",
   "execution_count": null,
   "metadata": {},
   "outputs": [],
   "source": []
  },
  {
   "cell_type": "code",
   "execution_count": null,
   "metadata": {},
   "outputs": [],
   "source": []
  }
 ],
 "metadata": {
  "kernelspec": {
   "display_name": "Python 3",
   "language": "python",
   "name": "python3"
  },
  "language_info": {
   "codemirror_mode": {
    "name": "ipython",
    "version": 3
   },
   "file_extension": ".py",
   "mimetype": "text/x-python",
   "name": "python",
   "nbconvert_exporter": "python",
   "pygments_lexer": "ipython3",
   "version": "3.10.9"
  }
 },
 "nbformat": 4,
 "nbformat_minor": 2
}
