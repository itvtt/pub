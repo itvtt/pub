{
 "cells": [
  {
   "cell_type": "code",
   "execution_count": 4,
   "metadata": {},
   "outputs": [
    {
     "name": "stdout",
     "output_type": "stream",
     "text": [
      "안녕하세요 스타트코딩입니다. 나이는 20입니다.\n"
     ]
    }
   ],
   "source": [
    "name = \"스타트코딩\"\n",
    "age = 20\n",
    "message = f\"안녕하세요 {name}입니다. 나이는 {age}입니다.\"\n",
    "print(message)"
   ]
  },
  {
   "cell_type": "code",
   "execution_count": null,
   "metadata": {},
   "outputs": [],
   "source": [
    "# 엑셀 저장"
   ]
  },
  {
   "cell_type": "code",
   "execution_count": null,
   "metadata": {},
   "outputs": [],
   "source": [
    "pip install pandas"
   ]
  },
  {
   "cell_type": "code",
   "execution_count": null,
   "metadata": {},
   "outputs": [],
   "source": [
    "pip install openpyxl"
   ]
  },
  {
   "cell_type": "code",
   "execution_count": null,
   "metadata": {},
   "outputs": [],
   "source": [
    "pip install xlsxwriter"
   ]
  },
  {
   "cell_type": "code",
   "execution_count": 1,
   "metadata": {},
   "outputs": [
    {
     "data": {
      "text/plain": [
       "[['제목1', '내용1', '링크1'], ['제목2', '내용2', '링크2']]"
      ]
     },
     "execution_count": 1,
     "metadata": {},
     "output_type": "execute_result"
    }
   ],
   "source": [
    "# 리스트 append 복습\n",
    "data = [\n",
    "    ['제목1', '내용1', '링크1'],\n",
    "    ['제목2', '내용2', '링크2']\n",
    "]\n",
    "data"
   ]
  },
  {
   "cell_type": "code",
   "execution_count": 2,
   "metadata": {},
   "outputs": [
    {
     "data": {
      "text/plain": [
       "[['제목1', '내용1', '링크1'], ['제목2', '내용2', '링크2']]"
      ]
     },
     "execution_count": 2,
     "metadata": {},
     "output_type": "execute_result"
    }
   ],
   "source": [
    "data = []\n",
    "data.append(['제목1', '내용1', '링크1'])\n",
    "data.append(['제목2', '내용2', '링크2'])\n",
    "data"
   ]
  },
  {
   "cell_type": "code",
   "execution_count": null,
   "metadata": {},
   "outputs": [],
   "source": [
    "import requests\n",
    "from bs4 import BeautifulSoup\n",
    "\n",
    "data = []\n",
    "for i in range(1, 5):\n",
    "    response = requests.get(f\"https://startcoding-crawling.herokuapp.com/lv1?page={i}\")\n",
    "    html = response.text\n",
    "    soup = BeautifulSoup(html, 'html.parser')\n",
    "    posts = soup.select(\".post-preview\")\n",
    "    for post in posts:\n",
    "        title = post.select_one(\".post-title\").text\n",
    "        content = post.select_one(\".post-subtitle\").text.replace('\\r\\n', '')\n",
    "        link = post.select_one(\".post-preview > a\").attrs['href']\n",
    "        # print(title, content, link)\n",
    "        data.append([title, content, link])\n",
    "data"
   ]
  },
  {
   "cell_type": "code",
   "execution_count": null,
   "metadata": {},
   "outputs": [],
   "source": [
    "import pandas as pd\n",
    "\n",
    "# 데이터 프레임 만들기\n",
    "df = pd.DataFrame(data, columns=['제목', '내용', '링크'])\n",
    "\n",
    "# 엑셀로 저장하기\n",
    "df.to_excel('result.xlsx')"
   ]
  },
  {
   "cell_type": "code",
   "execution_count": null,
   "metadata": {},
   "outputs": [],
   "source": []
  }
 ],
 "metadata": {
  "kernelspec": {
   "display_name": "Python 3",
   "language": "python",
   "name": "python3"
  },
  "language_info": {
   "codemirror_mode": {
    "name": "ipython",
    "version": 3
   },
   "file_extension": ".py",
   "mimetype": "text/x-python",
   "name": "python",
   "nbconvert_exporter": "python",
   "pygments_lexer": "ipython3",
   "version": "3.10.6"
  }
 },
 "nbformat": 4,
 "nbformat_minor": 2
}
