{
 "cells": [
  {
   "cell_type": "code",
   "execution_count": null,
   "metadata": {},
   "outputs": [],
   "source": [
    "# 엑셀 저장\n",
    "# 'naver_news.xlsx'"
   ]
  },
  {
   "cell_type": "code",
   "execution_count": 1,
   "metadata": {},
   "outputs": [
    {
     "name": "stdout",
     "output_type": "stream",
     "text": [
      "삼성전자, 고객이 원하는 시간에 '대형가전' 설치 http://www.newsis.com/view/?id=NISX20231018_0002486698&cID=13001&pID=13000 삼성전자가 19일부터 대형 가전제품 배송 시간대를 소비자가 직접 지정할 수 있는 '시간 맞춤 설치 서비스'를 선보인다고 18일 밝혔다. 이 서비스는 삼성닷컴을 통해 TV·냉장고·세탁기·건조기·공기청정기 등 설치성 가전제품 구매 시 이용할 수 있다. 서비스 비요ㅇ은 품목·수량·일정에 따라 최소 2만원에서... https://search.pstatic.net/common/?src=https%3A%2F%2Fimgnews.pstatic.net%2Fimage%2Forigin%2F003%2F2023%2F10%2F18%2F12153114.jpg&type=ff264_180&expire=2&refresh=true\n",
      "\"마누라·자식 빼고 바꿔보자\"…삼성 바꾼 30년 전 '이 발언' https://www.hankyung.com/article/202310186488i \"이건희 선대회장은 위대한 전략가이자 사상가\" 삼성이 18일 서울 삼성전자 서초사옥에서 '삼성 신경영 30주년 기념 국제학술대회'를 개최했다. 고(故) 이건희 선대회장의 3주기(10월25일)를 맞아 업적과 경영 철학 등을 다각도로 재조명하고 '도전', '창조', '혁신'으로 압축되는 신경영 정신을 되새기기 위해서다.... https://search.pstatic.net/common/?src=https%3A%2F%2Fimgnews.pstatic.net%2Fimage%2Forigin%2F015%2F2023%2F10%2F18%2F4903528.jpg&type=ff264_180&expire=2&refresh=true\n",
      "삼성전자 \"11나노급 D램·9세대 더블스택 V낸드 개발로 초격차\" https://www.yna.co.kr/view/AKR20231017053700003?input=1195m 이정배 메모리사업부장 기고문…20일 美 실리콘밸리서 '삼성 메모리 테크데이' \"구조·소재 혁신으로 10나노 이하 D램, 1천단 V낸드 시대 주도\" 삼성전자가 현재 개발 중인 11나노급 D램과 9세대 V낸드의 집적도를 업계 최대 수준으로 높여 초격차를 이끌겠다는 의지를 보였다. 이정배 삼성전자... https://search.pstatic.net/common/?src=https%3A%2F%2Fimgnews.pstatic.net%2Fimage%2Forigin%2F001%2F2023%2F10%2F17%2F14266905.jpg&type=ff264_180&expire=2&refresh=true\n",
      "삼성전자, 갤럭시 스마트태그2 국내 출시...가격은 3만6300원 https://www.chosun.com/economy/tech_it/2023/10/17/E22Y4M5YZJAT5LOZO47AYTD2OI/?utm_source=naver&utm_medium=referral&utm_campaign=naver-news 삼성전자가 위치 확인용 모바일 액세서리 ‘갤럭시 스마트태그2′를 국내에 출시한다. 갤럭시 스마트태그는 통신 기능이 없는 자동차 키나 반려동물 등에 부착해 위치를 쉽게 확인할 수 있도록 도와주는 액세서리다. 17일 삼성전자는 갤럭시 스마트태그 신제품을 18일 국내에 출시한다고 밝혔다. 신제품은... https://search.pstatic.net/common/?src=https%3A%2F%2Fimgnews.pstatic.net%2Fimage%2Forigin%2F023%2F2023%2F10%2F17%2F3793764.jpg&type=ff264_180&expire=2&refresh=true\n",
      "'한 달' 만에 돌아온 외국인, 삼성전자부터 담았다 http://www.edaily.co.kr/news/newspath.asp?newsid=01272646635774232 미국이 삼성전자와 SK하이닉스의 중국 내 반도체 공장을 ‘검증된 최종 사용자’(VEU)로 지정하면서 투자 불확실성이 완화했기 때문이라는 판단이다. 삼성전자(005930)에만 3255억원어치 외국인 순매수가 발생했다. 이 덕에 주가 역시 3.12% 오른 6만9400원에 장을 마감하며 다시 ‘7만전자’를 노려볼 수 있게... https://search.pstatic.net/common/?src=https%3A%2F%2Fimgnews.pstatic.net%2Fimage%2Forigin%2F018%2F2023%2F10%2F18%2F5598336.jpg&type=ff264_180&expire=2&refresh=true\n",
      "TSMC, 첨단공정 양산 지연…삼성전자 추격 기회 잡을까 http://www.newsis.com/view/?id=NISX20231018_0002487057&cID=13001&pID=13000 현재 TSMC는 파운드리 업계에서 시장 점유율 50% 이상을 기록하고 있지만 차세대와 차차세대 공정까지 생산 일정이 연기될 가능성이 커 삼성전자 등 경쟁업체의 맹추격을 받게 됐다. 18일 업계에 따르면 TSMC는 대만 신주 바오산 지역에 건립 중인 2나노 공장을 2025년 2분기에나 완공할 전망이다. 2나노는... https://search.pstatic.net/common/?src=https%3A%2F%2Fimgnews.pstatic.net%2Fimage%2Forigin%2F003%2F2023%2F10%2F18%2F12153557.jpg&type=ff264_180&expire=2&refresh=true\n",
      "[단독] '빛처럼 빠르게'… 삼성전자 5세대 HBM '샤인볼트'로 확정 https://www.sedaily.com/NewsView/29VZTWTJSR 삼성전자(005930)가 5세대 HBM3E의 브랜드명을 ‘샤인볼트’로 정한 것으로 확인됐다. HBM3E 개발과 마케팅에 속도를 올리면서 이 분야 1위를 달리는 SK하이닉스(000660)의 뒤를 바짝 추격할 것으로 예상된다. 17일 업계에 따르면 삼성전자는 HBM3E 제품인 샤인볼트의 시제품을 고객사에 보내 퀄(승인)... https://search.pstatic.net/common/?src=https%3A%2F%2Fimgnews.pstatic.net%2Fimage%2Forigin%2F011%2F2023%2F10%2F17%2F4250069.jpg&type=ff264_180&expire=2&refresh=true\n",
      "삼성전자, 인종차별에 부당해고? 미국서 피소됐다 https://h21.hani.co.kr/arti/economy/economy_general/54523.html 미국 실리콘밸리에서 삼성전자의 선행 기술을 연구·개발하는 ‘삼성리서치 아메리카’(Samsung Research America)가 인종차별 혐의로 피소된 사실이 드러났다. 2023년 10월12일 샌타클래라지방법원에 따르면, 삼성리서치 아메리카에서 일한 중국계 미국인 앤드루 모씨는 2022년 12월 회사를 상대로 차별 및... https://search.pstatic.net/common/?src=https%3A%2F%2Fimgnews.pstatic.net%2Fimage%2Forigin%2F036%2F2023%2F10%2F17%2F48870.jpg&type=ff264_180&expire=2&refresh=true\n",
      "이정배 삼성전자 사장 \"D램·낸드 집적도 극한 수준으로 높일 것\" https://www.news1.kr/articles/5201110 이정배 삼성전자 메모리사업부장(사장)은 17일 \"D램과 낸드플래시 집적도를 극한의 수준으로 높이겠다\"고 밝혔다. 이 사장은 이날 삼성전자(005930) 뉴스룸 기고문에서 \"D램은 3D 적층 구조, 신물질에 대해 연구개발하고 있고 V낸드는 단수를 지속 늘리면서도 높이는 줄이는 등 셀 간 간섭을 최소화해 업계에서... https://search.pstatic.net/common/?src=https%3A%2F%2Fimgnews.pstatic.net%2Fimage%2Forigin%2F421%2F2023%2F10%2F17%2F7113875.jpg&type=ff264_180&expire=2&refresh=true\n",
      "통상본부장 \"美 반도체 불확실성 완화…협의 채널 총동원 결과\" http://www.newsis.com/view/?id=NISX20231017_0002485157&cID=10401&pID=10400 정부 협의채널을 총동원한 결과 미국 정부가 삼성전자와 SK하이닉스의 중국 공장에 대해 별도 절차나 기한 없이 미국산 반도체 장비를 공급하도록 허가한 것이다. 안덕근 산업통상자원부 통상교섭본부장은 17일 오전 정부세종청사에서 기자들과 만나 \"우리 반도체 기업의 중국 내 공장 운영과 투자 관련... https://search.pstatic.net/common/?src=https%3A%2F%2Fimgnews.pstatic.net%2Fimage%2Forigin%2F003%2F2023%2F10%2F17%2F12150861.jpg&type=ff264_180&expire=2&refresh=true\n",
      "삼성전자, 반려동물 위치 확인 '갤럭시 스마트태그2' 출시 https://www.nocutnews.co.kr/news/6029487 삼성전자는 18일 새로운 편의 기능으로 더 똑똑해진 '갤럭시 스마트태그2'를 국내 출시한다. 갤럭시 스마트태그는 통신 기능이 없는 열쇠나 반려동물 등에 부착해 위치를 쉽게 확인할 수 있도록 도와주는 모바일 액세서리다. 갤럭시 스마트태그2는 블랙과 화이트 2가지 색상으로 출시된다. 가격은 3만... https://search.pstatic.net/common/?src=https%3A%2F%2Fimgnews.pstatic.net%2Fimage%2Forigin%2F079%2F2023%2F10%2F17%2F3823641.jpg&type=ff264_180&expire=2&refresh=true\n",
      "외국인 보름만에 증시 컴백…삼전·하이닉스에 뭉칫돈 https://www.hankyung.com/article/202310174210i 삼성전자와 SK하이닉스 등 반도체 관련주가 큰 폭으로 오르며 지수 상승을 이끌었다. 17일 코스피지수는 전 거래일보다 0.98% 오른 2460.17에 거래를 마쳤다. 외국인 투자자는 최근 16거래일 동안 순매도를 이어갔지만 이날은 4279억원어치를 순매수하며 주가를 끌어올렸다. 개인과 기관은 각각 2808억원... https://search.pstatic.net/common/?src=https%3A%2F%2Fimgnews.pstatic.net%2Fimage%2Forigin%2F015%2F2023%2F10%2F17%2F4903125.jpg&type=ff264_180&expire=2&refresh=true\n",
      "韓 3개 vs 佛 12개…\"휴대폰 단말 제조사 다양성 떨어져\" http://www.newsis.com/view/?id=NISX20231017_0002486101&cID=13005&pID=13100 시장분석업체 카운터포인트리서치에 따르면 지난해 분기별 국내 스마트폰 점유율은 삼성전자가 63~84%, 애플이 13~34%를 차지했다. 이와 달리 글로벌 스마트폰 시장에서는 샤오미, 오포, 비보 등이 5% 이상의 점유율을 확보하고 있었다. 이외에 브랜드 스마트폰 또한 30% 대의 점유율을 보이고 있는 것으로... https://search.pstatic.net/common/?src=https%3A%2F%2Fimgnews.pstatic.net%2Fimage%2Forigin%2F003%2F2023%2F10%2F17%2F12152342.jpg&type=ff264_180&expire=2&refresh=true\n",
      "[단독] '빛처럼 빠르게'… 삼성전자 5세대 HBM '샤인볼트'로 확정 https://www.sedaily.com/NewsView/29VZTWTJSR 삼성전자(005930)가 5세대 HBM3E의 브랜드명을 ‘샤인볼트’로 정한 것으로 확인됐다. HBM3E 개발과 마케팅에 속도를 올리면서 이 분야 1위를 달리는 SK하이닉스(000660)의 뒤를 바짝 추격할 것으로 예상된다. 17일 업계에 따르면 삼성전자는 HBM3E 제품인 샤인볼트의 시제품을 고객사에 보내 퀄(승인)... https://search.pstatic.net/common/?src=https%3A%2F%2Fimgnews.pstatic.net%2Fimage%2Forigin%2F011%2F2023%2F10%2F17%2F4250069.jpg&type=ff264_180&expire=2&refresh=true\n",
      "삼성전자, 젯.셋.고(JET.SET.GO) 챌린지 진행 https://www.yna.co.kr/view/PYH20231016008400013?input=1196m 삼성전자는 무선 스틱청소기 '비스포크 제트 AI'와 제트 청소기 장난감 세트(SET)가 소비자들에게 즐거운 청소 경험 선사하는 '젯.셋.고(JET.SET.GO) 챌린지'를 진행한다고 16일 밝혔다. 사진은 모델이 '젯.셋.고(JET.SET.GO) 챌린지'를 소개하는 모습. 2023.10.16 [삼성전자 제공. 재판매 및 DB 금지] https://search.pstatic.net/common/?src=https%3A%2F%2Fimgnews.pstatic.net%2Fimage%2Forigin%2F001%2F2023%2F10%2F16%2F14264213.jpg&type=ff264_180&expire=2&refresh=true\n",
      "소방청, 삼성전자·석유공사 자체소방대에 재난 대응교육 https://www.yna.co.kr/view/AKR20231017075800530?input=1195m 교육은 16∼18일 삼성전자, 17∼19일 한국석유공사 자체 소방대를 대상으로 충북 공주에 있는 중앙소방학교에서 열린다. 교육 프로그램은 화재대응 훈련, 화학사고 대응훈련, 심폐소생술 실습, 소방시설의 이해 등이다. 마재윤 소방청 중앙소방학교장은 \"이번 교육을 통해 자체 소방대원들이 사업장 내 재난... https://search.pstatic.net/common/?src=https%3A%2F%2Fimgnews.pstatic.net%2Fimage%2Forigin%2F001%2F2023%2F10%2F17%2F14267637.jpg&type=ofullfill264_180_gray&expire=2&refresh=true\n",
      "삼성전자, 제트 청소기 장난감 증정 '젯.셋.고' 챌린지 https://www.yna.co.kr/view/AKR20231016020800003?input=1195m 삼성전자는 무선 스틱청소기 '비스포크 제트 AI'를 통해 온 가족에게 즐거운 청소 문화를 제안하는 '젯.셋.고'(JET.SET.GO) 챌린지를 진행한다고 16일 밝혔다. 뽀로로 제작사 아이코닉스와 협업해 아이들에게 올바른 청소 습관을 길러줄 수 있도록 만든 '제트 청소기 장난감' 출시를 기념해 챌린지를 마련했다.... https://search.pstatic.net/common/?src=https%3A%2F%2Fimgnews.pstatic.net%2Fimage%2Forigin%2F001%2F2023%2F10%2F16%2F14264214.jpg&type=ff264_180&expire=2&refresh=true\n",
      "삼성전자 SK하이닉스가 벼르고 벼른 ‘DDR5의 시간’이 온다 https://www.chosun.com/economy/tech_it/2023/10/16/PBECBXCKQ5HSTD3VG73IHAH7NU/?utm_source=naver&utm_medium=referral&utm_campaign=naver-news 반도체 업계에 따르면 삼성전자는 올 4분기부터 DDR5 생산을 전면적으로 늘릴 계획이다. 삼성전자는 현재 화성에선 DDR4 등 범용 제품, 평택에선 DDR5 등 최신 제품을 생산하고 있는데 DDR5 생산 비율을 늘리는 방안을 검토 중인 것으로 알려졌다. 삼성은 올해 메모리 칩 감산을 선언하며 그 대상을 DDR4와... https://search.pstatic.net/common/?src=https%3A%2F%2Fimgnews.pstatic.net%2Fimage%2Forigin%2F023%2F2023%2F10%2F16%2F3793473.jpg&type=ff264_180&expire=2&refresh=true\n",
      "삼성전자, 인종차별에 부당해고? 미국서 피소됐다 https://h21.hani.co.kr/arti/economy/economy_general/54523.html 미국 실리콘밸리에서 삼성전자의 선행 기술을 연구·개발하는 ‘삼성리서치 아메리카’(Samsung Research America)가 인종차별 혐의로 피소된 사실이 드러났다. 2023년 10월12일 샌타클래라지방법원에 따르면, 삼성리서치 아메리카에서 일한 중국계 미국인 앤드루 모씨는 2022년 12월 회사를 상대로 차별 및... https://search.pstatic.net/common/?src=https%3A%2F%2Fimgnews.pstatic.net%2Fimage%2Forigin%2F036%2F2023%2F10%2F17%2F48870.jpg&type=ff264_180&expire=2&refresh=true\n",
      "이정배 삼성전자 사장 \"D램·낸드 집적도 극한 수준으로 높일 것\" https://www.news1.kr/articles/5201110 이정배 삼성전자 메모리사업부장(사장)은 17일 \"D램과 낸드플래시 집적도를 극한의 수준으로 높이겠다\"고 밝혔다. 이 사장은 이날 삼성전자(005930) 뉴스룸 기고문에서 \"D램은 3D 적층 구조, 신물질에 대해 연구개발하고 있고 V낸드는 단수를 지속 늘리면서도 높이는 줄이는 등 셀 간 간섭을 최소화해 업계에서... https://search.pstatic.net/common/?src=https%3A%2F%2Fimgnews.pstatic.net%2Fimage%2Forigin%2F421%2F2023%2F10%2F17%2F7113875.jpg&type=ff264_180&expire=2&refresh=true\n",
      "앤시스, 삼성전자 RFIC 반도체 설계 ‘레퍼런스 플로우’ 출시 https://zdnet.co.kr/view/?no=20231016172556 앤시스코리아(대표 문석환)는 시높시스와 협력해 삼성전자 파운드리 사업부와 함께 14LPU 공정 기술을 위해 개발한 무선 주파수 집적 회로(RFIC) 설계를 위한 새로운 레퍼런스 플로우를 출시한다고 16일 발표했다. 이 레퍼런스 플로우를 통해 양사 고객은 앤시스의 골든 사인오프 전자기 분석과 시높시스의... https://search.pstatic.net/common/?src=https%3A%2F%2Fimgnews.pstatic.net%2Fimage%2Forigin%2F092%2F2023%2F10%2F16%2F2308017.jpg&type=ff264_180&expire=2&refresh=true\n",
      "[특징주]삼성전자, 1% 가까이 하락해 6.9만원 하회 http://www.edaily.co.kr/news/newspath.asp?newsid=01925366635774232 삼성전자(005930)가 장 초반 1% 가까이 하락하면서 다시 6만9000원선을 하회해 움직이고 있다. 간밤 미 증시에선 엔비디아가 미국 상무부의 미·중 반도체 수출 규제 강화 발표에 급락하는 등 반도체 업종이 부진한 모습을 보였다. 18일 마켓포인트에 따르면 이날 오전 9시5분 삼성전자는 전 거래일보다 600원... https://search.pstatic.net/common/?src=https%3A%2F%2Fimgnews.pstatic.net%2Fimage%2Forigin%2F018%2F2023%2F10%2F18%2F5598436.jpg&type=ff264_180&expire=2&refresh=true\n",
      "“뽀로로와 함께 청소해요”…삼성전자, 젯셋고 챌린지 https://www.mk.co.kr/article/10850786 비스포크 제트 AI 뽀로로 제작사와 협업 “아이들에게 올바른 청소 습관을” 삼성전자가 새로운 청소문화를 제안하는 ‘젯셋고(JET.SET.GO) 챌린지’에 나섰다. 장난감 제작사와 협업해 아이들에게 올바른 청소 습관을 길러주겠다는 취지다. 16일 삼성전자는 무선 스틱청소기인 비스포크 제트 AI(인공지능)를... https://search.pstatic.net/common/?src=https%3A%2F%2Fimgnews.pstatic.net%2Fimage%2Forigin%2F009%2F2023%2F10%2F16%2F5199808.jpg&type=ff264_180&expire=2&refresh=true\n",
      "\"분실 걱정 끝\"…삼성전자, NFC 탑재 '스마트태그2' 18일 출시 http://www.newsworks.co.kr/news/articleView.html?idxno=730367 삼성전자가 위치확인 기능이 향상된 '갤럭시 스마트태그2'을 18일 국내 출시한다고 17일 밝혔다. 갤럭시 스마트태그는 통신 기능이 없는 열쇠나 반려동물 등에 부착해 위치를 쉽게 확인할 수 있도록 도와주는 모바일 액세서리다. 이번에 출시되는 갤럭시 스마트태그2는 NFC를 탑재하고 휴대성과 편의 기능을... https://search.pstatic.net/common/?src=https%3A%2F%2Fimgnews.pstatic.net%2Fimage%2Forigin%2F5525%2F2023%2F10%2F17%2F341406.jpg&type=ofullfill264_180_gray&expire=2&refresh=true\n",
      "[E Works] 삼성전자·LG전자·전자랜드 http://www.newsprime.co.kr/news/article.html?no=615777 ◆삼성전자, 갤럭시 스마트태그2 국내 출시 삼성전자(005930)는 '갤럭시 스마트태그2(Galaxy SmartTag2)'를 18일 국내 출시한다고 17일 밝혔다. 갤럭시 스마트태그는 통신 기능이 없는 열쇠나 반려동물 등에 부착해 위치를 쉽게 확인할 수 있도록 도와주는 모바일 액세서리다. 갤럭시 스마트태그2는 블랙과 화이트... https://search.pstatic.net/common/?src=https%3A%2F%2Fimgnews.pstatic.net%2Fimage%2Forigin%2F5325%2F2023%2F10%2F17%2F294584.jpg&type=ofullfill264_180_gray&expire=2&refresh=true\n",
      "코스피·코스닥 동반 약세…삼성전자 장중 7만원 넘겨 https://biz.sbs.co.kr/article_hub/20000139832?division=NAVER 다만 삼성전자는 장중 7만 원을 회복하는 등 전날의 강세를 이어가는 모습인데요. 시장 상황 먼저 알아보겠습니다. 김정연 기자, 국내 증시 상황 전해주시죠. [기자] 장 초반 하락 출발한 코스피는 현재 약보합 흐름을 보이고 있습니다. 오전 11시 20분 기준 코스피는 전장보다 0.01% 내린 2459.94에 거래되고... https://search.pstatic.net/common/?src=https%3A%2F%2Fimgnews.pstatic.net%2Fimage%2Forigin%2F374%2F2023%2F10%2F18%2F354917.jpg&type=ff264_180&expire=2&refresh=true\n",
      "4.7% 폭락한 엔비디아…삼성전자·SK하이닉스는? https://www.dt.co.kr/contents.html?article_no=2023101802109963040001&ref=naver 돌아온 외국인의 매수세에 삼성전자와 SK하이닉스등 반도체 대형주들이 전날 강세를 보였다. 삼성전자는 3.12% 오른 6만9400원에 거래를 마쳤고, SK하이닉스는 4.75% 급등한 13만원에 장을 마감했다. 삼성전자는 장중 최고 6만9900원까지 오르며 '7만전자'에 바짝 다가섰다. SK하이닉스는 13만800원으로... https://search.pstatic.net/common/?src=https%3A%2F%2Fimgnews.pstatic.net%2Fimage%2Forigin%2F029%2F2023%2F10%2F18%2F2831049.jpg&type=ff264_180&expire=2&refresh=true\n",
      "코스피, 돌아온 외국인에 1%대↑…삼성전자 2%↑ http://www.edaily.co.kr/news/newspath.asp?newsid=02820806635773904 삼성전자(005930)가 2%대 오르고 있으며 SK하이닉스(000660)는 4%대 강세다. 현대차(005380)와 LG화학(051910)은 1%대 오르고 있다. 삼성SDI(006400)는 2%대 주가가 상승 중이다. 종목별로 다이나믹디자인(145210)과 미래산업(025560)이 22%대 강세를 보이고 있으며 휴니드(005870)가 19%대, 극동유화(014530)가 13%대 오르고... https://search.pstatic.net/common/?src=https%3A%2F%2Fimgnews.pstatic.net%2Fimage%2Forigin%2F018%2F2023%2F10%2F17%2F5597960.jpg&type=ff264_180&expire=2&refresh=true\n",
      "이정배 삼성전자 사장 “D램-V낸드 최고 집적도 주도” https://www.donga.com/news/Economy/article/all/20231017/121717497/1 9세대 V낸드(수직으로 쌓아올린 메모리)는 더블스택 구조로 구현할 수 있는 최고 단수를 개발 중입니다.” 이정배 삼성전자 메모리사업부장(사장)이 17일 삼성전자 반도체뉴스룸에 올린 기고문을 통해 차세대 메모리반도체 개발과 관련해 이같이 공개했다. 삼성전자는 현재 8세대 236단 낸드를 양산하고... \n",
      "돌아온 '반도체의 시간'…삼성전자 이어 SK하이닉스도 '두근두근' https://www.news1.kr/articles/5198460 '반도체의 시간'이 다시 돌아오면서 삼성전자가 깜짝 실적을 냈다. 아직 실적을 발표하지 않은 SK하이닉스도 3분기(7~9월) 1조원대까지 적자를 줄였을 것으로 기대된다. 실적 개선의 일등공신은 D램이다. 낸드 플래시는 아직 회복이 더디지만, D램은 고대역폭메모리(HBM)와 DDR5의 평균판매가격(ASP)... https://search.pstatic.net/common/?src=https%3A%2F%2Fimgnews.pstatic.net%2Fimage%2Forigin%2F421%2F2023%2F10%2F16%2F7110807.jpg&type=ff264_180&expire=2&refresh=true\n"
     ]
    }
   ],
   "source": [
    "import requests\n",
    "from bs4 import BeautifulSoup\n",
    "import pandas as pd\n",
    "\n",
    "data = []\n",
    "for i in range(3):\n",
    "    response = requests.get(f\"https://search.naver.com/search.naver?where=news&sm=tab_pge&query=%EC%82%BC%EC%84%B1%EC%A0%84%EC%9E%90&start={i}1\")\n",
    "    html = response.text\n",
    "    soup = BeautifulSoup(html, 'html.parser')\n",
    "    articles = soup.select(\".news_wrap\")\n",
    "    for article in articles:\n",
    "        title = article.select_one(\".news_tit\").text\n",
    "        link = article.select_one(\".news_tit\").attrs['href']\n",
    "        content = article.select_one(\".api_txt_lines.dsc_txt_wrap\").text\n",
    "        # 예외 처리 1) try - except 활용\n",
    "        # try:\n",
    "        #     img_src = article.select_one(\".thumb.api_get\").attrs['data-lazysrc']\n",
    "        # except:\n",
    "        #     img_src = \"\"\n",
    "\n",
    "        # 예외 처리 2) if - else 활용\n",
    "        if article.select_one(\".thumb.api_get\") != None:\n",
    "            img_src = article.select_one(\".thumb.api_get\").attrs['data-lazysrc']\n",
    "        else:\n",
    "            img_src = \"\"\n",
    "\n",
    "        print(title, link, content, img_src)\n",
    "        data.append([title, link, content, img_src])\n",
    "\n",
    "# 데이터 프레임 만들기\n",
    "df = pd.DataFrame(data, columns=['제목', '링크', '내용', '썸네일주소'])\n",
    "\n",
    "# 엑셀 저장\n",
    "df.to_excel('naver_news.xlsx')"
   ]
  },
  {
   "cell_type": "code",
   "execution_count": null,
   "metadata": {},
   "outputs": [],
   "source": []
  }
 ],
 "metadata": {
  "kernelspec": {
   "display_name": "Python 3",
   "language": "python",
   "name": "python3"
  },
  "language_info": {
   "codemirror_mode": {
    "name": "ipython",
    "version": 3
   },
   "file_extension": ".py",
   "mimetype": "text/x-python",
   "name": "python",
   "nbconvert_exporter": "python",
   "pygments_lexer": "ipython3",
   "version": "3.10.6"
  }
 },
 "nbformat": 4,
 "nbformat_minor": 2
}
