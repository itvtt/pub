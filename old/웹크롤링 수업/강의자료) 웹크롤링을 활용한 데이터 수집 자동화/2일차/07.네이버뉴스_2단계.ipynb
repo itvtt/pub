{
 "cells": [
  {
   "cell_type": "code",
   "execution_count": null,
   "metadata": {},
   "outputs": [],
   "source": [
    "# 1페이지 전체 뉴스\n",
    "# 제목, 링크, 내용, 썸네일 주소 가져와서 출력\n",
    "# 힌트) 나무 태그 선택자 : .news_wrap"
   ]
  },
  {
   "cell_type": "code",
   "execution_count": 4,
   "metadata": {},
   "outputs": [
    {
     "name": "stdout",
     "output_type": "stream",
     "text": [
      "삼성전자, 고객이 원하는 시간에 '대형가전' 설치 http://www.newsis.com/view/?id=NISX20231018_0002486698&cID=13001&pID=13000 삼성전자가 19일부터 대형 가전제품 배송 시간대를 소비자가 직접 지정할 수 있는 '시간 맞춤 설치 서비스'를 선보인다고 18일 밝혔다. 이 서비스는 삼성닷컴을 통해 TV·냉장고·세탁기·건조기·공기청정기 등 설치성 가전제품 구매 시 이용할 수 있다. 서비스 비요ㅇ은 품목·수량·일정에 따라 최소 2만원에서... https://search.pstatic.net/common/?src=https%3A%2F%2Fimgnews.pstatic.net%2Fimage%2Forigin%2F003%2F2023%2F10%2F18%2F12153114.jpg&type=ff264_180&expire=2&refresh=true\n",
      "삼성전자 \"11나노급 D램과 9세대 V낸드로 메모리 초격차\" https://www.hankyung.com/article/202310174089i 삼성전자가 현재 개발 중인 11나노미터(nm·1nm=10억분의 1m)급 D램, 9세대 V낸드플래시를 통해 메모리반도체 사업에서 '초격차'를 유지할 것이란 뜻을 나타냈다. 이정배 삼성전자 메모리사업부장(사장)은 17일 삼성전자 반도체 뉴스룸에 올린 기고문 '삼성 메모리의 혁신, 무한한 가능성을 열다'를 통해 \"D램과... https://search.pstatic.net/common/?src=https%3A%2F%2Fimgnews.pstatic.net%2Fimage%2Forigin%2F015%2F2023%2F10%2F17%2F4903071.jpg&type=ff264_180&expire=2&refresh=true\n",
      "삼성전자, '갤럭시 스마트태그2' 국내 출시 https://www.yna.co.kr/view/PYH20231017045800013?input=1196m 삼성전자가 NFC를 탑재하고 휴대성과 편의 기능을 향상해 사용성을 강화한 '갤럭시 스마트태그 2(Galaxy SmartTag2)'를 오는 18일 국내 출시한다고 17일 밝혔다. 사진은 갤럭시 스마트태그2 편의 기능을 사용하는 모습. 2023.10.17 [삼성전자 제공. 재판매 및 DB 금지] https://search.pstatic.net/common/?src=https%3A%2F%2Fimgnews.pstatic.net%2Fimage%2Forigin%2F001%2F2023%2F10%2F17%2F14267170.jpg&type=ff264_180&expire=2&refresh=true\n",
      "'한 달' 만에 돌아온 외국인, 삼성전자부터 담았다 http://www.edaily.co.kr/news/newspath.asp?newsid=01272646635774232 미국이 삼성전자와 SK하이닉스의 중국 내 반도체 공장을 ‘검증된 최종 사용자’(VEU)로 지정하면서 투자 불확실성이 완화했기 때문이라는 판단이다. 삼성전자(005930)에만 3255억원어치 외국인 순매수가 발생했다. 이 덕에 주가 역시 3.12% 오른 6만9400원에 장을 마감하며 다시 ‘7만전자’를 노려볼 수 있게... https://search.pstatic.net/common/?src=https%3A%2F%2Fimgnews.pstatic.net%2Fimage%2Forigin%2F018%2F2023%2F10%2F18%2F5598336.jpg&type=ff264_180&expire=2&refresh=true\n",
      "[단독] '빛처럼 빠르게'… 삼성전자 5세대 HBM '샤인볼트'로 확정 https://www.sedaily.com/NewsView/29VZTWTJSR 삼성전자(005930)가 5세대 HBM3E의 브랜드명을 ‘샤인볼트’로 정한 것으로 확인됐다. HBM3E 개발과 마케팅에 속도를 올리면서 이 분야 1위를 달리는 SK하이닉스(000660)의 뒤를 바짝 추격할 것으로 예상된다. 17일 업계에 따르면 삼성전자는 HBM3E 제품인 샤인볼트의 시제품을 고객사에 보내 퀄(승인)... https://search.pstatic.net/common/?src=https%3A%2F%2Fimgnews.pstatic.net%2Fimage%2Forigin%2F011%2F2023%2F10%2F17%2F4250069.jpg&type=ff264_180&expire=2&refresh=true\n",
      "삼성전자, 인종차별에 부당해고? 미국서 피소됐다 https://h21.hani.co.kr/arti/economy/economy_general/54523.html 미국 실리콘밸리에서 삼성전자의 선행 기술을 연구·개발하는 ‘삼성리서치 아메리카’(Samsung Research America)가 인종차별 혐의로 피소된 사실이 드러났다. 2023년 10월12일 샌타클래라지방법원에 따르면, 삼성리서치 아메리카에서 일한 중국계 미국인 앤드루 모씨는 2022년 12월 회사를 상대로 차별 및... https://search.pstatic.net/common/?src=https%3A%2F%2Fimgnews.pstatic.net%2Fimage%2Forigin%2F036%2F2023%2F10%2F17%2F48870.jpg&type=ff264_180&expire=2&refresh=true\n",
      "이정배 삼성전자 사장 \"D램·낸드 집적도 극한 수준으로 높일 것\" https://www.news1.kr/articles/5201110 이정배 삼성전자 메모리사업부장(사장)은 17일 \"D램과 낸드플래시 집적도를 극한의 수준으로 높이겠다\"고 밝혔다. 이 사장은 이날 삼성전자(005930) 뉴스룸 기고문에서 \"D램은 3D 적층 구조, 신물질에 대해 연구개발하고 있고 V낸드는 단수를 지속 늘리면서도 높이는 줄이는 등 셀 간 간섭을 최소화해 업계에서... https://search.pstatic.net/common/?src=https%3A%2F%2Fimgnews.pstatic.net%2Fimage%2Forigin%2F421%2F2023%2F10%2F17%2F7113875.jpg&type=ff264_180&expire=2&refresh=true\n",
      "통상본부장 \"美 반도체 불확실성 완화…협의 채널 총동원 결과\" http://www.newsis.com/view/?id=NISX20231017_0002485157&cID=10401&pID=10400 정부 협의채널을 총동원한 결과 미국 정부가 삼성전자와 SK하이닉스의 중국 공장에 대해 별도 절차나 기한 없이 미국산 반도체 장비를 공급하도록 허가한 것이다. 안덕근 산업통상자원부 통상교섭본부장은 17일 오전 정부세종청사에서 기자들과 만나 \"우리 반도체 기업의 중국 내 공장 운영과 투자 관련... https://search.pstatic.net/common/?src=https%3A%2F%2Fimgnews.pstatic.net%2Fimage%2Forigin%2F003%2F2023%2F10%2F17%2F12150861.jpg&type=ff264_180&expire=2&refresh=true\n",
      "\"삼성전자·SK하이닉스 HBM으로 AI 수혜열차 탑승\" 긍정전망 나왔다 http://www.fnnews.com/news/202310171036020177 삼성전자와 SK하이닉스의 메모리 반도체가 AI(인공지능) 붐의 수혜를 볼 것이라는 전망이 나왔다. 여기에 메모리 반도체 가격이 반등할 조짐이 있는 만큼 삼성전자와 SK하이닉스가 그동안의 부진에서 벗어날 것이라는 관측이다. 16일(현지시간) 월스트리트저널(WSJ)은 재고 누적으로 지난해 최고점 대비... https://search.pstatic.net/common/?src=https%3A%2F%2Fimgnews.pstatic.net%2Fimage%2Forigin%2F014%2F2023%2F10%2F17%2F5086870.jpg&type=ff264_180&expire=2&refresh=true\n",
      "“최소 7만전자는 갑시다”…삼성전자 3%대 강세에 주주들 화색 [투자360] http://news.heraldcorp.com/view.php?ud=20231017000679 고고’ (17일 한 온라인 삼성전자 주식게시판) 코스피가 17일 외국인의 대량 매수와 삼성전자의 주가 급등에 힘입어 전날 대비 1% 상승한 2460대에서 장을 마쳤다. 이날 코스피 종가는 23.93포인트(0.98%) 오른 2460.17로 집계됐다. 지수는 전장보다 17.90포인트(0.73%) 오른 2454.14에 개장한 뒤 최고... https://search.pstatic.net/common/?src=https%3A%2F%2Fimgnews.pstatic.net%2Fimage%2Forigin%2F016%2F2023%2F10%2F17%2F2211259.jpg&type=ff264_180&expire=2&refresh=true\n"
     ]
    }
   ],
   "source": [
    "import requests\n",
    "from bs4 import BeautifulSoup\n",
    "\n",
    "response = requests.get(\"https://search.naver.com/search.naver?where=news&sm=tab_jum&query=%EC%82%BC%EC%84%B1%EC%A0%84%EC%9E%90\")\n",
    "html = response.text\n",
    "soup = BeautifulSoup(html, 'html.parser')\n",
    "articles = soup.select(\".news_wrap\")\n",
    "for article in articles:\n",
    "    title = article.select_one(\".news_tit\").text\n",
    "    link = article.select_one(\".news_tit\").attrs['href']\n",
    "    content = article.select_one(\".api_txt_lines.dsc_txt_wrap\").text\n",
    "    img_src = article.select_one(\".thumb.api_get\").attrs['data-lazysrc']\n",
    "    print(title, link, content, img_src)"
   ]
  },
  {
   "cell_type": "code",
   "execution_count": null,
   "metadata": {},
   "outputs": [],
   "source": []
  }
 ],
 "metadata": {
  "kernelspec": {
   "display_name": "Python 3",
   "language": "python",
   "name": "python3"
  },
  "language_info": {
   "codemirror_mode": {
    "name": "ipython",
    "version": 3
   },
   "file_extension": ".py",
   "mimetype": "text/x-python",
   "name": "python",
   "nbconvert_exporter": "python",
   "pygments_lexer": "ipython3",
   "version": "3.10.6"
  }
 },
 "nbformat": 4,
 "nbformat_minor": 2
}
