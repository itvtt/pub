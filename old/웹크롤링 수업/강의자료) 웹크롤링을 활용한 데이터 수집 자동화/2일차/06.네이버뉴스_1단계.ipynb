{
 "cells": [
  {
   "cell_type": "code",
   "execution_count": null,
   "metadata": {},
   "outputs": [],
   "source": [
    "# 첫번째 뉴스\n",
    "# 제목, 링크, 내용 가져와서 출력\n",
    "# 썸네일 주소(심화) : img 태그의 src 속성값\n",
    "# 힌트) img.attrs 출력해보기"
   ]
  },
  {
   "cell_type": "code",
   "execution_count": 12,
   "metadata": {},
   "outputs": [
    {
     "name": "stdout",
     "output_type": "stream",
     "text": [
      "삼성전자, 고객이 원하는 시간에 '대형가전' 설치 http://www.newsis.com/view/?id=NISX20231018_0002486698&cID=13001&pID=13000 삼성전자가 19일부터 대형 가전제품 배송 시간대를 소비자가 직접 지정할 수 있는 '시간 맞춤 설치 서비스'를 선보인다고 18일 밝혔다. 이 서비스는 삼성닷컴을 통해 TV·냉장고·세탁기·건조기·공기청정기 등 설치성 가전제품 구매 시 이용할 수 있다. 서비스 비요ㅇ은 품목·수량·일정에 따라 최소 2만원에서... https://search.pstatic.net/common/?src=https%3A%2F%2Fimgnews.pstatic.net%2Fimage%2Forigin%2F003%2F2023%2F10%2F18%2F12153114.jpg&type=ff264_180&expire=2&refresh=true\n"
     ]
    }
   ],
   "source": [
    "import requests\n",
    "from bs4 import BeautifulSoup\n",
    "\n",
    "response = requests.get(\"https://search.naver.com/search.naver?where=news&sm=tab_jum&query=%EC%82%BC%EC%84%B1%EC%A0%84%EC%9E%90\")\n",
    "html = response.text\n",
    "soup = BeautifulSoup(html, 'html.parser')\n",
    "title = soup.select_one(\".news_tit\").text\n",
    "link = soup.select_one(\".news_tit\").attrs['href']\n",
    "content = soup.select_one(\".api_txt_lines.dsc_txt_wrap\").text\n",
    "img_src = soup.select_one(\".thumb.api_get\").attrs['data-lazysrc']\n",
    "print(title, link, content, img_src)"
   ]
  },
  {
   "cell_type": "code",
   "execution_count": null,
   "metadata": {},
   "outputs": [],
   "source": []
  }
 ],
 "metadata": {
  "kernelspec": {
   "display_name": "Python 3",
   "language": "python",
   "name": "python3"
  },
  "language_info": {
   "codemirror_mode": {
    "name": "ipython",
    "version": 3
   },
   "file_extension": ".py",
   "mimetype": "text/x-python",
   "name": "python",
   "nbconvert_exporter": "python",
   "pygments_lexer": "ipython3",
   "version": "3.10.6"
  }
 },
 "nbformat": 4,
 "nbformat_minor": 2
}
