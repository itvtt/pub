{
 "cells": [
  {
   "cell_type": "code",
   "execution_count": 3,
   "metadata": {},
   "outputs": [
    {
     "data": {
      "text/plain": [
       "NoneType"
      ]
     },
     "execution_count": 3,
     "metadata": {},
     "output_type": "execute_result"
    }
   ],
   "source": [
    "import requests\n",
    "from bs4 import BeautifulSoup\n",
    "\n",
    "response = requests.get(\"https://startcoding-crawling.herokuapp.com/lv2\")\n",
    "html = response.text\n",
    "soup = BeautifulSoup(html, 'html.parser')\n",
    "type(soup.select_one(\".post-title\"))\n",
    "# 동적인 페이지라 크롤링 할 수 없음"
   ]
  },
  {
   "cell_type": "code",
   "execution_count": 4,
   "metadata": {},
   "outputs": [],
   "source": [
    "from selenium import webdriver\n",
    "from selenium.webdriver.common.by import By\n",
    "from selenium.webdriver.common.keys import Keys\n",
    "import time\n",
    "\n",
    "# 크롬 드라이버 생성\n",
    "driver = webdriver.Chrome()\n",
    "\n",
    "# 페이지 이동\n",
    "driver.get('https://startcoding-crawling.herokuapp.com/lv2')"
   ]
  },
  {
   "cell_type": "code",
   "execution_count": 12,
   "metadata": {},
   "outputs": [],
   "source": [
    "# 스크롤 끝까지 내리기\n",
    "driver.find_element(By.CSS_SELECTOR, \"body\").send_keys(Keys.END)"
   ]
  },
  {
   "cell_type": "code",
   "execution_count": 7,
   "metadata": {},
   "outputs": [],
   "source": [
    "html = driver.page_source # 현재 드라이버의 html"
   ]
  },
  {
   "cell_type": "code",
   "execution_count": null,
   "metadata": {},
   "outputs": [],
   "source": [
    "from bs4 import BeautifulSoup\n",
    "soup = BeautifulSoup(html, 'html.parser')\n",
    "posts = soup.select(\".post-preview\")\n",
    "for post in posts:\n",
    "    title = post.select_one(\".post-title\").text\n",
    "    content = post.select_one(\".post-subtitle\").text.replace('\\r\\n', '')\n",
    "    link = post.select_one(\".post-preview > a\").attrs['href']\n",
    "    print(title, content, link)"
   ]
  },
  {
   "cell_type": "code",
   "execution_count": null,
   "metadata": {},
   "outputs": [],
   "source": []
  }
 ],
 "metadata": {
  "kernelspec": {
   "display_name": "Python 3",
   "language": "python",
   "name": "python3"
  },
  "language_info": {
   "codemirror_mode": {
    "name": "ipython",
    "version": 3
   },
   "file_extension": ".py",
   "mimetype": "text/x-python",
   "name": "python",
   "nbconvert_exporter": "python",
   "pygments_lexer": "ipython3",
   "version": "3.10.6"
  }
 },
 "nbformat": 4,
 "nbformat_minor": 2
}
