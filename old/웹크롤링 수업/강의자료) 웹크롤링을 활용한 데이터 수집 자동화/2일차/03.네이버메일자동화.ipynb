{
 "cells": [
  {
   "cell_type": "code",
   "execution_count": 1,
   "metadata": {},
   "outputs": [],
   "source": [
    "from selenium import webdriver\n",
    "from selenium.webdriver.common.by import By\n",
    "from selenium.webdriver.common.keys import Keys\n",
    "import time\n",
    "\n",
    "# 크롬 드라이버 생성\n",
    "driver = webdriver.Chrome()\n",
    "\n",
    "# 네이버 로그인 페이지 이동\n",
    "driver.get('https://nid.naver.com/nidlogin.login?mode=form&url=https://www.naver.com/')"
   ]
  },
  {
   "cell_type": "code",
   "execution_count": 6,
   "metadata": {},
   "outputs": [],
   "source": [
    "import time\n",
    "# 1. 메일쓰기 버튼 클릭\n",
    "driver.find_element(By.CSS_SELECTOR, \"#root > div > nav > div > div.lnb_header > div.lnb_task > a.item.button_write\").click()\n",
    "time.sleep(1)\n",
    "\n",
    "# 2. 받는 사람 입력\n",
    "driver.find_element(By.CSS_SELECTOR, \"#recipient_input_element\").send_keys('kgj756@naver.com')\n",
    "\n",
    "# 3. 제목 입력\n",
    "driver.find_element(By.CSS_SELECTOR, \"#subject_title\").send_keys('셀레니움 쉽습니다!')\n",
    "time.sleep(1)\n",
    "\n",
    "# 4. 본문 입력 (본문 입력 전에 iframe으로 전환해야함)\n",
    "# - iframe 태그 찾기\n",
    "iframe = driver.find_element(By.CSS_SELECTOR, \"#content > div.contents_area > div > div.editor_area > div > div.editor_body > iframe\")\n",
    "\n",
    "# - iframe 으로 프레임 전환\n",
    "driver.switch_to.frame(iframe)\n",
    "\n",
    "# - 본문 입력\n",
    "driver.find_element(By.CSS_SELECTOR, \"body > div > div.workseditor-content\").send_keys('생각보다 어렵네요 ㅠ')\n",
    "time.sleep(1)\n",
    "\n",
    "# - 원래 프레임 전환\n",
    "driver.switch_to.default_content()\n",
    "\n",
    "# 5. 보내기 버튼 클릭\n",
    "driver.find_element(By.CSS_SELECTOR, \"#content > div.mail_toolbar.type_write > div:nth-child(1) > div > button.button_write_task\").click()"
   ]
  },
  {
   "cell_type": "code",
   "execution_count": null,
   "metadata": {},
   "outputs": [],
   "source": []
  }
 ],
 "metadata": {
  "kernelspec": {
   "display_name": "Python 3",
   "language": "python",
   "name": "python3"
  },
  "language_info": {
   "codemirror_mode": {
    "name": "ipython",
    "version": 3
   },
   "file_extension": ".py",
   "mimetype": "text/x-python",
   "name": "python",
   "nbconvert_exporter": "python",
   "pygments_lexer": "ipython3",
   "version": "3.10.6"
  }
 },
 "nbformat": 4,
 "nbformat_minor": 2
}
