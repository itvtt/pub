{
 "cells": [
  {
   "cell_type": "code",
   "execution_count": 4,
   "metadata": {},
   "outputs": [
    {
     "name": "stdout",
     "output_type": "stream",
     "text": [
      "BLACKPINK https://youtube-rank.com/board/bbs/board.php?bo_table=youtube&wr_id=3203&page=1 BLACKPINK Official YouTube Channel\n",
      "블랙핑크 공식 유튜브 채널입니다.\n",
      "\n",
      "JISOO, JENNIE, ROSÉ, LISA\n",
      "지수, 제니, 로제, 리사\n"
     ]
    }
   ],
   "source": [
    "import requests\n",
    "from bs4 import BeautifulSoup\n",
    "\n",
    "response = requests.get(\"https://youtube-rank.com/board/bbs/board.php?bo_table=youtube&page=1\")\n",
    "html = response.text\n",
    "soup = BeautifulSoup(html, 'html.parser')\n",
    "name = soup.select_one(\"h1 > a\").text.strip()\n",
    "link = soup.select_one(\"h1 > a\").attrs['href']\n",
    "\n",
    "# 상세 페이지 요청\n",
    "response = requests.get(link)\n",
    "html = response.text\n",
    "soup = BeautifulSoup(html, 'html.parser')\n",
    "description = soup.select_one(\"#sns-content\").text.strip()\n",
    "print(name, link, description)"
   ]
  },
  {
   "cell_type": "code",
   "execution_count": null,
   "metadata": {},
   "outputs": [],
   "source": []
  }
 ],
 "metadata": {
  "kernelspec": {
   "display_name": "Python 3",
   "language": "python",
   "name": "python3"
  },
  "language_info": {
   "codemirror_mode": {
    "name": "ipython",
    "version": 3
   },
   "file_extension": ".py",
   "mimetype": "text/x-python",
   "name": "python",
   "nbconvert_exporter": "python",
   "pygments_lexer": "ipython3",
   "version": "3.10.6"
  }
 },
 "nbformat": 4,
 "nbformat_minor": 2
}
