{
 "cells": [
  {
   "cell_type": "code",
   "execution_count": null,
   "metadata": {},
   "outputs": [],
   "source": [
    "from selenium import webdriver\n",
    "from selenium.webdriver.common.by import By\n",
    "from selenium.webdriver.common.keys import Keys\n",
    "\n",
    "driver = webdriver.Chrome()"
   ]
  },
  {
   "cell_type": "code",
   "execution_count": null,
   "metadata": {},
   "outputs": [],
   "source": [
    "driver.get('https://www.naver.com')"
   ]
  },
  {
   "cell_type": "code",
   "execution_count": null,
   "metadata": {},
   "outputs": [],
   "source": [
    "driver.find_element(By.CSS_SELECTOR, \"#query\").send_keys('무야호')\n",
    "# driver.find_element(By.CSS_SELECTOR, \"#search-btn\").click()\n",
    "\n",
    "\n",
    "driver.find_element(By.CSS_SELECTOR, \"#query\").send_keys(Keys.ENTER)"
   ]
  },
  {
   "cell_type": "code",
   "execution_count": null,
   "metadata": {},
   "outputs": [],
   "source": []
  },
  {
   "cell_type": "code",
   "execution_count": null,
   "metadata": {},
   "outputs": [],
   "source": [
    "from selenium import webdriver\n",
    "from selenium.webdriver.common.by import By\n",
    "from selenium.webdriver.common.keys import Keys\n",
    "import time\n",
    "driver = webdriver.Chrome()\n",
    "\n",
    "driver.get('https://dict.naver.com/')\n",
    "\n",
    "driver.find_element(By.CSS_SELECTOR, \"#ac_input2\").send_keys('자동화')\n",
    "driver.find_element(By.CSS_SELECTOR, \"#ac_input2\").send_keys(Keys.ENTER)\n",
    "driver.switch_to.window(driver.window_handles[1])\n",
    "time.sleep(2)\n",
    "driver.find_element(By.XPATH, '//*[@id=\"content\"]/div[3]/ul/li/div[2]/div/strong/a').click()\n",
    "driver.close()"
   ]
  },
  {
   "cell_type": "code",
   "execution_count": null,
   "metadata": {},
   "outputs": [],
   "source": []
  },
  {
   "cell_type": "code",
   "execution_count": null,
   "metadata": {},
   "outputs": [],
   "source": []
  },
  {
   "cell_type": "code",
   "execution_count": null,
   "metadata": {},
   "outputs": [],
   "source": []
  },
  {
   "cell_type": "code",
   "execution_count": 22,
   "metadata": {},
   "outputs": [],
   "source": [
    "from selenium import webdriver\n",
    "from selenium.webdriver.common.by import By\n",
    "from selenium.webdriver.common.keys import Keys\n",
    "import time\n",
    "driver = webdriver.Chrome()\n",
    "\n",
    "driver.get('https://mail.naver.com/v2/folders/0/all')"
   ]
  },
  {
   "cell_type": "code",
   "execution_count": 25,
   "metadata": {},
   "outputs": [],
   "source": [
    "driver.find_element(By.CSS_SELECTOR, \"#root > div > nav > div > div.lnb_header > div.lnb_task > a.item.button_write\").click()\n",
    "time.sleep(2)\n",
    "driver.find_element(By.CSS_SELECTOR, \"#recipient_input_element\").send_keys('kgj756@naver.com')\n",
    "driver.find_element(By.CSS_SELECTOR, \"#subject_title\").send_keys('자동')\n",
    "\n",
    "frame = driver.find_element(By.CSS_SELECTOR,\"iframe[tabindex='5']\")\n",
    "driver.switch_to.frame(frame)\n",
    "\n",
    "driver.find_element(By.CSS_SELECTOR, \"body > div > div.workseditor-content > div:nth-child(1)\").send_keys('ddd')\n",
    "\n",
    "driver.switch_to.default_content()\n",
    "\n",
    "driver.find_element(By.CSS_SELECTOR, \"#content > div.mail_toolbar.type_write > div:nth-child(1) > div > button.button_write_task\").click()"
   ]
  },
  {
   "cell_type": "code",
   "execution_count": null,
   "metadata": {},
   "outputs": [],
   "source": [
    "# 셀렉터를 선택한다음 변수를 줄수도 있구나\n",
    "\n",
    "\n",
    "ifr = driver.find_element(By.CSS_SELECTOR , '#dadad~~ >  NJANDJN > SJKABDKJAF > iframe')\n",
    "\n",
    "driver.switch_to.frame(ifr)\n"
   ]
  }
 ],
 "metadata": {
  "kernelspec": {
   "display_name": "Python 3",
   "language": "python",
   "name": "python3"
  },
  "language_info": {
   "codemirror_mode": {
    "name": "ipython",
    "version": 3
   },
   "file_extension": ".py",
   "mimetype": "text/x-python",
   "name": "python",
   "nbconvert_exporter": "python",
   "pygments_lexer": "ipython3",
   "version": "3.10.9"
  }
 },
 "nbformat": 4,
 "nbformat_minor": 2
}
