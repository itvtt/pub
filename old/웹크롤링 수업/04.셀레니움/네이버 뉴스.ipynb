{
 "cells": [
  {
   "cell_type": "code",
   "execution_count": 2,
   "metadata": {},
   "outputs": [
    {
     "data": {
      "text/plain": [
       "[[\"삼성전자, 고객이 원하는 시간에 '대형가전' 설치\",\n",
       "  'http://www.newsis.com/view/?id=NISX20231018_0002486698&cID=13001&pID=13000',\n",
       "  \"삼성전자가 19일부터 대형 가전제품 배송 시간대를 소비자가 직접 지정할 수 있는 '시간 맞춤 설치 서비스'를 선보인다고 18일 밝혔다. 이 서비스는 삼성닷컴을 통해 TV·냉장고·세탁기·건조기·공기청정기 등 설치성 가전제품 구매 시 이용할 수 있다. 서비스 비용은 품목·수량·일정에 따라 최소 2만원에서...\",\n",
       "  'https://search.pstatic.net/common/?src=https%3A%2F%2Fimgnews.pstatic.net%2Fimage%2Forigin%2F003%2F2023%2F10%2F18%2F12153114.jpg&type=ff264_180&expire=2&refresh=true'],\n",
       " [\"삼성전자, 'S펜 크리에이터 에디션' 출시\",\n",
       "  'https://www.yna.co.kr/view/PYH20231019009100013?input=1196m',\n",
       "  \"삼성전자가 갤럭시 제품에서 프리미엄 S펜 경험을 제공하는 'S펜 크리에이터 에디션'을 19일 국내 출시한다고 밝혔다. 사진은 S펜 크리에이터 에디션 제품 이미지. 2023.10.19 [삼성전자 제공. 재판매 및 DB 금지]\",\n",
       "  'https://search.pstatic.net/common/?src=https%3A%2F%2Fimgnews.pstatic.net%2Fimage%2Forigin%2F001%2F2023%2F10%2F19%2F14272399.jpg&type=ff264_180&expire=2&refresh=true'],\n",
       " ['\"마누라·자식 빼고 바꿔보자\"…삼성 바꾼 30년 전 \\'이 발언\\'',\n",
       "  'https://www.hankyung.com/article/202310186488i',\n",
       "  '\"이건희 선대회장은 위대한 전략가이자 사상가\" 삼성이 18일 서울 삼성전자 서초사옥에서 \\'삼성 신경영 30주년 기념 국제학술대회\\'를 개최했다. 고(故) 이건희 선대회장의 3주기(10월25일)를 맞아 업적과 경영 철학 등을 다각도로 재조명하고 \\'도전\\', \\'창조\\', \\'혁신\\'으로 압축되는 신경영 정신을 되새기기 위해서다....',\n",
       "  'https://search.pstatic.net/common/?src=https%3A%2F%2Fimgnews.pstatic.net%2Fimage%2Forigin%2F015%2F2023%2F10%2F18%2F4903528.jpg&type=ff264_180&expire=2&refresh=true'],\n",
       " ['삼성전자, 맞춤보관 강화한 ‘비스포크 김치플러스’ 출시',\n",
       "  'http://sports.khan.co.kr/news/sk_index.html?art_id=202310190955013&sec_id=561101&pt=nv',\n",
       "  '삼성전자는 맞춤 보관 기능을 강화한 김치냉장고 ‘비스포크 김치플러스’ 신제품을 출시한다고 19일 밝혔다. 온도 편차 ±0.3도 이내의 초미세 정온 기술과 메탈 쿨링 기술로 김치의 맛과 신선함을 오래 유지하는 제품. 김치뿐 아니라 과일, 곡물, 와인 등 보관이 쉽지 않은 식재료를 위한 23개의 맞춤 보관...',\n",
       "  'https://search.pstatic.net/common/?src=https%3A%2F%2Fimgnews.pstatic.net%2Fimage%2Forigin%2F144%2F2023%2F10%2F19%2F919549.jpg&type=ff264_180&expire=2&refresh=true'],\n",
       " ['\"소프트웨어 개발자 모여라\"…삼성전자, 내달 콘퍼런스 개최',\n",
       "  'https://www.news1.kr/articles/5203582',\n",
       "  \"삼성전자가 다음 달 14일부터 15일까지 '삼성 개발자 콘퍼런스 코리아 2023(Samsung Developer Conference Korea 2023, SDC23 Korea)'을 연다. 삼성전자(005930)는 소프트웨어의 중요성을 강조하기 위해 지난 2014년부터 매년 개발자 행사를 열고 있다. 소프트웨어 개발자라면 누구나 참석할 수 있으며, 다양한...\",\n",
       "  'https://search.pstatic.net/common/?src=https%3A%2F%2Fimgnews.pstatic.net%2Fimage%2Forigin%2F421%2F2023%2F10%2F19%2F7118945.jpg&type=ff264_180&expire=2&refresh=true'],\n",
       " [\"삼성전자, 소프트웨어 기술 교류의 장 '개발자 콘퍼런스' 내달 개최\",\n",
       "  'http://moneys.mt.co.kr/news/mwView.php?no=2023101908273612246',\n",
       "  \"삼성전자가 소프트웨어 개발자들을 위한 기술 교류의 장을 마련한다. 다양한 소프트웨어 연구 분야에 대한 의견을 나누고 생산성 향상을 위한 논의도 진행될 예정이다. 삼성전자는 다음 달 14일부터 15일까지 서울 서초사옥에서 '삼성 개발자 콘퍼런스 코리아 2023'을 개최한다고 19일 밝혔다. 소프트웨어...\",\n",
       "  'https://search.pstatic.net/common/?src=https%3A%2F%2Fimgnews.pstatic.net%2Fimage%2Forigin%2F417%2F2023%2F10%2F19%2F955965.jpg&type=ff264_180&expire=2&refresh=true'],\n",
       " ['[단독] “남들 5G 쓸 때 우린 6G 선점”…삼성전자 ‘초격차’ 더 벌린다',\n",
       "  'https://www.mk.co.kr/article/10853150',\n",
       "  '美 텍사스서 1㎞ 주파수 실험 최장거리 6G 통신에 ‘도전장’ 삼성전자가 6세대(6G) 이동통신 상용화에 강력한 드라이브를 걸면서 차세대 통신 시장 패권 다툼이 더욱 거세지게 됐다. 미국 현지서 최장 거리 6G 통신에 도전한다. 18일 업계에 따르면 삼성전자에서 선행 기술 연구를 담당하는...',\n",
       "  'https://search.pstatic.net/common/?src=https%3A%2F%2Fimgnews.pstatic.net%2Fimage%2Forigin%2F009%2F2023%2F10%2F18%2F5201370.jpg&type=ff264_180&expire=2&refresh=true'],\n",
       " ['삼성전자-넷리스트 특허분쟁 새국면… 美 항소법원 ‘삼성 계약위반’ 원심 파...',\n",
       "  'https://biz.chosun.com/it-science/ict/2023/10/18/NMASVXGILZFHDIXCLP2NFADUNM/?utm_source=naver&utm_medium=original&utm_campaign=biz',\n",
       "  '美항소법원 “계약 내용 등 추가 검토 필요” 다른 특허침해 소송에도 영향 미칠 삼성전자가 미국 반도체 기업 넷리스트와 벌이는 특허 분쟁이 미국 연방 항소법원의 원심 파기로 새로운 국면을 맞았다. 18일 업계에 따르면 미국 연방 제9항소법원은 최근 양사 간 계약이 삼성전자의 의무 위반을 이유로...',\n",
       "  'https://search.pstatic.net/common/?src=https%3A%2F%2Fimgnews.pstatic.net%2Fimage%2Forigin%2F366%2F2023%2F10%2F18%2F940432.jpg&type=ff264_180&expire=2&refresh=true'],\n",
       " ['갤럭시에서 스팸 문자 걸러낸다…KISA-삼성전자 MOU',\n",
       "  'https://www.yna.co.kr/view/AKR20231018134100017?input=1195m',\n",
       "  '한국인터넷진흥원(KISA)과 삼성전자가 18일 경기도 수원 디지털시티에서 휴대전화로 유입되는 스팸 문자로 인한 이용자 피해를 줄이기 위한 업무협약을 체결했다. 이번 협약을 통해 양측은 삼성전자 단말기에서 악성 문자를 한 번 더 필터링하는 서비스를 운영하기 위해 데이터 공유와 개발·운영 등에서...',\n",
       "  'https://search.pstatic.net/common/?src=https%3A%2F%2Fimgnews.pstatic.net%2Fimage%2Forigin%2F001%2F2023%2F10%2F18%2F14271708.jpg&type=ff264_180&expire=2&refresh=true'],\n",
       " ['삼성전자, 프리미엄 펜 출시…12만원',\n",
       "  'http://www.wowtv.co.kr/NewsCenter/News/Read?articleId=A202310190048&t=NN',\n",
       "  \"삼성전자가 19일 갤럭시 제품에서 활용할 수 있는 프리미엄 S펜 'S펜 크리에이터 에디션'을 출시했다. 디지털 학습과 개인 창작 활동에서 프리미엄 S펜을 필요로 하는 소비자들을 위해 드로잉과 필기에 최적화된 제품이라고 삼성전자는 설명했다. 삼성전자에 따르면 향상된 기울기 감도를 통해 획마다...\",\n",
       "  'https://search.pstatic.net/common/?src=https%3A%2F%2Fimgnews.pstatic.net%2Fimage%2Forigin%2F215%2F2023%2F10%2F19%2F1129974.jpg&type=ff264_180&expire=2&refresh=true']]"
      ]
     },
     "execution_count": 2,
     "metadata": {},
     "output_type": "execute_result"
    }
   ],
   "source": [
    "import requests\n",
    "from bs4 import BeautifulSoup\n",
    "import urllib.request\n",
    "\n",
    "\n",
    "data = []\n",
    "response = requests.get(f'https://search.naver.com/search.naver?where=news&sm=tab_jum&query=%EC%82%BC%EC%84%B1%EC%A0%84%EC%9E%90')\n",
    "html = response.text\n",
    "soup = BeautifulSoup(html, 'html.parser')\n",
    "# posts = soup.select(\".news_wrap\")\n",
    "posts = soup.select(\".list_news > li\")\n",
    "# print(posts)\n",
    "# i = 0\n",
    "for post in posts:\n",
    "    # i = i+1\n",
    "    title = post.select_one(\".news_tit\").text\n",
    "    link = post.select_one(\".news_tit\").attrs['href']\n",
    "    content = post.select_one(\".api_txt_lines.dsc_txt_wrap\").text\n",
    "    img_src = post.select_one(\".thumb.api_get\").attrs['data-lazysrc']\n",
    "    \n",
    "    # 이미지 저장\n",
    "    # urllib.request.urlretrieve(img_src,f'img/{i}.jpg')\n",
    "    data.append([title, link, content, img_src])\n",
    "data\n"
   ]
  },
  {
   "cell_type": "code",
   "execution_count": null,
   "metadata": {},
   "outputs": [],
   "source": []
  },
  {
   "cell_type": "code",
   "execution_count": null,
   "metadata": {},
   "outputs": [],
   "source": []
  },
  {
   "cell_type": "code",
   "execution_count": null,
   "metadata": {},
   "outputs": [],
   "source": []
  },
  {
   "cell_type": "code",
   "execution_count": null,
   "metadata": {},
   "outputs": [],
   "source": []
  },
  {
   "cell_type": "code",
   "execution_count": null,
   "metadata": {},
   "outputs": [],
   "source": [
    "import requests\n",
    "from bs4 import BeautifulSoup\n",
    "data = []\n",
    "response = requests.get(f'https://search.naver.com/search.naver?where=news&sm=tab_jum&query=%EC%82%BC%EC%84%B1%EC%A0%84%EC%9E%90')\n",
    "html = response.text\n",
    "soup = BeautifulSoup(html, 'html.parser')\n",
    "# posts = soup.select(\".news_wrap\")\n",
    "posts = soup.select(\".list_news > li\")\n",
    "# print(posts)\n",
    "for post in posts:\n",
    "    title = post.select_one(\".news_tit\").text\n",
    "    link = post.select_one(\".news_tit\").attrs['href']\n",
    "    content = post.select_one(\".api_txt_lines.dsc_txt_wrap\").text\n",
    "    img_src = post.select_one(\".thumb.api_get\").attrs['data-lazysrc']\n",
    "    data.append([title, link, content, img_src])\n",
    "data\n"
   ]
  },
  {
   "cell_type": "code",
   "execution_count": null,
   "metadata": {},
   "outputs": [],
   "source": []
  },
  {
   "cell_type": "code",
   "execution_count": null,
   "metadata": {},
   "outputs": [],
   "source": [
    "import requests\n",
    "from bs4 import BeautifulSoup\n",
    "import pandas as pd\n",
    "\n",
    "\n",
    "data = []\n",
    "for i in range(0,3):\n",
    "    response = requests.get(f'https://search.naver.com/search.naver?where=news&sm=tab_pge&query=%EC%82%BC%EC%84%B1%EC%A0%84%EC%9E%90&start={i}1')\n",
    "    print(f'{i+1}페이지 크롤링중')\n",
    "    html = response.text\n",
    "    soup = BeautifulSoup(html, 'html.parser')\n",
    "    posts = soup.select(\".news_wrap\")\n",
    "    # print(posts)\n",
    "    for post in posts:\n",
    "        title = post.select_one(\".news_tit\").text\n",
    "        link = post.select_one(\".news_tit\").attrs['href']\n",
    "        content = post.select_one(\".api_txt_lines.dsc_txt_wrap\").text\n",
    "        img_src2 = post.select_one(\".thumb.api_get\")\n",
    "        try:\n",
    "            img_src = post.select_one(\".thumb.api_get\").attrs['data-lazysrc']\n",
    "        except:\n",
    "            # pass\n",
    "            img_src = \"없음\"\n",
    "        data.append([title, link, content, img_src])\n",
    "# data\n",
    "df =  pd.DataFrame(data, columns = ['제목','링크','내용','이미지'])\n",
    "df.to_excel('./aaa.xlsx')\n"
   ]
  },
  {
   "cell_type": "code",
   "execution_count": null,
   "metadata": {},
   "outputs": [],
   "source": []
  }
 ],
 "metadata": {
  "kernelspec": {
   "display_name": "Python 3",
   "language": "python",
   "name": "python3"
  },
  "language_info": {
   "codemirror_mode": {
    "name": "ipython",
    "version": 3
   },
   "file_extension": ".py",
   "mimetype": "text/x-python",
   "name": "python",
   "nbconvert_exporter": "python",
   "pygments_lexer": "ipython3",
   "version": "3.10.9"
  }
 },
 "nbformat": 4,
 "nbformat_minor": 2
}
