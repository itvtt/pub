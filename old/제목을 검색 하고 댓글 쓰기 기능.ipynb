{
 "cells": [
  {
   "cell_type": "code",
   "execution_count": 9,
   "metadata": {},
   "outputs": [
    {
     "name": "stdout",
     "output_type": "stream",
     "text": [
      "Comment added successfully.\n"
     ]
    }
   ],
   "source": [
    "from atlassian import Confluence\n",
    "\n",
    "\n",
    "confluence = Confluence(\n",
    "    url='https://dalmong.atlassian.net/wiki',\n",
    "    username='vreal00000@gmail.com',\n",
    "    password='ATATT3xFfGF05GJ2zvJi3Mev6BR4BcbDYcGhc-GMQnGKhwnnhpjXdPu40imIy-z-HOUfRqRfqRMOKmvuaAzCQn8iD8EUg_Mu3D6Q6cKs3dcwzt2FthoCtIksfbyYpp0yabEBoznaU2_z6Yq-uwf_9ZVI6rK-cakNLJQwfmJwJn43cf3bvpDput8=50FD1D7A')\n",
    "\n",
    "# 검색할 페이지의 제목\n",
    "page_title = 'parent'\n",
    "\n",
    "# 페이지를 검색합니다.\n",
    "page = confluence.get_page_by_title('dpndpn', page_title)\n",
    "\n",
    "if page is not None:\n",
    "    page_id = page['id']\n",
    "\n",
    "    # 댓글을 추가할 내용\n",
    "    comment_text = 'Your comment text'\n",
    "\n",
    "    # 댓글을 추가합니다.\n",
    "    status = confluence.add_comment(page_id, comment_text)\n",
    "    if status:\n",
    "        print('Comment added successfully.')\n",
    "    else:\n",
    "        print('Failed to add comment.')\n",
    "else:\n",
    "    print('Page not found.')\n"
   ]
  }
 ],
 "metadata": {
  "kernelspec": {
   "display_name": "Python 3",
   "language": "python",
   "name": "python3"
  },
  "language_info": {
   "codemirror_mode": {
    "name": "ipython",
    "version": 3
   },
   "file_extension": ".py",
   "mimetype": "text/x-python",
   "name": "python",
   "nbconvert_exporter": "python",
   "pygments_lexer": "ipython3",
   "version": "3.10.9"
  },
  "orig_nbformat": 4
 },
 "nbformat": 4,
 "nbformat_minor": 2
}
