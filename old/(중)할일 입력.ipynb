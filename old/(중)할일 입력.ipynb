{
 "cells": [
  {
   "cell_type": "code",
   "execution_count": 10,
   "metadata": {},
   "outputs": [
    {
     "name": "stdout",
     "output_type": "stream",
     "text": [
      "입력된 텍스트:  \n",
      "입력된 텍스트:  \n"
     ]
    }
   ],
   "source": [
    "import tkinter as tk\n",
    "from tkinter import messagebox\n",
    "import openpyxl\n",
    "\n",
    "root = tk.Tk()\n",
    "# sd\n",
    "# 체크박스 5개 생성\n",
    "var1 = tk.BooleanVar()\n",
    "var2 = tk.BooleanVar()\n",
    "var3 = tk.BooleanVar()\n",
    "var4 = tk.BooleanVar()\n",
    "var5 = tk.BooleanVar()\n",
    "\n",
    "chk1 = tk.Checkbutton(root, text=\"항목 1\", variable=var1, command=input_text)\n",
    "chk2 = tk.Checkbutton(root, text=\"항목 2\", variable=var2, command=input_text)\n",
    "chk3 = tk.Checkbutton(root, text=\"항목 3\", variable=var3, command=input_text)\n",
    "chk4 = tk.Checkbutton(root, text=\"항목 4\", variable=var4, command=input_text)\n",
    "chk5 = tk.Checkbutton(root, text=\"항목 5\", variable=var5, command=input_text)\n",
    "#aa\n",
    "chk1.pack()\n",
    "chk2.pack()\n",
    "chk3.pack()\n",
    "chk4.pack()\n",
    "chk5.pack()\n",
    "\n",
    "# 일괄 선택 버튼 생성\n",
    "def select_all():\n",
    "    pass\n",
    "\n",
    "btn_select_all = tk.Button(root, text=\"일괄 선택\", command=select_all)\n",
    "btn_select_all.pack()\n",
    "\n",
    "# 결과 저장 버튼 생성\n",
    "def save_result():\n",
    "    if var1.get() or var2.get() or var3.get() or var4.get() or var5.get():\n",
    "        wb = openpyxl.Workbook()\n",
    "        sheet = wb.active\n",
    "        sheet.title = \"Results\"\n",
    "        sheet[\"A1\"] = \"Result\"\n",
    "        for i, var in enumerate([var1, var2, var3, var4, var5]):\n",
    "            if var.get():\n",
    "                sheet.cell(row=2, column=i+2, value=input_box.get())\n",
    "        wb.save(\"results.xlsx\")\n",
    "        messagebox.showinfo(\"알림\", \"결과가 성공적으로 저장되었습니다.\")\n",
    "    else:\n",
    "        messagebox.showwarning(\"경고\", \"하나 이상의 항목을 선택해주세요.\")\n",
    "\n",
    "btn_save = tk.Button(root, text=\"결과 저장\", command=save_result)\n",
    "btn_save.pack()\n",
    "\n",
    "# 텍스트 입력을 받는 함수\n",
    "def input_text():\n",
    "    if var1.get() or var2.get() or var3.get() or var4.get() or var5.get():\n",
    "        text = input_box.get()\n",
    "        print(\"입력된 텍스트: \", text)\n",
    "\n",
    "# 텍스트 입력 박스 생성\n",
    "input_box = tk.Entry(root)\n",
    "input_box.pack()\n",
    "\n",
    "root.mainloop()\n"
   ]
  }
 ],
 "metadata": {
  "kernelspec": {
   "display_name": "Python 3",
   "language": "python",
   "name": "python3"
  },
  "language_info": {
   "codemirror_mode": {
    "name": "ipython",
    "version": 3
   },
   "file_extension": ".py",
   "mimetype": "text/x-python",
   "name": "python",
   "nbconvert_exporter": "python",
   "pygments_lexer": "ipython3",
   "version": "3.10.9"
  },
  "orig_nbformat": 4,
  "vscode": {
   "interpreter": {
    "hash": "37b3a10f0fe6aa0e5ff02142c615fd0f647ea8ba61207c0fb385157d79d8b27a"
   }
  }
 },
 "nbformat": 4,
 "nbformat_minor": 2
}
