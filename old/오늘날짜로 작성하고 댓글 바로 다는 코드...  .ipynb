{
 "cells": [
  {
   "cell_type": "code",
   "execution_count": 3,
   "metadata": {},
   "outputs": [
    {
     "name": "stdout",
     "output_type": "stream",
     "text": [
      "{'id': '2686977', 'type': 'page', 'status': 'current', 'title': '2023-03-21', 'space': {'id': 98421, 'key': 'dpndpn', 'name': 'dpndpn', 'type': 'global', 'status': 'current', '_expandable': {'settings': '/rest/api/space/dpndpn/settings', 'metadata': '', 'operations': '', 'lookAndFeel': '/rest/api/settings/lookandfeel?spaceKey=dpndpn', 'identifiers': '', 'permissions': '', 'icon': '', 'description': '', 'theme': '/rest/api/space/dpndpn/theme', 'history': '', 'homepage': '/rest/api/content/98482'}, '_links': {'webui': '/spaces/dpndpn', 'self': 'https://dalmong.atlassian.net/wiki/rest/api/space/dpndpn'}}, 'history': {'latest': True, 'createdBy': {'type': 'known', 'accountId': '6407d36d81de11a1adfc39f9', 'accountType': 'atlassian', 'email': 'vreal00000@gmail.com', 'publicName': 'jason', 'profilePicture': {'path': '/wiki/aa-avatar/6407d36d81de11a1adfc39f9', 'width': 48, 'height': 48, 'isDefault': False}, 'displayName': 'jason', 'isExternalCollaborator': False, '_expandable': {'operations': '', 'personalSpace': ''}, '_links': {'self': 'https://dalmong.atlassian.net/wiki/rest/api/user?accountId=6407d36d81de11a1adfc39f9'}}, 'createdDate': '2023-03-21T10:56:42.268Z', '_expandable': {'lastUpdated': '', 'previousVersion': '', 'contributors': '', 'nextVersion': '', 'ownedBy': ''}, '_links': {'self': 'https://dalmong.atlassian.net/wiki/rest/api/content/2686977/history'}}, 'version': {'by': {'type': 'known', 'accountId': '6407d36d81de11a1adfc39f9', 'accountType': 'atlassian', 'email': 'vreal00000@gmail.com', 'publicName': 'jason', 'profilePicture': {'path': '/wiki/aa-avatar/6407d36d81de11a1adfc39f9', 'width': 48, 'height': 48, 'isDefault': False}, 'displayName': 'jason', 'isExternalCollaborator': False, '_expandable': {'operations': '', 'personalSpace': ''}, '_links': {'self': 'https://dalmong.atlassian.net/wiki/rest/api/user?accountId=6407d36d81de11a1adfc39f9'}}, 'when': '2023-03-21T10:56:42.268Z', 'friendlyWhen': '조금 전', 'message': '', 'number': 1, 'minorEdit': False, 'confRev': 'confluence$content$2686977.2', 'contentTypeModified': False, '_expandable': {'collaborators': '', 'content': '/rest/api/content/2686977'}, '_links': {'self': 'https://dalmong.atlassian.net/wiki/rest/api/content/2686977/version/1'}}, 'ancestors': [{'id': '98482', 'type': 'page', 'status': 'current', 'title': 'dpndpn Home', 'macroRenderedOutput': {}, 'extensions': {'position': 705}, '_expandable': {'container': '/rest/api/space/dpndpn', 'metadata': '', 'restrictions': '/rest/api/content/98482/restriction/byOperation', 'history': '/rest/api/content/98482/history', 'body': '', 'version': '', 'descendants': '/rest/api/content/98482/descendant', 'space': '/rest/api/space/dpndpn', 'childTypes': '', 'schedulePublishInfo': '', 'operations': '', 'schedulePublishDate': '', 'children': '/rest/api/content/98482/child', 'ancestors': ''}, '_links': {'self': 'https://dalmong.atlassian.net/wiki/rest/api/content/98482', 'tinyui': '/x/soAB', 'editui': '/pages/resumedraft.action?draftId=98482', 'webui': '/spaces/dpndpn/overview'}}, {'id': '950273', 'type': 'page', 'status': 'current', 'title': 'parent', 'macroRenderedOutput': {}, 'extensions': {'position': 'none'}, '_expandable': {'container': '/rest/api/space/dpndpn', 'metadata': '', 'restrictions': '/rest/api/content/950273/restriction/byOperation', 'history': '/rest/api/content/950273/history', 'body': '', 'version': '', 'descendants': '/rest/api/content/950273/descendant', 'space': '/rest/api/space/dpndpn', 'childTypes': '', 'schedulePublishInfo': '', 'operations': '', 'schedulePublishDate': '', 'children': '/rest/api/content/950273/child', 'ancestors': ''}, '_links': {'self': 'https://dalmong.atlassian.net/wiki/rest/api/content/950273', 'tinyui': '/x/AYAO', 'editui': '/pages/resumedraft.action?draftId=950273', 'webui': '/spaces/dpndpn/pages/950273/parent'}}], 'container': {'id': 98421, 'key': 'dpndpn', 'name': 'dpndpn', 'type': 'global', 'status': 'current', 'history': {'createdBy': {'type': 'known', 'accountId': '6407d36d81de11a1adfc39f9', 'accountType': 'atlassian', 'email': 'vreal00000@gmail.com', 'publicName': 'jason', 'profilePicture': {'path': '/wiki/aa-avatar/6407d36d81de11a1adfc39f9', 'width': 48, 'height': 48, 'isDefault': False}, 'displayName': 'jason', 'isExternalCollaborator': False, '_expandable': {'operations': '', 'personalSpace': ''}, '_links': {'self': 'https://dalmong.atlassian.net/wiki/rest/api/user?accountId=6407d36d81de11a1adfc39f9'}}, 'createdDate': '2023-03-08T00:53:03.913Z'}, '_expandable': {'settings': '/rest/api/space/dpndpn/settings', 'metadata': '', 'operations': '', 'lookAndFeel': '/rest/api/settings/lookandfeel?spaceKey=dpndpn', 'identifiers': '', 'permissions': '', 'icon': '', 'description': '', 'theme': '/rest/api/space/dpndpn/theme', 'homepage': '/rest/api/content/98482'}, '_links': {'webui': '/spaces/dpndpn', 'self': 'https://dalmong.atlassian.net/wiki/rest/api/space/dpndpn'}}, 'macroRenderedOutput': {}, 'body': {'storage': {'value': '자동 생성', 'representation': 'storage', 'embeddedContent': [], '_expandable': {'content': '/rest/api/content/2686977'}}, '_expandable': {'editor': '', 'atlas_doc_format': '', 'view': '', 'export_view': '', 'styled_view': '', 'dynamic': '', 'editor2': '', 'anonymous_export_view': ''}}, 'extensions': {'position': 1138}, '_expandable': {'childTypes': '', 'schedulePublishInfo': '', 'metadata': '', 'operations': '', 'schedulePublishDate': '', 'children': '/rest/api/content/2686977/child', 'restrictions': '/rest/api/content/2686977/restriction/byOperation', 'descendants': '/rest/api/content/2686977/descendant'}, '_links': {'editui': '/pages/resumedraft.action?draftId=2686977', 'webui': '/spaces/dpndpn/pages/2686977/2023-03-21', 'context': '/wiki', 'self': 'https://dalmong.atlassian.net/wiki/rest/api/content/2686977', 'tinyui': '/x/AQAp', 'collection': '/rest/api/content', 'base': 'https://dalmong.atlassian.net/wiki'}}\n",
      "Comment added successfully.\n"
     ]
    }
   ],
   "source": [
    "from atlassian import Confluence\n",
    "import tkinter as tk\n",
    "from tkinter import simpledialog\n",
    "import pyautogui\n",
    "from datetime import datetime, timedelta\n",
    "\n",
    "\n",
    "#여기서 부터는 오늘 날짜-8시간 해서 글 작성 하는것, +내용까지)\n",
    "\n",
    "confluence = Confluence(\n",
    "    url='https://dalmong.atlassian.net/wiki',\n",
    "    username='vreal00000@gmail.com',\n",
    "    password='ATATT3xFfGF05GJ2zvJi3Mev6BR4BcbDYcGhc-GMQnGKhwnnhpjXdPu40imIy-z-HOUfRqRfqRMOKmvuaAzCQn8iD8EUg_Mu3D6Q6cKs3dcwzt2FthoCtIksfbyYpp0yabEBoznaU2_z6Yq-uwf_9ZVI6rK-cakNLJQwfmJwJn43cf3bvpDput8=50FD1D7A')\n",
    "\n",
    "#Get Text 있던 곳\n",
    "bodyinput = \"자동 생성\"\n",
    "\n",
    "\n",
    "# 현재 시간에서 8시간을 뺍니다.\n",
    "eight_hours_ago = datetime.now() - timedelta(hours=8)\n",
    "# \"yyyy-mm-dd hh:mm:ss\" 형식으로 변환합니다.\n",
    "page_title = eight_hours_ago.strftime(\"%Y-%m-%d\")\n",
    "\n",
    "\n",
    "titleinput = page_title\n",
    "\n",
    "#여기에 tk 루트를 빼버렷음\n",
    "\n",
    "parent_id = '950273'\n",
    "\n",
    "# 페이지 생성 요청\n",
    "status = confluence.create_page(\n",
    "    parent_id=parent_id,\n",
    "    body=f\"{bodyinput}\",\n",
    "    title=titleinput,\n",
    "    space='dpndpn'\n",
    ")\n",
    "\n",
    "print(status)\n",
    "\n",
    "#여기서 부터 댓글 쓰는것-----------------------------------------------------------------------------------\n",
    "# 제목을 page_title에서 가져오는 거라 그것도 같이 복사해야 하긴 함\n",
    "\n",
    "# 페이지를 검색합니다.\n",
    "page = confluence.get_page_by_title('dpndpn', page_title)\n",
    "\n",
    "def get_comment():\n",
    "    global bodyinput\n",
    "    bodyinput =  text_input.get(\"1.0\", tk.END) \n",
    "    # Replace all newline characters with Confluence line breaks\n",
    "    bodyinput = bodyinput.replace('\\n', '<br/>')\n",
    "    root.destroy()\n",
    "\n",
    "\n",
    "root = tk.Tk()\n",
    "root.title(\"Enter text\")\n",
    "\n",
    "root.geometry(\"900x700+600+200\")\n",
    "\n",
    "text_input = tk.Text(root, width=500, height=50)\n",
    "text_input.pack()\n",
    "\n",
    "button = tk.Button(root, text=\"OK\", command=get_comment)\n",
    "button.pack()\n",
    "root.mainloop()\n",
    "\n",
    "\n",
    "if page is not None:\n",
    "    page_id = page['id']\n",
    "    comment_text = bodyinput\n",
    "    \n",
    "    # 댓글을 추가합니다.\n",
    "    status = confluence.add_comment(page_id, comment_text)\n",
    "    if status:\n",
    "        print('Comment added successfully.')\n",
    "    else:\n",
    "        print('Failed to add comment.')\n",
    "else:\n",
    "    print('Page not found.')"
   ]
  },
  {
   "cell_type": "code",
   "execution_count": null,
   "metadata": {},
   "outputs": [],
   "source": []
  },
  {
   "cell_type": "code",
   "execution_count": null,
   "metadata": {},
   "outputs": [],
   "source": []
  }
 ],
 "metadata": {
  "kernelspec": {
   "display_name": "Python 3",
   "language": "python",
   "name": "python3"
  },
  "language_info": {
   "codemirror_mode": {
    "name": "ipython",
    "version": 3
   },
   "file_extension": ".py",
   "mimetype": "text/x-python",
   "name": "python",
   "nbconvert_exporter": "python",
   "pygments_lexer": "ipython3",
   "version": "3.10.9"
  },
  "orig_nbformat": 4
 },
 "nbformat": 4,
 "nbformat_minor": 2
}
