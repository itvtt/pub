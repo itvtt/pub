{
 "cells": [
  {
   "cell_type": "code",
   "execution_count": 11,
   "metadata": {},
   "outputs": [],
   "source": [
    "import requests\n",
    "from bs4 import BeautifulSoup\n",
    "import pandas as pd\n",
    "import openpyxl\n",
    "\n",
    "url = 'https://finance.naver.com/item/main.nhn?code=035720'\n",
    "res = requests.get(url)\n",
    "html = res.text\n",
    "\n",
    "soup = BeautifulSoup(html, 'html.parser')\n",
    "table = soup.find('table', {'class': 'tb_type1'})\n",
    "df = pd.read_html(str(table))[0]\n",
    "\n",
    "with pd.ExcelWriter('c1.xlsx', mode='a', engine='openpyxl') as writer:\n",
    "    try:\n",
    "        # 기존 시트 삭제하기\n",
    "        wb = writer.book\n",
    "        wb.remove(wb['Sheet1'])\n",
    "    except:\n",
    "        pass\n",
    "    \n",
    "    # 새로운 데이터 쓰기\n",
    "    df.to_excel(writer, sheet_name='Sheet1', index=False)\n"
   ]
  }
 ],
 "metadata": {
  "kernelspec": {
   "display_name": "Python 3",
   "language": "python",
   "name": "python3"
  },
  "language_info": {
   "codemirror_mode": {
    "name": "ipython",
    "version": 3
   },
   "file_extension": ".py",
   "mimetype": "text/x-python",
   "name": "python",
   "nbconvert_exporter": "python",
   "pygments_lexer": "ipython3",
   "version": "3.10.9"
  },
  "orig_nbformat": 4
 },
 "nbformat": 4,
 "nbformat_minor": 2
}
