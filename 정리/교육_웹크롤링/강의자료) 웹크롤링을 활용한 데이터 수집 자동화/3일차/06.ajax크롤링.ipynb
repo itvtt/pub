{
 "cells": [
  {
   "cell_type": "code",
   "execution_count": 13,
   "metadata": {},
   "outputs": [
    {
     "name": "stdout",
     "output_type": "stream",
     "text": [
      "20231019134309593 안갯속에 관망하는 기준금리…한은, 3.5% 6연속 묶었다 https://v.daum.net/v/20231019134309593 국제신문\n",
      "20231019134228574 [일문일답] 이창용, 또 '영끌족'에 경고…\"1%대 금리 기대 마라\" https://v.daum.net/v/20231019134228574 연합뉴스\n",
      "20231019133838437 에어버스 \"아태 항공 수요 가장 빠르게 성장…한국 매년 4%\" https://v.daum.net/v/20231019133838437 뉴스1\n",
      "20231019133826430 유투바이오 내달 코스닥 이전상장…\"북미 시장 진출할 것\" https://v.daum.net/v/20231019133826430 연합뉴스\n",
      "20231019133752407 [머니S픽] 부동산원 \"공정 투명 부동산시장 조성위해 시세 교란행위 집중 점검\" https://v.daum.net/v/20231019133752407 머니S\n",
      "20231019133714386 '298억원 과징금' JW중외제약 \"부당한 판단…행정소송 대응\" https://v.daum.net/v/20231019133714386 머니투데이\n",
      "20231019133441302 [취재앤팩트] 6연속 금리 동결...예상한 결과에도 증시·환율 출렁 https://v.daum.net/v/20231019133441302 YTN\n",
      "20231019133325252 JW중외제약 \"공정위 과징금 형평 잃어…행정소송할 것\" https://v.daum.net/v/20231019133325252 연합뉴스\n",
      "20231019132956079 테슬라 사이버트럭 첫 인도 시점 11월 30일로 정했다 https://v.daum.net/v/20231019132956079 뉴스1\n",
      "20231019132936067 이창용 \"고금리 유지해 부동산 PF 문제 생길 가능성, 정상화 지속 추진해야\" https://v.daum.net/v/20231019132936067 파이낸셜뉴스\n",
      "20231019132902054 한은 금통위원 '금리 인하' 첫 언급…\"낮출 수도 있어야\" https://v.daum.net/v/20231019132902054 한국경제\n",
      "20231019132838045 넷플릭스 가입자 급증에 깜짝 실적···구독료 올린다 https://v.daum.net/v/20231019132838045 경향신문\n",
      "20231019132740003 정부 \"수산물 삼중수소 검사 기준 연내 마련\"(종합) https://v.daum.net/v/20231019132740003 연합뉴스\n",
      "20231019132653977 \"국립대병원, 수도권 대형병원 수준으로…공공의료수가로 보상강화\" https://v.daum.net/v/20231019132653977 아시아경제\n",
      "20231019132454910 중국 9월 부동산 대도시만 '반짝' 상승…\"전반적 침체는 여전\" https://v.daum.net/v/20231019132454910 연합뉴스\n",
      "20231019132356871 양경숙 \"국가 말아먹고 있다\", 추경호 \"표현 적정 수위로 해야\" 신경전 https://v.daum.net/v/20231019132356871 뉴스1\n",
      "20231019132031806 강원세계산림엑스포 폐막 사흘 앞두고 관람객 목표 132만명 달성 https://v.daum.net/v/20231019132031806 연합뉴스\n",
      "20231019131918786 파키스탄 국영항공사, 연료비 못내 항공편 48편 운항 취소 https://v.daum.net/v/20231019131918786 연합뉴스\n",
      "20231019131531684 '자본시장 선진화' 고삐 당긴 금융위… 관행 개선, 내부통제 강화 요구 https://v.daum.net/v/20231019131531684 머니투데이\n",
      "20231019131328626 이창용 \"기준금리 3.50% 동결…이·팔 사태 불확실성 ↑\" https://v.daum.net/v/20231019131328626 지디넷코리아\n"
     ]
    }
   ],
   "source": [
    "# 날짜, 제목, 링크, 언론사 20개 출력하기\n",
    "import requests\n",
    "import json\n",
    "\n",
    "response = requests.get(\"https://news.daum.net/api/harmonydic/contents/news.json?category=economic&approved=true&page=1&pageSize=20&pagesToShow=10&range=1\")\n",
    "data = json.loads(response.text)\n",
    "for news in data['list']:\n",
    "    date = news['newsId']\n",
    "    title = news['title']\n",
    "    link = news['contentUrl']\n",
    "    press = news['cpKorName']\n",
    "    print(date, title, link, press)"
   ]
  },
  {
   "cell_type": "code",
   "execution_count": null,
   "metadata": {},
   "outputs": [],
   "source": []
  }
 ],
 "metadata": {
  "kernelspec": {
   "display_name": "Python 3",
   "language": "python",
   "name": "python3"
  },
  "language_info": {
   "codemirror_mode": {
    "name": "ipython",
    "version": 3
   },
   "file_extension": ".py",
   "mimetype": "text/x-python",
   "name": "python",
   "nbconvert_exporter": "python",
   "pygments_lexer": "ipython3",
   "version": "3.10.6"
  }
 },
 "nbformat": 4,
 "nbformat_minor": 2
}
