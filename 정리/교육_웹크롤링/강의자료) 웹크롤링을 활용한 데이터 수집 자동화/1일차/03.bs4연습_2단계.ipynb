{
 "cells": [
  {
   "cell_type": "code",
   "execution_count": null,
   "metadata": {},
   "outputs": [],
   "source": [
    "# 크롤링 초급 페이지의\n",
    "# 1페이지 게시글 제목, 설명, 링크를 크롤링 후 출력"
   ]
  },
  {
   "cell_type": "code",
   "execution_count": 2,
   "metadata": {},
   "outputs": [],
   "source": [
    "import requests\n",
    "from bs4 import BeautifulSoup\n",
    "\n",
    "response = requests.get(\"https://startcoding-crawling.herokuapp.com/lv1\")\n",
    "html = response.text\n",
    "soup = BeautifulSoup(html, 'html.parser')\n",
    "posts = soup.select(\".post-preview\")"
   ]
  },
  {
   "cell_type": "code",
   "execution_count": 3,
   "metadata": {},
   "outputs": [
    {
     "name": "stdout",
     "output_type": "stream",
     "text": [
      "실전! 네이버 뉴스 크롤링 - 파이썬으로 데이터 수집 쉽게 하자 (1단계) ****주의 사항****1. 상업적 용도로 크롤링한 정보를 이용하지 말 것2. 서버에 부담을 줄 정도로 많은 요청을 하지 말 것네이버 뉴스 크롤링을 초보자 분들도 쉽게 할 수 있도록영상을 제작하였습니다.(1단계) 네이버 뉴스 1페이지 제목과 링크 크롤링하기(2단계) 네이버 뉴스 검색어 변경하면서 크롤링하기(3단계) 네이버 뉴스 여러 페이지 가져오기 https://www.youtube.com/watch?v=U1amkBqKF5g\n",
      "30만원 짜리 외주 프로그램 만들기 - 파이썬으로 네이버 쇼핑 크롤링하기 1편 (ft. 셀레니움 selenium) 30만원을 받고 만들어 준 외주 프로그램 만드는 과정을 공개합니다. 이런 거 다 공개해도 괜찮겠죠..?네이버 쇼핑 상품 정보를 검색어 별로 크롤링 후 엑셀로 저장하는 프로그램입니다. 여러분도 강의를 듣고 나면 프로그램을 제작해서 돈을 벌 수 있습니다. https://www.youtube.com/watch?v=ZHx6oATaI28\n",
      "(지금 당장) 우리가 코딩을 배워야 하는 3가지 이유 정리를 하면코딩을 배워야 하는 이유는 첫 번째, 컴퓨터에게 일을 시킬 수 있고두 번째, 세상에 없는 나만의 서비스를 개발할 수 있고세 번째, 실력이 생기면 개발자로 취업이 가능하다. 스타트코딩이 여러분의 코딩 입문을 도와드리겠습니다. https://www.youtube.com/watch?v=WqeElOYZhkM\n",
      "[초보도 가능] 30만원 외주 프로그램 만들기 - 파이썬 웹 크롤링 셀레니움 Selenium 강의 2편(ft. 스크래핑 결과 csv 파일 저장하기) [강의 설명]초보자도 가능한 30만원 짜리 외주 프로그램 만들기 강의 입니다.파이썬 웹 크롤링을 이용해서 제작해요.셀레니움 (selenium) 의 심화적인 부분까지 다루어 봅니다!csv 파일에 저장하는 방법 까지 총정리 해 드립니다.1. 웹 크롤링을 할 때 가장 중요한 HTML 분석하는 방법을 자세히 다뤄 드립니다.2. 셀레니움 무한 스크롤 처리 방법의 원리까지 이해시켜 드립니다.3. 내가 원하는 HTML 태그를 선택하는 비법을 알려 드립니다.4. 크롤링한 결과를 csv 파일에 저장하는 방법을 알려 드립니다. https://www.youtube.com/watch?v=qRU94vtUb7c\n",
      "잠 안줄이고 하루에 1시간 버는 법 #반복업무탈출 #업무자동화 #RPA 영상을 보고 나면, 여러분이 직접 로봇을 개발해서 일을 시킬 수 있습니다. 반복 업무에 쓰이는 시간이 아깝다면 반드시 활용해 보세요.첫 번째 시간으로,파이썬으로 컴퓨터의 마우스 매크로를 만드는 방법을 알려드립니다 :)1. 파이썬 마우스 위치 좌표 찾기2. 파이썬 마우스 이동하기3. 파이썬 마우스 클릭4. 파이썬 마우스 드래그 https://www.youtube.com/watch?v=rMRQo9XbPgk\n"
     ]
    }
   ],
   "source": [
    "for post in posts:\n",
    "    title = post.select_one(\".post-title\").text\n",
    "    content = post.select_one(\".post-subtitle\").text.replace('\\r\\n', '')\n",
    "    link = post.select_one(\".post-preview > a\").attrs['href']\n",
    "    print(title, content, link)"
   ]
  },
  {
   "cell_type": "code",
   "execution_count": 4,
   "metadata": {},
   "outputs": [
    {
     "data": {
      "text/plain": [
       "'****주의 사항****1. 상업적 용도로 크롤링한 정보를 이용하지 말 것2. 서버에 부담을 줄 정도로 많은 요청을 하지 말 것네이버 뉴스 크롤링을 초보자 분들도 쉽게 할 수 있도록영상을 제작하였습니다.(1단계) 네이버 뉴스 1페이지 제목과 링크 크롤링하기(2단계) 네이버 뉴스 검색어 변경하면서 크롤링하기(3단계) 네이버 뉴스 여러 페이지 가져오기'"
      ]
     },
     "execution_count": 4,
     "metadata": {},
     "output_type": "execute_result"
    }
   ],
   "source": [
    "soup.select_one(\".post-subtitle\").text.replace('\\r\\n', '')"
   ]
  },
  {
   "cell_type": "code",
   "execution_count": 6,
   "metadata": {},
   "outputs": [
    {
     "data": {
      "text/plain": [
       "'https://www.youtube.com/watch?v=U1amkBqKF5g'"
      ]
     },
     "execution_count": 6,
     "metadata": {},
     "output_type": "execute_result"
    }
   ],
   "source": [
    "soup.select_one(\".post-preview > a\").attrs['href']"
   ]
  },
  {
   "cell_type": "code",
   "execution_count": null,
   "metadata": {},
   "outputs": [],
   "source": []
  }
 ],
 "metadata": {
  "kernelspec": {
   "display_name": "Python 3",
   "language": "python",
   "name": "python3"
  },
  "language_info": {
   "codemirror_mode": {
    "name": "ipython",
    "version": 3
   },
   "file_extension": ".py",
   "mimetype": "text/x-python",
   "name": "python",
   "nbconvert_exporter": "python",
   "pygments_lexer": "ipython3",
   "version": "3.10.6"
  }
 },
 "nbformat": 4,
 "nbformat_minor": 2
}
