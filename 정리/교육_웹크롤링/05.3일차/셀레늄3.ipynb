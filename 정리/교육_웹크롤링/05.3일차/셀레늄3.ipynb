{
 "cells": [
  {
   "cell_type": "code",
   "execution_count": 1,
   "metadata": {},
   "outputs": [
    {
     "ename": "KeyboardInterrupt",
     "evalue": "",
     "output_type": "error",
     "traceback": [
      "\u001b[1;31m---------------------------------------------------------------------------\u001b[0m",
      "\u001b[1;31mKeyboardInterrupt\u001b[0m                         Traceback (most recent call last)",
      "\u001b[1;32md:\\github\\pub\\정리\\교육_웹크롤링\\05.3일차\\셀레늄3.ipynb 셀 1\u001b[0m line \u001b[0;36m1\n\u001b[0;32m     <a href='vscode-notebook-cell:/d%3A/github/pub/%EC%A0%95%EB%A6%AC/%EA%B5%90%EC%9C%A1_%EC%9B%B9%ED%81%AC%EB%A1%A4%EB%A7%81/05.3%EC%9D%BC%EC%B0%A8/%EC%85%80%EB%A0%88%EB%8A%843.ipynb#W0sZmlsZQ%3D%3D?line=11'>12</a>\u001b[0m time\u001b[39m.\u001b[39msleep(\u001b[39m5\u001b[39m)\n\u001b[0;32m     <a href='vscode-notebook-cell:/d%3A/github/pub/%EC%A0%95%EB%A6%AC/%EA%B5%90%EC%9C%A1_%EC%9B%B9%ED%81%AC%EB%A1%A4%EB%A7%81/05.3%EC%9D%BC%EC%B0%A8/%EC%85%80%EB%A0%88%EB%8A%843.ipynb#W0sZmlsZQ%3D%3D?line=12'>13</a>\u001b[0m driver\u001b[39m.\u001b[39mfind_element(By\u001b[39m.\u001b[39mCSS_SELECTOR, \u001b[39m\"\u001b[39m\u001b[39mbody\u001b[39m\u001b[39m\"\u001b[39m)\u001b[39m.\u001b[39msend_keys(Keys\u001b[39m.\u001b[39mEND)\n\u001b[1;32m---> <a href='vscode-notebook-cell:/d%3A/github/pub/%EC%A0%95%EB%A6%AC/%EA%B5%90%EC%9C%A1_%EC%9B%B9%ED%81%AC%EB%A1%A4%EB%A7%81/05.3%EC%9D%BC%EC%B0%A8/%EC%85%80%EB%A0%88%EB%8A%843.ipynb#W0sZmlsZQ%3D%3D?line=13'>14</a>\u001b[0m time\u001b[39m.\u001b[39;49msleep(\u001b[39m5\u001b[39;49m)\n\u001b[0;32m     <a href='vscode-notebook-cell:/d%3A/github/pub/%EC%A0%95%EB%A6%AC/%EA%B5%90%EC%9C%A1_%EC%9B%B9%ED%81%AC%EB%A1%A4%EB%A7%81/05.3%EC%9D%BC%EC%B0%A8/%EC%85%80%EB%A0%88%EB%8A%843.ipynb#W0sZmlsZQ%3D%3D?line=14'>15</a>\u001b[0m a \u001b[39m=\u001b[39m \u001b[39mlen\u001b[39m(driver\u001b[39m.\u001b[39mfind_elements(By\u001b[39m.\u001b[39mCSS_SELECTOR, \u001b[39m\"\u001b[39m\u001b[39m.product_list_item__b84TO\u001b[39m\u001b[39m\"\u001b[39m)) \n\u001b[0;32m     <a href='vscode-notebook-cell:/d%3A/github/pub/%EC%A0%95%EB%A6%AC/%EA%B5%90%EC%9C%A1_%EC%9B%B9%ED%81%AC%EB%A1%A4%EB%A7%81/05.3%EC%9D%BC%EC%B0%A8/%EC%85%80%EB%A0%88%EB%8A%843.ipynb#W0sZmlsZQ%3D%3D?line=15'>16</a>\u001b[0m \u001b[39mprint\u001b[39m(a)\n",
      "\u001b[1;31mKeyboardInterrupt\u001b[0m: "
     ]
    }
   ],
   "source": [
    "from selenium import webdriver\n",
    "from selenium.webdriver.common.by import By\n",
    "from selenium.webdriver.common.keys import Keys\n",
    "import time\n",
    "import requests\n",
    "from bs4 import BeautifulSoup\n",
    "import pandas as pd\n",
    "\n",
    "text = \"과자\"\n",
    "driver = webdriver.Chrome()\n",
    "driver.get(f'https://msearch.shopping.naver.com/search/all?query={text}&frm=NVSHSRC&vertical=search')\n",
    "time.sleep(5)\n",
    "driver.find_element(By.CSS_SELECTOR, \"body\").send_keys(Keys.END)\n",
    "time.sleep(5)\n",
    "a = len(driver.find_elements(By.CSS_SELECTOR, \".product_list_item__b84TO\")) \n",
    "print(a)\n",
    "html = driver.page_source\n",
    "soup = BeautifulSoup(html, 'html.parser')\n",
    "posts = soup.select(\".product_list_item__b84TO\")\n",
    "# print(posts)\n",
    "data = []\n",
    "for post in posts:\n",
    "    # time.sleep(3)\n",
    "    title = post.select_one(\".product_info_tit__c5_pb\").text\n",
    "    link = post.select_one(\".product_btn_link__ArGCa.linkAnchor\").attrs['href']\n",
    "    money = post.select_one(\".product_num__iQsWh\").text\n",
    "    data.append([title, money, link])\n",
    "df =  pd.DataFrame(data, columns = ['제목','가격','링크'])\n",
    "df.to_excel('./aaa.xlsx')"
   ]
  },
  {
   "cell_type": "code",
   "execution_count": 1,
   "metadata": {},
   "outputs": [],
   "source": [
    "from openpyxl import Workbook\n",
    "from openpyxl.styles import Font\n",
    "from openpyxl.utils.dataframe import dataframe_to_rows\n",
    "import pandas as pd\n",
    "\n",
    "# 데이터 로드\n",
    "df = pd.read_excel('./aaa1.xlsx')\n",
    "\n",
    "wb = Workbook()\n",
    "ws = wb.active\n",
    "\n",
    "# dataframe_to_rows 함수는 기본적으로 첫 번째 행에 헤더를 넣습니다.\n",
    "# 따라서 r_idx > 1 조건을 사용하여 첫 번째 행(헤더)을 건너뛸 수 있습니다.\n",
    "for r_idx, row in enumerate(dataframe_to_rows(df, index=False, header=True), 1):\n",
    "    if r_idx > 1:  # 첫 번째 행(헤더)를 건너뜀\n",
    "        for c_idx, value in enumerate(row, 1):\n",
    "            cell = ws.cell(row=r_idx, column=c_idx, value=value)\n",
    "            if c_idx == 2:  # 'link' 컬럼을 기준으로 하이퍼링크 설정\n",
    "                cell.font = Font(color=\"0000FF\", underline=\"single\")\n",
    "                cell.hyperlink = row[3]  # 'link'의 값을 이용, 컬럼 인덱스는 0부터 시작하므로 '1'을 사용\n",
    "\n",
    "wb.save(\"./output.xlsx\")\n"
   ]
  }
 ],
 "metadata": {
  "kernelspec": {
   "display_name": "Python 3",
   "language": "python",
   "name": "python3"
  },
  "language_info": {
   "codemirror_mode": {
    "name": "ipython",
    "version": 3
   },
   "file_extension": ".py",
   "mimetype": "text/x-python",
   "name": "python",
   "nbconvert_exporter": "python",
   "pygments_lexer": "ipython3",
   "version": "3.10.9"
  }
 },
 "nbformat": 4,
 "nbformat_minor": 2
}
