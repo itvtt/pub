{
 "cells": [
  {
   "cell_type": "code",
   "execution_count": 9,
   "metadata": {},
   "outputs": [
    {
     "name": "stdout",
     "output_type": "stream",
     "text": [
      "{'list': [{'newsId': '20231031193958564', 'contentId': 'UwQ73j8CWh', 'title': '소멸 위기 지역 이동권 확보 어떻게?', 'cpId': 327, 'cpLogoUrl': 'https://t1.daumcdn.net/media/news/news2016/cp/cp_kbs.gif', 'cpKorName': 'KBS', 'cpEngName': 'kbs', 'imageUrl': 'https://t1.daumcdn.net/news/202310/31/kbs/20231031194001026ggvk.jpg', 'contentUrl': 'https://v.daum.net/v/20231031193958564', 'regDt': 1698748798450, 'modiDt': 1698748798450, 'status': 'SERVICE', 'summary': '[KBS 전주] [앵커] 전북은 완주를 제외하면 모든 지역의 노선버스를 민간 업체가 운영하고 있습니다. 이용객이 줄어 수익이 나지 않으면 서비스 개선이 어려울 수밖에 없는데요. 필요할 때 배차해주는 콜버스나  자치단체가 직접 버스를 운영하는 공영제 등이 대안으로 떠오르고 있습니다. 이어서, 진유민 기자의 보도입니다. [리포트] 완주에 사는 75살 이영임', 'searchId': '313639383734383739383435305e2a7c2c232d4055775137336a38435768', 'label': None, 'commentCnt': 0, 'delegateId': None}, {'newsId': '20231031193955562', 'contentId': 'p2qTC8FLT6', 'title': '‘발 묶인 소멸 위기 지역’…“버스 시간에 생활 방식 맞춰”', 'cpId': 327, 'cpLogoUrl': 'https://t1.daumcdn.net/media/news/news2016/cp/cp_kbs.gif', 'cpKorName': 'KBS', 'cpEngName': 'kbs', 'imageUrl': 'https://t1.daumcdn.net/news/202310/31/kbs/20231031193957644cdrp.jpg', 'contentUrl': 'https://v.daum.net/v/20231031193955562', 'regDt': 1698748795104, 'modiDt': 1698748795104, 'status': 'SERVICE', 'summary': \"[KBS 전주] [앵커] 인구 유출과 감소는 여러 사회적 문제를 낳고 있는데요. 대중 교통 기반마저 흔들며,  남겨진 사람들의 이동권마저 위협하고 있는 게 현실입니다. KBS전주방송총국 연중기획 '지방소멸', 발 묶인 소멸 위기 지역의  현실과 대안을 짚어봅니다. 먼저, 서윤덕 기자의 보도입니다. [리포트] 점심 무렵  진안 읍내의 버스정류장. 버스를 기\", 'searchId': '313639383734383739353130345e2a7c2c232d40703271544338464c5436', 'label': None, 'commentCnt': 0, 'delegateId': None}, {'newsId': '20231031193934550', 'contentId': 'H08LeXwzzA', 'title': \"尹대통령, 공공재 이어 ‘종노릇’ 발언… 은행권 '당혹'\", 'cpId': 38, 'cpLogoUrl': 'https://t1.daumcdn.net/media/news/news2016/cp/cp_segye.gif', 'cpKorName': '세계일보', 'cpEngName': 'segye', 'imageUrl': 'https://t1.daumcdn.net/news/202310/31/segye/20231031193934561xqgh.jpg', 'contentUrl': 'https://v.daum.net/v/20231031193934550', 'regDt': 1698748774410, 'modiDt': 1698752148192, 'status': 'SERVICE', 'summary': '윤석열 대통령이 고금리 상황 속\\xa0소상공인들의 대출 원리금 상환 부담과 관련해\\xa0‘은행 종노릇’이라는 표현을 쓰며 또다시 은행들에 대한 비판적 시각을 드러내자 은행권에선 당혹감이\\xa0흘러나오고 있다. 일각에선 대통령의 발언으로\\xa0은행권의 추가 상생금융 방안이나 ‘횡재세’\\xa0도입 관련 논의가 재점화할 수 있다는 관측도\\xa0나온다.\\xa0 윤석열 대통령이 31일 서울 여의도', 'searchId': '313639383734383737343431305e2a7c2c232d404830384c6558777a7a41', 'label': None, 'commentCnt': 0, 'delegateId': None}, {'newsId': '20231031193844530', 'contentId': 'zOvPVho50J', 'title': '인천 강화, 전북 고창서 럼피스킨 추가 확진…열흘간 전국 일제방역(종합)', 'cpId': 396, 'cpLogoUrl': 'https://t1.daumcdn.net/media/news/news2016/cp/cp_news1.gif', 'cpKorName': '뉴스1', 'cpEngName': 'NEWS1', 'imageUrl': 'https://t1.daumcdn.net/news/202310/31/NEWS1/20231031193844962fusm.jpg', 'contentUrl': 'https://v.daum.net/v/20231031193844530', 'regDt': 1698748724578, 'modiDt': 1698748724578, 'status': 'SERVICE', 'summary': '(세종=뉴스1) 임용우 기자 = 인천 강화와 전북 고창에서 또 다시 럼피스킨병(LSD)이 발생했다. 31일 농림축산식품부에 따르면 이날 오후 6시 기준 인천 강화와 전북 고창 2개 한우·육우 농가가 LSD 확진판정을 받았다. 이로써 국내 누적 발생건수는 69건으로 늘었다. LSD는 최근 전국적으로 확산세를 보이고 있다. 지난 20일 국내에서 처음 발생한', 'searchId': '313639383734383732343537385e2a7c2c232d407a4f765056686f35304a', 'label': None, 'commentCnt': 0, 'delegateId': None}, {'newsId': '20231031193504476', 'contentId': '4QxBGJBEys', 'title': '동백전 정부 예산은 전액 삭감…혜택 축소 불가피', 'cpId': 327, 'cpLogoUrl': 'https://t1.daumcdn.net/media/news/news2016/cp/cp_kbs.gif', 'cpKorName': 'KBS', 'cpEngName': 'kbs', 'imageUrl': 'https://t1.daumcdn.net/news/202310/31/kbs/20231031193506471zcrg.jpg', 'contentUrl': 'https://v.daum.net/v/20231031193504476', 'regDt': 1698748504120, 'modiDt': 1698748504120, 'status': 'SERVICE', 'summary': \"[KBS 부산][앵커] 지역화폐 동백전의 적립금 환급 한도를  내년부터 줄이기로 했습니다. 정부 지원금이 전액 삭감됐기 때문인데요. '골목 상권을 살리겠다'던 지역화폐 발행 취지는 빛이 바랠 수밖에 없게 됐습니다. 김아르내 기자의 보도입니다. [리포트] 산책로를 따라 나란히 늘어선 카페로 유명한 부산의 대표 골목상권인 온천천 카페거리. 지난주부터  지역화폐\", 'searchId': '313639383734383530343132305e2a7c2c232d4034517842474a42457973', 'label': None, 'commentCnt': 0, 'delegateId': None}, {'newsId': '20231031193340457', 'contentId': '0noqYdqkCt', 'title': '김장철 ‘성큼’…“김치냉장고, 용량·전기 요금 따져 고르세요”', 'cpId': 327, 'cpLogoUrl': 'https://t1.daumcdn.net/media/news/news2016/cp/cp_kbs.gif', 'cpKorName': 'KBS', 'cpEngName': 'kbs', 'imageUrl': 'https://t1.daumcdn.net/news/202310/31/kbs/20231031193343001byrc.jpg', 'contentUrl': 'https://v.daum.net/v/20231031193340457', 'regDt': 1698748420386, 'modiDt': 1698748420386, 'status': 'SERVICE', 'summary': '[앵커] 김장철을 앞두고, 전용 냉장고에  관심 갖는 분들  적지 않으실 겁니다. 비싸다고 꼭 좋은 건 아니라고 하는데,  황경주 기자가 김치 냉장고 고르는 방법을 알아봤습니다. [리포트] 주부 송정화 씨는 10년 정도 쓴 \\'뚜껑형\\' 김치냉장고를  \\'스탠드형\\'으로 바꿀까 고민 중입니다. 꺼내쓰기 더 편하다는 생각 때문입니다. [송정화/서울시 서초구 : \"', 'searchId': '313639383734383432303338365e2a7c2c232d40306e6f715964716b4374', 'label': None, 'commentCnt': 0, 'delegateId': None}, {'newsId': '20231031193218442', 'contentId': 'YX0hsV5JFT', 'title': '국제 LPG 가격 상승세…11월 국내 LPG 공급가 ㎏당 55원 인상', 'cpId': 2, 'cpLogoUrl': 'https://t1.daumcdn.net/media/news/news2016/cp/cp_yonhap.gif', 'cpKorName': '연합뉴스', 'cpEngName': 'yonhap', 'imageUrl': 'https://t1.daumcdn.net/news/202310/31/yonhap/20231031193218538ofyz.jpg', 'contentUrl': 'https://v.daum.net/v/20231031193218442', 'regDt': 1698748338477, 'modiDt': 1698748338477, 'status': 'SERVICE', 'summary': '(서울=연합뉴스) 장하나 기자 = 국제 액화석유가스(LPG) 가격이 4개월 연속 상승세를 보이는 가운데 11월 국내 LPG 공급 가격도 ㎏당 55원 오른다. SK가스는 11월 프로판 가격을 ㎏당 1천239.81원, 부탄 가격을 ㎏당 1천506.68원으로 정했다고 31일 밝혔다. 이는 10월 가격보다 ㎏당 55원 인상한 수준이다. E1도 ㎏당 가격을 55원', 'searchId': '313639383734383333383437375e2a7c2c232d40595830687356354a4654', 'label': None, 'commentCnt': 0, 'delegateId': None}, {'newsId': '20231031193159436', 'contentId': '6945GJBEy8', 'title': '삼성전자 올들어 첫 분기 ‘조 단위’ 영업익 2.4조…반도체 적자는 3.7조 지속', 'cpId': 327, 'cpLogoUrl': 'https://t1.daumcdn.net/media/news/news2016/cp/cp_kbs.gif', 'cpKorName': 'KBS', 'cpEngName': 'kbs', 'imageUrl': 'https://t1.daumcdn.net/news/202310/31/kbs/20231031193201504wsnz.jpg', 'contentUrl': 'https://v.daum.net/v/20231031193159436', 'regDt': 1698748319098, 'modiDt': 1698748319098, 'status': 'SERVICE', 'summary': '[앵커] 삼성전자가 올 들어 처음으로 분기 중 조 단위 영업이익을 회복했습니다. 반도체 부분에서 적자를 줄이긴 했지만, 여전히 3조 원 넘는 적자를 기록해 기대만큼 크게 줄이지는 못했습니다. 조정인 기자가 보도합니다. [리포트] 삼성전자는 올해 3분기 영업이익이 2조 4,336억 원으로 잠정 집계됐다고 발표했습니다. 지난해 같은 기간보단 78% 감소했지만', 'searchId': '313639383734383331393039385e2a7c2c232d4036393435474a42457938', 'label': None, 'commentCnt': 0, 'delegateId': None}, {'newsId': '20231031193149432', 'contentId': 'VY8kNUS4hR', 'title': '외국산 고기 국산 둔갑시켜 53톤 유통…대표·직원 전원 가담', 'cpId': 327, 'cpLogoUrl': 'https://t1.daumcdn.net/media/news/news2016/cp/cp_kbs.gif', 'cpKorName': 'KBS', 'cpEngName': 'kbs', 'imageUrl': 'https://t1.daumcdn.net/news/202310/31/kbs/20231031193151782qzav.jpg', 'contentUrl': 'https://v.daum.net/v/20231031193149432', 'regDt': 1698748309064, 'modiDt': 1698748309064, 'status': 'SERVICE', 'summary': '[KBS 대구] [앵커] 외국산 돼지고기와 소고기를 국산으로 속여 2년 간 식당 등에 팔아 온  경북의 대형 축산물 유통업체가 적발됐습니다. 업체 대표 뿐만 아니라 직원 전체가 모의해  원산지 위반과 판매에 조직적으로 가담한 것으로 드러났습니다. 박가영 기자입니다. [리포트] 연 매출 백억 원대에 이르는 경북 한 대형 축산물 유통업체. 냉동창고에는 네덜란', 'searchId': '313639383734383330393036345e2a7c2c232d405659386b4e5553346852', 'label': None, 'commentCnt': 0, 'delegateId': None}, {'newsId': '20231031193005410', 'contentId': 'yUdantOKAB', 'title': \"9월 세수도 법인세에 '흔들'…재추계 전망치 달성도 '아슬'\", 'cpId': 6, 'cpLogoUrl': 'https://t1.daumcdn.net/media/news/news2016/cp/cp_Edaily.gif', 'cpKorName': '이데일리', 'cpEngName': 'Edaily', 'imageUrl': 'https://t1.daumcdn.net/news/202310/31/Edaily/20231031220401560ielh.jpg', 'contentUrl': 'https://v.daum.net/v/20231031193005410', 'regDt': 1698748205981, 'modiDt': 1698757438734, 'status': 'SERVICE', 'summary': '[세종=이데일리 조용석 기자] 기업 실적 부진에 따른 법인세 급감 여파가 이어지면서 9월 누적 국세수입도 전년대비 50조원 이상 감소했다. 남은 3개월 동안 전년보다 3조6000억원 이상 세수가 덜 걷힌다면 세수재추계 전망치(341조 4000억원) 달성도 어려운 상황이다. [이데일리 문승용 기자]31일 기획재정부가 발표한 ‘9월 국세수입 현황’에 따르면', 'searchId': '313639383734383230353938315e2a7c2c232d40795564616e744f4b4142', 'label': None, 'commentCnt': 0, 'delegateId': None}, {'newsId': '20231031192726363', 'contentId': '1j7fyR7AlI', 'title': '‘국내 최다 소 사육’ 경북 지켜라…럼피스킨병 차단 총력', 'cpId': 327, 'cpLogoUrl': 'https://t1.daumcdn.net/media/news/news2016/cp/cp_kbs.gif', 'cpKorName': 'KBS', 'cpEngName': 'kbs', 'imageUrl': 'https://t1.daumcdn.net/news/202310/31/kbs/20231031192729297ingm.jpg', 'contentUrl': 'https://v.daum.net/v/20231031192726363', 'regDt': 1698748046081, 'modiDt': 1698748046081, 'status': 'SERVICE', 'summary': '[KBS 대구] [앵커] 럼피스킨병이 전국적으로 확산하는 가운데, 아직까지 확진 사례가 없는 곳은 경북과 제주뿐입니다. 특히 경상북도는 국내에서 소 사육두수가 가장 많아 차단 방역에 비상인데요, 경북에서는 내일(1일)부터 백신 접종이 시작될 예정입니다. 오아영 기자의 보도입니다. [리포트] 한우 300여 두를 키우는 농가입니다. 축사 앞뒤로 꼼꼼하게 소독', 'searchId': '313639383734383034363038315e2a7c2c232d40316a3766795237416c49', 'label': None, 'commentCnt': 0, 'delegateId': None}, {'newsId': '20231031192605337', 'contentId': 'bEGFkqWQTA', 'title': '[대담] “제주 갈 바엔 해외로”…위기의 제주 관광, 대책은?', 'cpId': 327, 'cpLogoUrl': 'https://t1.daumcdn.net/media/news/news2016/cp/cp_kbs.gif', 'cpKorName': 'KBS', 'cpEngName': 'kbs', 'imageUrl': 'https://t1.daumcdn.net/news/202310/31/kbs/20231031192607304afrb.jpg', 'contentUrl': 'https://v.daum.net/v/20231031192605337', 'regDt': 1698747965131, 'modiDt': 1698747965131, 'status': 'SERVICE', 'summary': \"[KBS 제주] [앵커] 최근 조사된 여행 동향 분석 자료에 따르면, 제주도에 대한 소비자 관심도와 국내 여행지 점유율이 계속 하락하고 있습니다. 제주도를 갈 바엔 해외로 여행 간다는 말이 나오는 실정인데, 홍성화 교수 모셔서 자세한 이야기 나눠보겠습니다. 어서 오세요. 최근 제주를 찾는 내국인 관광객 감소세가 심상치 않습니다. '제주 관광은 위기다'라는\", 'searchId': '313639383734373936353133315e2a7c2c232d40624547466b7157515441', 'label': None, 'commentCnt': 0, 'delegateId': None}, {'newsId': '20231031192105209', 'contentId': '5kOP2CLZz6', 'title': '인천 강화, 전북 고창서 럼피스킨 추가 확진…누적 69건', 'cpId': 396, 'cpLogoUrl': 'https://t1.daumcdn.net/media/news/news2016/cp/cp_news1.gif', 'cpKorName': '뉴스1', 'cpEngName': 'NEWS1', 'imageUrl': 'https://t1.daumcdn.net/news/202310/31/NEWS1/20231031192105992vbik.jpg', 'contentUrl': 'https://v.daum.net/v/20231031192105209', 'regDt': 1698747665753, 'modiDt': 1698747665753, 'status': 'SERVICE', 'summary': '(세종=뉴스1) 임용우 기자 = 인천 강화와 전북 고창에서 또 다시 럼피스킨병(LSD)이 발생했다. 31일 농림축산식품부에 따르면 이날 오후 6시 기준 인천 강화와 전북 고창 2개 한우·육우 농가가 LSD 확진판정을 받았다. 이로써 국내 누적 발생건수는 69건으로 늘었다. LSD는 최근 전국적으로 확산세를 보이고 있다. 지난 20일 국내에서 처음 발생한', 'searchId': '313639383734373636353735335e2a7c2c232d40356b4f5032434c5a7a36', 'label': None, 'commentCnt': 0, 'delegateId': None}, {'newsId': '20231031191905142', 'contentId': '1v6YNUS4bf', 'title': '\"어둠 뒤 새벽이 온다\"...화학업계, 신사업 투자는 계속된다', 'cpId': 5, 'cpLogoUrl': 'https://t1.daumcdn.net/media/news/news2016/cp/cp_moneytoday.gif', 'cpKorName': '머니투데이', 'cpEngName': 'moneytoday', 'imageUrl': 'https://t1.daumcdn.net/news/202310/31/moneytoday/20231031191906579jero.jpg', 'contentUrl': 'https://v.daum.net/v/20231031191905142', 'regDt': 1698747545155, 'modiDt': 1698747545155, 'status': 'SERVICE', 'summary': '\"업황은 여전히 어렵지만 한단계 더 도약하기 위해 친환경 등 신사업에 대한 투자는 흔들림 없이 이어가겠다.\" 31일 서울 롯데호텔에서 열린 \\'제 15회 화학산업의 날\\' 기념식 행사에 모인 국내 화학업계 고위 경영진들은 이같이 입을 모았다. 화학산업의 날은 국내 화학산업 기틀이 된 울산 석유화학단지를 준공한 1972년 10월31일을 기념해 지난 2009', 'searchId': '313639383734373534353135355e2a7c2c232d40317636594e5553346266', 'label': None, 'commentCnt': 0, 'delegateId': None}, {'newsId': '20231031191808119', 'contentId': 'xw3qSQpazH', 'title': '한은 \"美 통화정책, 5%대 금리 3년 지속되던 1990년대와 유사\"', 'cpId': 139, 'cpLogoUrl': 'https://t1.daumcdn.net/media/news/news2016/cp/finan.png', 'cpKorName': '파이낸셜뉴스', 'cpEngName': 'fnnewsi', 'imageUrl': 'https://t1.daumcdn.net/news/202310/31/fnnewsi/20231031191808935mrve.jpg', 'contentUrl': 'https://v.daum.net/v/20231031191808119', 'regDt': 1698747488781, 'modiDt': 1698747488781, 'status': 'SERVICE', 'summary': '제롬 파월 미국 연방준비제도 의장이 지난 19일(현지시간) 뉴욕에서 열린 뉴욕경제클럽에 참석해 발언하고 있다. 2023.10.29. /사진=뉴시스 [파이낸셜뉴스]한국은행 통화정책국이 현재 미국의 통화정책 운용 여건이 1990년대 중반과 유사하다고 진단했다. 양호한 고용상황이 계속돼 물가상승률이 2%로 수렴하는 시기가 늦', 'searchId': '313639383734373438383738315e2a7c2c232d4078773371535170617a48', 'label': None, 'commentCnt': 0, 'delegateId': None}, {'newsId': '20231031191808118', 'contentId': 'QAZpOf1iFX', 'title': '추경호 “중동 정상외교 성과 792억달러… 韓 경제의 거대한 운동장 만들었다”', 'cpId': 38, 'cpLogoUrl': 'https://t1.daumcdn.net/media/news/news2016/cp/cp_segye.gif', 'cpKorName': '세계일보', 'cpEngName': 'segye', 'imageUrl': 'https://t1.daumcdn.net/news/202310/31/segye/20231031191808923qbsi.jpg', 'contentUrl': 'https://v.daum.net/v/20231031191808118', 'regDt': 1698747488774, 'modiDt': 1698747488774, 'status': 'SERVICE', 'summary': '추경호 부총리 겸 기획재정부 장관은 31일 “총 792억달러의 중동 정상외교 성과가 국민이 체감할 수 있는 ‘신(新) 중동붐’으로 이어지도록 후속 조치를 빈틈없이 추진하겠다”고 밝혔다. 추경호 경제부총리 겸 기획재정부 장관. 연합뉴스  추 부총리는 이날 정부서울청사에서 주재한 대외경제장관회의에서\\xa0‘중동 고위급 교류 경제\\xa0분야 성과 후속\\xa0조치 추진 계획', 'searchId': '313639383734373438383737345e2a7c2c232d4051415a704f6631694658', 'label': None, 'commentCnt': 0, 'delegateId': None}, {'newsId': '20231031191638078', 'contentId': 'PMsmNUS4ge', 'title': \"'로또청약' 옛말…고분양가에 계약 머뭇\", 'cpId': 6, 'cpLogoUrl': 'https://t1.daumcdn.net/media/news/news2016/cp/cp_Edaily.gif', 'cpKorName': '이데일리', 'cpEngName': 'Edaily', 'imageUrl': 'https://t1.daumcdn.net/news/202310/31/Edaily/20231031192820918vxwt.jpg', 'contentUrl': 'https://v.daum.net/v/20231031191638078', 'regDt': 1698747398742, 'modiDt': 1698748099740, 'status': 'SERVICE', 'summary': '[이데일리 신수정 기자] 서울 등 수도권 분양가가 최근 가파르게 상승하면서 청약으로 내 집을 마련하려는 예비 집주인들의 고민이 커지고 있다. 시세보다 저렴해 당첨만 되면 수억원의 시세 차익을 예상할 수 있었던 ‘로또 청약’ 단지가 사라지고 있어서다. 고분양가에 대한 부담이 커졌기 때문인데 전문가들은 시장 상황에 따라 미분양이 늘어날 수 있다며 당분간 분양', 'searchId': '313639383734373339383734325e2a7c2c232d40504d736d4e5553346765', 'label': None, 'commentCnt': 0, 'delegateId': None}, {'newsId': '20231031191213926', 'contentId': '8jGr8vNFTy', 'title': '‘긴축 재정’ 속 예산 국회 시작…대구·경북 “국비 확보 안간힘”', 'cpId': 327, 'cpLogoUrl': 'https://t1.daumcdn.net/media/news/news2016/cp/cp_kbs.gif', 'cpKorName': 'KBS', 'cpEngName': 'kbs', 'imageUrl': 'https://t1.daumcdn.net/news/202310/31/kbs/20231031191215973hllh.jpg', 'contentUrl': 'https://v.daum.net/v/20231031191213926', 'regDt': 1698747133480, 'modiDt': 1698747133480, 'status': 'SERVICE', 'summary': '[KBS 대구] [앵커] 내년도 정부 예산안에 대한 국회 심사가 본격적으로 시작됐습니다. 경기침체와 세수 감소로 정부가 긴축재정 방침을 밝힌 가운데 대구시와 경상북도는 미래 신산업 육성과 주요 SOC 사업의 원활한 추진을 위해 국비 확보에 총력을 기울이고 있습니다. 류재현 기자입니다. [리포트] 국회의 내년도 예산안 심사에 앞서 정부가 내세운 예산 편성 기', 'searchId': '313639383734373133333438305e2a7c2c232d40386a477238764e465479', 'label': None, 'commentCnt': 0, 'delegateId': None}, {'newsId': '20231031191202914', 'contentId': 'ZFmvJ5mBT2', 'title': '제주형 수요응답형 ‘옵서버스’ 시범운영 시작', 'cpId': 327, 'cpLogoUrl': 'https://t1.daumcdn.net/media/news/news2016/cp/cp_kbs.gif', 'cpKorName': 'KBS', 'cpEngName': 'kbs', 'imageUrl': 'https://t1.daumcdn.net/news/202310/31/kbs/20231031191206208jomr.jpg', 'contentUrl': 'https://v.daum.net/v/20231031191202914', 'regDt': 1698747122451, 'modiDt': 1698747122451, 'status': 'SERVICE', 'summary': '[KBS 제주] [앵커] 대중교통인 버스는 정해진 노선대로 운행하면서 배차 시간이 길거나 빈 차로 운행하기도 하는데요, 이처럼 비효율적인 노선 문제를 해결하기 위해 콜택시처럼 승객이 버스를 호출하는 수요 응답형 버스가 제주에서 시범운영에 들어갔습니다. 김가람 기자의 보도입니다. [리포트] 버스 배차 간격이 길게는 한 시간에 달하는 읍면지역. 한 어르신이', 'searchId': '313639383734373132323435315e2a7c2c232d405a466d764a356d425432', 'label': None, 'commentCnt': 0, 'delegateId': None}, {'newsId': '20231031191000865', 'contentId': 'X0dleXwzn6', 'title': \"'개미 숙원' 공매도 개편, 드디어 손대나…대통령실도 나서\", 'cpId': 10, 'cpLogoUrl': 'https://t1.daumcdn.net/media/news/news2016/cp/cp_inews24.gif', 'cpKorName': '아이뉴스24', 'cpEngName': 'inews24', 'imageUrl': 'https://t1.daumcdn.net/news/202310/31/inews24/20231031191001748fozc.jpg', 'contentUrl': 'https://v.daum.net/v/20231031191000865', 'regDt': 1698747000561, 'modiDt': 1698747000561, 'status': 'SERVICE', 'summary': '[아이뉴스24 김다운 기자] 금융당국 수장들이 잇따라 공매도 제도 개선과 감독 강화에 대한 의지를 밝히고 있다. 대통령실과 국회 등 정치권에서도 \\'공매도 한시 금지\\'에 대한 요구를 하고 있다. 31일 김소영 금융위원회 부위원장은 서울 여의도 한국거래소에서 열린 \\'KRX ESG 포럼 2023\\'에서 기자들과 만나 \"공매도에 대해 가능하면 국민들이, 모든 투자자', 'searchId': '313639383734373030303536315e2a7c2c232d405830646c6558777a6e36', 'label': None, 'commentCnt': 0, 'delegateId': None}], 'countPerPage': 20, 'currentPage': 4, 'currentCount': 20, 'totalCount': 1534, 'hasNext': True}\n"
     ]
    }
   ],
   "source": [
    "\n",
    "import requests\n",
    "import json\n",
    "import pandas as pd\n",
    "from selenium import webdriver\n",
    "from selenium.webdriver.common.by import By\n",
    "from selenium.webdriver.common.keys import Keys\n",
    "import time\n",
    "import requests\n",
    "from bs4 import BeautifulSoup\n",
    "import pandas as pd\n",
    "\n",
    "\n",
    "url = \"https://news.daum.net/api/harmonydic/contents/news.json?category=economic&approved=true&page=4&pageSize=20&pagesToShow=10&range=1\"\n",
    "data = []\n",
    "response = requests.get(url)\n",
    "# print(response.text)\n",
    "data = json.loads(response.text)\n",
    "print(data)\n"
   ]
  },
  {
   "cell_type": "code",
   "execution_count": 3,
   "metadata": {},
   "outputs": [
    {
     "name": "stdout",
     "output_type": "stream",
     "text": [
      "{'list': [{'newsId': '20231031214625580', 'contentId': 'bxCDr9XeSD', 'title': '영화관람료·대입전형료도 올해부터 공제 대상…세테크 전략은?', 'cpId': 327, 'cpLogoUrl': 'https://t1.daumcdn.net/media/news/news2016/cp/cp_kbs.gif', 'cpKorName': 'KBS', 'cpEngName': 'kbs', 'imageUrl': 'https://t1.daumcdn.net/news/202310/31/kbs/20231031214630405exkm.jpg', 'contentUrl': 'https://v.daum.net/v/20231031214625580', 'regDt': 1698756385317, 'modiDt': 1698756385317, 'status': 'SERVICE', 'summary': '[앵커] 어느새 연말 정산을 준비할 때가 됐습니다. 연말정산 결과를 미리 살펴볼 수 있는 서비스가 오늘(31일)부터 국세청에서 시작됐는데요. 올해부터 달라지는 공제 항목들이 많아 꼼꼼히 살펴봐야 합니다. 장혁진 기자가 설명 드립니다. [리포트] 13월의 월급일지 눈물일지는 크게 세 가지에 달렸습니다. 먼저 세금부과 기준에서 일부를 덜어내는 방식, 소득공제', 'searchId': '313639383735363338353331375e2a7c2c232d4062784344723958655344', 'label': None, 'commentCnt': 0, 'delegateId': None}, {'newsId': '20231031214337533', 'contentId': 'Z5sKVho5Ci', 'title': '하이트진로, 다음 달 소주·맥주 가격 7% 인상', 'cpId': 327, 'cpLogoUrl': 'https://t1.daumcdn.net/media/news/news2016/cp/cp_kbs.gif', 'cpKorName': 'KBS', 'cpEngName': 'kbs', 'imageUrl': 'https://t1.daumcdn.net/news/202310/31/kbs/20231031214341542drmp.jpg', 'contentUrl': 'https://v.daum.net/v/20231031214337533', 'regDt': 1698756217796, 'modiDt': 1698756217796, 'status': 'SERVICE', 'summary': '다음달 9일부터 하이트진로가 소주와 맥주의 공장 출고 가격을 7%가량 올립니다. 하이트진로는 소주 원료인 주정 값과 맥주에 들어가는 맥아의 국제 시세가 상승했고, 병 가격도 올라 소주 출고 가격을 6.95%, 맥주 출고 가격을 6.8% 각각 인상한다고 밝혔습니다. 앞서 오비맥주는 이달 11일부터 재룟값과 물류비용 상승 등을 이유로 주요 맥주 제품의 출고 가', 'searchId': '313639383735363231373739365e2a7c2c232d405a35734b56686f354369', 'label': None, 'commentCnt': 0, 'delegateId': None}, {'newsId': '20231031214335531', 'contentId': 'UJV24SatpS', 'title': '유로존 소비자물가 상승폭 2년만에 최저…경기 침체 동반', 'cpId': 90, 'cpLogoUrl': 'https://t1.daumcdn.net/media/news/news2016/cp/cp_akn.gif', 'cpKorName': '아시아경제', 'cpEngName': 'akn', 'imageUrl': None, 'contentUrl': 'https://v.daum.net/v/20231031214335531', 'regDt': 1698756215809, 'modiDt': 1698756215809, 'status': 'SERVICE', 'summary': '유로존(유로화 사용 20개국)의 10월 소비자물가 상승 폭이 비교적 큰 폭으로 축소되면서 2년 만에 최저 수준을 기록했다. 물가를 잡기 위한 유럽중앙은행(ECB)의 연속적인 기준금리 인상이 효과를 본 셈이다. 그러나 고금리 정책 여파에 경기는 침체되고 있다. 31일(현지시간) EU 통계기구 유로스타트에 따르면 10월 소비자물가는 1년 전보다 2.9%(속보치', 'searchId': '313639383735363231353830395e2a7c2c232d40554a5632345361747053', 'label': None, 'commentCnt': 0, 'delegateId': None}, {'newsId': '20231031214222510', 'contentId': '70F0uExvTx', 'title': '“왜 개발하나?”…초라한 농기계 보급 사업', 'cpId': 327, 'cpLogoUrl': 'https://t1.daumcdn.net/media/news/news2016/cp/cp_kbs.gif', 'cpKorName': 'KBS', 'cpEngName': 'kbs', 'imageUrl': 'https://t1.daumcdn.net/news/202310/31/kbs/20231031214224622sqps.jpg', 'contentUrl': 'https://v.daum.net/v/20231031214222510', 'regDt': 1698756142074, 'modiDt': 1698756142074, 'status': 'SERVICE', 'summary': \"[KBS 전주] [앵커] 농촌진흥청이 최근 5년 동안 개발한 농기계가 80종류가 넘습니다. 들어간 예산만 수백억 원에 달하는데요. 정작 써야 할 농민들로부터 외면을 받고 있습니다. 이지현 기자입니다. [리포트] 농촌진흥청이 지난해 4억 원을 들여 개발한  '들깨 콤바인'입니다. 들깨 대를 베거나 탈곡하고 모을 때 사용하는 기계인데,  이를 도입한 농가는 단\", 'searchId': '313639383735363134323037345e2a7c2c232d4037304630754578765478', 'label': None, 'commentCnt': 0, 'delegateId': None}, {'newsId': '20231031213541341', 'contentId': '9OnZC8FLvR', 'title': '‘3고’ 엎친 데 “긴축” 되풀이…민생고 대책은 없었다', 'cpId': 11, 'cpLogoUrl': 'https://t1.daumcdn.net/media/news/news2016/cp/cp_khan.gif', 'cpKorName': '경향신문', 'cpEngName': 'khan', 'imageUrl': None, 'contentUrl': 'https://v.daum.net/v/20231031213541341', 'regDt': 1698755741148, 'modiDt': 1698755741148, 'status': 'SERVICE', 'summary': '민생을 강조했지만 길어지는 고금리·고물가·고환율 등 ‘3고’에 대한 현실적 대책은 보이지 않았다. 긴축재정에 따라 추가적인 경기위축이 우려되지만 이와 관련한 보완책도 제시되지 않았다. 연구·개발(R&D), 청소년 사업 등 ‘미래 예산’ 삭감에 관해서도 구체적인 언급이 없었다. 윤석열 대통령은 31일 국회 본회의장에서 진행한 내년도 예산안 시정연설에서 “건전', 'searchId': '313639383735353734313134385e2a7c2c232d40394f6e5a4338464c7652', 'label': None, 'commentCnt': 0, 'delegateId': None}, {'newsId': '20231031213023126', 'contentId': 'KxaAI4tnl1', 'title': '기지개 켠 반도체…넉 달 만의 ‘트리플 증가’', 'cpId': 11, 'cpLogoUrl': 'https://t1.daumcdn.net/media/news/news2016/cp/cp_khan.gif', 'cpKorName': '경향신문', 'cpEngName': 'khan', 'imageUrl': 'https://t1.daumcdn.net/news/202310/31/khan/20231031213024405pfya.jpg', 'contentUrl': 'https://v.daum.net/v/20231031213023126', 'regDt': 1698755423090, 'modiDt': 1698755423090, 'status': 'SERVICE', 'summary': '9월 산업지표가 예상보다 좋게 나오면서 국내 경기가 3분기에 저점을 지났을 것이라는 기대가 일각에서 나오고 있다. 정부는 반등의 조짐이 조금씩 보이고 있다고 설명했다. 다만 불안한 국제 정세와 물가 급등, 본격화하는 고금리 피해 등 향후 국내 경기를 억누를 ‘복병’이 여전히 산재해 경기 회복세를 낙관하기 어렵다는 우려도 나온다. 통계청이 31일 발표한 ‘2', 'searchId': '313639383735353432333039305e2a7c2c232d404b7861414934746e6c31', 'label': None, 'commentCnt': 0, 'delegateId': None}, {'newsId': '20231031213006118', 'contentId': 'fSIPLFI9lJ', 'title': '10월 신저가 225개…진주는 그 속에 있다', 'cpId': 59, 'cpLogoUrl': 'https://t1.daumcdn.net/media/news/news2016/cp/cp_mkeconomy.gif', 'cpKorName': '매경이코노미', 'cpEngName': 'mkeconomy', 'imageUrl': 'https://t1.daumcdn.net/news/202310/31/mkeconomy/20231031213007798ksds.jpg', 'contentUrl': 'https://v.daum.net/v/20231031213006118', 'regDt': 1698755406640, 'modiDt': 1698755406640, 'status': 'SERVICE', 'summary': '10월 증시 부진 속 52주 신저가를 기록한 종목이 속출했다. 10월 1일부터 24일까지 신저가를 기록한 종목은 총 225개다. 10월 24일 기준 한국거래소에 상장된 종목 수가 코스피 952개, 코스닥 1682개로 총 2634개라는 점을 감안하면, 그중 약 8%가 10월에 신저가를 기록한 셈이다. 이 기간 코스피와 코스닥지수는 각각 3.3%, 6.7%씩', 'searchId': '313639383735353430363634305e2a7c2c232d40665349504c4649396c4a', 'label': None, 'commentCnt': 0, 'delegateId': None}, {'newsId': '20231031213001109', 'contentId': 'Q0UDSQpavW', 'title': '‘저세상’ 주식이라던 엔비디아, 적정 가격 논란', 'cpId': 59, 'cpLogoUrl': 'https://t1.daumcdn.net/media/news/news2016/cp/cp_mkeconomy.gif', 'cpKorName': '매경이코노미', 'cpEngName': 'mkeconomy', 'imageUrl': 'https://t1.daumcdn.net/news/202310/31/mkeconomy/20231031213004263sluu.jpg', 'contentUrl': 'https://v.daum.net/v/20231031213001109', 'regDt': 1698755401073, 'modiDt': 1698755401073, 'status': 'SERVICE', 'summary': '“AI(인공지능) 러시는 현대판 튤립 광풍이다. 엔비디아는 조만간 꺼질 열풍이다.” 엔비디아는 올해 들어 3배 이상 폭등하며 시가총액 1조달러를 넘겼다. 미국 기술주 랠리를 이끈 선봉장이었고, 목표주가는 호의적이었다. 그런데 최근 들어 분위기가 돌아섰다. 엔비디아 주가가 하락하자 부정적인 의견이 하나둘씩 터져 나오기 시작했다. 비즈니스인사이드(BI)에 따르', 'searchId': '313639383735353430313037335e2a7c2c232d4051305544535170617657', 'label': None, 'commentCnt': 0, 'delegateId': None}, {'newsId': '20231031212400897', 'contentId': 'HDprflg1J3', 'title': '소고기 더 싸게 먹을 수 있나…프랑스산 수입 추진한다는데', 'cpId': 7, 'cpLogoUrl': 'https://t1.daumcdn.net/media/news/news2016/cp/cp_mk.gif', 'cpKorName': '매일경제', 'cpEngName': 'mk', 'imageUrl': 'https://t1.daumcdn.net/news/202310/31/mk/20231031212401420anqh.png', 'contentUrl': 'https://v.daum.net/v/20231031212400897', 'regDt': 1698755040197, 'modiDt': 1698755040197, 'status': 'SERVICE', 'summary': '정황근 농림축산식품부 장관이 “프랑스와 아일랜드로부터는 국제 기준보다 강화된 수입위생조건안을 마련했다”며 국회에 프랑스·아일랜드산 소고기 수입 허용을 요청했다. 수입위생조건안이 국회 농림축산식품해양수산위원회를 거쳐 본회의를 통과하면 수입 절차가 본격 시작된다. 정 장관은 31일 국회 농림축산식품해양수산위원회 전체회의에서 “프랑스·아일랜드산 소고기 수입 허용', 'searchId': '313639383735353034303139375e2a7c2c232d4048447072666c67314a33', 'label': None, 'commentCnt': 0, 'delegateId': None}, {'newsId': '20231031211443721', 'contentId': '61kCflg1Iu', 'title': '\"한국을 마셔요\"…해외 젊은 층 입맛 사로잡은 \\'K음료\\'', 'cpId': 310, 'cpLogoUrl': 'https://t1.daumcdn.net/media/news/news2016/cp/cp_JTBC.gif', 'cpKorName': 'JTBC', 'cpEngName': 'JTBC', 'imageUrl': 'https://t1.daumcdn.net/news/202310/31/JTBC/20231031211444474rxlw.jpg', 'contentUrl': 'https://v.daum.net/v/20231031211443721', 'regDt': 1698754483258, 'modiDt': 1698754483258, 'status': 'SERVICE', 'summary': '[앵커] 올해 음료 수출이 사상 최대를 기록했습니다. K팝과 드라마 인기 덕에 한국 음료를 찾는 외국인도 늘었다는 분석입니다. 정희윤 기자입니다. [기자] 한 해외 유튜버가 과일 맛 우유를 마십니다. [세상에. 놀라워요. 정말 맛있습니다.] 국산 탄산음료를 종류별로 맛보기도 합니다. [애플사이다 같아요. 너무 좋아요.] 대만 현지 마트에선 익숙한 우리말로', 'searchId': '313639383735343438333235385e2a7c2c232d4036316b43666c67314975', 'label': None, 'commentCnt': 0, 'delegateId': None}, {'newsId': '20231031211242677', 'contentId': '6quYRHD70T', 'title': '“분양가 높더니”… 이문 아이파크자이 1순위 경쟁률 16.8대 1', 'cpId': 216, 'cpLogoUrl': 'https://t1.daumcdn.net/media/news/news2016/cp/cp_chosunbiz.gif', 'cpKorName': '조선비즈', 'cpEngName': 'chosunbiz', 'imageUrl': 'https://t1.daumcdn.net/news/202310/31/chosunbiz/20231031211248210hoao.jpg', 'contentUrl': 'https://v.daum.net/v/20231031211242677', 'regDt': 1698754362243, 'modiDt': 1698754362243, 'status': 'SERVICE', 'summary': '고분양가 논란이 일던 서울 동대문구 ‘이문 아이파크자이’가 1순위 청약에서 평균 16.8대 1의 경쟁률을 기록했다. 31일 한국부동산원 청약홈에 따르면 이문 아이파크자이는 이날 1순위 청약을 마감한 결과, 총 787가구 모집에 1만3280명이 신청했다. 펜트하우스인 전용면적 102㎡ P타입은 단 1가구 모집에 130명이 몰리며 가장 높은 경쟁률을 기록했다.', 'searchId': '313639383735343336323234335e2a7c2c232d4036717559524844373054', 'label': None, 'commentCnt': 0, 'delegateId': None}, {'newsId': '20231031210305526', 'contentId': 'FW2D7DMT3K', 'title': '반도체 적자 축소… “2024년 HBM 생산 늘려 실적 회복할 것”', 'cpId': 38, 'cpLogoUrl': 'https://t1.daumcdn.net/media/news/news2016/cp/cp_segye.gif', 'cpKorName': '세계일보', 'cpEngName': 'segye', 'imageUrl': 'https://t1.daumcdn.net/news/202310/31/segye/20231031210305654llti.jpg', 'contentUrl': 'https://v.daum.net/v/20231031210305526', 'regDt': 1698753785574, 'modiDt': 1698753785574, 'status': 'SERVICE', 'summary': '삼성전자 반도체(DS) 부문의 올해 누적 적자가 12조원을 넘어섰다. 삼성전자는\\xa04분기엔 생성형 인공지능(AI)용\\xa0수요에 대비해 고대역폭 메모리(HBM) 생산 능력을 배 이상 늘려 실적을 개선할 방침이다. 또 시설투자에 연간 최대 규모인 47조5000억원을 투입하는 ‘초격차 투자’로 시장 우위를 선점하고 미래 경쟁력 확보를 도모한다. 삼성전자는 연결 기준', 'searchId': '313639383735333738353537345e2a7c2c232d404657324437444d54334b', 'label': None, 'commentCnt': 0, 'delegateId': None}, {'newsId': '20231031210147496', 'contentId': 'QFSv8vNFFr', 'title': \"'김포에서 하남까지' 편입설 대두…'메가시티 서울' 될까\", 'cpId': 318, 'cpLogoUrl': 'https://t1.daumcdn.net/media/news/news2016/cp/cp_yonhaptv.gif', 'cpKorName': '연합뉴스TV', 'cpEngName': 'newsy', 'imageUrl': 'https://t1.daumcdn.net/news/202310/31/newsy/20231031210147944gucs.jpg', 'contentUrl': 'https://v.daum.net/v/20231031210147496', 'regDt': 1698753707886, 'modiDt': 1698753707886, 'status': 'SERVICE', 'summary': \"[뉴스리뷰] [앵커] 경기도 김포시에 더해 인접 도시의 서울 편입론이 대두되면서 서울시의 '메가시티'화 가능성이 커졌습니다. 전세계 주요 대도시들은 이미 메가시티 전략을 추진했는데요. '메가시티 서울'이 되면 어떤 장단점이 있을까요. 조성흠 기자가 알려드립니다. [기자] 최근 경기도가 분도를 추진하면서 김포시가 서울 편입을 요구한 상황. 서울 생활\", 'searchId': '313639383735333730373838365e2a7c2c232d405146537638764e464672', 'label': None, 'commentCnt': 0, 'delegateId': None}, {'newsId': '20231031210043475', 'contentId': 'KxbRyR7AXM', 'title': '태양광 많지만 툭하면 전력 막혔던 호남에\\xa0대규모 ESS 놓는다', 'cpId': 49, 'cpLogoUrl': 'https://t1.daumcdn.net/media/news/news2016/cp/cp_hankooki.gif', 'cpKorName': '한국일보', 'cpEngName': 'hankooki', 'imageUrl': 'https://t1.daumcdn.net/news/202310/31/hankooki/20231031210045491zhfy.jpg', 'contentUrl': 'https://v.daum.net/v/20231031210043475', 'regDt': 1698753643132, 'modiDt': 1698753643132, 'status': 'SERVICE', 'summary': \"정부가 전력망 부족으로 태양광 출력 제한이 잦은 호남에 2026년까지 1.4기가와트(GW) 규모의 에너지 저장장치(ESS) 시설을 구축하기로 했다. 최신형 원자력발전소 1기와 맞먹는 설비 규모로 정부는 잇단 화재 사고로 침체된 ESS 시장이 활력을 되찾을 것으로 기대하고 있다. 산업통상자원부는 이런 내용의 'ESS 산업 발전전략'을 31일 발표했다. 올\", 'searchId': '313639383735333634333133325e2a7c2c232d404b78625279523741584d', 'label': None, 'commentCnt': 0, 'delegateId': None}, {'newsId': '20231031205950457', 'contentId': '0icYPyA0c2', 'title': 'LH, 여의도 임대주택 포기하고 땅 판다…고가 논란 발목', 'cpId': 6, 'cpLogoUrl': 'https://t1.daumcdn.net/media/news/news2016/cp/cp_Edaily.gif', 'cpKorName': '이데일리', 'cpEngName': 'Edaily', 'imageUrl': 'https://t1.daumcdn.net/news/202310/31/Edaily/20231031205953345koiz.jpg', 'contentUrl': 'https://v.daum.net/v/20231031205950457', 'regDt': 1698753590686, 'modiDt': 1698753590686, 'status': 'SERVICE', 'summary': '이 기사는 2023년10월31일 19시59분에 마켓인 프리미엄 콘텐츠로 선공개 되었습니다. [이데일리 김성수 기자] 한국토지주택공사(LH)가 공공임대주택을 지으려 했던 여의도 부지를 매물로 내놓았다. 임대주택 건설에 대한 주변 아파트 주민들의 반대가 극심한데다, LH 재무구조가 좋지 않아서 땅을 파는 쪽으로 노선을 바꿨다. 다만 해당 부지의 수익성을 높이', 'searchId': '313639383735333539303638365e2a7c2c232d4030696359507941306332', 'label': None, 'commentCnt': 0, 'delegateId': None}, {'newsId': '20231031205110224', 'contentId': 'YEugLFI9Dp', 'title': '\"불법 더 있다\" 글로벌IB 공매도 전수조사…제도 손볼까', 'cpId': 73, 'cpLogoUrl': 'https://t1.daumcdn.net/media/news/news2016/cp/cp_sbsi.gif', 'cpKorName': 'SBS', 'cpEngName': 'sbsi', 'imageUrl': 'https://t1.daumcdn.net/news/202310/31/sbsi/20231031205114558brxn.jpg', 'contentUrl': 'https://v.daum.net/v/20231031205110224', 'regDt': 1698753070904, 'modiDt': 1698753070904, 'status': 'SERVICE', 'summary': '<앵커> 금융당국이 글로벌\\xa0투자은행들의 불법 공매도에 대해 전수조사에 들어갑니다. 그동안 우리 공매도 제도가 외국인, 기관과 비교해 개인투자자에 불리하다는 지적이 있었는데, 이번 전수조사를 계기로 제도 자체가 개선될 수 있을지 관심이 쏠리고 있습니다. 보도에 안상우 기자입니다.\\xa0 <기자> 최근 BNP파리바와 HSBC가 2021년부터 장기간, 상습적으로 불법', 'searchId': '313639383735333037303930345e2a7c2c232d40594575674c4649394470', 'label': None, 'commentCnt': 0, 'delegateId': None}, {'newsId': '20231031205045201', 'contentId': '0mRdRHD7BX', 'title': '인요한 \"영남 중진 희생\"···대구·경북 의원들 \\'발끈\\'', 'cpId': 133703, 'cpLogoUrl': 'https://t1.daumcdn.net/media/news/news2016/cp/cp_dgmbc.gif', 'cpKorName': '대구MBC', 'cpEngName': 'dgmbc', 'imageUrl': 'https://t1.daumcdn.net/news/202310/31/dgmbc/20231031205051785anir.jpg', 'contentUrl': 'https://v.daum.net/v/20231031205045201', 'regDt': 1698753045368, 'modiDt': 1698753045368, 'status': 'SERVICE', 'summary': \"◀앵커▶ 요즘 대구·경북 정치권은\\xa0보수의 심장이라는 말이 무색할 만큼\\xa0동네북으로 전락한 거 아니냐는 말이 나옵니다. 툭하면 물갈이론이 불거지더니\\xa0인요한 혁신위원장의 '영남권 중진의 수도권\\xa0차출' 발언까지 더해졌습니다. 지역 정치권은\\xa0공천 탈락 불안감에 술렁이고 있습니다. 보도에 권윤수 기자입니다. ◀기자▶ 인요한 국민의힘 혁신위원장은 임명되자마자\\xa0제대로 된\", 'searchId': '313639383735333034353336385e2a7c2c232d40306d5264524844374258', 'label': None, 'commentCnt': 0, 'delegateId': None}, {'newsId': '20231031204647112', 'contentId': 'KcYHWezcCQ', 'title': '하림 생닭서 딱정벌레 유충…식약처 “재발방지책 수립하라”', 'cpId': 11, 'cpLogoUrl': 'https://t1.daumcdn.net/media/news/news2016/cp/cp_khan.gif', 'cpKorName': '경향신문', 'cpEngName': 'khan', 'imageUrl': 'https://t1.daumcdn.net/news/202310/31/khan/20231031204836072qaax.png', 'contentUrl': 'https://v.daum.net/v/20231031204647112', 'regDt': 1698752807503, 'modiDt': 1698752914207, 'status': 'SERVICE', 'summary': '시중에서 판매된 하림 생닭에서 다량의 벌레 유충이 발견돼 식품의약품안전처가 회사에 재발방지 대책 수립을 요구했다. 31일 식약처에 따르면 한 소비자는 최근 경기도 내 대형마트에서 ‘하림 동물복지 생닭’ 제품을 산 뒤 목 껍질 아래에서 벌레로 보이는 이물질을 다량 발견했다고 부정·불량식품통합신고센터로 신고했다. 이후 식약처는 하림 생산공장 관할 지자체인 전북', 'searchId': '313639383735323830373530335e2a7c2c232d404b63594857657a634351', 'label': None, 'commentCnt': 0, 'delegateId': None}, {'newsId': '20231031204505064', 'contentId': 'Fas5HibDDk', 'title': '이번엔 \\'땜빵 아파트\\'…\"그냥 덮으라 했다\"', 'cpId': 73, 'cpLogoUrl': 'https://t1.daumcdn.net/media/news/news2016/cp/cp_sbsi.gif', 'cpKorName': 'SBS', 'cpEngName': 'sbsi', 'imageUrl': 'https://t1.daumcdn.net/news/202310/31/sbsi/20231031204814977odfq.jpg', 'contentUrl': 'https://v.daum.net/v/20231031204505064', 'regDt': 1698752705379, 'modiDt': 1698756306853, 'status': 'SERVICE', 'summary': '<앵커> 철근이 빠진 LH 아파트가 논란이 된 데 이어서, 이번에는 건설회사들이 공사 기한에 쫓겨 마루 공사를 대충 한다는 현장 근로자들의 증언이 나왔습니다. 배관이 튀어나와 있거나, 심지어는 이물질이 있어도 그대로 덮으라고 지시한다는데 조을선 기자가 이 내용 보도합니다.\\xa0 <기자> 경기도 파주의 한 아파트 건설 현장입니다. 현장 근로자들이 마루 작업을 하', 'searchId': '313639383735323730353337395e2a7c2c232d404661733548696244446b', 'label': None, 'commentCnt': 0, 'delegateId': None}, {'newsId': '20231031203642881', 'contentId': 'WGeqPyA08q', 'title': '\"비상장주식 먼저 보내드립니다\" 사기꾼의 치명적 유혹 [영상]', 'cpId': 365842, 'cpLogoUrl': None, 'cpKorName': '더스쿠프', 'cpEngName': 'thescoop1', 'imageUrl': 'http://img1.kakaocdn.net/kakaotv/KAKAOACCOUNT/2016586133/thumb/20231031093648', 'contentUrl': 'https://v.daum.net/v/20231031203642881', 'regDt': 1698752202379, 'modiDt': 1698752875816, 'status': 'SERVICE', 'summary': '# 비상장주식 사기에 쓰는 스크립트(대본)를 활용해 투자자의 환심을 샀다면 절반은 성공한 셈이다. 이제 남은 건 투자자의 의심을 적게 사면서 비상장주식을 비싸게 팔아치우는 것이다. 사기꾼들은 절대 서두르지 않는다. \"판매량을 제한하고, 비상장주식을 먼저 보내준다\"는 거짓말로 투자자를 유혹한다. 이 또한 \\'사기대본\\'에 모두 들어 있는 내용이다. # 더스쿠프', 'searchId': '313639383735323230323337395e2a7c2c232d4057476571507941303871', 'label': None, 'commentCnt': 0, 'delegateId': None}], 'countPerPage': 20, 'currentPage': 1, 'currentCount': 20, 'totalCount': 1526, 'hasNext': True}\n"
     ]
    }
   ],
   "source": [
    "import requests\n",
    "import json\n",
    "import pandas as pd\n",
    "from selenium import webdriver\n",
    "from selenium.webdriver.common.by import By\n",
    "from selenium.webdriver.common.keys import Keys\n",
    "import time\n",
    "import requests\n",
    "from bs4 import BeautifulSoup\n",
    "import pandas as pd\n",
    "\n",
    "data = []\n",
    "response = requests.get(\"https://news.daum.net/api/harmonydic/contents/news.json?category=economic&approved=true&page=1&pageSize=20&pagesToShow=10&range=1\")\n",
    "data = json.loads(response.text)\n",
    "print(data)\n",
    "# for news in data['list']:\n",
    "#     date = news['newsId'] # You might need to format this date, depending on how it's structured in the JSON response.\n",
    "#     title = news['title']\n",
    "#     link = news['contentUrl']\n",
    "#     publisher = news['cpKorName']\n",
    "#     print(date,title,link,publisher)\n",
    "\n",
    "# data['list']\n",
    "# for news_item in data['list']:\n",
    "#     date = news_item.get('newsId')  # You might need to format this date, depending on how it's structured in the JSON response.\n",
    "#     title = news_item.get('title')\n",
    "#     link = news_item.get('contentUrl')\n",
    "#     publisher = news_item.get('cpKorName')\n",
    "#     print(date,title,link,publisher)"
   ]
  },
  {
   "cell_type": "code",
   "execution_count": null,
   "metadata": {},
   "outputs": [],
   "source": []
  },
  {
   "cell_type": "code",
   "execution_count": null,
   "metadata": {},
   "outputs": [],
   "source": [
    "\n"
   ]
  },
  {
   "cell_type": "code",
   "execution_count": null,
   "metadata": {},
   "outputs": [],
   "source": []
  },
  {
   "cell_type": "code",
   "execution_count": null,
   "metadata": {},
   "outputs": [],
   "source": []
  },
  {
   "cell_type": "code",
   "execution_count": null,
   "metadata": {},
   "outputs": [],
   "source": []
  },
  {
   "cell_type": "code",
   "execution_count": null,
   "metadata": {},
   "outputs": [],
   "source": []
  },
  {
   "cell_type": "code",
   "execution_count": null,
   "metadata": {},
   "outputs": [],
   "source": [
    "from selenium import webdriver\n",
    "from selenium.webdriver.common.by import By\n",
    "from selenium.webdriver.common.keys import Keys\n",
    "import time\n",
    "import requests\n",
    "from bs4 import BeautifulSoup\n",
    "import pandas as pd\n",
    "\n",
    "text = \"과자\"\n",
    "driver = webdriver.Chrome()\n",
    "driver.get(f'https://msearch.shopping.naver.com/search/all?query={text}&frm=NVSHSRC&vertical=search')\n",
    "time.sleep(5)\n",
    "driver.find_element(By.CSS_SELECTOR, \"body\").send_keys(Keys.END)\n",
    "time.sleep(5)\n",
    "a = len(driver.find_elements(By.CSS_SELECTOR, \".product_list_item__b84TO\")) \n",
    "print(a)\n",
    "html = driver.page_source\n",
    "soup = BeautifulSoup(html, 'html.parser')\n",
    "posts = soup.select(\".product_list_item__b84TO\")\n",
    "# print(posts)\n",
    "data = []\n",
    "for post in posts:\n",
    "    # time.sleep(3)\n",
    "    title = post.select_one(\".product_info_tit__c5_pb\").text\n",
    "    link = post.select_one(\".product_btn_link__ArGCa.linkAnchor\").attrs['href']\n",
    "    money = post.select_one(\".product_num__iQsWh\").text\n",
    "    data.append([title, money, link])\n",
    "df =  pd.DataFrame(data, columns = ['제목','가격','링크'])\n",
    "df.to_excel('./aaa.xlsx')"
   ]
  }
 ],
 "metadata": {
  "kernelspec": {
   "display_name": "Python 3",
   "language": "python",
   "name": "python3"
  },
  "language_info": {
   "codemirror_mode": {
    "name": "ipython",
    "version": 3
   },
   "file_extension": ".py",
   "mimetype": "text/x-python",
   "name": "python",
   "nbconvert_exporter": "python",
   "pygments_lexer": "ipython3",
   "version": "3.10.9"
  }
 },
 "nbformat": 4,
 "nbformat_minor": 2
}
