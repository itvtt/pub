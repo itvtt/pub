{
 "cells": [
  {
   "cell_type": "code",
   "execution_count": 1,
   "metadata": {},
   "outputs": [
    {
     "name": "stdout",
     "output_type": "stream",
     "text": [
      "카카오톡 고객센터\n",
      "카카오톡 글씨체\n",
      "카카오톡 공감\n",
      "카카오톡 관리자\n",
      "카카오톡 계정\n",
      "카카오톡 가입\n",
      "카카오톡 관리자센터\n",
      "카카오톡 광고\n",
      "카카오톡 공감 취소\n",
      "카카오톡 게임\n"
     ]
    }
   ],
   "source": [
    "import requests\n",
    "import json\n",
    "\n",
    "response = requests.get('https://ac.search.naver.com/nx/ac?q=%EC%B9%B4%EC%B9%B4%EC%98%A4%ED%86%A1%20%E3%84%B1&con=1&frm=nv&ans=2&r_format=json&r_enc=UTF-8&r_unicode=0&t_koreng=1&run=2&rev=4&q_enc=UTF-8&st=100&_callback=_jsonp_9')\n",
    "\n",
    "data = response.text.replace('_jsonp_9(',\"\").replace(')',\"\")\n",
    "data = json.loads(data)\n",
    "data\n",
    "\n",
    "for key in data['items'][0]:\n",
    "    print(key[0])"
   ]
  },
  {
   "cell_type": "code",
   "execution_count": null,
   "metadata": {},
   "outputs": [],
   "source": []
  },
  {
   "cell_type": "code",
   "execution_count": null,
   "metadata": {},
   "outputs": [],
   "source": []
  },
  {
   "cell_type": "code",
   "execution_count": null,
   "metadata": {},
   "outputs": [],
   "source": []
  },
  {
   "cell_type": "code",
   "execution_count": null,
   "metadata": {},
   "outputs": [],
   "source": []
  },
  {
   "cell_type": "code",
   "execution_count": null,
   "metadata": {},
   "outputs": [],
   "source": []
  },
  {
   "cell_type": "code",
   "execution_count": null,
   "metadata": {},
   "outputs": [],
   "source": [
    "# 메인 페이지 크롤링\n",
    "import requests\n",
    "from bs4 import BeautifulSoup\n",
    "import pandas as pd\n",
    "\n",
    "data = []\n",
    "response = requests.get(\"https://kin.naver.com/search/list.naver?query=%EB%B0%98%EB%8F%84%EC%B2%B4&section=kin&period=2023.08.01.|2023.08.31.&sort=date\")\n",
    "html = response.text\n",
    "soup = BeautifulSoup(html, 'html.parser')\n",
    "posts = soup.select(\".section > ul > li\")\n",
    "for post in posts:\n",
    "    date = post.select_one(\".txt_inline\").text\n",
    "    title = post.select_one(\"._searchListTitleAnchor\").text\n",
    "    link = post.select_one(\"._searchListTitleAnchor\").attrs['href']\n",
    "    ans = post.select_one(\".hit\").text\n",
    "    ans = ans.split('답변수')[1].strip()\n",
    "    print(date, title, link, ans)"
   ]
  },
  {
   "cell_type": "code",
   "execution_count": null,
   "metadata": {},
   "outputs": [],
   "source": [
    "# 상세 페이지 크롤링 합치기\n",
    "import requests\n",
    "from bs4 import BeautifulSoup\n",
    "import pandas as pd\n",
    "\n",
    "data = []\n",
    "response = requests.get(\"https://kin.naver.com/search/list.naver?query=%EB%B0%98%EB%8F%84%EC%B2%B4&section=kin&period=2023.08.01.|2023.08.31.&sort=date\")\n",
    "html = response.text\n",
    "soup = BeautifulSoup(html, 'html.parser')\n",
    "posts = soup.select(\".section > ul > li\")\n",
    "for post in posts:\n",
    "    date = post.select_one(\".txt_inline\").text\n",
    "    title = post.select_one(\"._searchListTitleAnchor\").text\n",
    "    link = post.select_one(\"._searchListTitleAnchor\").attrs['href']\n",
    "    ans = post.select_one(\".hit\").text\n",
    "    ans = ans.split('답변수')[1].strip()\n",
    "    response = requests.get(link)\n",
    "    html = response.text\n",
    "    soup = BeautifulSoup(html, 'html.parser')\n",
    "    view = soup.select_one('.c-userinfo__info:nth-of-type(2)').text\n",
    "    view = view.split()[1]\n",
    "    print(date, title, link, ans, view)"
   ]
  },
  {
   "cell_type": "code",
   "execution_count": null,
   "metadata": {},
   "outputs": [],
   "source": [
    "# 데이터 저장\n",
    "import requests\n",
    "from bs4 import BeautifulSoup\n",
    "import pandas as pd\n",
    "\n",
    "data = []\n",
    "i = 0\n",
    "for i in range (0,2):\n",
    "    i = i+1\n",
    "    response = requests.get(f\"https://kin.naver.com/search/list.naver?sort=date&query=%EB%B0%98%EB%8F%84%EC%B2%B4&period=2023.08.01.%7C2023.08.31.&section=kin&page={i}\")\n",
    "    html = response.text\n",
    "    soup = BeautifulSoup(html, 'html.parser')\n",
    "    posts = soup.select(\".section > ul > li\")\n",
    "    for post in posts:\n",
    "        date = post.select_one(\".txt_inline\").text\n",
    "        title = post.select_one(\"._searchListTitleAnchor\").text\n",
    "        link = post.select_one(\"._searchListTitleAnchor\").attrs['href']\n",
    "        ans = post.select_one(\".hit\").text\n",
    "        ans = ans.split('답변수')[1].strip()\n",
    "        response = requests.get(link)\n",
    "        html = response.text\n",
    "        soup = BeautifulSoup(html, 'html.parser')\n",
    "        view = soup.select_one('.c-userinfo__info:nth-of-type(2)').text\n",
    "        view = view.split()[1]\n",
    "        print(date, title, link, ans, view)\n",
    "        data.append([date, title, link, ans, view])\n",
    "        df =  pd.DataFrame(data, columns = ['날짜','제목','링크','답변수','조회수'])\n",
    "df['답변수'] = df['답변수'].astype(int)\n",
    "df['조회수'] = df['조회수'].astype(int)\n",
    "df.to_excel('./result.xlsx')\n",
    "df.dtypes"
   ]
  },
  {
   "cell_type": "code",
   "execution_count": null,
   "metadata": {},
   "outputs": [],
   "source": []
  },
  {
   "cell_type": "code",
   "execution_count": null,
   "metadata": {},
   "outputs": [],
   "source": []
  },
  {
   "cell_type": "code",
   "execution_count": null,
   "metadata": {},
   "outputs": [],
   "source": []
  },
  {
   "cell_type": "code",
   "execution_count": null,
   "metadata": {},
   "outputs": [],
   "source": []
  },
  {
   "cell_type": "code",
   "execution_count": null,
   "metadata": {},
   "outputs": [],
   "source": []
  },
  {
   "cell_type": "code",
   "execution_count": null,
   "metadata": {},
   "outputs": [],
   "source": []
  },
  {
   "cell_type": "code",
   "execution_count": null,
   "metadata": {},
   "outputs": [],
   "source": [
    "posts = soup.select(\".product_list_item__b84TO\")\n",
    "# print(posts)\n",
    "data = []\n",
    "for post in posts:\n",
    "    # time.sleep(3)\n",
    "    title = post.select_one(\".product_info_tit__c5_pb\").text\n",
    "    link = post.select_one(\".product_btn_link__ArGCa.linkAnchor\").attrs['href']\n",
    "    money = post.select_one(\".product_num__iQsWh\").text\n",
    "    data.append([title, money, link])\n",
    "df =  pd.DataFrame(data, columns = ['제목','가격','링크'])\n",
    "df.to_excel('./aaa.xlsx')"
   ]
  },
  {
   "cell_type": "code",
   "execution_count": null,
   "metadata": {},
   "outputs": [],
   "source": []
  },
  {
   "cell_type": "code",
   "execution_count": null,
   "metadata": {},
   "outputs": [],
   "source": []
  },
  {
   "cell_type": "code",
   "execution_count": null,
   "metadata": {},
   "outputs": [],
   "source": []
  },
  {
   "cell_type": "code",
   "execution_count": null,
   "metadata": {},
   "outputs": [],
   "source": []
  },
  {
   "cell_type": "code",
   "execution_count": null,
   "metadata": {},
   "outputs": [],
   "source": []
  },
  {
   "cell_type": "code",
   "execution_count": null,
   "metadata": {},
   "outputs": [],
   "source": []
  }
 ],
 "metadata": {
  "kernelspec": {
   "display_name": "Python 3",
   "language": "python",
   "name": "python3"
  },
  "language_info": {
   "codemirror_mode": {
    "name": "ipython",
    "version": 3
   },
   "file_extension": ".py",
   "mimetype": "text/x-python",
   "name": "python",
   "nbconvert_exporter": "python",
   "pygments_lexer": "ipython3",
   "version": "3.10.9"
  }
 },
 "nbformat": 4,
 "nbformat_minor": 2
}
