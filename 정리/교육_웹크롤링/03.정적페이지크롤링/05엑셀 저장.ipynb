{
 "cells": [
  {
   "cell_type": "code",
   "execution_count": 1,
   "metadata": {},
   "outputs": [
    {
     "data": {
      "text/plain": [
       "[['실전! 네이버 뉴스 크롤링 - 파이썬으로 데이터 수집 쉽게 하자 (1단계)',\n",
       "  '****주의 사항****\\r\\n1. 상업적 용도로 크롤링한 정보를 이용하지 말 것\\r\\n2. 서버에 부담을 줄 정도로 많은 요청을 하지 말 것\\r\\n\\r\\n네이버 뉴스 크롤링을 초보자 분들도 쉽게 할 수 있도록\\r\\n영상을 제작하였습니다.\\r\\n\\r\\n(1단계) 네이버 뉴스 1페이지 제목과 링크 크롤링하기\\r\\n(2단계) 네이버 뉴스 검색어 변경하면서 크롤링하기\\r\\n(3단계) 네이버 뉴스 여러 페이지 가져오기',\n",
       "  'https://www.youtube.com/watch?v=U1amkBqKF5g'],\n",
       " ['30만원 짜리 외주 프로그램 만들기 - 파이썬으로 네이버 쇼핑 크롤링하기 1편 (ft. 셀레니움 selenium)',\n",
       "  '30만원을 받고 만들어 준 외주 프로그램 만드는 과정을 공개합니다. \\r\\n이런 거 다 공개해도 괜찮겠죠..?\\r\\n\\r\\n네이버 쇼핑 상품 정보를 검색어 별로 \\r\\n크롤링 후 엑셀로 저장하는 프로그램입니다. \\r\\n\\r\\n여러분도 강의를 듣고 나면 프로그램을 제작해서 돈을 벌 수 있습니다.',\n",
       "  'https://www.youtube.com/watch?v=ZHx6oATaI28'],\n",
       " ['(지금 당장) 우리가 코딩을 배워야 하는 3가지 이유',\n",
       "  '정리를 하면\\r\\n코딩을 배워야 하는 이유는 \\r\\n첫 번째, 컴퓨터에게 일을 시킬 수 있고\\r\\n두 번째, 세상에 없는 나만의 서비스를 개발할 수 있고\\r\\n세 번째, 실력이 생기면 개발자로 취업이 가능하다. \\r\\n\\r\\n\\r\\n스타트코딩이 \\r\\n여러분의 코딩 입문을 도와드리겠습니다.',\n",
       "  'https://www.youtube.com/watch?v=WqeElOYZhkM'],\n",
       " ['[초보도 가능] 30만원 외주 프로그램 만들기 - 파이썬 웹 크롤링 셀레니움 Selenium 강의 2편(ft. 스크래핑 결과 csv 파일 저장하기)',\n",
       "  '[강의 설명]\\r\\n초보자도 가능한 30만원 짜리 외주 프로그램 만들기 강의 입니다.\\r\\n파이썬 웹 크롤링을 이용해서 제작해요.\\r\\n셀레니움 (selenium) 의 심화적인 부분까지 다루어 봅니다!\\r\\ncsv 파일에 저장하는 방법 까지 총정리 해 드립니다.\\r\\n\\r\\n1. 웹 크롤링을 할 때 가장 중요한 HTML 분석하는 방법을 자세히 다뤄 드립니다.\\r\\n2. 셀레니움 무한 스크롤 처리 방법의 원리까지 이해시켜 드립니다.\\r\\n3. 내가 원하는 HTML 태그를 선택하는 비법을 알려 드립니다.\\r\\n4. 크롤링한 결과를 csv 파일에 저장하는 방법을 알려 드립니다.',\n",
       "  'https://www.youtube.com/watch?v=qRU94vtUb7c'],\n",
       " ['잠 안줄이고 하루에 1시간 버는 법 #반복업무탈출 #업무자동화 #RPA',\n",
       "  '영상을 보고 나면, 여러분이 직접 로봇을 개발해서 일을 시킬 수 있습니다. \\r\\n반복 업무에 쓰이는 시간이 아깝다면 반드시 활용해 보세요.\\r\\n\\r\\n첫 번째 시간으로,\\r\\n파이썬으로 컴퓨터의 마우스 매크로를 만드는 방법을 알려드립니다 :)\\r\\n\\r\\n1. 파이썬 마우스 위치 좌표 찾기\\r\\n2. 파이썬 마우스 이동하기\\r\\n3. 파이썬 마우스 클릭\\r\\n4. 파이썬 마우스 드래그',\n",
       "  'https://www.youtube.com/watch?v=rMRQo9XbPgk'],\n",
       " ['컴퓨터에게 일 시키고 노는 방법 #키보드자동화 #업무자동화 #RPA',\n",
       "  '여러분이 지금 하고 있는 반복 업무를 자동화 로봇을 개발해\\r\\n일을 시킬 수 있습니다. 컴퓨터에게 일 시키고 그냥 놀면 됩니다. \\r\\n\\r\\n그 두번째 시간으로,\\r\\npyautogui 라이브러리로 \\r\\n파이썬 키보드 자동화 하는 방법을 정리해 드립니다.',\n",
       "  'https://www.youtube.com/watch?v=NI5dEsKsaSE'],\n",
       " ['파이썬 셀레니움 네이버 로그인을 만들면서 배우는 웹사이트 자동화 기초 # selenium 설치 # 자동 입력 방지 # 로그인 캡챠',\n",
       "  '원래 방법을 공개하지 않으려 했는데요... 구독자 분들을 위해 공개합니다.\\r\\n\\r\\n파이썬 셀레니움을 이용해 네이버 로그인 시\\r\\n자동 입력 방지 문자(로그인 캡챠)가 뜨는 것을 \\r\\n어떻게 해결할 지 알려드립니다.\\r\\n\\r\\n- 크롬 드라이버 다운로드 방법\\r\\n- 셀레니움 selenium 설치 방법\\r\\n- 네이버 로그인 자동화 프로그램 만들기',\n",
       "  'https://www.youtube.com/watch?v=fy107mUHapQ&t=22s'],\n",
       " ['누구나 할 수 있는 파이썬 코딩을 활용한 업무 자동화 기초',\n",
       "  '파이썬 코딩을 활용해서 네이버 메일을 자동으로 보내 볼 겁니다.\\r\\n여러분의 업무 자동화에도 활용될 수 있겠죠? ^^',\n",
       "  'https://www.youtube.com/watch?v=3VRw7UVJPQk'],\n",
       " ['사무직 칼퇴 필수 기술 파이썬 엑셀 업무 자동화 배우기',\n",
       "  '반복되는 엑셀 업무로 고통 받고 있나요?\\r\\n누군가 나의 업무를 대신 해줬으면 좋겠나요?\\r\\n\\r\\n이러한 고민이 있는 여러분을 위해\\r\\n파이썬을 이용해 엑셀 업무 자동화를 하는 방법을 영상으로 제작했습니다.\\r\\n\\r\\n파이썬을 이용하면 엑셀 작업의 대부분을 자동화 할 수 있습니다.\\r\\n사무직 칼퇴의 필수 기술, 영상으로 배워 보시죠!!',\n",
       "  'https://www.youtube.com/watch?v=EjTGSYCWmEo'],\n",
       " ['(NEW) 파이썬 기초 강의 , \"당신의 커리어에 파이썬을 더해보세요\"',\n",
       "  '코딩을 가장 쉽게 알려주는 크리에이터, \\r\\n스타트코딩입니다.\\r\\n\\r\\n\\r\\n파이썬에 쉽고 재미있게 입문할 수 있도록 만들어 드리는,\\r\\n2022년 따끈따끈한 신규 강의입니다.',\n",
       "  'https://www.youtube.com/watch?v=REUu0T1xsiU&t=33s'],\n",
       " ['오늘은 엑셀 매크로 대신, 파이썬을 배우고 싶다',\n",
       "  '엑셀 매크로 보다, \\r\\n쓸모가 많은 파이썬 진짜 쉽게 가르쳐 드립니다. \\r\\n\\r\\n이번 영상은, \\r\\n파이썬 엑셀 자동화 2강입니다.\\r\\n\\r\\n1. 실습에 쓸 예제 데이터 파일을 만들고, \\r\\n2. 셀 데이터를 가져오는 방법을 알아 봅니다.',\n",
       "  'https://www.youtube.com/watch?v=Z34SVo_jGr4'],\n",
       " ['엑셀 VBA 대신 파이썬 - 실무 중심 예제 1탄',\n",
       "  '코딩을 가장 쉽게 알려주는 크리에이터, \\r\\n스타트코딩입니다.\\r\\n\\r\\n엑셀 VBA 대신 파이썬을 배우며 자동화를 시켜 봅니다. \\r\\n\\r\\n실무에서 충분히 활용 될 수 있는\\r\\n\"엑셀 데이터 취합하기\" 미션을 드리고 풀이를 진행합니다.',\n",
       "  'https://www.youtube.com/watch?v=UT68mutiJJI&t=971s'],\n",
       " ['파이썬 실행파일 (EXE) 만들기, 배포, 변환 이 영상만 보세요.',\n",
       "  '유튜브 구독자 분들이 가장 많이 질문 주셨던 내용입니다.\\r\\n\\r\\n이 강의를 듣고 나면,\\r\\n1. 주변 사람들에게 파이썬 실행 파일을 만들어 프로그램을 배포하거나\\r\\n2. 파이썬 외주 프로그램 제작할 때 실행파일 형태로 넘겨줄 수 있습니다.',\n",
       "  'https://www.youtube.com/watch?v=nuZAmSyCMgY'],\n",
       " ['직장인 엑셀 자동화, 똑똑하게 일할 사람만 보세요 (Feat. 파이썬)',\n",
       "  '직장인으로 엑셀 작업이 많으신가요?\\r\\n반복되는 업무로 고생하고 계신가요?\\r\\n\\r\\n파이썬을 배우면 반복적인 업무가 자동화되어 칼퇴가 가능해 집니다.\\r\\n\\r\\n이번 강의에서는 실무에서 충분히 활용 될 수 있는\\r\\n\"엑셀 데이터 분리하기\" 미션을 드리고 풀이를 진행합니다.',\n",
       "  'https://www.youtube.com/watch?v=29Vh_RgQNhM&t=511s'],\n",
       " [\"팀장님께 인정받는 일잘러는 '이걸' 활용한다며? (크롤링 | 엑셀 | 리스틀리)\",\n",
       "  '(일잘러 = 일을 잘하는 사람)\\r\\n요즘 대부분의 업무를 데이터로 처리하고 있습니다.\\r\\n그만큼 데이터 수집이 중요해졌죠.\\r\\n리스틀리를 활용해서 데이터 수집을 클릭 한번으로 끝내 보세요!',\n",
       "  'https://www.youtube.com/watch?v=dBQ0tbYjgMc'],\n",
       " ['파이썬 초보에서 벗어나려면 꼭 봐야하는 영상 TOP1 (full)',\n",
       "  '코딩을 가장 쉽게 알려주는 크리에이터 스타트코딩입니다.\\r\\n코드를 작성할 때 소괄호( )를 왜 쓰는지 모르고 사용하시나요?\\r\\n\\r\\n파이썬 초보에서 벗어나려면 소괄호( )를 왜 쓰는지 문법을 정확히 알고\\r\\n사용하는 것이 정말 중요합니다.\\r\\n\\r\\n함수라는 녀석을 정복하러 가봅시다!!',\n",
       "  'https://www.youtube.com/watch?v=rWiM-QjBRIs'],\n",
       " ['파이썬 클래스, 객체, 인스턴스, 생성자, 메서드, self 개념 총정리!! 정말 쉽게 설명해 드립니다.',\n",
       "  '안녕하세요.\\r\\n코딩을 가장 쉽게 알려주는 크리에이터 스타트코딩입니다.\\r\\n\\r\\n코딩 공부 하시는 분들 중에 클래스가 어려워서 많이 포기하시는데요.\\r\\n제가 쉽고 재미있게 개념을 정리 해드리겠습니다.\\r\\n\\r\\n클래스, 객체, 인스턴스, 생성자, 메서드, self 개념 총정리 강의\\r\\n마음에 드셨다면 좋아요, 댓글 꼭 부탁드립니다 ^^',\n",
       "  'https://www.youtube.com/watch?v=FRHGtAvU03Q']]"
      ]
     },
     "execution_count": 1,
     "metadata": {},
     "output_type": "execute_result"
    }
   ],
   "source": [
    "import requests\n",
    "from bs4 import BeautifulSoup\n",
    "import pandas as pd\n",
    "\n",
    "\n",
    "data = []\n",
    "for i in range(1,5):\n",
    "    response = requests.get(f'https://startcoding-crawling.herokuapp.com/lv1?page={i}')\n",
    "    html = response.text\n",
    "    soup = BeautifulSoup(html, 'html.parser')\n",
    "    posts = soup.select(\".post-preview\")\n",
    "\n",
    "    for post in posts:\n",
    "        title = post.select_one(\".post-title\").text\n",
    "        text = post.select_one(\".post-subtitle\").text\n",
    "        link = post.select_one(\".post-preview > a\").attrs['href']\n",
    "        # print(title , text, link)\n",
    "        data.append([title, text, link])\n",
    "data\n",
    "        # df =  pd.DataFrame(data, columns = ['제목','내용','링크'])\n",
    "\n",
    "\n"
   ]
  },
  {
   "cell_type": "code",
   "execution_count": 3,
   "metadata": {},
   "outputs": [],
   "source": [
    "import pandas as pd\n",
    "df =  pd.DataFrame(data, columns = ['제목','내용','링크'])\n",
    "\n",
    "\n",
    "df.to_excel('./result.xlsx')"
   ]
  }
 ],
 "metadata": {
  "kernelspec": {
   "display_name": "Python 3",
   "language": "python",
   "name": "python3"
  },
  "language_info": {
   "codemirror_mode": {
    "name": "ipython",
    "version": 3
   },
   "file_extension": ".py",
   "mimetype": "text/x-python",
   "name": "python",
   "nbconvert_exporter": "python",
   "pygments_lexer": "ipython3",
   "version": "3.10.9"
  },
  "orig_nbformat": 4
 },
 "nbformat": 4,
 "nbformat_minor": 2
}
