{
 "cells": [
  {
   "cell_type": "code",
   "execution_count": null,
   "metadata": {},
   "outputs": [],
   "source": [
    "import requests\n",
    "from bs4 import BeautifulSoup\n",
    "\n",
    "response = requests.get('https://startcoding-crawling.herokuapp.com/lv1')\n",
    "html = response.text\n",
    "soup = BeautifulSoup(html, 'html.parser')\n",
    "# link = soup.select_one(\".post-title\").attrs['href']\n",
    "link = soup.select_one(\".post-preview > a\").attrs['href']\n",
    "\n",
    "# print(link)\n",
    "\n",
    "print(soup)\n"
   ]
  },
  {
   "cell_type": "code",
   "execution_count": null,
   "metadata": {},
   "outputs": [],
   "source": [
    "import requests\n",
    "from bs4 import BeautifulSoup\n",
    "\n",
    "response = requests.get('https://startcoding-crawling.herokuapp.com/lv1')\n",
    "html = response.text\n",
    "soup = BeautifulSoup(html, 'html.parser')\n",
    "title = soup.select_one(\".post-title\").text\n",
    "text = soup.select_one(\".post-subtitle\").text\n",
    "link = soup.select_one(\".post-preview > a\").attrs['href']\n",
    "\n",
    "print(title)\n",
    "print(text)\n",
    "print(link)\n"
   ]
  },
  {
   "cell_type": "code",
   "execution_count": null,
   "metadata": {},
   "outputs": [],
   "source": [
    "for i in range(5):\n",
    "    print(i)"
   ]
  },
  {
   "cell_type": "code",
   "execution_count": null,
   "metadata": {},
   "outputs": [],
   "source": [
    "import requests\n",
    "from bs4 import BeautifulSoup\n",
    "\n",
    "for i in range(1,5):\n",
    "    response = requests.get(f'https://startcoding-crawling.herokuapp.com/lv1?page={i}')\n",
    "    html = response.text\n",
    "    soup = BeautifulSoup(html, 'html.parser')\n",
    "    posts = soup.select(\".post-preview\")\n",
    "\n",
    "    for post in posts:\n",
    "        title = post.select_one(\".post-title\").text\n",
    "        text = post.select_one(\".post-subtitle\").text\n",
    "        link = post.select_one(\".post-preview > a\").attrs['href']\n",
    "        print(title, link , text)"
   ]
  },
  {
   "cell_type": "code",
   "execution_count": null,
   "metadata": {},
   "outputs": [],
   "source": [
    "import requests\n",
    "from bs4 import BeautifulSoup\n",
    "\n",
    "response = requests.get('https://startcoding-crawling.herokuapp.com/lv1')\n",
    "html = response.text\n",
    "soup = BeautifulSoup(html, 'html.parser')\n",
    "posts = soup.select(\".post-preview\")\n",
    "\n",
    "for post in posts:\n",
    "    title = post.select_one(\".post-title\").text\n",
    "    text = post.select_one(\".post-subtitle\").text\n",
    "    link = post.select_one(\".post-preview > a\").attrs['href']\n",
    "    print(title, link , text)\n"
   ]
  },
  {
   "cell_type": "code",
   "execution_count": null,
   "metadata": {},
   "outputs": [],
   "source": []
  }
 ],
 "metadata": {
  "kernelspec": {
   "display_name": "Python 3",
   "language": "python",
   "name": "python3"
  },
  "language_info": {
   "codemirror_mode": {
    "name": "ipython",
    "version": 3
   },
   "file_extension": ".py",
   "mimetype": "text/x-python",
   "name": "python",
   "nbconvert_exporter": "python",
   "pygments_lexer": "ipython3",
   "version": "3.10.9"
  },
  "orig_nbformat": 4
 },
 "nbformat": 4,
 "nbformat_minor": 2
}
