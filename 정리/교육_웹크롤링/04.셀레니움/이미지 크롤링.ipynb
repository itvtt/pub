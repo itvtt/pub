{
 "cells": [
  {
   "cell_type": "code",
   "execution_count": null,
   "metadata": {},
   "outputs": [],
   "source": [
    "import requests\n",
    "from bs4 import BeautifulSoup\n",
    "import pandas as pd\n",
    "\n",
    "\n",
    "data = []\n",
    "\n",
    "response = requests.get(f'https://search.naver.com/search.naver?where=news&sm=tab_jum&query=%EC%82%BC%EC%84%B1%EC%A0%84%EC%9E%90')\n",
    "html = response.text\n",
    "soup = BeautifulSoup(html, 'html.parser')\n",
    "\n",
    "title = soup.select_one(\".news_tit\").text\n",
    "link = soup.select_one(\".sp_nnews .news_wrap .news_tit\").attrs['href']\n",
    "content = soup.select_one(\".sp_nnews .news_wrap .dsc_wrap .dsc_txt_wrap\").text\n",
    "thmb = soup.select_one(\".thumb.api_get\").attrs['data-lazysrc']\n",
    "\n",
    "print(title, link, content, thmb)\n",
    "# data"
   ]
  },
  {
   "cell_type": "code",
   "execution_count": null,
   "metadata": {},
   "outputs": [],
   "source": []
  },
  {
   "cell_type": "code",
   "execution_count": null,
   "metadata": {},
   "outputs": [],
   "source": [
    "import requests\n",
    "from bs4 import BeautifulSoup\n",
    "import pandas as pd\n",
    "data = []\n",
    "response = requests.get(f'https://search.naver.com/search.naver?where=news&sm=tab_jum&query=%EC%82%BC%EC%84%B1%EC%A0%84%EC%9E%90')\n",
    "html = response.text\n",
    "soup = BeautifulSoup(html, 'html.parser')\n",
    "posts = soup.select(\".main_pack\")\n",
    "# print(posts)\n",
    "for post in posts:\n",
    "    title = post.select_one(\".sub_tit\").text\n",
    "    data.append([title])\n",
    "print(data)\n",
    "\n"
   ]
  },
  {
   "cell_type": "code",
   "execution_count": null,
   "metadata": {},
   "outputs": [],
   "source": []
  },
  {
   "cell_type": "code",
   "execution_count": null,
   "metadata": {},
   "outputs": [],
   "source": [
    "import requests\n",
    "from bs4 import BeautifulSoup\n",
    "data = []\n",
    "response = requests.get(f'https://search.naver.com/search.naver?where=news&sm=tab_jum&query=%EC%82%BC%EC%84%B1%EC%A0%84%EC%9E%90')\n",
    "html = response.text\n",
    "soup = BeautifulSoup(html, 'html.parser')\n",
    "# posts = soup.select(\".news_wrap\")\n",
    "posts = soup.select(\".list_news > li\")\n",
    "# print(posts)\n",
    "for post in posts:\n",
    "    title = post.select_one(\".news_tit\").text\n",
    "    link = post.select_one(\".news_tit\").attrs['href']\n",
    "    content = post.select_one(\".api_txt_lines.dsc_txt_wrap\").text\n",
    "    img_src = post.select_one(\".thumb.api_get\").attrs['data-lazysrc']\n",
    "    data.append([title, link, content, img_src])\n",
    "data\n"
   ]
  },
  {
   "cell_type": "code",
   "execution_count": null,
   "metadata": {},
   "outputs": [],
   "source": []
  },
  {
   "cell_type": "code",
   "execution_count": 2,
   "metadata": {},
   "outputs": [
    {
     "name": "stdout",
     "output_type": "stream",
     "text": [
      "1페이지 크롤링중\n",
      "2페이지 크롤링중\n",
      "3페이지 크롤링중\n"
     ]
    }
   ],
   "source": [
    "import requests\n",
    "from bs4 import BeautifulSoup\n",
    "import pandas as pd\n",
    "\n",
    "\n",
    "data = []\n",
    "for i in range(0,3):\n",
    "    response = requests.get(f'https://search.naver.com/search.naver?where=news&sm=tab_pge&query=%EC%82%BC%EC%84%B1%EC%A0%84%EC%9E%90&start={i}1')\n",
    "    print(f'{i+1}페이지 크롤링중')\n",
    "    html = response.text\n",
    "    soup = BeautifulSoup(html, 'html.parser')\n",
    "    posts = soup.select(\".news_wrap\")\n",
    "    # print(posts)\n",
    "    for post in posts:\n",
    "        title = post.select_one(\".news_tit\").text\n",
    "        link = post.select_one(\".news_tit\").attrs['href']\n",
    "        content = post.select_one(\".api_txt_lines.dsc_txt_wrap\").text\n",
    "        img_src2 = post.select_one(\".thumb.api_get\")\n",
    "        try:\n",
    "            img_src = post.select_one(\".thumb.api_get\").attrs['data-lazysrc']\n",
    "        except:\n",
    "            # pass\n",
    "            img_src = \"없음\"\n",
    "        data.append([title, link, content, img_src])\n",
    "# data\n",
    "df =  pd.DataFrame(data, columns = ['제목','링크','내용','이미지'])\n",
    "df.to_excel('./aaa.xlsx')\n"
   ]
  },
  {
   "cell_type": "code",
   "execution_count": null,
   "metadata": {},
   "outputs": [],
   "source": []
  }
 ],
 "metadata": {
  "kernelspec": {
   "display_name": "Python 3",
   "language": "python",
   "name": "python3"
  },
  "language_info": {
   "codemirror_mode": {
    "name": "ipython",
    "version": 3
   },
   "file_extension": ".py",
   "mimetype": "text/x-python",
   "name": "python",
   "nbconvert_exporter": "python",
   "pygments_lexer": "ipython3",
   "version": "3.10.9"
  }
 },
 "nbformat": 4,
 "nbformat_minor": 2
}
