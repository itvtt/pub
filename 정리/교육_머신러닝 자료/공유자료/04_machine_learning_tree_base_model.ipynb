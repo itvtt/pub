{
 "cells": [
  {
   "cell_type": "markdown",
   "metadata": {},
   "source": [
    "# Tree base model"
   ]
  },
  {
   "cell_type": "markdown",
   "metadata": {},
   "source": [
    "## Decision Tree(CART : Classification and Regression Tree)\n",
    "> **`Decision Tree`** 모델은 **예측/분류가 모두 가능**한 **지도학습** 머신러닝 모델이다.   \n",
    "스무고개 게임을 하듯 여러 개의 가정을 데이터에 반영하고 이를 바탕으로 결정경계(decision boundary)를 생성  \n",
    "모델 예측 및 분류 결과에 따른 해석이 굉장히 용이하여 **모델 해석이 필요한 문제에 사용**한다.ex)신용평가, 모델분류  \n",
    "최근에는 `Decision Tree`모델을 베이스로 한 부스팅 트리 모델(**`Xgboost`**, **`LightGBM`**, **`Catboost`**)등으로 데이터분석 대회 수상을 하면서 실무 적용 케이스가 많아졌다.\n",
    "\n",
    "### 모델구조\n",
    "> 뿌리 노드(root node) : 최상위 노드, 모든 샘플 포함  \n",
    "잎 노드(leaf node) : 최하위 노드, 여기에 속한 샘플이 어떤 클래스인지 결정 됨  \n",
    "노드(node) : 뿌리 노드와 잎 노드 사이에 있는 노드  \n",
    "가지(branch) : 노드를 나누는 기준  \n",
    "깊이(depth) : 뿌리 노드와 잎 노드 까지의 노드 갯수\n",
    "\n",
    "<img src=\"./image/27.png\">"
   ]
  },
  {
   "cell_type": "markdown",
   "metadata": {},
   "source": [
    "### 모델학습\n",
    "#### 불순도\n",
    "> `Decision Tree` 모델을 학습시키는 방법  \n",
    "정보화 이론에서 사용하는 Gini 계수와 엔트로피를 사용한다.  \n",
    "불순도가 0.5에 가까수록 불순도가 높고 0 혹은 1에 가까울 수록 순도가 높다.  \n",
    "즉, 한 노드의 불순도가 가능한 많이 떨어지도록(순도가 올라가도록) 노드를 나눈다.\n",
    "\n",
    "$$ Gini = 1 - \\sum_1^n{(p_i)^2} $$\n",
    "\n",
    "$$ Entropy = - \\sum_1^n{p_iln(p_i)} $$\n",
    "\n",
    "#### Gini index\n",
    "위 예시에서 뿌리 노드 기준 지니계수 계산법  \n",
    "class1 : 삼각형  \n",
    "class2 : 동그라미  \n",
    ">X < 0\n",
    ">> True = class1 3개, class2 4개  \n",
    "$1 - ({3 \\over 3+4})^2 - ({4 \\over 3+4})^2 = 0.48$  \n",
    "False = class1 4개, class2 3개  \n",
    "$1 - ({4 \\over 4+3})^2 - ({3 \\over 4+3})^2 = 0.48$  \n",
    "total Gini 계수  \n",
    "$1 - ({7 \\over 7+7})0.48 - ({7 \\over 7+7})0.48 = 0.52$\n",
    "\n",
    "위 예시에서 잎 노드 기준 지니계수 계산법  \n",
    "class1 : 삼각형  \n",
    "class2 : 동그라미  \n",
    ">Y < 1\n",
    ">> True = class1 3개, class2 0개  \n",
    "$1 - ({3 \\over 3})^2 - ({0 \\over 3})^2 = 0$  \n",
    "False = class1 0개, class2 4개  \n",
    "$1 - ({0 \\over 4})^2 - ({4 \\over 4})^2 = 0$  \n",
    "total Gini 계수  \n",
    "$1 - ({3 \\over 3+4})0 - ({4 \\over 3+4})0 = 1$\n",
    "\n",
    "위의 예시에서 계산한 total Gini 계수가 곧 Decision tree 모델의 비용함수가 된다.  \n",
    "이를 바탕으로 더 나은 선택을 하게 되는 결정경계를 생성하는 방법으로 데이터를 학습하는데 이를 greedy 알고리즘이라 한다."
   ]
  },
  {
   "cell_type": "markdown",
   "metadata": {},
   "source": [
    "### Decision Tree classifier 실습"
   ]
  },
  {
   "cell_type": "code",
   "execution_count": 1,
   "metadata": {
    "ExecuteTime": {
     "end_time": "2023-10-25T04:20:01.256636Z",
     "start_time": "2023-10-25T04:20:01.054357Z"
    }
   },
   "outputs": [],
   "source": [
    "# 필요모듈 import \n",
    "import pandas as pd\n",
    "from sklearn.datasets import load_iris"
   ]
  },
  {
   "cell_type": "code",
   "execution_count": 2,
   "metadata": {
    "ExecuteTime": {
     "end_time": "2023-10-25T04:20:11.603061Z",
     "start_time": "2023-10-25T04:20:11.582458Z"
    }
   },
   "outputs": [],
   "source": [
    "# iris 데이터로드\n",
    "iris = load_iris()"
   ]
  },
  {
   "cell_type": "code",
   "execution_count": 3,
   "metadata": {
    "ExecuteTime": {
     "end_time": "2023-10-25T04:20:23.180371Z",
     "start_time": "2023-10-25T04:20:23.165698Z"
    }
   },
   "outputs": [
    {
     "name": "stdout",
     "output_type": "stream",
     "text": [
      ".. _iris_dataset:\n",
      "\n",
      "Iris plants dataset\n",
      "--------------------\n",
      "\n",
      "**Data Set Characteristics:**\n",
      "\n",
      "    :Number of Instances: 150 (50 in each of three classes)\n",
      "    :Number of Attributes: 4 numeric, predictive attributes and the class\n",
      "    :Attribute Information:\n",
      "        - sepal length in cm\n",
      "        - sepal width in cm\n",
      "        - petal length in cm\n",
      "        - petal width in cm\n",
      "        - class:\n",
      "                - Iris-Setosa\n",
      "                - Iris-Versicolour\n",
      "                - Iris-Virginica\n",
      "                \n",
      "    :Summary Statistics:\n",
      "\n",
      "    ============== ==== ==== ======= ===== ====================\n",
      "                    Min  Max   Mean    SD   Class Correlation\n",
      "    ============== ==== ==== ======= ===== ====================\n",
      "    sepal length:   4.3  7.9   5.84   0.83    0.7826\n",
      "    sepal width:    2.0  4.4   3.05   0.43   -0.4194\n",
      "    petal length:   1.0  6.9   3.76   1.76    0.9490  (high!)\n",
      "    petal width:    0.1  2.5   1.20   0.76    0.9565  (high!)\n",
      "    ============== ==== ==== ======= ===== ====================\n",
      "\n",
      "    :Missing Attribute Values: None\n",
      "    :Class Distribution: 33.3% for each of 3 classes.\n",
      "    :Creator: R.A. Fisher\n",
      "    :Donor: Michael Marshall (MARSHALL%PLU@io.arc.nasa.gov)\n",
      "    :Date: July, 1988\n",
      "\n",
      "The famous Iris database, first used by Sir R.A. Fisher. The dataset is taken\n",
      "from Fisher's paper. Note that it's the same as in R, but not as in the UCI\n",
      "Machine Learning Repository, which has two wrong data points.\n",
      "\n",
      "This is perhaps the best known database to be found in the\n",
      "pattern recognition literature.  Fisher's paper is a classic in the field and\n",
      "is referenced frequently to this day.  (See Duda & Hart, for example.)  The\n",
      "data set contains 3 classes of 50 instances each, where each class refers to a\n",
      "type of iris plant.  One class is linearly separable from the other 2; the\n",
      "latter are NOT linearly separable from each other.\n",
      "\n",
      ".. topic:: References\n",
      "\n",
      "   - Fisher, R.A. \"The use of multiple measurements in taxonomic problems\"\n",
      "     Annual Eugenics, 7, Part II, 179-188 (1936); also in \"Contributions to\n",
      "     Mathematical Statistics\" (John Wiley, NY, 1950).\n",
      "   - Duda, R.O., & Hart, P.E. (1973) Pattern Classification and Scene Analysis.\n",
      "     (Q327.D83) John Wiley & Sons.  ISBN 0-471-22361-1.  See page 218.\n",
      "   - Dasarathy, B.V. (1980) \"Nosing Around the Neighborhood: A New System\n",
      "     Structure and Classification Rule for Recognition in Partially Exposed\n",
      "     Environments\".  IEEE Transactions on Pattern Analysis and Machine\n",
      "     Intelligence, Vol. PAMI-2, No. 1, 67-71.\n",
      "   - Gates, G.W. (1972) \"The Reduced Nearest Neighbor Rule\".  IEEE Transactions\n",
      "     on Information Theory, May 1972, 431-433.\n",
      "   - See also: 1988 MLC Proceedings, 54-64.  Cheeseman et al\"s AUTOCLASS II\n",
      "     conceptual clustering system finds 3 classes in the data.\n",
      "   - Many, many more ...\n"
     ]
    }
   ],
   "source": [
    "# 로딩 데이터 확인\n",
    "print(iris['DESCR'])"
   ]
  },
  {
   "cell_type": "code",
   "execution_count": 9,
   "metadata": {
    "ExecuteTime": {
     "end_time": "2023-10-25T04:23:42.101242Z",
     "start_time": "2023-10-25T04:23:42.093523Z"
    }
   },
   "outputs": [],
   "source": [
    "# 데이터 분할\n",
    "X = pd.DataFrame(iris['data'], columns=iris['feature_names'])\n",
    "y = iris['target']"
   ]
  },
  {
   "cell_type": "code",
   "execution_count": 14,
   "metadata": {
    "ExecuteTime": {
     "end_time": "2023-10-25T04:31:35.345218Z",
     "start_time": "2023-10-25T04:31:35.332618Z"
    }
   },
   "outputs": [],
   "source": [
    "# 학습데이터 분할\n",
    "from sklearn.model_selection import train_test_split\n",
    "X_train, X_test, y_train, y_test = train_test_split(X, y, test_size=0.3, random_state=42, stratify=y)"
   ]
  },
  {
   "cell_type": "code",
   "execution_count": 15,
   "metadata": {
    "ExecuteTime": {
     "end_time": "2023-10-25T04:32:26.681321Z",
     "start_time": "2023-10-25T04:32:26.659652Z"
    }
   },
   "outputs": [],
   "source": [
    "# 모델 import\n",
    "from sklearn.tree import DecisionTreeClassifier"
   ]
  },
  {
   "cell_type": "code",
   "execution_count": 50,
   "metadata": {
    "ExecuteTime": {
     "end_time": "2023-10-25T05:17:16.096757Z",
     "start_time": "2023-10-25T05:17:16.074475Z"
    }
   },
   "outputs": [],
   "source": [
    "# 모델 생성\n",
    "dtc = DecisionTreeClassifier(max_depth=3, random_state=42)"
   ]
  },
  {
   "cell_type": "code",
   "execution_count": 51,
   "metadata": {
    "ExecuteTime": {
     "end_time": "2023-10-25T05:17:16.946000Z",
     "start_time": "2023-10-25T05:17:16.934387Z"
    }
   },
   "outputs": [
    {
     "data": {
      "text/html": [
       "<style>#sk-container-id-3 {color: black;}#sk-container-id-3 pre{padding: 0;}#sk-container-id-3 div.sk-toggleable {background-color: white;}#sk-container-id-3 label.sk-toggleable__label {cursor: pointer;display: block;width: 100%;margin-bottom: 0;padding: 0.3em;box-sizing: border-box;text-align: center;}#sk-container-id-3 label.sk-toggleable__label-arrow:before {content: \"▸\";float: left;margin-right: 0.25em;color: #696969;}#sk-container-id-3 label.sk-toggleable__label-arrow:hover:before {color: black;}#sk-container-id-3 div.sk-estimator:hover label.sk-toggleable__label-arrow:before {color: black;}#sk-container-id-3 div.sk-toggleable__content {max-height: 0;max-width: 0;overflow: hidden;text-align: left;background-color: #f0f8ff;}#sk-container-id-3 div.sk-toggleable__content pre {margin: 0.2em;color: black;border-radius: 0.25em;background-color: #f0f8ff;}#sk-container-id-3 input.sk-toggleable__control:checked~div.sk-toggleable__content {max-height: 200px;max-width: 100%;overflow: auto;}#sk-container-id-3 input.sk-toggleable__control:checked~label.sk-toggleable__label-arrow:before {content: \"▾\";}#sk-container-id-3 div.sk-estimator input.sk-toggleable__control:checked~label.sk-toggleable__label {background-color: #d4ebff;}#sk-container-id-3 div.sk-label input.sk-toggleable__control:checked~label.sk-toggleable__label {background-color: #d4ebff;}#sk-container-id-3 input.sk-hidden--visually {border: 0;clip: rect(1px 1px 1px 1px);clip: rect(1px, 1px, 1px, 1px);height: 1px;margin: -1px;overflow: hidden;padding: 0;position: absolute;width: 1px;}#sk-container-id-3 div.sk-estimator {font-family: monospace;background-color: #f0f8ff;border: 1px dotted black;border-radius: 0.25em;box-sizing: border-box;margin-bottom: 0.5em;}#sk-container-id-3 div.sk-estimator:hover {background-color: #d4ebff;}#sk-container-id-3 div.sk-parallel-item::after {content: \"\";width: 100%;border-bottom: 1px solid gray;flex-grow: 1;}#sk-container-id-3 div.sk-label:hover label.sk-toggleable__label {background-color: #d4ebff;}#sk-container-id-3 div.sk-serial::before {content: \"\";position: absolute;border-left: 1px solid gray;box-sizing: border-box;top: 0;bottom: 0;left: 50%;z-index: 0;}#sk-container-id-3 div.sk-serial {display: flex;flex-direction: column;align-items: center;background-color: white;padding-right: 0.2em;padding-left: 0.2em;position: relative;}#sk-container-id-3 div.sk-item {position: relative;z-index: 1;}#sk-container-id-3 div.sk-parallel {display: flex;align-items: stretch;justify-content: center;background-color: white;position: relative;}#sk-container-id-3 div.sk-item::before, #sk-container-id-3 div.sk-parallel-item::before {content: \"\";position: absolute;border-left: 1px solid gray;box-sizing: border-box;top: 0;bottom: 0;left: 50%;z-index: -1;}#sk-container-id-3 div.sk-parallel-item {display: flex;flex-direction: column;z-index: 1;position: relative;background-color: white;}#sk-container-id-3 div.sk-parallel-item:first-child::after {align-self: flex-end;width: 50%;}#sk-container-id-3 div.sk-parallel-item:last-child::after {align-self: flex-start;width: 50%;}#sk-container-id-3 div.sk-parallel-item:only-child::after {width: 0;}#sk-container-id-3 div.sk-dashed-wrapped {border: 1px dashed gray;margin: 0 0.4em 0.5em 0.4em;box-sizing: border-box;padding-bottom: 0.4em;background-color: white;}#sk-container-id-3 div.sk-label label {font-family: monospace;font-weight: bold;display: inline-block;line-height: 1.2em;}#sk-container-id-3 div.sk-label-container {text-align: center;}#sk-container-id-3 div.sk-container {/* jupyter's `normalize.less` sets `[hidden] { display: none; }` but bootstrap.min.css set `[hidden] { display: none !important; }` so we also need the `!important` here to be able to override the default hidden behavior on the sphinx rendered scikit-learn.org. See: https://github.com/scikit-learn/scikit-learn/issues/21755 */display: inline-block !important;position: relative;}#sk-container-id-3 div.sk-text-repr-fallback {display: none;}</style><div id=\"sk-container-id-3\" class=\"sk-top-container\"><div class=\"sk-text-repr-fallback\"><pre>DecisionTreeClassifier(max_depth=3, random_state=42)</pre><b>In a Jupyter environment, please rerun this cell to show the HTML representation or trust the notebook. <br />On GitHub, the HTML representation is unable to render, please try loading this page with nbviewer.org.</b></div><div class=\"sk-container\" hidden><div class=\"sk-item\"><div class=\"sk-estimator sk-toggleable\"><input class=\"sk-toggleable__control sk-hidden--visually\" id=\"sk-estimator-id-3\" type=\"checkbox\" checked><label for=\"sk-estimator-id-3\" class=\"sk-toggleable__label sk-toggleable__label-arrow\">DecisionTreeClassifier</label><div class=\"sk-toggleable__content\"><pre>DecisionTreeClassifier(max_depth=3, random_state=42)</pre></div></div></div></div></div>"
      ],
      "text/plain": [
       "DecisionTreeClassifier(max_depth=3, random_state=42)"
      ]
     },
     "execution_count": 51,
     "metadata": {},
     "output_type": "execute_result"
    }
   ],
   "source": [
    "# 모델 학습\n",
    "dtc.fit(X_train, y_train)"
   ]
  },
  {
   "cell_type": "code",
   "execution_count": 52,
   "metadata": {
    "ExecuteTime": {
     "end_time": "2023-10-25T05:17:20.226083Z",
     "start_time": "2023-10-25T05:17:20.216420Z"
    }
   },
   "outputs": [],
   "source": [
    "# 모델평가\n",
    "dtc_pred = dtc.predict(X_test)"
   ]
  },
  {
   "cell_type": "code",
   "execution_count": 53,
   "metadata": {
    "ExecuteTime": {
     "end_time": "2023-10-25T05:17:20.732234Z",
     "start_time": "2023-10-25T05:17:20.724124Z"
    }
   },
   "outputs": [
    {
     "data": {
      "text/plain": [
       "array([2, 1, 2, 1, 2, 2, 1, 1, 0, 2, 0, 0, 2, 2, 0, 2, 1, 0, 0, 0, 1, 0,\n",
       "       1, 2, 2, 1, 1, 1, 1, 0, 2, 2, 1, 0, 2, 0, 0, 0, 0, 2, 1, 0, 2, 2,\n",
       "       1])"
      ]
     },
     "execution_count": 53,
     "metadata": {},
     "output_type": "execute_result"
    }
   ],
   "source": [
    "# test셋 분류 결과 확인\n",
    "dtc_pred"
   ]
  },
  {
   "cell_type": "code",
   "execution_count": 54,
   "metadata": {
    "ExecuteTime": {
     "end_time": "2023-10-25T05:17:21.612471Z",
     "start_time": "2023-10-25T05:17:21.593427Z"
    },
    "scrolled": true
   },
   "outputs": [
    {
     "name": "stdout",
     "output_type": "stream",
     "text": [
      "[[15  0  0]\n",
      " [ 0 14  1]\n",
      " [ 0  0 15]]\n",
      "              precision    recall  f1-score   support\n",
      "\n",
      "      setosa       1.00      1.00      1.00        15\n",
      "  versicolor       1.00      0.93      0.97        15\n",
      "   virginica       0.94      1.00      0.97        15\n",
      "\n",
      "    accuracy                           0.98        45\n",
      "   macro avg       0.98      0.98      0.98        45\n",
      "weighted avg       0.98      0.98      0.98        45\n",
      "\n"
     ]
    }
   ],
   "source": [
    "# 모델 평가지표 출력\n",
    "from sklearn.metrics import confusion_matrix, classification_report\n",
    "print(confusion_matrix(y_test, dtc_pred))\n",
    "print(classification_report(y_test, dtc_pred, target_names=iris['target_names']))"
   ]
  },
  {
   "cell_type": "code",
   "execution_count": 23,
   "metadata": {
    "ExecuteTime": {
     "end_time": "2023-10-25T04:39:57.809026Z",
     "start_time": "2023-10-25T04:39:57.804391Z"
    }
   },
   "outputs": [],
   "source": [
    "from sklearn.metrics import accuracy_score, precision_score, recall_score, f1_score"
   ]
  },
  {
   "cell_type": "code",
   "execution_count": 28,
   "metadata": {
    "ExecuteTime": {
     "end_time": "2023-10-25T04:42:51.207088Z",
     "start_time": "2023-10-25T04:42:51.202393Z"
    }
   },
   "outputs": [
    {
     "name": "stdout",
     "output_type": "stream",
     "text": [
      "0.9333333333333333\n"
     ]
    }
   ],
   "source": [
    "print(accuracy_score(y_test, dtc_pred))"
   ]
  },
  {
   "cell_type": "markdown",
   "metadata": {},
   "source": [
    "### 모델 해석을 위한 시각화 방법\n",
    "#### feature importance\n",
    "트리 기반 모델은 트리를 분기하는 과정에서 어떤 변수가 모델을 학습하는데 중요한지 살펴볼 수 있다."
   ]
  },
  {
   "cell_type": "code",
   "execution_count": 29,
   "metadata": {
    "ExecuteTime": {
     "end_time": "2023-10-25T04:44:28.983632Z",
     "start_time": "2023-10-25T04:44:28.963957Z"
    }
   },
   "outputs": [
    {
     "data": {
      "text/plain": [
       "array([0.        , 0.02857143, 0.54117647, 0.4302521 ])"
      ]
     },
     "execution_count": 29,
     "metadata": {},
     "output_type": "execute_result"
    }
   ],
   "source": [
    "# feature importance 시각화\n",
    "dtc.feature_importances_"
   ]
  },
  {
   "cell_type": "code",
   "execution_count": 30,
   "metadata": {
    "ExecuteTime": {
     "end_time": "2023-10-25T04:46:38.278114Z",
     "start_time": "2023-10-25T04:46:37.956753Z"
    }
   },
   "outputs": [
    {
     "data": {
      "text/plain": [
       "<BarContainer object of 4 artists>"
      ]
     },
     "execution_count": 30,
     "metadata": {},
     "output_type": "execute_result"
    },
    {
     "data": {
      "image/png": "[encoded data removed]",
      "text/plain": [
       "<Figure size 640x480 with 1 Axes>"
      ]
     },
     "metadata": {},
     "output_type": "display_data"
    }
   ],
   "source": [
    "# 시각화\n",
    "import matplotlib.pyplot as plt\n",
    "plt.bar(iris['feature_names'], dtc.feature_importances_)"
   ]
  },
  {
   "cell_type": "markdown",
   "metadata": {},
   "source": [
    "#### model plotting"
   ]
  },
  {
   "cell_type": "code",
   "execution_count": 55,
   "metadata": {
    "ExecuteTime": {
     "end_time": "2023-10-25T05:18:26.391235Z",
     "start_time": "2023-10-25T05:18:26.225615Z"
    }
   },
   "outputs": [
    {
     "data": {
      "image/png": "[encoded data removed]",
      "text/plain": [
       "<Figure size 1000x600 with 1 Axes>"
      ]
     },
     "metadata": {},
     "output_type": "display_data"
    }
   ],
   "source": [
    "# 모델 시각화\n",
    "plt.figure(figsize=(10, 6))\n",
    "from sklearn.tree import plot_tree\n",
    "plot_tree(dtc,\n",
    "          feature_names=iris['feature_names'],\n",
    "          class_names=list(iris['target_names']),\n",
    "          filled=True);"
   ]
  },
  {
   "cell_type": "code",
   "execution_count": 106,
   "metadata": {
    "ExecuteTime": {
     "end_time": "2023-10-25T06:09:21.322494Z",
     "start_time": "2023-10-25T06:09:21.209389Z"
    }
   },
   "outputs": [
    {
     "data": {
      "text/plain": [
       "<matplotlib.collections.LineCollection at 0x28da0ee10>"
      ]
     },
     "execution_count": 106,
     "metadata": {},
     "output_type": "execute_result"
    },
    {
     "data": {
      "image/png": "[encoded data removed]",
      "text/plain": [
       "<Figure size 640x480 with 1 Axes>"
      ]
     },
     "metadata": {},
     "output_type": "display_data"
    }
   ],
   "source": [
    "# dtc 분류 시각화\n",
    "import seaborn as sns\n",
    "sns.scatterplot(data=X_test, \n",
    "                x='petal length (cm)', \n",
    "                y='petal width (cm)',\n",
    "                hue=y_test) # 변수 중요도에 따라 중요 변수 2개를 각 축에 위치시켜서 산점도 출력\n",
    "plt.vlines(2.45, 0, 2.5) # plot_tree 첫 뎁스 기준값에 따른 영역 설정\n",
    "plt.hlines(1.55, 1, 7) # 두번째 뎁스 기준값"
   ]
  },
  {
   "cell_type": "markdown",
   "metadata": {},
   "source": [
    "### 가지치기 (pruning)\n",
    ">`Decision Tree`모델은 모든 **잎 노드의 불순도가 0이 되는 순간까지 모델을 성장**시키면서 크기를 키워나간다.  \n",
    "순수 노드로만 이루어진 트리 모델은 훈련 데이터를 100% 정확도로 맞출 수 있다.  \n",
    "이러한 특성 때문에 트리 모델은 **과적합에 취약**하다.  \n",
    "과적합 방지를 위해서는 **트리의 복잡도를 제어** 할 필요가 있다.\n",
    "\n",
    ">과적합 방지를 위한 모델링 파라메터  \n",
    ">> - **`max_depth`** : 트리의 최대 깊이  \n",
    ">>- `max_leaf_nodes` : 잎 노드의 최대개수  \n",
    ">>- `min_sample_leaf` : 잎 노드가 되기 위한 최소 샘플 갯수  \n",
    ">>- `min_sample_split` : 잎 노드가 분지 되기 위한 최소 샘플 갯수\n",
    "\n",
    "위의 iris 데이터는 3개의 클래스로 이루어진 데이터셋이지만 모델플로팅 결과 2뎁스의 노드에서 어느정도 데이터 구분이 되었습니다.  \n",
    "이를 기준으로 사후 가지치기를 진행 해 보겠습니다."
   ]
  },
  {
   "cell_type": "markdown",
   "metadata": {},
   "source": [
    "## Decision tree regressor\n",
    "> `Decision Tree`모델은 알고리즘 특성으로 분류 및 예측 모델링에 모두 사용이 가능하다.  \n",
    "일반적으로 잎 노드에 속한 학습샘플의 값의 평균을 바탕으로 예측값을 결정한다.  \n",
    "회귀모델 평가 방법인 MSE를 각 노드에 속한 샘플에 적용하고 이를 최소화 시킨다.  \n",
    "\n",
    "<img src=\"./image/28.png\">\n",
    "<img src=\"./image/29.png\">"
   ]
  },
  {
   "cell_type": "markdown",
   "metadata": {},
   "source": [
    "### Decision tree regressor 실습"
   ]
  },
  {
   "cell_type": "code",
   "execution_count": 56,
   "metadata": {
    "ExecuteTime": {
     "end_time": "2023-10-25T05:26:06.868995Z",
     "start_time": "2023-10-25T05:26:06.864815Z"
    }
   },
   "outputs": [],
   "source": [
    "from sklearn.tree import DecisionTreeRegressor"
   ]
  },
  {
   "cell_type": "code",
   "execution_count": 62,
   "metadata": {
    "ExecuteTime": {
     "end_time": "2023-10-25T05:32:29.761294Z",
     "start_time": "2023-10-25T05:32:29.727174Z"
    }
   },
   "outputs": [],
   "source": [
    "# 보스턴 집값 데이터 로딩\n",
    "boston = pd.read_csv('./data/boston.csv')"
   ]
  },
  {
   "cell_type": "code",
   "execution_count": 63,
   "metadata": {
    "ExecuteTime": {
     "end_time": "2023-10-25T05:32:54.497333Z",
     "start_time": "2023-10-25T05:32:54.488658Z"
    }
   },
   "outputs": [],
   "source": [
    "# 타겟 데이터 분할\n",
    "y = boston['y']\n",
    "X = boston.drop('y', axis=1)"
   ]
  },
  {
   "cell_type": "code",
   "execution_count": 71,
   "metadata": {
    "ExecuteTime": {
     "end_time": "2023-10-25T05:41:57.521908Z",
     "start_time": "2023-10-25T05:41:57.511129Z"
    }
   },
   "outputs": [],
   "source": [
    "# 테스트 데이터 분할\n",
    "X_train2, X_test2, y_train2, y_test2 = train_test_split(X, y, test_size=0.3, random_state=42)"
   ]
  },
  {
   "cell_type": "code",
   "execution_count": 102,
   "metadata": {
    "ExecuteTime": {
     "end_time": "2023-10-25T06:02:54.173061Z",
     "start_time": "2023-10-25T06:02:54.163414Z"
    }
   },
   "outputs": [],
   "source": [
    "# 모델 생성\n",
    "dtr = DecisionTreeRegressor(max_depth=18, random_state=42)"
   ]
  },
  {
   "cell_type": "code",
   "execution_count": 103,
   "metadata": {
    "ExecuteTime": {
     "end_time": "2023-10-25T06:02:54.499654Z",
     "start_time": "2023-10-25T06:02:54.481888Z"
    }
   },
   "outputs": [
    {
     "data": {
      "text/html": [
       "<style>#sk-container-id-10 {color: black;}#sk-container-id-10 pre{padding: 0;}#sk-container-id-10 div.sk-toggleable {background-color: white;}#sk-container-id-10 label.sk-toggleable__label {cursor: pointer;display: block;width: 100%;margin-bottom: 0;padding: 0.3em;box-sizing: border-box;text-align: center;}#sk-container-id-10 label.sk-toggleable__label-arrow:before {content: \"▸\";float: left;margin-right: 0.25em;color: #696969;}#sk-container-id-10 label.sk-toggleable__label-arrow:hover:before {color: black;}#sk-container-id-10 div.sk-estimator:hover label.sk-toggleable__label-arrow:before {color: black;}#sk-container-id-10 div.sk-toggleable__content {max-height: 0;max-width: 0;overflow: hidden;text-align: left;background-color: #f0f8ff;}#sk-container-id-10 div.sk-toggleable__content pre {margin: 0.2em;color: black;border-radius: 0.25em;background-color: #f0f8ff;}#sk-container-id-10 input.sk-toggleable__control:checked~div.sk-toggleable__content {max-height: 200px;max-width: 100%;overflow: auto;}#sk-container-id-10 input.sk-toggleable__control:checked~label.sk-toggleable__label-arrow:before {content: \"▾\";}#sk-container-id-10 div.sk-estimator input.sk-toggleable__control:checked~label.sk-toggleable__label {background-color: #d4ebff;}#sk-container-id-10 div.sk-label input.sk-toggleable__control:checked~label.sk-toggleable__label {background-color: #d4ebff;}#sk-container-id-10 input.sk-hidden--visually {border: 0;clip: rect(1px 1px 1px 1px);clip: rect(1px, 1px, 1px, 1px);height: 1px;margin: -1px;overflow: hidden;padding: 0;position: absolute;width: 1px;}#sk-container-id-10 div.sk-estimator {font-family: monospace;background-color: #f0f8ff;border: 1px dotted black;border-radius: 0.25em;box-sizing: border-box;margin-bottom: 0.5em;}#sk-container-id-10 div.sk-estimator:hover {background-color: #d4ebff;}#sk-container-id-10 div.sk-parallel-item::after {content: \"\";width: 100%;border-bottom: 1px solid gray;flex-grow: 1;}#sk-container-id-10 div.sk-label:hover label.sk-toggleable__label {background-color: #d4ebff;}#sk-container-id-10 div.sk-serial::before {content: \"\";position: absolute;border-left: 1px solid gray;box-sizing: border-box;top: 0;bottom: 0;left: 50%;z-index: 0;}#sk-container-id-10 div.sk-serial {display: flex;flex-direction: column;align-items: center;background-color: white;padding-right: 0.2em;padding-left: 0.2em;position: relative;}#sk-container-id-10 div.sk-item {position: relative;z-index: 1;}#sk-container-id-10 div.sk-parallel {display: flex;align-items: stretch;justify-content: center;background-color: white;position: relative;}#sk-container-id-10 div.sk-item::before, #sk-container-id-10 div.sk-parallel-item::before {content: \"\";position: absolute;border-left: 1px solid gray;box-sizing: border-box;top: 0;bottom: 0;left: 50%;z-index: -1;}#sk-container-id-10 div.sk-parallel-item {display: flex;flex-direction: column;z-index: 1;position: relative;background-color: white;}#sk-container-id-10 div.sk-parallel-item:first-child::after {align-self: flex-end;width: 50%;}#sk-container-id-10 div.sk-parallel-item:last-child::after {align-self: flex-start;width: 50%;}#sk-container-id-10 div.sk-parallel-item:only-child::after {width: 0;}#sk-container-id-10 div.sk-dashed-wrapped {border: 1px dashed gray;margin: 0 0.4em 0.5em 0.4em;box-sizing: border-box;padding-bottom: 0.4em;background-color: white;}#sk-container-id-10 div.sk-label label {font-family: monospace;font-weight: bold;display: inline-block;line-height: 1.2em;}#sk-container-id-10 div.sk-label-container {text-align: center;}#sk-container-id-10 div.sk-container {/* jupyter's `normalize.less` sets `[hidden] { display: none; }` but bootstrap.min.css set `[hidden] { display: none !important; }` so we also need the `!important` here to be able to override the default hidden behavior on the sphinx rendered scikit-learn.org. See: https://github.com/scikit-learn/scikit-learn/issues/21755 */display: inline-block !important;position: relative;}#sk-container-id-10 div.sk-text-repr-fallback {display: none;}</style><div id=\"sk-container-id-10\" class=\"sk-top-container\"><div class=\"sk-text-repr-fallback\"><pre>DecisionTreeRegressor(max_depth=18, random_state=42)</pre><b>In a Jupyter environment, please rerun this cell to show the HTML representation or trust the notebook. <br />On GitHub, the HTML representation is unable to render, please try loading this page with nbviewer.org.</b></div><div class=\"sk-container\" hidden><div class=\"sk-item\"><div class=\"sk-estimator sk-toggleable\"><input class=\"sk-toggleable__control sk-hidden--visually\" id=\"sk-estimator-id-10\" type=\"checkbox\" checked><label for=\"sk-estimator-id-10\" class=\"sk-toggleable__label sk-toggleable__label-arrow\">DecisionTreeRegressor</label><div class=\"sk-toggleable__content\"><pre>DecisionTreeRegressor(max_depth=18, random_state=42)</pre></div></div></div></div></div>"
      ],
      "text/plain": [
       "DecisionTreeRegressor(max_depth=18, random_state=42)"
      ]
     },
     "execution_count": 103,
     "metadata": {},
     "output_type": "execute_result"
    }
   ],
   "source": [
    "# 모델 학습\n",
    "dtr.fit(X_train2, y_train2)"
   ]
  },
  {
   "cell_type": "code",
   "execution_count": 104,
   "metadata": {
    "ExecuteTime": {
     "end_time": "2023-10-25T06:02:54.822242Z",
     "start_time": "2023-10-25T06:02:54.812417Z"
    }
   },
   "outputs": [],
   "source": [
    "# 모델 예측\n",
    "dtr_pred = dtr.predict(X_test2)"
   ]
  },
  {
   "cell_type": "code",
   "execution_count": 105,
   "metadata": {
    "ExecuteTime": {
     "end_time": "2023-10-25T06:02:55.371778Z",
     "start_time": "2023-10-25T06:02:55.359939Z"
    },
    "scrolled": true
   },
   "outputs": [
    {
     "name": "stdout",
     "output_type": "stream",
     "text": [
      "0.8574800149929956\n",
      "3.258773582677676\n"
     ]
    }
   ],
   "source": [
    "# 모델 평가지표 출력\n",
    "from sklearn.metrics import r2_score, mean_squared_error\n",
    "print(r2_score(y_test2, dtr_pred))\n",
    "print(mean_squared_error(y_test2, dtr_pred, squared=False))"
   ]
  },
  {
   "cell_type": "code",
   "execution_count": null,
   "metadata": {},
   "outputs": [],
   "source": [
    "'''lr\n",
    "0.7112260057484956\n",
    "4.638689926172802\n",
    "rg\n",
    "0.7041586727559437\n",
    "4.695109486461524\n",
    "poly\n",
    "0.8254946931329346\n",
    "3.6059576547271885\n",
    "dtr None\n",
    "0.8546202209710297\n",
    "3.291306331598603\n",
    "dtr-18\n",
    "0.8574800149929956\n",
    "3.258773582677676\n",
    "'''"
   ]
  },
  {
   "cell_type": "code",
   "execution_count": 79,
   "metadata": {
    "ExecuteTime": {
     "end_time": "2023-10-25T05:47:10.510053Z",
     "start_time": "2023-10-25T05:47:05.274495Z"
    }
   },
   "outputs": [
    {
     "data": {
      "image/png": "[encoded data removed]",
      "text/plain": [
       "<Figure size 640x480 with 1 Axes>"
      ]
     },
     "metadata": {},
     "output_type": "display_data"
    }
   ],
   "source": [
    "# plot_tree\n",
    "plot_tree(dtr);"
   ]
  },
  {
   "cell_type": "markdown",
   "metadata": {
    "ExecuteTime": {
     "end_time": "2021-07-23T06:30:12.192008Z",
     "start_time": "2021-07-23T06:30:12.189331Z"
    }
   },
   "source": [
    "## Random Forest\n",
    ">**`Random forest`** 는 **`Decision Tree`** 모델의 **모형 결합(ensemble)방법론**  \n",
    "\n",
    "### ensemble(앙상블)\n",
    "> **복수의 예측 모형을 결합**하여 더 나은 성능의 예측을 하려는 시도이다.  \n",
    "단일 모형을 사용할 때 보다 **성능 분산이 감소**하고, 즉 **과적합을 방지**한다.  \n",
    "개별 모형이 성능이 안좋을 경우에는 결합 모형의 성능이 더 향상된다.  \n",
    "앙상블 방법론에는 **배깅**, **부스팅**이 있다.\n",
    "\n",
    "<img src=\"./image/30.gif\">\n",
    "\n",
    "#### bagging(배깅)\n",
    "> 개별 모델을 병렬로 구성하여 모델을 결합하는 방법론이다.  \n",
    "기존 학습데이터에서 **복원 추출**로 여러개의 sub sample 데이터셋을 만든 후 각 데이터셋을 병렬 구성 모델에 학습시켜 서로 다른 결과를 얻는다.  \n",
    "개별 모델의 결과값을 voting(투표법) 혹은 평균법을 사용하여 개별 모델 결과를 바탕으로 최종 추정치를 얻는다.  \n",
    "\n",
    "<img src=\"./image/31.png\">\n",
    "\n",
    "#### Random Forest Bootstrap Aggregating\n",
    "> **`Random forest`** 는 대표적인 배깅 방법론으로 weak model로 **`Decision Tree`** 를 사용한다.  \n",
    "배깅 사용 시 추가적으로 부트스트랩 방법론을 추가하여 모델 학습에 사용한다.  \n",
    "부트스트랩은 복원 추출 된 sub sample 데이터셋 생성 시 랜덤 샘플 및 feature를 선택하여 모델 학습에 사용한다.\n",
    "\n",
    "<img src=\"./image/32.jpeg\">"
   ]
  },
  {
   "cell_type": "markdown",
   "metadata": {},
   "source": [
    "### Ramdom Forest 실습"
   ]
  },
  {
   "cell_type": "code",
   "execution_count": 107,
   "metadata": {
    "ExecuteTime": {
     "end_time": "2023-10-25T06:34:01.588692Z",
     "start_time": "2023-10-25T06:34:01.584800Z"
    }
   },
   "outputs": [],
   "source": [
    "# 모델 import\n",
    "from sklearn.ensemble import RandomForestRegressor"
   ]
  },
  {
   "cell_type": "markdown",
   "metadata": {},
   "source": [
    "### 과적합 방지를 위한 모델링 파라메터  \n",
    "> - **n_estimators** : 사용 할 트리 모델 갯수  \n",
    "- **max_depth** : 트리의 최대 깊이"
   ]
  },
  {
   "cell_type": "code",
   "execution_count": 108,
   "metadata": {
    "ExecuteTime": {
     "end_time": "2023-10-25T06:34:07.592659Z",
     "start_time": "2023-10-25T06:34:07.582661Z"
    }
   },
   "outputs": [],
   "source": [
    "# 모델 생성\n",
    "rfr = RandomForestRegressor(random_state=42)"
   ]
  },
  {
   "cell_type": "code",
   "execution_count": 115,
   "metadata": {
    "ExecuteTime": {
     "end_time": "2023-10-25T06:35:43.195283Z",
     "start_time": "2023-10-25T06:35:43.010854Z"
    }
   },
   "outputs": [
    {
     "data": {
      "text/html": [
       "<style>#sk-container-id-12 {color: black;}#sk-container-id-12 pre{padding: 0;}#sk-container-id-12 div.sk-toggleable {background-color: white;}#sk-container-id-12 label.sk-toggleable__label {cursor: pointer;display: block;width: 100%;margin-bottom: 0;padding: 0.3em;box-sizing: border-box;text-align: center;}#sk-container-id-12 label.sk-toggleable__label-arrow:before {content: \"▸\";float: left;margin-right: 0.25em;color: #696969;}#sk-container-id-12 label.sk-toggleable__label-arrow:hover:before {color: black;}#sk-container-id-12 div.sk-estimator:hover label.sk-toggleable__label-arrow:before {color: black;}#sk-container-id-12 div.sk-toggleable__content {max-height: 0;max-width: 0;overflow: hidden;text-align: left;background-color: #f0f8ff;}#sk-container-id-12 div.sk-toggleable__content pre {margin: 0.2em;color: black;border-radius: 0.25em;background-color: #f0f8ff;}#sk-container-id-12 input.sk-toggleable__control:checked~div.sk-toggleable__content {max-height: 200px;max-width: 100%;overflow: auto;}#sk-container-id-12 input.sk-toggleable__control:checked~label.sk-toggleable__label-arrow:before {content: \"▾\";}#sk-container-id-12 div.sk-estimator input.sk-toggleable__control:checked~label.sk-toggleable__label {background-color: #d4ebff;}#sk-container-id-12 div.sk-label input.sk-toggleable__control:checked~label.sk-toggleable__label {background-color: #d4ebff;}#sk-container-id-12 input.sk-hidden--visually {border: 0;clip: rect(1px 1px 1px 1px);clip: rect(1px, 1px, 1px, 1px);height: 1px;margin: -1px;overflow: hidden;padding: 0;position: absolute;width: 1px;}#sk-container-id-12 div.sk-estimator {font-family: monospace;background-color: #f0f8ff;border: 1px dotted black;border-radius: 0.25em;box-sizing: border-box;margin-bottom: 0.5em;}#sk-container-id-12 div.sk-estimator:hover {background-color: #d4ebff;}#sk-container-id-12 div.sk-parallel-item::after {content: \"\";width: 100%;border-bottom: 1px solid gray;flex-grow: 1;}#sk-container-id-12 div.sk-label:hover label.sk-toggleable__label {background-color: #d4ebff;}#sk-container-id-12 div.sk-serial::before {content: \"\";position: absolute;border-left: 1px solid gray;box-sizing: border-box;top: 0;bottom: 0;left: 50%;z-index: 0;}#sk-container-id-12 div.sk-serial {display: flex;flex-direction: column;align-items: center;background-color: white;padding-right: 0.2em;padding-left: 0.2em;position: relative;}#sk-container-id-12 div.sk-item {position: relative;z-index: 1;}#sk-container-id-12 div.sk-parallel {display: flex;align-items: stretch;justify-content: center;background-color: white;position: relative;}#sk-container-id-12 div.sk-item::before, #sk-container-id-12 div.sk-parallel-item::before {content: \"\";position: absolute;border-left: 1px solid gray;box-sizing: border-box;top: 0;bottom: 0;left: 50%;z-index: -1;}#sk-container-id-12 div.sk-parallel-item {display: flex;flex-direction: column;z-index: 1;position: relative;background-color: white;}#sk-container-id-12 div.sk-parallel-item:first-child::after {align-self: flex-end;width: 50%;}#sk-container-id-12 div.sk-parallel-item:last-child::after {align-self: flex-start;width: 50%;}#sk-container-id-12 div.sk-parallel-item:only-child::after {width: 0;}#sk-container-id-12 div.sk-dashed-wrapped {border: 1px dashed gray;margin: 0 0.4em 0.5em 0.4em;box-sizing: border-box;padding-bottom: 0.4em;background-color: white;}#sk-container-id-12 div.sk-label label {font-family: monospace;font-weight: bold;display: inline-block;line-height: 1.2em;}#sk-container-id-12 div.sk-label-container {text-align: center;}#sk-container-id-12 div.sk-container {/* jupyter's `normalize.less` sets `[hidden] { display: none; }` but bootstrap.min.css set `[hidden] { display: none !important; }` so we also need the `!important` here to be able to override the default hidden behavior on the sphinx rendered scikit-learn.org. See: https://github.com/scikit-learn/scikit-learn/issues/21755 */display: inline-block !important;position: relative;}#sk-container-id-12 div.sk-text-repr-fallback {display: none;}</style><div id=\"sk-container-id-12\" class=\"sk-top-container\"><div class=\"sk-text-repr-fallback\"><pre>RandomForestRegressor(random_state=42)</pre><b>In a Jupyter environment, please rerun this cell to show the HTML representation or trust the notebook. <br />On GitHub, the HTML representation is unable to render, please try loading this page with nbviewer.org.</b></div><div class=\"sk-container\" hidden><div class=\"sk-item\"><div class=\"sk-estimator sk-toggleable\"><input class=\"sk-toggleable__control sk-hidden--visually\" id=\"sk-estimator-id-12\" type=\"checkbox\" checked><label for=\"sk-estimator-id-12\" class=\"sk-toggleable__label sk-toggleable__label-arrow\">RandomForestRegressor</label><div class=\"sk-toggleable__content\"><pre>RandomForestRegressor(random_state=42)</pre></div></div></div></div></div>"
      ],
      "text/plain": [
       "RandomForestRegressor(random_state=42)"
      ]
     },
     "execution_count": 115,
     "metadata": {},
     "output_type": "execute_result"
    }
   ],
   "source": [
    "# 모델 학습\n",
    "rfr.fit(X_train2, y_train2)"
   ]
  },
  {
   "cell_type": "code",
   "execution_count": 116,
   "metadata": {
    "ExecuteTime": {
     "end_time": "2023-10-25T06:35:45.990324Z",
     "start_time": "2023-10-25T06:35:45.959796Z"
    }
   },
   "outputs": [],
   "source": [
    "# 모델 예측\n",
    "rfr_pred = rfr.predict(X_test2)"
   ]
  },
  {
   "cell_type": "code",
   "execution_count": 117,
   "metadata": {
    "ExecuteTime": {
     "end_time": "2023-10-25T06:35:50.626028Z",
     "start_time": "2023-10-25T06:35:50.612251Z"
    }
   },
   "outputs": [
    {
     "name": "stdout",
     "output_type": "stream",
     "text": [
      "0.8696659787441852\n",
      "3.1163426290411236\n"
     ]
    }
   ],
   "source": [
    "# 평가\n",
    "print(r2_score(y_test2, rfr_pred))\n",
    "print(mean_squared_error(y_test2, rfr_pred, squared=False))"
   ]
  },
  {
   "cell_type": "code",
   "execution_count": null,
   "metadata": {},
   "outputs": [],
   "source": [
    "'''lr\n",
    "0.7112260057484956\n",
    "4.638689926172802\n",
    "rg\n",
    "0.7041586727559437\n",
    "4.695109486461524\n",
    "poly\n",
    "0.8254946931329346\n",
    "3.6059576547271885\n",
    "dtr None\n",
    "0.8546202209710297\n",
    "3.291306331598603\n",
    "dtr-18\n",
    "0.8574800149929956\n",
    "3.258773582677676\n",
    "rfr\n",
    "0.8696659787441852\n",
    "3.1163426290411236\n",
    "'''"
   ]
  },
  {
   "cell_type": "markdown",
   "metadata": {},
   "source": [
    "## Boosting Tree\n",
    "> 배깅과 부스팅의 차이점은 학습을 위해 사용하는 개별모델을 병렬/직렬로 구성함에 있다.  \n",
    "배깅의 경우 sub sample에 따라 개별 모델을 모두 학습시키고 결과를 투표 혹은 평균을 내어 예측한다면  \n",
    "부스팅은 **개별 모델의 학습을 순차적**으로 시키며 이전 개별 모델의 결과 중 **오분류 된 데이터 혹은 오차에 가중치 부여**  \n",
    "초기에는 동일 가중치를 갖지만 각 학습 과정을 거치며 복원 추출 시 가중치의 분포/이전 round의 오차를 고려  \n",
    "\n",
    ">> 해당모델에는 `Adaboost`, `GBM`, `Xgboost`, `lightGBM`, `catboost`가 있다.\n",
    "\n",
    "### bagging 과 boosting\n",
    "<img src=\"./image/33.png\">\n",
    "\n",
    "### Adaptive booting(Adaboost)\n",
    "> a -> f 순서로 학습이 진행 되고 있다. 각 학습 단계(round)에서 오분류 된 데이터에 가중치를 부여하고  \n",
    "다음 라운드에서 가중치가 부여 된 데이터를 잘 맞추기 위한 개별모델이 학습 된다.  \n",
    "최종 모델은 개별 모델의 결과가 합쳐져서 최종 모델링이 된다.\n",
    "\n",
    "<img src=\"./image/34.png\">"
   ]
  },
  {
   "cell_type": "markdown",
   "metadata": {},
   "source": [
    "### gradient boost\n",
    "이전 round 모델의 데이터별 오류를 학습하는 모델을 사용하여 점진적으로 총 모델링 오차를 줄이는 부스팅 방법\n",
    "\n",
    "$$y = h_0(x) + error_0 $$\n",
    "$$error_0 = h_1(x) + error_1 $$\n",
    "$$error_1 = h_2(x) + error_2 $$\n",
    "$$\\vdots$$\n",
    "$$y = h_0(x) + h_1(x) + h_2(x) + \\cdots + small error $$\n",
    "\n",
    "<img src=\"./image/35.png\">"
   ]
  },
  {
   "cell_type": "markdown",
   "metadata": {},
   "source": [
    "## xgboost\n",
    "> 머신러닝 알고리즘 대회인 kaggle, KDD cup등에서 우승을 한 팀들이 xgboost를 많이 활용한 것이 알려지면서 주목받음.  \n",
    "boosting 모델에서 오류를 학습하여 다음 round에 반영시키는 것은 gadient boosting과 큰 차이가 없음.  \n",
    "다만, 학습을 위한 비용함수에 규제화 식이 추가되어 모델이 과적합 되는 것을 방지함.  \n",
    "규제화를 통해 복잡한 모델에 패널티를 부여  \n",
    "\n",
    "$$obj^{(t)} = \\sum_1^{n} l(y_i, \\hat{y}_i^{(t)}) + \\sum_{i=1}^t \\Omega(f_i) $$\n"
   ]
  },
  {
   "cell_type": "code",
   "execution_count": 134,
   "metadata": {
    "ExecuteTime": {
     "end_time": "2023-10-25T07:47:58.589020Z",
     "start_time": "2023-10-25T07:47:53.820917Z"
    }
   },
   "outputs": [],
   "source": [
    "!say 안녕하세요 수강생 여러분 머신러닝 수업 받느라 고생하십니다."
   ]
  },
  {
   "cell_type": "code",
   "execution_count": 133,
   "metadata": {
    "ExecuteTime": {
     "end_time": "2023-10-25T07:47:11.767071Z",
     "start_time": "2023-10-25T07:47:09.353200Z"
    }
   },
   "outputs": [
    {
     "name": "stdout",
     "output_type": "stream",
     "text": [
      "Requirement already satisfied: xgboost in /Users/byun/anaconda3/envs/main/lib/python3.11/site-packages (2.0.0)\r\n",
      "Requirement already satisfied: numpy in /Users/byun/anaconda3/envs/main/lib/python3.11/site-packages (from xgboost) (1.24.3)\r\n",
      "Requirement already satisfied: scipy in /Users/byun/anaconda3/envs/main/lib/python3.11/site-packages (from xgboost) (1.10.1)\r\n"
     ]
    }
   ],
   "source": [
    "# 모델 설치\n",
    "!pip install xgboost"
   ]
  },
  {
   "cell_type": "code",
   "execution_count": 135,
   "metadata": {
    "ExecuteTime": {
     "end_time": "2023-10-25T08:19:14.675258Z",
     "start_time": "2023-10-25T08:19:14.667762Z"
    }
   },
   "outputs": [],
   "source": [
    "# 모델 import\n",
    "from xgboost import XGBRegressor"
   ]
  },
  {
   "cell_type": "code",
   "execution_count": 136,
   "metadata": {
    "ExecuteTime": {
     "end_time": "2023-10-25T08:21:40.745431Z",
     "start_time": "2023-10-25T08:21:40.715675Z"
    }
   },
   "outputs": [],
   "source": [
    "# 보스턴 데이터 로드\n",
    "df = pd.read_csv('./data/boston.csv')"
   ]
  },
  {
   "cell_type": "code",
   "execution_count": 137,
   "metadata": {
    "ExecuteTime": {
     "end_time": "2023-10-25T08:22:15.174126Z",
     "start_time": "2023-10-25T08:22:15.160322Z"
    }
   },
   "outputs": [],
   "source": [
    "# 타겟 데이터 분할\n",
    "y = df['y']\n",
    "X = df.drop('y', axis=1)\n",
    "# 테스트셋 분할\n",
    "X_train, X_test, y_train, y_test = train_test_split(X, y, test_size=0.3, random_state=42)"
   ]
  },
  {
   "cell_type": "code",
   "execution_count": 138,
   "metadata": {
    "ExecuteTime": {
     "end_time": "2023-10-25T08:22:49.292571Z",
     "start_time": "2023-10-25T08:22:49.279386Z"
    }
   },
   "outputs": [
    {
     "data": {
      "text/plain": [
       "'\\nxbgoost 주요 파라메터\\n\\n모델 파라메터\\nverbosity : round 출력결과 0=무음, 1=경고, 2=정보, 3=디버그\\nn_jobs : 병렬쓰레드 구성, 로컬컴퓨터 코어 x 4 최대값\\ngpu_id : GPU 연산 처리 디바이스 설정\\nrandom_state : 랜덤시드\\nmissing : 결측치 처리 np.nan을 디폴트로 사용\\n\\n트리 파라메터\\nmax_depth : 트리모델 최대 깊이\\nmax_leaves : 트리모델 최대 잎 노드 갯수, 0=무제한 지정\\ngrow_policy : 트리확장 방법 0=노드와 가장 가까운 노드 분할, 1=손실함수가 최소가 되는 지점에서 분할\\ngamma : 트리모델의 잎 노드 분할을 만드는 데 필요한 최소 손실 감소.\\nmin_child_weight : 관측치에 대한 최소 가중치 값\\nsubsample : 부트스트랩 샘플 비율\\ncolsample_bytree : 부트스트랩 컬럼 비율\\nreg_alpha : L1, lasso, 0\\nreg_lambda : L2, ridge, 1\\n\\n부스팅 파라메터\\nn_estimators : 부스팅 트리 갯수, round 횟수와 같은 수\\nlearning_rate : round별 학습률\\nbooster: 부스팅 트리 모델 선택\\n    gbtree\\n    gblinear\\nobjective : 목적함수 \\n    reg : squarederror\\n    binary : logistic\\n    multi : softmax\\n    multi : softprob\\neval_metric : 모델평가함수, 목적함수에 따라 지정되어 있음\\n    rmse: root mean square error\\n    error: Binary classification error rate (0.5 threshold)\\n    merror: Multiclass classification error rate\\nearly_stopping_rounds : 학습 손실값 변동 없을 시 학습 종료 라운드 횟수 설정\\ncallbacks : 학습 중 설정 값 전달 API\\n'"
      ]
     },
     "execution_count": 138,
     "metadata": {},
     "output_type": "execute_result"
    }
   ],
   "source": [
    "# 모델 생성\n",
    "xgbr = XGBRegressor(random_state=42)\n",
    "'''\n",
    "xbgoost 주요 파라메터\n",
    "\n",
    "모델 파라메터\n",
    "verbosity : round 출력결과 0=무음, 1=경고, 2=정보, 3=디버그\n",
    "n_jobs : 병렬쓰레드 구성, 로컬컴퓨터 코어 x 4 최대값\n",
    "gpu_id : GPU 연산 처리 디바이스 설정\n",
    "random_state : 랜덤시드\n",
    "missing : 결측치 처리 np.nan을 디폴트로 사용\n",
    "\n",
    "트리 파라메터\n",
    "max_depth : 트리모델 최대 깊이\n",
    "max_leaves : 트리모델 최대 잎 노드 갯수, 0=무제한 지정\n",
    "grow_policy : 트리확장 방법 0=노드와 가장 가까운 노드 분할, 1=손실함수가 최소가 되는 지점에서 분할\n",
    "gamma : 트리모델의 잎 노드 분할을 만드는 데 필요한 최소 손실 감소.\n",
    "min_child_weight : 관측치에 대한 최소 가중치 값\n",
    "subsample : 부트스트랩 샘플 비율\n",
    "colsample_bytree : 부트스트랩 컬럼 비율\n",
    "reg_alpha : L1, lasso, 0\n",
    "reg_lambda : L2, ridge, 1\n",
    "\n",
    "부스팅 파라메터\n",
    "n_estimators : 부스팅 트리 갯수, round 횟수와 같은 수\n",
    "learning_rate : round별 학습률\n",
    "booster: 부스팅 트리 모델 선택\n",
    "    gbtree\n",
    "    gblinear\n",
    "objective : 목적함수 \n",
    "    reg : squarederror\n",
    "    binary : logistic\n",
    "    multi : softmax\n",
    "    multi : softprob\n",
    "eval_metric : 모델평가함수, 목적함수에 따라 지정되어 있음\n",
    "    rmse: root mean square error\n",
    "    error: Binary classification error rate (0.5 threshold)\n",
    "    merror: Multiclass classification error rate\n",
    "early_stopping_rounds : 학습 손실값 변동 없을 시 학습 종료 라운드 횟수 설정\n",
    "callbacks : 학습 중 설정 값 전달 API\n",
    "'''"
   ]
  },
  {
   "cell_type": "code",
   "execution_count": 139,
   "metadata": {
    "ExecuteTime": {
     "end_time": "2023-10-25T08:23:04.725857Z",
     "start_time": "2023-10-25T08:23:04.641623Z"
    }
   },
   "outputs": [
    {
     "data": {
      "text/html": [
       "<style>#sk-container-id-13 {color: black;}#sk-container-id-13 pre{padding: 0;}#sk-container-id-13 div.sk-toggleable {background-color: white;}#sk-container-id-13 label.sk-toggleable__label {cursor: pointer;display: block;width: 100%;margin-bottom: 0;padding: 0.3em;box-sizing: border-box;text-align: center;}#sk-container-id-13 label.sk-toggleable__label-arrow:before {content: \"▸\";float: left;margin-right: 0.25em;color: #696969;}#sk-container-id-13 label.sk-toggleable__label-arrow:hover:before {color: black;}#sk-container-id-13 div.sk-estimator:hover label.sk-toggleable__label-arrow:before {color: black;}#sk-container-id-13 div.sk-toggleable__content {max-height: 0;max-width: 0;overflow: hidden;text-align: left;background-color: #f0f8ff;}#sk-container-id-13 div.sk-toggleable__content pre {margin: 0.2em;color: black;border-radius: 0.25em;background-color: #f0f8ff;}#sk-container-id-13 input.sk-toggleable__control:checked~div.sk-toggleable__content {max-height: 200px;max-width: 100%;overflow: auto;}#sk-container-id-13 input.sk-toggleable__control:checked~label.sk-toggleable__label-arrow:before {content: \"▾\";}#sk-container-id-13 div.sk-estimator input.sk-toggleable__control:checked~label.sk-toggleable__label {background-color: #d4ebff;}#sk-container-id-13 div.sk-label input.sk-toggleable__control:checked~label.sk-toggleable__label {background-color: #d4ebff;}#sk-container-id-13 input.sk-hidden--visually {border: 0;clip: rect(1px 1px 1px 1px);clip: rect(1px, 1px, 1px, 1px);height: 1px;margin: -1px;overflow: hidden;padding: 0;position: absolute;width: 1px;}#sk-container-id-13 div.sk-estimator {font-family: monospace;background-color: #f0f8ff;border: 1px dotted black;border-radius: 0.25em;box-sizing: border-box;margin-bottom: 0.5em;}#sk-container-id-13 div.sk-estimator:hover {background-color: #d4ebff;}#sk-container-id-13 div.sk-parallel-item::after {content: \"\";width: 100%;border-bottom: 1px solid gray;flex-grow: 1;}#sk-container-id-13 div.sk-label:hover label.sk-toggleable__label {background-color: #d4ebff;}#sk-container-id-13 div.sk-serial::before {content: \"\";position: absolute;border-left: 1px solid gray;box-sizing: border-box;top: 0;bottom: 0;left: 50%;z-index: 0;}#sk-container-id-13 div.sk-serial {display: flex;flex-direction: column;align-items: center;background-color: white;padding-right: 0.2em;padding-left: 0.2em;position: relative;}#sk-container-id-13 div.sk-item {position: relative;z-index: 1;}#sk-container-id-13 div.sk-parallel {display: flex;align-items: stretch;justify-content: center;background-color: white;position: relative;}#sk-container-id-13 div.sk-item::before, #sk-container-id-13 div.sk-parallel-item::before {content: \"\";position: absolute;border-left: 1px solid gray;box-sizing: border-box;top: 0;bottom: 0;left: 50%;z-index: -1;}#sk-container-id-13 div.sk-parallel-item {display: flex;flex-direction: column;z-index: 1;position: relative;background-color: white;}#sk-container-id-13 div.sk-parallel-item:first-child::after {align-self: flex-end;width: 50%;}#sk-container-id-13 div.sk-parallel-item:last-child::after {align-self: flex-start;width: 50%;}#sk-container-id-13 div.sk-parallel-item:only-child::after {width: 0;}#sk-container-id-13 div.sk-dashed-wrapped {border: 1px dashed gray;margin: 0 0.4em 0.5em 0.4em;box-sizing: border-box;padding-bottom: 0.4em;background-color: white;}#sk-container-id-13 div.sk-label label {font-family: monospace;font-weight: bold;display: inline-block;line-height: 1.2em;}#sk-container-id-13 div.sk-label-container {text-align: center;}#sk-container-id-13 div.sk-container {/* jupyter's `normalize.less` sets `[hidden] { display: none; }` but bootstrap.min.css set `[hidden] { display: none !important; }` so we also need the `!important` here to be able to override the default hidden behavior on the sphinx rendered scikit-learn.org. See: https://github.com/scikit-learn/scikit-learn/issues/21755 */display: inline-block !important;position: relative;}#sk-container-id-13 div.sk-text-repr-fallback {display: none;}</style><div id=\"sk-container-id-13\" class=\"sk-top-container\"><div class=\"sk-text-repr-fallback\"><pre>XGBRegressor(base_score=None, booster=None, callbacks=None,\n",
       "             colsample_bylevel=None, colsample_bynode=None,\n",
       "             colsample_bytree=None, device=None, early_stopping_rounds=None,\n",
       "             enable_categorical=False, eval_metric=None, feature_types=None,\n",
       "             gamma=None, grow_policy=None, importance_type=None,\n",
       "             interaction_constraints=None, learning_rate=None, max_bin=None,\n",
       "             max_cat_threshold=None, max_cat_to_onehot=None,\n",
       "             max_delta_step=None, max_depth=None, max_leaves=None,\n",
       "             min_child_weight=None, missing=nan, monotone_constraints=None,\n",
       "             multi_strategy=None, n_estimators=None, n_jobs=None,\n",
       "             num_parallel_tree=None, random_state=42, ...)</pre><b>In a Jupyter environment, please rerun this cell to show the HTML representation or trust the notebook. <br />On GitHub, the HTML representation is unable to render, please try loading this page with nbviewer.org.</b></div><div class=\"sk-container\" hidden><div class=\"sk-item\"><div class=\"sk-estimator sk-toggleable\"><input class=\"sk-toggleable__control sk-hidden--visually\" id=\"sk-estimator-id-13\" type=\"checkbox\" checked><label for=\"sk-estimator-id-13\" class=\"sk-toggleable__label sk-toggleable__label-arrow\">XGBRegressor</label><div class=\"sk-toggleable__content\"><pre>XGBRegressor(base_score=None, booster=None, callbacks=None,\n",
       "             colsample_bylevel=None, colsample_bynode=None,\n",
       "             colsample_bytree=None, device=None, early_stopping_rounds=None,\n",
       "             enable_categorical=False, eval_metric=None, feature_types=None,\n",
       "             gamma=None, grow_policy=None, importance_type=None,\n",
       "             interaction_constraints=None, learning_rate=None, max_bin=None,\n",
       "             max_cat_threshold=None, max_cat_to_onehot=None,\n",
       "             max_delta_step=None, max_depth=None, max_leaves=None,\n",
       "             min_child_weight=None, missing=nan, monotone_constraints=None,\n",
       "             multi_strategy=None, n_estimators=None, n_jobs=None,\n",
       "             num_parallel_tree=None, random_state=42, ...)</pre></div></div></div></div></div>"
      ],
      "text/plain": [
       "XGBRegressor(base_score=None, booster=None, callbacks=None,\n",
       "             colsample_bylevel=None, colsample_bynode=None,\n",
       "             colsample_bytree=None, device=None, early_stopping_rounds=None,\n",
       "             enable_categorical=False, eval_metric=None, feature_types=None,\n",
       "             gamma=None, grow_policy=None, importance_type=None,\n",
       "             interaction_constraints=None, learning_rate=None, max_bin=None,\n",
       "             max_cat_threshold=None, max_cat_to_onehot=None,\n",
       "             max_delta_step=None, max_depth=None, max_leaves=None,\n",
       "             min_child_weight=None, missing=nan, monotone_constraints=None,\n",
       "             multi_strategy=None, n_estimators=None, n_jobs=None,\n",
       "             num_parallel_tree=None, random_state=42, ...)"
      ]
     },
     "execution_count": 139,
     "metadata": {},
     "output_type": "execute_result"
    }
   ],
   "source": [
    "# 모델 학습\n",
    "xgbr.fit(X_train, y_train)"
   ]
  },
  {
   "cell_type": "code",
   "execution_count": 140,
   "metadata": {
    "ExecuteTime": {
     "end_time": "2023-10-25T08:23:18.012949Z",
     "start_time": "2023-10-25T08:23:17.984181Z"
    }
   },
   "outputs": [],
   "source": [
    "# 모델 예측\n",
    "xgbr_pred = xgbr.predict(X_test)"
   ]
  },
  {
   "cell_type": "code",
   "execution_count": 141,
   "metadata": {
    "ExecuteTime": {
     "end_time": "2023-10-25T08:23:40.799223Z",
     "start_time": "2023-10-25T08:23:40.775778Z"
    }
   },
   "outputs": [
    {
     "name": "stdout",
     "output_type": "stream",
     "text": [
      "0.8729544676981909\n",
      "3.076776867092451\n"
     ]
    }
   ],
   "source": [
    "# 평가지표 출력\n",
    "print(r2_score(y_test2, xgbr_pred))\n",
    "print(mean_squared_error(y_test2, xgbr_pred, squared=False))"
   ]
  },
  {
   "cell_type": "code",
   "execution_count": null,
   "metadata": {},
   "outputs": [],
   "source": [
    "'''\n",
    "poly\n",
    "0.8254946931329346\n",
    "3.6059576547271885\n",
    "dtr None\n",
    "0.8546202209710297\n",
    "3.291306331598603\n",
    "dtr-18\n",
    "0.8574800149929956\n",
    "3.258773582677676\n",
    "rfr\n",
    "0.8696659787441852\n",
    "3.1163426290411236\n",
    "'''"
   ]
  },
  {
   "cell_type": "code",
   "execution_count": 35,
   "metadata": {
    "ExecuteTime": {
     "end_time": "2023-03-30T08:17:43.788987Z",
     "start_time": "2023-03-30T08:17:43.787599Z"
    }
   },
   "outputs": [],
   "source": [
    "# 변수 중요도 출력\n"
   ]
  },
  {
   "cell_type": "markdown",
   "metadata": {},
   "source": [
    "## 파라메터 서칭\n",
    "tree base 모델은 설정 가능한 파라메터의 조합에 따라 모델 예측력 차이가 큰 특징을 가지고 있습니다.  \n",
    "특히, Xgboost 모델의 경우 파라메터 설정에 따른 모델 예측력 차이가 굉장히 크기에 꼭 파라메터 서칭을 진행해주셔야 합니다.  \n",
    "간단한 문법을 통해 파라메터 서칭을 진행 해보겠습니다."
   ]
  },
  {
   "cell_type": "code",
   "execution_count": 118,
   "metadata": {
    "ExecuteTime": {
     "end_time": "2023-10-25T07:02:39.844685Z",
     "start_time": "2023-10-25T07:02:39.838921Z"
    }
   },
   "outputs": [],
   "source": [
    "from itertools import product"
   ]
  },
  {
   "cell_type": "code",
   "execution_count": 119,
   "metadata": {
    "ExecuteTime": {
     "end_time": "2023-10-25T07:07:28.140530Z",
     "start_time": "2023-10-25T07:07:28.134151Z"
    }
   },
   "outputs": [],
   "source": [
    "# product 함수로 파라메터의 모든 조합 만들기\n",
    "# random forest 서칭이 필요한 파라메터 max_depth, n_estimators\n",
    "# 분류모델의 경우 max_depth를 얕게, n_estimators 늘림\n",
    "# 예측모델의 경우 max_depth를 깊게, n_estimators 기본\n",
    "depth = [5, 7, 9, 11, 13, 15, 17, 19, 21]\n",
    "est = [80, 100, 300, 500, 700, 900]"
   ]
  },
  {
   "cell_type": "code",
   "execution_count": 126,
   "metadata": {
    "ExecuteTime": {
     "end_time": "2023-10-25T07:11:58.793445Z",
     "start_time": "2023-10-25T07:11:58.782724Z"
    }
   },
   "outputs": [],
   "source": [
    "# 검증셋 validation set 생성\n",
    "X_train3, X_val, y_train3, y_val = train_test_split(X_train2, y_train2, test_size=0.3, random_state=42)"
   ]
  },
  {
   "cell_type": "code",
   "execution_count": 127,
   "metadata": {
    "ExecuteTime": {
     "end_time": "2023-10-25T07:15:51.385812Z",
     "start_time": "2023-10-25T07:15:51.379139Z"
    }
   },
   "outputs": [],
   "source": [
    "best_score = 0\n",
    "best_param = 0"
   ]
  },
  {
   "cell_type": "code",
   "execution_count": 128,
   "metadata": {
    "ExecuteTime": {
     "end_time": "2023-10-25T07:20:40.875548Z",
     "start_time": "2023-10-25T07:20:18.127151Z"
    }
   },
   "outputs": [
    {
     "name": "stdout",
     "output_type": "stream",
     "text": [
      "(5, 80) 서칭 중\n",
      "스코어 갱신!!!\n",
      "(5, 100) 서칭 중\n",
      "스코어 갱신!!!\n",
      "(5, 300) 서칭 중\n",
      "(5, 500) 서칭 중\n",
      "(5, 700) 서칭 중\n",
      "(5, 900) 서칭 중\n",
      "(7, 80) 서칭 중\n",
      "(7, 100) 서칭 중\n",
      "스코어 갱신!!!\n",
      "(7, 300) 서칭 중\n",
      "(7, 500) 서칭 중\n",
      "(7, 700) 서칭 중\n",
      "(7, 900) 서칭 중\n",
      "(9, 80) 서칭 중\n",
      "(9, 100) 서칭 중\n",
      "스코어 갱신!!!\n",
      "(9, 300) 서칭 중\n",
      "(9, 500) 서칭 중\n",
      "(9, 700) 서칭 중\n",
      "(9, 900) 서칭 중\n",
      "(11, 80) 서칭 중\n",
      "(11, 100) 서칭 중\n",
      "(11, 300) 서칭 중\n",
      "(11, 500) 서칭 중\n",
      "(11, 700) 서칭 중\n",
      "(11, 900) 서칭 중\n",
      "(13, 80) 서칭 중\n",
      "(13, 100) 서칭 중\n",
      "스코어 갱신!!!\n",
      "(13, 300) 서칭 중\n",
      "(13, 500) 서칭 중\n",
      "(13, 700) 서칭 중\n",
      "(13, 900) 서칭 중\n",
      "(15, 80) 서칭 중\n",
      "(15, 100) 서칭 중\n",
      "(15, 300) 서칭 중\n",
      "(15, 500) 서칭 중\n",
      "(15, 700) 서칭 중\n",
      "(15, 900) 서칭 중\n",
      "(17, 80) 서칭 중\n",
      "(17, 100) 서칭 중\n",
      "스코어 갱신!!!\n",
      "(17, 300) 서칭 중\n",
      "(17, 500) 서칭 중\n",
      "(17, 700) 서칭 중\n",
      "(17, 900) 서칭 중\n",
      "(19, 80) 서칭 중\n",
      "(19, 100) 서칭 중\n",
      "(19, 300) 서칭 중\n",
      "(19, 500) 서칭 중\n",
      "(19, 700) 서칭 중\n",
      "(19, 900) 서칭 중\n",
      "(21, 80) 서칭 중\n",
      "(21, 100) 서칭 중\n",
      "(21, 300) 서칭 중\n",
      "(21, 500) 서칭 중\n",
      "(21, 700) 서칭 중\n",
      "(21, 900) 서칭 중\n",
      "학습 완료!!!\n"
     ]
    }
   ],
   "source": [
    "for param in list(product(depth, est)):\n",
    "    print(f'{param} 서칭 중')\n",
    "    model = RandomForestRegressor(n_estimators=param[1], max_depth=param[0], random_state=42)\n",
    "    model.fit(X_train3, y_train3)\n",
    "    pred = model.predict(X_val) # 파라메터 서칭을 진행하며 사용하는 검증셋을 validation셋 사용\n",
    "    r2 = r2_score(y_val, pred) # 검증도 y_val\n",
    "    if r2 > best_score:\n",
    "        print('스코어 갱신!!!')\n",
    "        best_param = param\n",
    "        best_score = r2\n",
    "print('학습 완료!!!')"
   ]
  },
  {
   "cell_type": "code",
   "execution_count": 38,
   "metadata": {
    "ExecuteTime": {
     "end_time": "2023-03-30T08:17:43.796127Z",
     "start_time": "2023-03-30T08:17:43.794569Z"
    }
   },
   "outputs": [],
   "source": [
    "# 위 파라메터 조합을 반복문으로 순환하며 파라메터 서칭\n"
   ]
  },
  {
   "cell_type": "code",
   "execution_count": 129,
   "metadata": {
    "ExecuteTime": {
     "end_time": "2023-10-25T07:21:33.074716Z",
     "start_time": "2023-10-25T07:21:33.065499Z"
    }
   },
   "outputs": [
    {
     "data": {
      "text/plain": [
       "(0.7971764288527549, (17, 100))"
      ]
     },
     "execution_count": 129,
     "metadata": {},
     "output_type": "execute_result"
    }
   ],
   "source": [
    "# 최적 r2값, 최적 파라메터 확인\n",
    "best_score, best_param"
   ]
  },
  {
   "cell_type": "code",
   "execution_count": 132,
   "metadata": {
    "ExecuteTime": {
     "end_time": "2023-10-25T07:24:26.257280Z",
     "start_time": "2023-10-25T07:24:26.075446Z"
    }
   },
   "outputs": [
    {
     "name": "stdout",
     "output_type": "stream",
     "text": [
      "0.8720196791205077\n",
      "3.088075433097433\n"
     ]
    }
   ],
   "source": [
    "# 최적 모델로 모델 다시 학습 및 평가\n",
    "best_model = RandomForestRegressor(n_estimators=best_param[1],\n",
    "                                   max_depth=best_param[0],\n",
    "                                   random_state=42)\n",
    "best_model.fit(X_train2, y_train2)\n",
    "best_pred = best_model.predict(X_test2)\n",
    "print(r2_score(y_test2, best_pred))\n",
    "print(mean_squared_error(y_test2, best_pred, squared=False))"
   ]
  },
  {
   "cell_type": "code",
   "execution_count": null,
   "metadata": {},
   "outputs": [],
   "source": [
    "'''lr\n",
    "0.7112260057484956\n",
    "4.638689926172802\n",
    "rg\n",
    "0.7041586727559437\n",
    "4.695109486461524\n",
    "poly\n",
    "0.8254946931329346\n",
    "3.6059576547271885\n",
    "dtr None\n",
    "0.8546202209710297\n",
    "3.291306331598603\n",
    "dtr-18\n",
    "0.8574800149929956\n",
    "3.258773582677676\n",
    "rfr\n",
    "0.8696659787441852\n",
    "3.1163426290411236\n",
    "xgbr\n",
    "0.8720196791205077\n",
    "3.088075433097433\n",
    "'''"
   ]
  },
  {
   "cell_type": "code",
   "execution_count": null,
   "metadata": {},
   "outputs": [],
   "source": [
    "# xgboost 서칭 시 확인해야 하는 파라메터 조합 및 범위\n",
    "# max_depth : 분류 [3, 5, 7, 9] 깊이를 얕게 예측 모델 [15, 17, 19, 21~] 깊이를 깊게\n",
    "# n_estimators : 분류 [100, 300, 500, 700] 예측 [50, 70, 100, 200]\n",
    "# learning_rate : [0.03, 0.01, 0.003, 0.001]\n",
    "# subsample : [0.6, 0.7, 0.8, 0.9]\n",
    "# colsample_bytree : [0.6, 0.7, 0.8, 0.9]\n",
    "# 과적합 발생 가능성이 있는 경우 아래 파라메터까지 서칭\n",
    "# reg_alpha : L1, lasso, [0, 1, 3, 5, 7, 9]\n",
    "# reg_lambda : L2, ridge, [1, 3, 5, 7, 9]"
   ]
  },
  {
   "cell_type": "markdown",
   "metadata": {},
   "source": [
    "### sklearn GridSearchCV\n",
    "sklearn 패키지에는 위의 파라메터 서칭 과정을 간편하게 진행 할 수 있도록 GridSearchCV 방법론을 제공합니다.  \n",
    "기존 파라메터 서칭과 함께 cross validation 과정을 추가하여 데이터 분할에 강건한 모델을 선택할 수 있도록 제작 되었습니다."
   ]
  },
  {
   "cell_type": "code",
   "execution_count": 23,
   "metadata": {
    "ExecuteTime": {
     "end_time": "2023-10-26T00:18:20.743574Z",
     "start_time": "2023-10-26T00:18:20.740010Z"
    }
   },
   "outputs": [],
   "source": [
    "import pandas as pd"
   ]
  },
  {
   "cell_type": "code",
   "execution_count": 66,
   "metadata": {
    "ExecuteTime": {
     "end_time": "2023-10-26T00:58:51.985764Z",
     "start_time": "2023-10-26T00:58:51.960775Z"
    }
   },
   "outputs": [],
   "source": [
    "from sklearn.datasets import load_breast_cancer\n",
    "# 분류\n",
    "cancer = load_breast_cancer()\n",
    "X = cancer['data']\n",
    "y = cancer['target']\n",
    "\n",
    "# 예측\n",
    "boston = pd.read_csv('./data/boston.csv')\n",
    "X2 = boston.drop('y', axis=1)\n",
    "y2 = boston['y']"
   ]
  },
  {
   "cell_type": "code",
   "execution_count": 34,
   "metadata": {
    "ExecuteTime": {
     "end_time": "2023-10-26T00:33:14.466891Z",
     "start_time": "2023-10-26T00:33:14.459814Z"
    }
   },
   "outputs": [],
   "source": [
    "# 보스턴데이터 분할\n",
    "X_train2, X_test2, y_train2, y_test2 = train_test_split(X2, y2, test_size=0.3, random_state=42)"
   ]
  },
  {
   "cell_type": "code",
   "execution_count": 22,
   "metadata": {
    "ExecuteTime": {
     "end_time": "2023-10-26T00:16:41.823947Z",
     "start_time": "2023-10-26T00:16:41.817851Z"
    }
   },
   "outputs": [],
   "source": [
    "# 그리드 서치 import\n",
    "from sklearn.model_selection import GridSearchCV"
   ]
  },
  {
   "cell_type": "code",
   "execution_count": 35,
   "metadata": {
    "ExecuteTime": {
     "end_time": "2023-10-26T00:33:16.864403Z",
     "start_time": "2023-10-26T00:33:16.858445Z"
    }
   },
   "outputs": [],
   "source": [
    "from xgboost import XGBRegressor\n",
    "xgbr = XGBRegressor(random_state=42)"
   ]
  },
  {
   "cell_type": "code",
   "execution_count": 103,
   "metadata": {
    "ExecuteTime": {
     "end_time": "2023-10-26T04:57:04.793156Z",
     "start_time": "2023-10-26T04:57:04.782400Z"
    }
   },
   "outputs": [],
   "source": [
    "params = {'max_depth' : [15, 17, 19, 21],\n",
    "          'n_estimators' : [50, 70, 100, 200],\n",
    "          'learning_rate' : [0.03, 0.01],\n",
    "          'subsample' : [0.7, 0.8, 0.9],\n",
    "          'colsample_bytree' : [0.7, 0.8, 0.9]}\n",
    "# 과적합 발생 가능성이 있는 경우 아래 파라메터까지 서칭\n",
    "# reg_alpha : L1, lasso, [0, 1, 3, 5, 7, 9]\n",
    "# reg_lambda : L2, ridge, [1, 3, 5, 7, 9]}"
   ]
  },
  {
   "cell_type": "code",
   "execution_count": null,
   "metadata": {},
   "outputs": [],
   "source": [
    "model"
   ]
  },
  {
   "cell_type": "code",
   "execution_count": 105,
   "metadata": {
    "ExecuteTime": {
     "end_time": "2023-10-26T04:57:59.449322Z",
     "start_time": "2023-10-26T04:57:59.437071Z"
    }
   },
   "outputs": [
    {
     "data": {
      "text/plain": [
       "[15, 17, 19, 21]"
      ]
     },
     "execution_count": 105,
     "metadata": {},
     "output_type": "execute_result"
    }
   ],
   "source": [
    "params.('max_depth')"
   ]
  },
  {
   "cell_type": "code",
   "execution_count": 39,
   "metadata": {
    "ExecuteTime": {
     "end_time": "2023-10-26T00:34:53.721169Z",
     "start_time": "2023-10-26T00:34:53.699076Z"
    }
   },
   "outputs": [
    {
     "data": {
      "text/plain": [
       "'\\nestimator : 모델 딕셔너리\\nparam_grid : 파라메터 딕셔너리\\nscoring=None : 평가방법\\nn_jobs=None : 학습에 사용할 컴퓨터 코어 갯수\\nverbose=0 : 리포트 형식 0, 1, 2\\n\\nscoring 참고\\nhttps://scikit-learn.org/stable/modules/model_evaluation.html\\n'"
      ]
     },
     "execution_count": 39,
     "metadata": {},
     "output_type": "execute_result"
    }
   ],
   "source": [
    "# 그리드 서치 실습\n",
    "grid = GridSearchCV(estimator=xgbr,\n",
    "                    param_grid=params,\n",
    "                    scoring='neg_root_mean_squared_error',\n",
    "                    n_jobs=-1,\n",
    "                    cv=5)\n",
    "'''\n",
    "estimator : 모델 딕셔너리\n",
    "param_grid : 파라메터 딕셔너리\n",
    "scoring=None : 평가방법\n",
    "n_jobs=None : 학습에 사용할 컴퓨터 코어 갯수\n",
    "verbose=0 : 리포트 형식 0, 1, 2\n",
    "\n",
    "scoring 참고\n",
    "https://scikit-learn.org/stable/modules/model_evaluation.html\n",
    "'''"
   ]
  },
  {
   "cell_type": "code",
   "execution_count": 40,
   "metadata": {
    "ExecuteTime": {
     "end_time": "2023-10-26T00:35:20.602181Z",
     "start_time": "2023-10-26T00:34:55.488752Z"
    }
   },
   "outputs": [
    {
     "data": {
      "text/html": [
       "<style>#sk-container-id-2 {color: black;}#sk-container-id-2 pre{padding: 0;}#sk-container-id-2 div.sk-toggleable {background-color: white;}#sk-container-id-2 label.sk-toggleable__label {cursor: pointer;display: block;width: 100%;margin-bottom: 0;padding: 0.3em;box-sizing: border-box;text-align: center;}#sk-container-id-2 label.sk-toggleable__label-arrow:before {content: \"▸\";float: left;margin-right: 0.25em;color: #696969;}#sk-container-id-2 label.sk-toggleable__label-arrow:hover:before {color: black;}#sk-container-id-2 div.sk-estimator:hover label.sk-toggleable__label-arrow:before {color: black;}#sk-container-id-2 div.sk-toggleable__content {max-height: 0;max-width: 0;overflow: hidden;text-align: left;background-color: #f0f8ff;}#sk-container-id-2 div.sk-toggleable__content pre {margin: 0.2em;color: black;border-radius: 0.25em;background-color: #f0f8ff;}#sk-container-id-2 input.sk-toggleable__control:checked~div.sk-toggleable__content {max-height: 200px;max-width: 100%;overflow: auto;}#sk-container-id-2 input.sk-toggleable__control:checked~label.sk-toggleable__label-arrow:before {content: \"▾\";}#sk-container-id-2 div.sk-estimator input.sk-toggleable__control:checked~label.sk-toggleable__label {background-color: #d4ebff;}#sk-container-id-2 div.sk-label input.sk-toggleable__control:checked~label.sk-toggleable__label {background-color: #d4ebff;}#sk-container-id-2 input.sk-hidden--visually {border: 0;clip: rect(1px 1px 1px 1px);clip: rect(1px, 1px, 1px, 1px);height: 1px;margin: -1px;overflow: hidden;padding: 0;position: absolute;width: 1px;}#sk-container-id-2 div.sk-estimator {font-family: monospace;background-color: #f0f8ff;border: 1px dotted black;border-radius: 0.25em;box-sizing: border-box;margin-bottom: 0.5em;}#sk-container-id-2 div.sk-estimator:hover {background-color: #d4ebff;}#sk-container-id-2 div.sk-parallel-item::after {content: \"\";width: 100%;border-bottom: 1px solid gray;flex-grow: 1;}#sk-container-id-2 div.sk-label:hover label.sk-toggleable__label {background-color: #d4ebff;}#sk-container-id-2 div.sk-serial::before {content: \"\";position: absolute;border-left: 1px solid gray;box-sizing: border-box;top: 0;bottom: 0;left: 50%;z-index: 0;}#sk-container-id-2 div.sk-serial {display: flex;flex-direction: column;align-items: center;background-color: white;padding-right: 0.2em;padding-left: 0.2em;position: relative;}#sk-container-id-2 div.sk-item {position: relative;z-index: 1;}#sk-container-id-2 div.sk-parallel {display: flex;align-items: stretch;justify-content: center;background-color: white;position: relative;}#sk-container-id-2 div.sk-item::before, #sk-container-id-2 div.sk-parallel-item::before {content: \"\";position: absolute;border-left: 1px solid gray;box-sizing: border-box;top: 0;bottom: 0;left: 50%;z-index: -1;}#sk-container-id-2 div.sk-parallel-item {display: flex;flex-direction: column;z-index: 1;position: relative;background-color: white;}#sk-container-id-2 div.sk-parallel-item:first-child::after {align-self: flex-end;width: 50%;}#sk-container-id-2 div.sk-parallel-item:last-child::after {align-self: flex-start;width: 50%;}#sk-container-id-2 div.sk-parallel-item:only-child::after {width: 0;}#sk-container-id-2 div.sk-dashed-wrapped {border: 1px dashed gray;margin: 0 0.4em 0.5em 0.4em;box-sizing: border-box;padding-bottom: 0.4em;background-color: white;}#sk-container-id-2 div.sk-label label {font-family: monospace;font-weight: bold;display: inline-block;line-height: 1.2em;}#sk-container-id-2 div.sk-label-container {text-align: center;}#sk-container-id-2 div.sk-container {/* jupyter's `normalize.less` sets `[hidden] { display: none; }` but bootstrap.min.css set `[hidden] { display: none !important; }` so we also need the `!important` here to be able to override the default hidden behavior on the sphinx rendered scikit-learn.org. See: https://github.com/scikit-learn/scikit-learn/issues/21755 */display: inline-block !important;position: relative;}#sk-container-id-2 div.sk-text-repr-fallback {display: none;}</style><div id=\"sk-container-id-2\" class=\"sk-top-container\"><div class=\"sk-text-repr-fallback\"><pre>GridSearchCV(cv=5,\n",
       "             estimator=XGBRegressor(base_score=None, booster=None,\n",
       "                                    callbacks=None, colsample_bylevel=None,\n",
       "                                    colsample_bynode=None,\n",
       "                                    colsample_bytree=None, device=None,\n",
       "                                    early_stopping_rounds=None,\n",
       "                                    enable_categorical=False, eval_metric=None,\n",
       "                                    feature_types=None, gamma=None,\n",
       "                                    grow_policy=None, importance_type=None,\n",
       "                                    interaction_constraints=None,\n",
       "                                    learning_rate=None, m...\n",
       "                                    min_child_weight=None, missing=nan,\n",
       "                                    monotone_constraints=None,\n",
       "                                    multi_strategy=None, n_estimators=None,\n",
       "                                    n_jobs=None, num_parallel_tree=None,\n",
       "                                    random_state=42, ...),\n",
       "             n_jobs=-1,\n",
       "             param_grid={&#x27;colsample_bytree&#x27;: [0.7, 0.8, 0.9],\n",
       "                         &#x27;learning_rate&#x27;: [0.03, 0.01],\n",
       "                         &#x27;max_depth&#x27;: [15, 17, 19, 21],\n",
       "                         &#x27;n_estimators&#x27;: [50, 70, 100, 200],\n",
       "                         &#x27;subsample&#x27;: [0.7, 0.8, 0.9]},\n",
       "             scoring=&#x27;neg_root_mean_squared_error&#x27;)</pre><b>In a Jupyter environment, please rerun this cell to show the HTML representation or trust the notebook. <br />On GitHub, the HTML representation is unable to render, please try loading this page with nbviewer.org.</b></div><div class=\"sk-container\" hidden><div class=\"sk-item sk-dashed-wrapped\"><div class=\"sk-label-container\"><div class=\"sk-label sk-toggleable\"><input class=\"sk-toggleable__control sk-hidden--visually\" id=\"sk-estimator-id-4\" type=\"checkbox\" ><label for=\"sk-estimator-id-4\" class=\"sk-toggleable__label sk-toggleable__label-arrow\">GridSearchCV</label><div class=\"sk-toggleable__content\"><pre>GridSearchCV(cv=5,\n",
       "             estimator=XGBRegressor(base_score=None, booster=None,\n",
       "                                    callbacks=None, colsample_bylevel=None,\n",
       "                                    colsample_bynode=None,\n",
       "                                    colsample_bytree=None, device=None,\n",
       "                                    early_stopping_rounds=None,\n",
       "                                    enable_categorical=False, eval_metric=None,\n",
       "                                    feature_types=None, gamma=None,\n",
       "                                    grow_policy=None, importance_type=None,\n",
       "                                    interaction_constraints=None,\n",
       "                                    learning_rate=None, m...\n",
       "                                    min_child_weight=None, missing=nan,\n",
       "                                    monotone_constraints=None,\n",
       "                                    multi_strategy=None, n_estimators=None,\n",
       "                                    n_jobs=None, num_parallel_tree=None,\n",
       "                                    random_state=42, ...),\n",
       "             n_jobs=-1,\n",
       "             param_grid={&#x27;colsample_bytree&#x27;: [0.7, 0.8, 0.9],\n",
       "                         &#x27;learning_rate&#x27;: [0.03, 0.01],\n",
       "                         &#x27;max_depth&#x27;: [15, 17, 19, 21],\n",
       "                         &#x27;n_estimators&#x27;: [50, 70, 100, 200],\n",
       "                         &#x27;subsample&#x27;: [0.7, 0.8, 0.9]},\n",
       "             scoring=&#x27;neg_root_mean_squared_error&#x27;)</pre></div></div></div><div class=\"sk-parallel\"><div class=\"sk-parallel-item\"><div class=\"sk-item\"><div class=\"sk-label-container\"><div class=\"sk-label sk-toggleable\"><input class=\"sk-toggleable__control sk-hidden--visually\" id=\"sk-estimator-id-5\" type=\"checkbox\" ><label for=\"sk-estimator-id-5\" class=\"sk-toggleable__label sk-toggleable__label-arrow\">estimator: XGBRegressor</label><div class=\"sk-toggleable__content\"><pre>XGBRegressor(base_score=None, booster=None, callbacks=None,\n",
       "             colsample_bylevel=None, colsample_bynode=None,\n",
       "             colsample_bytree=None, device=None, early_stopping_rounds=None,\n",
       "             enable_categorical=False, eval_metric=None, feature_types=None,\n",
       "             gamma=None, grow_policy=None, importance_type=None,\n",
       "             interaction_constraints=None, learning_rate=None, max_bin=None,\n",
       "             max_cat_threshold=None, max_cat_to_onehot=None,\n",
       "             max_delta_step=None, max_depth=None, max_leaves=None,\n",
       "             min_child_weight=None, missing=nan, monotone_constraints=None,\n",
       "             multi_strategy=None, n_estimators=None, n_jobs=None,\n",
       "             num_parallel_tree=None, random_state=42, ...)</pre></div></div></div><div class=\"sk-serial\"><div class=\"sk-item\"><div class=\"sk-estimator sk-toggleable\"><input class=\"sk-toggleable__control sk-hidden--visually\" id=\"sk-estimator-id-6\" type=\"checkbox\" ><label for=\"sk-estimator-id-6\" class=\"sk-toggleable__label sk-toggleable__label-arrow\">XGBRegressor</label><div class=\"sk-toggleable__content\"><pre>XGBRegressor(base_score=None, booster=None, callbacks=None,\n",
       "             colsample_bylevel=None, colsample_bynode=None,\n",
       "             colsample_bytree=None, device=None, early_stopping_rounds=None,\n",
       "             enable_categorical=False, eval_metric=None, feature_types=None,\n",
       "             gamma=None, grow_policy=None, importance_type=None,\n",
       "             interaction_constraints=None, learning_rate=None, max_bin=None,\n",
       "             max_cat_threshold=None, max_cat_to_onehot=None,\n",
       "             max_delta_step=None, max_depth=None, max_leaves=None,\n",
       "             min_child_weight=None, missing=nan, monotone_constraints=None,\n",
       "             multi_strategy=None, n_estimators=None, n_jobs=None,\n",
       "             num_parallel_tree=None, random_state=42, ...)</pre></div></div></div></div></div></div></div></div></div></div>"
      ],
      "text/plain": [
       "GridSearchCV(cv=5,\n",
       "             estimator=XGBRegressor(base_score=None, booster=None,\n",
       "                                    callbacks=None, colsample_bylevel=None,\n",
       "                                    colsample_bynode=None,\n",
       "                                    colsample_bytree=None, device=None,\n",
       "                                    early_stopping_rounds=None,\n",
       "                                    enable_categorical=False, eval_metric=None,\n",
       "                                    feature_types=None, gamma=None,\n",
       "                                    grow_policy=None, importance_type=None,\n",
       "                                    interaction_constraints=None,\n",
       "                                    learning_rate=None, m...\n",
       "                                    min_child_weight=None, missing=nan,\n",
       "                                    monotone_constraints=None,\n",
       "                                    multi_strategy=None, n_estimators=None,\n",
       "                                    n_jobs=None, num_parallel_tree=None,\n",
       "                                    random_state=42, ...),\n",
       "             n_jobs=-1,\n",
       "             param_grid={'colsample_bytree': [0.7, 0.8, 0.9],\n",
       "                         'learning_rate': [0.03, 0.01],\n",
       "                         'max_depth': [15, 17, 19, 21],\n",
       "                         'n_estimators': [50, 70, 100, 200],\n",
       "                         'subsample': [0.7, 0.8, 0.9]},\n",
       "             scoring='neg_root_mean_squared_error')"
      ]
     },
     "execution_count": 40,
     "metadata": {},
     "output_type": "execute_result"
    }
   ],
   "source": [
    "# grid 학습\n",
    "grid.fit(X_train2, y_train2)"
   ]
  },
  {
   "cell_type": "code",
   "execution_count": 44,
   "metadata": {
    "ExecuteTime": {
     "end_time": "2023-10-26T00:41:39.913801Z",
     "start_time": "2023-10-26T00:41:39.885232Z"
    }
   },
   "outputs": [],
   "source": [
    "# 최적 모델 및 파라메터 확인\n",
    "grid_pred = grid.predict(X_test2)"
   ]
  },
  {
   "cell_type": "code",
   "execution_count": 45,
   "metadata": {
    "ExecuteTime": {
     "end_time": "2023-10-26T00:42:25.533656Z",
     "start_time": "2023-10-26T00:42:25.511250Z"
    }
   },
   "outputs": [
    {
     "name": "stdout",
     "output_type": "stream",
     "text": [
      "0.8751810962425213\n",
      "3.0496955428956194\n"
     ]
    }
   ],
   "source": [
    "from sklearn.metrics import r2_score, mean_squared_error\n",
    "print(r2_score(y_test2, grid_pred))\n",
    "print(mean_squared_error(y_test2, grid_pred, squared=False))"
   ]
  },
  {
   "cell_type": "code",
   "execution_count": null,
   "metadata": {},
   "outputs": [],
   "source": [
    "'''\n",
    "rfr\n",
    "0.8696659787441852\n",
    "3.1163426290411236\n",
    "xgbr\n",
    "0.8720196791205077\n",
    "3.088075433097433\n",
    "'''"
   ]
  },
  {
   "cell_type": "code",
   "execution_count": 49,
   "metadata": {
    "ExecuteTime": {
     "end_time": "2023-10-26T00:48:54.655006Z",
     "start_time": "2023-10-26T00:48:54.596582Z"
    },
    "scrolled": true
   },
   "outputs": [
    {
     "name": "stdout",
     "output_type": "stream",
     "text": [
      "[[ 56   8]\n",
      " [  2 105]]\n",
      "              precision    recall  f1-score   support\n",
      "\n",
      "           0       0.97      0.88      0.92        64\n",
      "           1       0.93      0.98      0.95       107\n",
      "\n",
      "    accuracy                           0.94       171\n",
      "   macro avg       0.95      0.93      0.94       171\n",
      "weighted avg       0.94      0.94      0.94       171\n",
      "\n",
      "0.875\n"
     ]
    },
    {
     "name": "stderr",
     "output_type": "stream",
     "text": [
      "/Users/byun/anaconda3/envs/main/lib/python3.11/site-packages/sklearn/linear_model/_logistic.py:460: ConvergenceWarning: lbfgs failed to converge (status=1):\n",
      "STOP: TOTAL NO. of ITERATIONS REACHED LIMIT.\n",
      "\n",
      "Increase the number of iterations (max_iter) or scale the data as shown in:\n",
      "    https://scikit-learn.org/stable/modules/preprocessing.html\n",
      "Please also refer to the documentation for alternative solver options:\n",
      "    https://scikit-learn.org/stable/modules/linear_model.html#logistic-regression\n",
      "  n_iter_i = _check_optimize_result(\n"
     ]
    }
   ],
   "source": [
    "from sklearn.metrics import accuracy_score, recall_score, confusion_matrix\n",
    "from sklearn.linear_model import LogisticRegression\n",
    "lr = LogisticRegression()\n",
    "lr.fit(X_train, y_train)\n",
    "lr_pred = lr.predict(X_test)\n",
    "print(confusion_matrix(y_test, lr_pred))\n",
    "print(classification_report(y_test, lr_pred))\n",
    "print(recall_score(y_test, lr_pred, pos_label=0))"
   ]
  },
  {
   "cell_type": "code",
   "execution_count": 83,
   "metadata": {
    "ExecuteTime": {
     "end_time": "2023-10-26T01:19:34.532486Z",
     "start_time": "2023-10-26T01:19:34.501868Z"
    }
   },
   "outputs": [],
   "source": [
    "cancer = load_breast_cancer()\n",
    "X = cancer['data']\n",
    "y = cancer['target']"
   ]
  },
  {
   "cell_type": "code",
   "execution_count": 84,
   "metadata": {
    "ExecuteTime": {
     "end_time": "2023-10-26T01:19:34.759397Z",
     "start_time": "2023-10-26T01:19:34.753228Z"
    }
   },
   "outputs": [],
   "source": [
    "X_train, X_test, y_train, y_test = train_test_split(X, y, test_size=0.3, random_state=42)"
   ]
  },
  {
   "cell_type": "code",
   "execution_count": 85,
   "metadata": {
    "ExecuteTime": {
     "end_time": "2023-10-26T01:19:35.946280Z",
     "start_time": "2023-10-26T01:19:35.940506Z"
    }
   },
   "outputs": [],
   "source": [
    "y_train = abs(y_train - 1)\n",
    "y_test = abs(y_test - 1)"
   ]
  },
  {
   "cell_type": "code",
   "execution_count": 86,
   "metadata": {
    "ExecuteTime": {
     "end_time": "2023-10-26T01:19:37.188902Z",
     "start_time": "2023-10-26T01:19:37.181756Z"
    }
   },
   "outputs": [],
   "source": [
    "xgbc = XGBClassifier(random_state=42)\n",
    "params2 = {'max_depth' : [3, 5, 7, 9],\n",
    "          'n_estimators' : [100, 200],\n",
    "          'learning_rate' : [0.03, 0.01],\n",
    "          'subsample' : [0.7, 0.8, 0.9],\n",
    "          'colsample_bytree' : [0.7, 0.8, 0.9]}"
   ]
  },
  {
   "cell_type": "code",
   "execution_count": 87,
   "metadata": {
    "ExecuteTime": {
     "end_time": "2023-10-26T01:19:37.420788Z",
     "start_time": "2023-10-26T01:19:37.412758Z"
    }
   },
   "outputs": [],
   "source": [
    "grid2 = GridSearchCV(estimator=xgbc, param_grid=params2, scoring='recall', verbose=2, cv=5)"
   ]
  },
  {
   "cell_type": "code",
   "execution_count": 88,
   "metadata": {
    "ExecuteTime": {
     "end_time": "2023-10-26T01:20:23.336108Z",
     "start_time": "2023-10-26T01:19:37.927949Z"
    }
   },
   "outputs": [
    {
     "name": "stdout",
     "output_type": "stream",
     "text": [
      "Fitting 5 folds for each of 144 candidates, totalling 720 fits\n",
      "[CV] END colsample_bytree=0.7, learning_rate=0.03, max_depth=3, n_estimators=100, subsample=0.7; total time=   0.1s\n",
      "[CV] END colsample_bytree=0.7, learning_rate=0.03, max_depth=3, n_estimators=100, subsample=0.7; total time=   0.0s\n",
      "[CV] END colsample_bytree=0.7, learning_rate=0.03, max_depth=3, n_estimators=100, subsample=0.7; total time=   0.0s\n",
      "[CV] END colsample_bytree=0.7, learning_rate=0.03, max_depth=3, n_estimators=100, subsample=0.7; total time=   0.0s\n",
      "[CV] END colsample_bytree=0.7, learning_rate=0.03, max_depth=3, n_estimators=100, subsample=0.7; total time=   0.1s\n",
      "[CV] END colsample_bytree=0.7, learning_rate=0.03, max_depth=3, n_estimators=100, subsample=0.8; total time=   0.1s\n",
      "[CV] END colsample_bytree=0.7, learning_rate=0.03, max_depth=3, n_estimators=100, subsample=0.8; total time=   0.0s\n",
      "[CV] END colsample_bytree=0.7, learning_rate=0.03, max_depth=3, n_estimators=100, subsample=0.8; total time=   0.0s\n",
      "[CV] END colsample_bytree=0.7, learning_rate=0.03, max_depth=3, n_estimators=100, subsample=0.8; total time=   0.0s\n",
      "[CV] END colsample_bytree=0.7, learning_rate=0.03, max_depth=3, n_estimators=100, subsample=0.8; total time=   0.0s\n",
      "[CV] END colsample_bytree=0.7, learning_rate=0.03, max_depth=3, n_estimators=100, subsample=0.9; total time=   0.0s\n",
      "[CV] END colsample_bytree=0.7, learning_rate=0.03, max_depth=3, n_estimators=100, subsample=0.9; total time=   0.0s\n",
      "[CV] END colsample_bytree=0.7, learning_rate=0.03, max_depth=3, n_estimators=100, subsample=0.9; total time=   0.0s\n",
      "[CV] END colsample_bytree=0.7, learning_rate=0.03, max_depth=3, n_estimators=100, subsample=0.9; total time=   0.0s\n",
      "[CV] END colsample_bytree=0.7, learning_rate=0.03, max_depth=3, n_estimators=100, subsample=0.9; total time=   0.0s\n",
      "[CV] END colsample_bytree=0.7, learning_rate=0.03, max_depth=3, n_estimators=200, subsample=0.7; total time=   0.1s\n",
      "[CV] END colsample_bytree=0.7, learning_rate=0.03, max_depth=3, n_estimators=200, subsample=0.7; total time=   0.1s\n",
      "[CV] END colsample_bytree=0.7, learning_rate=0.03, max_depth=3, n_estimators=200, subsample=0.7; total time=   0.0s\n",
      "[CV] END colsample_bytree=0.7, learning_rate=0.03, max_depth=3, n_estimators=200, subsample=0.7; total time=   0.1s\n",
      "[CV] END colsample_bytree=0.7, learning_rate=0.03, max_depth=3, n_estimators=200, subsample=0.7; total time=   0.0s\n",
      "[CV] END colsample_bytree=0.7, learning_rate=0.03, max_depth=3, n_estimators=200, subsample=0.8; total time=   0.0s\n",
      "[CV] END colsample_bytree=0.7, learning_rate=0.03, max_depth=3, n_estimators=200, subsample=0.8; total time=   0.1s\n",
      "[CV] END colsample_bytree=0.7, learning_rate=0.03, max_depth=3, n_estimators=200, subsample=0.8; total time=   0.1s\n",
      "[CV] END colsample_bytree=0.7, learning_rate=0.03, max_depth=3, n_estimators=200, subsample=0.8; total time=   0.1s\n",
      "[CV] END colsample_bytree=0.7, learning_rate=0.03, max_depth=3, n_estimators=200, subsample=0.8; total time=   0.1s\n",
      "[CV] END colsample_bytree=0.7, learning_rate=0.03, max_depth=3, n_estimators=200, subsample=0.9; total time=   0.1s\n",
      "[CV] END colsample_bytree=0.7, learning_rate=0.03, max_depth=3, n_estimators=200, subsample=0.9; total time=   0.1s\n",
      "[CV] END colsample_bytree=0.7, learning_rate=0.03, max_depth=3, n_estimators=200, subsample=0.9; total time=   0.1s\n",
      "[CV] END colsample_bytree=0.7, learning_rate=0.03, max_depth=3, n_estimators=200, subsample=0.9; total time=   0.1s\n",
      "[CV] END colsample_bytree=0.7, learning_rate=0.03, max_depth=3, n_estimators=200, subsample=0.9; total time=   0.1s\n",
      "[CV] END colsample_bytree=0.7, learning_rate=0.03, max_depth=5, n_estimators=100, subsample=0.7; total time=   0.0s\n",
      "[CV] END colsample_bytree=0.7, learning_rate=0.03, max_depth=5, n_estimators=100, subsample=0.7; total time=   0.0s\n",
      "[CV] END colsample_bytree=0.7, learning_rate=0.03, max_depth=5, n_estimators=100, subsample=0.7; total time=   0.0s\n",
      "[CV] END colsample_bytree=0.7, learning_rate=0.03, max_depth=5, n_estimators=100, subsample=0.7; total time=   0.0s\n",
      "[CV] END colsample_bytree=0.7, learning_rate=0.03, max_depth=5, n_estimators=100, subsample=0.7; total time=   0.0s\n",
      "[CV] END colsample_bytree=0.7, learning_rate=0.03, max_depth=5, n_estimators=100, subsample=0.8; total time=   0.1s\n",
      "[CV] END colsample_bytree=0.7, learning_rate=0.03, max_depth=5, n_estimators=100, subsample=0.8; total time=   0.0s\n",
      "[CV] END colsample_bytree=0.7, learning_rate=0.03, max_depth=5, n_estimators=100, subsample=0.8; total time=   0.0s\n",
      "[CV] END colsample_bytree=0.7, learning_rate=0.03, max_depth=5, n_estimators=100, subsample=0.8; total time=   0.0s\n",
      "[CV] END colsample_bytree=0.7, learning_rate=0.03, max_depth=5, n_estimators=100, subsample=0.8; total time=   0.0s\n",
      "[CV] END colsample_bytree=0.7, learning_rate=0.03, max_depth=5, n_estimators=100, subsample=0.9; total time=   0.0s\n",
      "[CV] END colsample_bytree=0.7, learning_rate=0.03, max_depth=5, n_estimators=100, subsample=0.9; total time=   0.0s\n",
      "[CV] END colsample_bytree=0.7, learning_rate=0.03, max_depth=5, n_estimators=100, subsample=0.9; total time=   0.0s\n",
      "[CV] END colsample_bytree=0.7, learning_rate=0.03, max_depth=5, n_estimators=100, subsample=0.9; total time=   0.0s\n",
      "[CV] END colsample_bytree=0.7, learning_rate=0.03, max_depth=5, n_estimators=100, subsample=0.9; total time=   0.0s\n",
      "[CV] END colsample_bytree=0.7, learning_rate=0.03, max_depth=5, n_estimators=200, subsample=0.7; total time=   0.1s\n",
      "[CV] END colsample_bytree=0.7, learning_rate=0.03, max_depth=5, n_estimators=200, subsample=0.7; total time=   0.1s\n",
      "[CV] END colsample_bytree=0.7, learning_rate=0.03, max_depth=5, n_estimators=200, subsample=0.7; total time=   0.1s\n",
      "[CV] END colsample_bytree=0.7, learning_rate=0.03, max_depth=5, n_estimators=200, subsample=0.7; total time=   0.1s\n",
      "[CV] END colsample_bytree=0.7, learning_rate=0.03, max_depth=5, n_estimators=200, subsample=0.7; total time=   0.1s\n",
      "[CV] END colsample_bytree=0.7, learning_rate=0.03, max_depth=5, n_estimators=200, subsample=0.8; total time=   0.1s\n",
      "[CV] END colsample_bytree=0.7, learning_rate=0.03, max_depth=5, n_estimators=200, subsample=0.8; total time=   0.1s\n",
      "[CV] END colsample_bytree=0.7, learning_rate=0.03, max_depth=5, n_estimators=200, subsample=0.8; total time=   0.1s\n",
      "[CV] END colsample_bytree=0.7, learning_rate=0.03, max_depth=5, n_estimators=200, subsample=0.8; total time=   0.1s\n",
      "[CV] END colsample_bytree=0.7, learning_rate=0.03, max_depth=5, n_estimators=200, subsample=0.8; total time=   0.1s\n",
      "[CV] END colsample_bytree=0.7, learning_rate=0.03, max_depth=5, n_estimators=200, subsample=0.9; total time=   0.1s\n",
      "[CV] END colsample_bytree=0.7, learning_rate=0.03, max_depth=5, n_estimators=200, subsample=0.9; total time=   0.1s\n",
      "[CV] END colsample_bytree=0.7, learning_rate=0.03, max_depth=5, n_estimators=200, subsample=0.9; total time=   0.1s\n",
      "[CV] END colsample_bytree=0.7, learning_rate=0.03, max_depth=5, n_estimators=200, subsample=0.9; total time=   0.1s\n",
      "[CV] END colsample_bytree=0.7, learning_rate=0.03, max_depth=5, n_estimators=200, subsample=0.9; total time=   0.1s\n",
      "[CV] END colsample_bytree=0.7, learning_rate=0.03, max_depth=7, n_estimators=100, subsample=0.7; total time=   0.0s\n",
      "[CV] END colsample_bytree=0.7, learning_rate=0.03, max_depth=7, n_estimators=100, subsample=0.7; total time=   0.0s\n",
      "[CV] END colsample_bytree=0.7, learning_rate=0.03, max_depth=7, n_estimators=100, subsample=0.7; total time=   0.0s\n",
      "[CV] END colsample_bytree=0.7, learning_rate=0.03, max_depth=7, n_estimators=100, subsample=0.7; total time=   0.0s\n",
      "[CV] END colsample_bytree=0.7, learning_rate=0.03, max_depth=7, n_estimators=100, subsample=0.7; total time=   0.1s\n",
      "[CV] END colsample_bytree=0.7, learning_rate=0.03, max_depth=7, n_estimators=100, subsample=0.8; total time=   0.1s\n",
      "[CV] END colsample_bytree=0.7, learning_rate=0.03, max_depth=7, n_estimators=100, subsample=0.8; total time=   0.1s\n",
      "[CV] END colsample_bytree=0.7, learning_rate=0.03, max_depth=7, n_estimators=100, subsample=0.8; total time=   0.1s\n",
      "[CV] END colsample_bytree=0.7, learning_rate=0.03, max_depth=7, n_estimators=100, subsample=0.8; total time=   0.1s\n",
      "[CV] END colsample_bytree=0.7, learning_rate=0.03, max_depth=7, n_estimators=100, subsample=0.8; total time=   0.1s\n",
      "[CV] END colsample_bytree=0.7, learning_rate=0.03, max_depth=7, n_estimators=100, subsample=0.9; total time=   0.1s\n",
      "[CV] END colsample_bytree=0.7, learning_rate=0.03, max_depth=7, n_estimators=100, subsample=0.9; total time=   0.0s\n",
      "[CV] END colsample_bytree=0.7, learning_rate=0.03, max_depth=7, n_estimators=100, subsample=0.9; total time=   0.1s\n"
     ]
    },
    {
     "name": "stdout",
     "output_type": "stream",
     "text": [
      "[CV] END colsample_bytree=0.7, learning_rate=0.03, max_depth=7, n_estimators=100, subsample=0.9; total time=   0.1s\n",
      "[CV] END colsample_bytree=0.7, learning_rate=0.03, max_depth=7, n_estimators=100, subsample=0.9; total time=   0.1s\n",
      "[CV] END colsample_bytree=0.7, learning_rate=0.03, max_depth=7, n_estimators=200, subsample=0.7; total time=   0.1s\n",
      "[CV] END colsample_bytree=0.7, learning_rate=0.03, max_depth=7, n_estimators=200, subsample=0.7; total time=   0.1s\n",
      "[CV] END colsample_bytree=0.7, learning_rate=0.03, max_depth=7, n_estimators=200, subsample=0.7; total time=   0.1s\n",
      "[CV] END colsample_bytree=0.7, learning_rate=0.03, max_depth=7, n_estimators=200, subsample=0.7; total time=   0.1s\n",
      "[CV] END colsample_bytree=0.7, learning_rate=0.03, max_depth=7, n_estimators=200, subsample=0.7; total time=   0.1s\n",
      "[CV] END colsample_bytree=0.7, learning_rate=0.03, max_depth=7, n_estimators=200, subsample=0.8; total time=   0.1s\n",
      "[CV] END colsample_bytree=0.7, learning_rate=0.03, max_depth=7, n_estimators=200, subsample=0.8; total time=   0.1s\n",
      "[CV] END colsample_bytree=0.7, learning_rate=0.03, max_depth=7, n_estimators=200, subsample=0.8; total time=   0.1s\n",
      "[CV] END colsample_bytree=0.7, learning_rate=0.03, max_depth=7, n_estimators=200, subsample=0.8; total time=   0.1s\n",
      "[CV] END colsample_bytree=0.7, learning_rate=0.03, max_depth=7, n_estimators=200, subsample=0.8; total time=   0.2s\n",
      "[CV] END colsample_bytree=0.7, learning_rate=0.03, max_depth=7, n_estimators=200, subsample=0.9; total time=   0.1s\n",
      "[CV] END colsample_bytree=0.7, learning_rate=0.03, max_depth=7, n_estimators=200, subsample=0.9; total time=   0.1s\n",
      "[CV] END colsample_bytree=0.7, learning_rate=0.03, max_depth=7, n_estimators=200, subsample=0.9; total time=   0.1s\n",
      "[CV] END colsample_bytree=0.7, learning_rate=0.03, max_depth=7, n_estimators=200, subsample=0.9; total time=   0.2s\n",
      "[CV] END colsample_bytree=0.7, learning_rate=0.03, max_depth=7, n_estimators=200, subsample=0.9; total time=   0.2s\n",
      "[CV] END colsample_bytree=0.7, learning_rate=0.03, max_depth=9, n_estimators=100, subsample=0.7; total time=   0.2s\n",
      "[CV] END colsample_bytree=0.7, learning_rate=0.03, max_depth=9, n_estimators=100, subsample=0.7; total time=   0.1s\n",
      "[CV] END colsample_bytree=0.7, learning_rate=0.03, max_depth=9, n_estimators=100, subsample=0.7; total time=   0.1s\n",
      "[CV] END colsample_bytree=0.7, learning_rate=0.03, max_depth=9, n_estimators=100, subsample=0.7; total time=   0.0s\n",
      "[CV] END colsample_bytree=0.7, learning_rate=0.03, max_depth=9, n_estimators=100, subsample=0.7; total time=   0.1s\n",
      "[CV] END colsample_bytree=0.7, learning_rate=0.03, max_depth=9, n_estimators=100, subsample=0.8; total time=   0.1s\n",
      "[CV] END colsample_bytree=0.7, learning_rate=0.03, max_depth=9, n_estimators=100, subsample=0.8; total time=   0.1s\n",
      "[CV] END colsample_bytree=0.7, learning_rate=0.03, max_depth=9, n_estimators=100, subsample=0.8; total time=   0.1s\n",
      "[CV] END colsample_bytree=0.7, learning_rate=0.03, max_depth=9, n_estimators=100, subsample=0.8; total time=   0.1s\n",
      "[CV] END colsample_bytree=0.7, learning_rate=0.03, max_depth=9, n_estimators=100, subsample=0.8; total time=   0.1s\n",
      "[CV] END colsample_bytree=0.7, learning_rate=0.03, max_depth=9, n_estimators=100, subsample=0.9; total time=   0.1s\n",
      "[CV] END colsample_bytree=0.7, learning_rate=0.03, max_depth=9, n_estimators=100, subsample=0.9; total time=   0.1s\n",
      "[CV] END colsample_bytree=0.7, learning_rate=0.03, max_depth=9, n_estimators=100, subsample=0.9; total time=   0.1s\n",
      "[CV] END colsample_bytree=0.7, learning_rate=0.03, max_depth=9, n_estimators=100, subsample=0.9; total time=   0.1s\n",
      "[CV] END colsample_bytree=0.7, learning_rate=0.03, max_depth=9, n_estimators=100, subsample=0.9; total time=   0.1s\n",
      "[CV] END colsample_bytree=0.7, learning_rate=0.03, max_depth=9, n_estimators=200, subsample=0.7; total time=   0.1s\n",
      "[CV] END colsample_bytree=0.7, learning_rate=0.03, max_depth=9, n_estimators=200, subsample=0.7; total time=   0.1s\n",
      "[CV] END colsample_bytree=0.7, learning_rate=0.03, max_depth=9, n_estimators=200, subsample=0.7; total time=   0.2s\n",
      "[CV] END colsample_bytree=0.7, learning_rate=0.03, max_depth=9, n_estimators=200, subsample=0.7; total time=   0.1s\n",
      "[CV] END colsample_bytree=0.7, learning_rate=0.03, max_depth=9, n_estimators=200, subsample=0.7; total time=   0.1s\n",
      "[CV] END colsample_bytree=0.7, learning_rate=0.03, max_depth=9, n_estimators=200, subsample=0.8; total time=   0.1s\n",
      "[CV] END colsample_bytree=0.7, learning_rate=0.03, max_depth=9, n_estimators=200, subsample=0.8; total time=   0.1s\n",
      "[CV] END colsample_bytree=0.7, learning_rate=0.03, max_depth=9, n_estimators=200, subsample=0.8; total time=   0.1s\n",
      "[CV] END colsample_bytree=0.7, learning_rate=0.03, max_depth=9, n_estimators=200, subsample=0.8; total time=   0.1s\n",
      "[CV] END colsample_bytree=0.7, learning_rate=0.03, max_depth=9, n_estimators=200, subsample=0.8; total time=   0.1s\n",
      "[CV] END colsample_bytree=0.7, learning_rate=0.03, max_depth=9, n_estimators=200, subsample=0.9; total time=   0.1s\n",
      "[CV] END colsample_bytree=0.7, learning_rate=0.03, max_depth=9, n_estimators=200, subsample=0.9; total time=   0.1s\n",
      "[CV] END colsample_bytree=0.7, learning_rate=0.03, max_depth=9, n_estimators=200, subsample=0.9; total time=   0.2s\n",
      "[CV] END colsample_bytree=0.7, learning_rate=0.03, max_depth=9, n_estimators=200, subsample=0.9; total time=   0.1s\n",
      "[CV] END colsample_bytree=0.7, learning_rate=0.03, max_depth=9, n_estimators=200, subsample=0.9; total time=   0.1s\n",
      "[CV] END colsample_bytree=0.7, learning_rate=0.01, max_depth=3, n_estimators=100, subsample=0.7; total time=   0.0s\n",
      "[CV] END colsample_bytree=0.7, learning_rate=0.01, max_depth=3, n_estimators=100, subsample=0.7; total time=   0.0s\n",
      "[CV] END colsample_bytree=0.7, learning_rate=0.01, max_depth=3, n_estimators=100, subsample=0.7; total time=   0.0s\n",
      "[CV] END colsample_bytree=0.7, learning_rate=0.01, max_depth=3, n_estimators=100, subsample=0.7; total time=   0.0s\n",
      "[CV] END colsample_bytree=0.7, learning_rate=0.01, max_depth=3, n_estimators=100, subsample=0.7; total time=   0.0s\n",
      "[CV] END colsample_bytree=0.7, learning_rate=0.01, max_depth=3, n_estimators=100, subsample=0.8; total time=   0.0s\n",
      "[CV] END colsample_bytree=0.7, learning_rate=0.01, max_depth=3, n_estimators=100, subsample=0.8; total time=   0.0s\n",
      "[CV] END colsample_bytree=0.7, learning_rate=0.01, max_depth=3, n_estimators=100, subsample=0.8; total time=   0.0s\n",
      "[CV] END colsample_bytree=0.7, learning_rate=0.01, max_depth=3, n_estimators=100, subsample=0.8; total time=   0.0s\n",
      "[CV] END colsample_bytree=0.7, learning_rate=0.01, max_depth=3, n_estimators=100, subsample=0.8; total time=   0.0s\n",
      "[CV] END colsample_bytree=0.7, learning_rate=0.01, max_depth=3, n_estimators=100, subsample=0.9; total time=   0.0s\n",
      "[CV] END colsample_bytree=0.7, learning_rate=0.01, max_depth=3, n_estimators=100, subsample=0.9; total time=   0.0s\n",
      "[CV] END colsample_bytree=0.7, learning_rate=0.01, max_depth=3, n_estimators=100, subsample=0.9; total time=   0.0s\n",
      "[CV] END colsample_bytree=0.7, learning_rate=0.01, max_depth=3, n_estimators=100, subsample=0.9; total time=   0.0s\n",
      "[CV] END colsample_bytree=0.7, learning_rate=0.01, max_depth=3, n_estimators=100, subsample=0.9; total time=   0.0s\n",
      "[CV] END colsample_bytree=0.7, learning_rate=0.01, max_depth=3, n_estimators=200, subsample=0.7; total time=   0.1s\n",
      "[CV] END colsample_bytree=0.7, learning_rate=0.01, max_depth=3, n_estimators=200, subsample=0.7; total time=   0.1s\n",
      "[CV] END colsample_bytree=0.7, learning_rate=0.01, max_depth=3, n_estimators=200, subsample=0.7; total time=   0.1s\n",
      "[CV] END colsample_bytree=0.7, learning_rate=0.01, max_depth=3, n_estimators=200, subsample=0.7; total time=   0.1s\n",
      "[CV] END colsample_bytree=0.7, learning_rate=0.01, max_depth=3, n_estimators=200, subsample=0.7; total time=   0.1s\n",
      "[CV] END colsample_bytree=0.7, learning_rate=0.01, max_depth=3, n_estimators=200, subsample=0.8; total time=   0.1s\n",
      "[CV] END colsample_bytree=0.7, learning_rate=0.01, max_depth=3, n_estimators=200, subsample=0.8; total time=   0.1s\n",
      "[CV] END colsample_bytree=0.7, learning_rate=0.01, max_depth=3, n_estimators=200, subsample=0.8; total time=   0.1s\n",
      "[CV] END colsample_bytree=0.7, learning_rate=0.01, max_depth=3, n_estimators=200, subsample=0.8; total time=   0.1s\n"
     ]
    },
    {
     "name": "stdout",
     "output_type": "stream",
     "text": [
      "[CV] END colsample_bytree=0.7, learning_rate=0.01, max_depth=3, n_estimators=200, subsample=0.8; total time=   0.1s\n",
      "[CV] END colsample_bytree=0.7, learning_rate=0.01, max_depth=3, n_estimators=200, subsample=0.9; total time=   0.1s\n",
      "[CV] END colsample_bytree=0.7, learning_rate=0.01, max_depth=3, n_estimators=200, subsample=0.9; total time=   0.1s\n",
      "[CV] END colsample_bytree=0.7, learning_rate=0.01, max_depth=3, n_estimators=200, subsample=0.9; total time=   0.1s\n",
      "[CV] END colsample_bytree=0.7, learning_rate=0.01, max_depth=3, n_estimators=200, subsample=0.9; total time=   0.1s\n",
      "[CV] END colsample_bytree=0.7, learning_rate=0.01, max_depth=3, n_estimators=200, subsample=0.9; total time=   0.1s\n",
      "[CV] END colsample_bytree=0.7, learning_rate=0.01, max_depth=5, n_estimators=100, subsample=0.7; total time=   0.0s\n",
      "[CV] END colsample_bytree=0.7, learning_rate=0.01, max_depth=5, n_estimators=100, subsample=0.7; total time=   0.0s\n",
      "[CV] END colsample_bytree=0.7, learning_rate=0.01, max_depth=5, n_estimators=100, subsample=0.7; total time=   0.1s\n",
      "[CV] END colsample_bytree=0.7, learning_rate=0.01, max_depth=5, n_estimators=100, subsample=0.7; total time=   0.0s\n",
      "[CV] END colsample_bytree=0.7, learning_rate=0.01, max_depth=5, n_estimators=100, subsample=0.7; total time=   0.1s\n",
      "[CV] END colsample_bytree=0.7, learning_rate=0.01, max_depth=5, n_estimators=100, subsample=0.8; total time=   0.0s\n",
      "[CV] END colsample_bytree=0.7, learning_rate=0.01, max_depth=5, n_estimators=100, subsample=0.8; total time=   0.0s\n",
      "[CV] END colsample_bytree=0.7, learning_rate=0.01, max_depth=5, n_estimators=100, subsample=0.8; total time=   0.1s\n",
      "[CV] END colsample_bytree=0.7, learning_rate=0.01, max_depth=5, n_estimators=100, subsample=0.8; total time=   0.0s\n",
      "[CV] END colsample_bytree=0.7, learning_rate=0.01, max_depth=5, n_estimators=100, subsample=0.8; total time=   0.0s\n",
      "[CV] END colsample_bytree=0.7, learning_rate=0.01, max_depth=5, n_estimators=100, subsample=0.9; total time=   0.1s\n",
      "[CV] END colsample_bytree=0.7, learning_rate=0.01, max_depth=5, n_estimators=100, subsample=0.9; total time=   0.0s\n",
      "[CV] END colsample_bytree=0.7, learning_rate=0.01, max_depth=5, n_estimators=100, subsample=0.9; total time=   0.0s\n",
      "[CV] END colsample_bytree=0.7, learning_rate=0.01, max_depth=5, n_estimators=100, subsample=0.9; total time=   0.0s\n",
      "[CV] END colsample_bytree=0.7, learning_rate=0.01, max_depth=5, n_estimators=100, subsample=0.9; total time=   0.0s\n",
      "[CV] END colsample_bytree=0.7, learning_rate=0.01, max_depth=5, n_estimators=200, subsample=0.7; total time=   0.1s\n",
      "[CV] END colsample_bytree=0.7, learning_rate=0.01, max_depth=5, n_estimators=200, subsample=0.7; total time=   0.1s\n",
      "[CV] END colsample_bytree=0.7, learning_rate=0.01, max_depth=5, n_estimators=200, subsample=0.7; total time=   0.1s\n",
      "[CV] END colsample_bytree=0.7, learning_rate=0.01, max_depth=5, n_estimators=200, subsample=0.7; total time=   0.1s\n",
      "[CV] END colsample_bytree=0.7, learning_rate=0.01, max_depth=5, n_estimators=200, subsample=0.7; total time=   0.1s\n",
      "[CV] END colsample_bytree=0.7, learning_rate=0.01, max_depth=5, n_estimators=200, subsample=0.8; total time=   0.1s\n",
      "[CV] END colsample_bytree=0.7, learning_rate=0.01, max_depth=5, n_estimators=200, subsample=0.8; total time=   0.1s\n",
      "[CV] END colsample_bytree=0.7, learning_rate=0.01, max_depth=5, n_estimators=200, subsample=0.8; total time=   0.1s\n",
      "[CV] END colsample_bytree=0.7, learning_rate=0.01, max_depth=5, n_estimators=200, subsample=0.8; total time=   0.1s\n",
      "[CV] END colsample_bytree=0.7, learning_rate=0.01, max_depth=5, n_estimators=200, subsample=0.8; total time=   0.1s\n",
      "[CV] END colsample_bytree=0.7, learning_rate=0.01, max_depth=5, n_estimators=200, subsample=0.9; total time=   0.1s\n",
      "[CV] END colsample_bytree=0.7, learning_rate=0.01, max_depth=5, n_estimators=200, subsample=0.9; total time=   0.1s\n",
      "[CV] END colsample_bytree=0.7, learning_rate=0.01, max_depth=5, n_estimators=200, subsample=0.9; total time=   0.1s\n",
      "[CV] END colsample_bytree=0.7, learning_rate=0.01, max_depth=5, n_estimators=200, subsample=0.9; total time=   0.1s\n",
      "[CV] END colsample_bytree=0.7, learning_rate=0.01, max_depth=5, n_estimators=200, subsample=0.9; total time=   0.1s\n",
      "[CV] END colsample_bytree=0.7, learning_rate=0.01, max_depth=7, n_estimators=100, subsample=0.7; total time=   0.0s\n",
      "[CV] END colsample_bytree=0.7, learning_rate=0.01, max_depth=7, n_estimators=100, subsample=0.7; total time=   0.0s\n",
      "[CV] END colsample_bytree=0.7, learning_rate=0.01, max_depth=7, n_estimators=100, subsample=0.7; total time=   0.0s\n",
      "[CV] END colsample_bytree=0.7, learning_rate=0.01, max_depth=7, n_estimators=100, subsample=0.7; total time=   0.1s\n",
      "[CV] END colsample_bytree=0.7, learning_rate=0.01, max_depth=7, n_estimators=100, subsample=0.7; total time=   0.1s\n",
      "[CV] END colsample_bytree=0.7, learning_rate=0.01, max_depth=7, n_estimators=100, subsample=0.8; total time=   0.0s\n",
      "[CV] END colsample_bytree=0.7, learning_rate=0.01, max_depth=7, n_estimators=100, subsample=0.8; total time=   0.0s\n",
      "[CV] END colsample_bytree=0.7, learning_rate=0.01, max_depth=7, n_estimators=100, subsample=0.8; total time=   0.0s\n",
      "[CV] END colsample_bytree=0.7, learning_rate=0.01, max_depth=7, n_estimators=100, subsample=0.8; total time=   0.0s\n",
      "[CV] END colsample_bytree=0.7, learning_rate=0.01, max_depth=7, n_estimators=100, subsample=0.8; total time=   0.1s\n",
      "[CV] END colsample_bytree=0.7, learning_rate=0.01, max_depth=7, n_estimators=100, subsample=0.9; total time=   0.0s\n",
      "[CV] END colsample_bytree=0.7, learning_rate=0.01, max_depth=7, n_estimators=100, subsample=0.9; total time=   0.0s\n",
      "[CV] END colsample_bytree=0.7, learning_rate=0.01, max_depth=7, n_estimators=100, subsample=0.9; total time=   0.0s\n",
      "[CV] END colsample_bytree=0.7, learning_rate=0.01, max_depth=7, n_estimators=100, subsample=0.9; total time=   0.0s\n",
      "[CV] END colsample_bytree=0.7, learning_rate=0.01, max_depth=7, n_estimators=100, subsample=0.9; total time=   0.1s\n",
      "[CV] END colsample_bytree=0.7, learning_rate=0.01, max_depth=7, n_estimators=200, subsample=0.7; total time=   0.1s\n",
      "[CV] END colsample_bytree=0.7, learning_rate=0.01, max_depth=7, n_estimators=200, subsample=0.7; total time=   0.1s\n",
      "[CV] END colsample_bytree=0.7, learning_rate=0.01, max_depth=7, n_estimators=200, subsample=0.7; total time=   0.1s\n",
      "[CV] END colsample_bytree=0.7, learning_rate=0.01, max_depth=7, n_estimators=200, subsample=0.7; total time=   0.1s\n",
      "[CV] END colsample_bytree=0.7, learning_rate=0.01, max_depth=7, n_estimators=200, subsample=0.7; total time=   0.1s\n",
      "[CV] END colsample_bytree=0.7, learning_rate=0.01, max_depth=7, n_estimators=200, subsample=0.8; total time=   0.1s\n",
      "[CV] END colsample_bytree=0.7, learning_rate=0.01, max_depth=7, n_estimators=200, subsample=0.8; total time=   0.1s\n",
      "[CV] END colsample_bytree=0.7, learning_rate=0.01, max_depth=7, n_estimators=200, subsample=0.8; total time=   0.1s\n",
      "[CV] END colsample_bytree=0.7, learning_rate=0.01, max_depth=7, n_estimators=200, subsample=0.8; total time=   0.1s\n",
      "[CV] END colsample_bytree=0.7, learning_rate=0.01, max_depth=7, n_estimators=200, subsample=0.8; total time=   0.1s\n",
      "[CV] END colsample_bytree=0.7, learning_rate=0.01, max_depth=7, n_estimators=200, subsample=0.9; total time=   0.1s\n",
      "[CV] END colsample_bytree=0.7, learning_rate=0.01, max_depth=7, n_estimators=200, subsample=0.9; total time=   0.1s\n",
      "[CV] END colsample_bytree=0.7, learning_rate=0.01, max_depth=7, n_estimators=200, subsample=0.9; total time=   0.1s\n",
      "[CV] END colsample_bytree=0.7, learning_rate=0.01, max_depth=7, n_estimators=200, subsample=0.9; total time=   0.1s\n",
      "[CV] END colsample_bytree=0.7, learning_rate=0.01, max_depth=7, n_estimators=200, subsample=0.9; total time=   0.1s\n",
      "[CV] END colsample_bytree=0.7, learning_rate=0.01, max_depth=9, n_estimators=100, subsample=0.7; total time=   0.0s\n",
      "[CV] END colsample_bytree=0.7, learning_rate=0.01, max_depth=9, n_estimators=100, subsample=0.7; total time=   0.0s\n",
      "[CV] END colsample_bytree=0.7, learning_rate=0.01, max_depth=9, n_estimators=100, subsample=0.7; total time=   0.0s\n",
      "[CV] END colsample_bytree=0.7, learning_rate=0.01, max_depth=9, n_estimators=100, subsample=0.7; total time=   0.0s\n",
      "[CV] END colsample_bytree=0.7, learning_rate=0.01, max_depth=9, n_estimators=100, subsample=0.7; total time=   0.1s\n",
      "[CV] END colsample_bytree=0.7, learning_rate=0.01, max_depth=9, n_estimators=100, subsample=0.8; total time=   0.1s\n",
      "[CV] END colsample_bytree=0.7, learning_rate=0.01, max_depth=9, n_estimators=100, subsample=0.8; total time=   0.0s\n",
      "[CV] END colsample_bytree=0.7, learning_rate=0.01, max_depth=9, n_estimators=100, subsample=0.8; total time=   0.0s\n",
      "[CV] END colsample_bytree=0.7, learning_rate=0.01, max_depth=9, n_estimators=100, subsample=0.8; total time=   0.0s\n"
     ]
    },
    {
     "name": "stdout",
     "output_type": "stream",
     "text": [
      "[CV] END colsample_bytree=0.7, learning_rate=0.01, max_depth=9, n_estimators=100, subsample=0.8; total time=   0.1s\n",
      "[CV] END colsample_bytree=0.7, learning_rate=0.01, max_depth=9, n_estimators=100, subsample=0.9; total time=   0.1s\n",
      "[CV] END colsample_bytree=0.7, learning_rate=0.01, max_depth=9, n_estimators=100, subsample=0.9; total time=   0.0s\n",
      "[CV] END colsample_bytree=0.7, learning_rate=0.01, max_depth=9, n_estimators=100, subsample=0.9; total time=   0.1s\n",
      "[CV] END colsample_bytree=0.7, learning_rate=0.01, max_depth=9, n_estimators=100, subsample=0.9; total time=   0.0s\n",
      "[CV] END colsample_bytree=0.7, learning_rate=0.01, max_depth=9, n_estimators=100, subsample=0.9; total time=   0.0s\n",
      "[CV] END colsample_bytree=0.7, learning_rate=0.01, max_depth=9, n_estimators=200, subsample=0.7; total time=   0.1s\n",
      "[CV] END colsample_bytree=0.7, learning_rate=0.01, max_depth=9, n_estimators=200, subsample=0.7; total time=   0.1s\n",
      "[CV] END colsample_bytree=0.7, learning_rate=0.01, max_depth=9, n_estimators=200, subsample=0.7; total time=   0.1s\n",
      "[CV] END colsample_bytree=0.7, learning_rate=0.01, max_depth=9, n_estimators=200, subsample=0.7; total time=   0.1s\n",
      "[CV] END colsample_bytree=0.7, learning_rate=0.01, max_depth=9, n_estimators=200, subsample=0.7; total time=   0.1s\n",
      "[CV] END colsample_bytree=0.7, learning_rate=0.01, max_depth=9, n_estimators=200, subsample=0.8; total time=   0.1s\n",
      "[CV] END colsample_bytree=0.7, learning_rate=0.01, max_depth=9, n_estimators=200, subsample=0.8; total time=   0.1s\n",
      "[CV] END colsample_bytree=0.7, learning_rate=0.01, max_depth=9, n_estimators=200, subsample=0.8; total time=   0.1s\n",
      "[CV] END colsample_bytree=0.7, learning_rate=0.01, max_depth=9, n_estimators=200, subsample=0.8; total time=   0.1s\n",
      "[CV] END colsample_bytree=0.7, learning_rate=0.01, max_depth=9, n_estimators=200, subsample=0.8; total time=   0.1s\n",
      "[CV] END colsample_bytree=0.7, learning_rate=0.01, max_depth=9, n_estimators=200, subsample=0.9; total time=   0.1s\n",
      "[CV] END colsample_bytree=0.7, learning_rate=0.01, max_depth=9, n_estimators=200, subsample=0.9; total time=   0.1s\n",
      "[CV] END colsample_bytree=0.7, learning_rate=0.01, max_depth=9, n_estimators=200, subsample=0.9; total time=   0.2s\n",
      "[CV] END colsample_bytree=0.7, learning_rate=0.01, max_depth=9, n_estimators=200, subsample=0.9; total time=   0.1s\n",
      "[CV] END colsample_bytree=0.7, learning_rate=0.01, max_depth=9, n_estimators=200, subsample=0.9; total time=   0.1s\n",
      "[CV] END colsample_bytree=0.8, learning_rate=0.03, max_depth=3, n_estimators=100, subsample=0.7; total time=   0.0s\n",
      "[CV] END colsample_bytree=0.8, learning_rate=0.03, max_depth=3, n_estimators=100, subsample=0.7; total time=   0.0s\n",
      "[CV] END colsample_bytree=0.8, learning_rate=0.03, max_depth=3, n_estimators=100, subsample=0.7; total time=   0.0s\n",
      "[CV] END colsample_bytree=0.8, learning_rate=0.03, max_depth=3, n_estimators=100, subsample=0.7; total time=   0.0s\n",
      "[CV] END colsample_bytree=0.8, learning_rate=0.03, max_depth=3, n_estimators=100, subsample=0.7; total time=   0.0s\n",
      "[CV] END colsample_bytree=0.8, learning_rate=0.03, max_depth=3, n_estimators=100, subsample=0.8; total time=   0.0s\n",
      "[CV] END colsample_bytree=0.8, learning_rate=0.03, max_depth=3, n_estimators=100, subsample=0.8; total time=   0.0s\n",
      "[CV] END colsample_bytree=0.8, learning_rate=0.03, max_depth=3, n_estimators=100, subsample=0.8; total time=   0.0s\n",
      "[CV] END colsample_bytree=0.8, learning_rate=0.03, max_depth=3, n_estimators=100, subsample=0.8; total time=   0.0s\n",
      "[CV] END colsample_bytree=0.8, learning_rate=0.03, max_depth=3, n_estimators=100, subsample=0.8; total time=   0.0s\n",
      "[CV] END colsample_bytree=0.8, learning_rate=0.03, max_depth=3, n_estimators=100, subsample=0.9; total time=   0.0s\n",
      "[CV] END colsample_bytree=0.8, learning_rate=0.03, max_depth=3, n_estimators=100, subsample=0.9; total time=   0.0s\n",
      "[CV] END colsample_bytree=0.8, learning_rate=0.03, max_depth=3, n_estimators=100, subsample=0.9; total time=   0.0s\n",
      "[CV] END colsample_bytree=0.8, learning_rate=0.03, max_depth=3, n_estimators=100, subsample=0.9; total time=   0.0s\n",
      "[CV] END colsample_bytree=0.8, learning_rate=0.03, max_depth=3, n_estimators=100, subsample=0.9; total time=   0.0s\n",
      "[CV] END colsample_bytree=0.8, learning_rate=0.03, max_depth=3, n_estimators=200, subsample=0.7; total time=   0.1s\n",
      "[CV] END colsample_bytree=0.8, learning_rate=0.03, max_depth=3, n_estimators=200, subsample=0.7; total time=   0.1s\n",
      "[CV] END colsample_bytree=0.8, learning_rate=0.03, max_depth=3, n_estimators=200, subsample=0.7; total time=   0.1s\n",
      "[CV] END colsample_bytree=0.8, learning_rate=0.03, max_depth=3, n_estimators=200, subsample=0.7; total time=   0.1s\n",
      "[CV] END colsample_bytree=0.8, learning_rate=0.03, max_depth=3, n_estimators=200, subsample=0.7; total time=   0.1s\n",
      "[CV] END colsample_bytree=0.8, learning_rate=0.03, max_depth=3, n_estimators=200, subsample=0.8; total time=   0.1s\n",
      "[CV] END colsample_bytree=0.8, learning_rate=0.03, max_depth=3, n_estimators=200, subsample=0.8; total time=   0.1s\n",
      "[CV] END colsample_bytree=0.8, learning_rate=0.03, max_depth=3, n_estimators=200, subsample=0.8; total time=   0.1s\n",
      "[CV] END colsample_bytree=0.8, learning_rate=0.03, max_depth=3, n_estimators=200, subsample=0.8; total time=   0.1s\n",
      "[CV] END colsample_bytree=0.8, learning_rate=0.03, max_depth=3, n_estimators=200, subsample=0.8; total time=   0.1s\n",
      "[CV] END colsample_bytree=0.8, learning_rate=0.03, max_depth=3, n_estimators=200, subsample=0.9; total time=   0.1s\n",
      "[CV] END colsample_bytree=0.8, learning_rate=0.03, max_depth=3, n_estimators=200, subsample=0.9; total time=   0.1s\n",
      "[CV] END colsample_bytree=0.8, learning_rate=0.03, max_depth=3, n_estimators=200, subsample=0.9; total time=   0.1s\n",
      "[CV] END colsample_bytree=0.8, learning_rate=0.03, max_depth=3, n_estimators=200, subsample=0.9; total time=   0.1s\n",
      "[CV] END colsample_bytree=0.8, learning_rate=0.03, max_depth=3, n_estimators=200, subsample=0.9; total time=   0.1s\n",
      "[CV] END colsample_bytree=0.8, learning_rate=0.03, max_depth=5, n_estimators=100, subsample=0.7; total time=   0.1s\n",
      "[CV] END colsample_bytree=0.8, learning_rate=0.03, max_depth=5, n_estimators=100, subsample=0.7; total time=   0.0s\n",
      "[CV] END colsample_bytree=0.8, learning_rate=0.03, max_depth=5, n_estimators=100, subsample=0.7; total time=   0.0s\n",
      "[CV] END colsample_bytree=0.8, learning_rate=0.03, max_depth=5, n_estimators=100, subsample=0.7; total time=   0.0s\n",
      "[CV] END colsample_bytree=0.8, learning_rate=0.03, max_depth=5, n_estimators=100, subsample=0.7; total time=   0.1s\n",
      "[CV] END colsample_bytree=0.8, learning_rate=0.03, max_depth=5, n_estimators=100, subsample=0.8; total time=   0.0s\n",
      "[CV] END colsample_bytree=0.8, learning_rate=0.03, max_depth=5, n_estimators=100, subsample=0.8; total time=   0.1s\n",
      "[CV] END colsample_bytree=0.8, learning_rate=0.03, max_depth=5, n_estimators=100, subsample=0.8; total time=   0.0s\n",
      "[CV] END colsample_bytree=0.8, learning_rate=0.03, max_depth=5, n_estimators=100, subsample=0.8; total time=   0.0s\n",
      "[CV] END colsample_bytree=0.8, learning_rate=0.03, max_depth=5, n_estimators=100, subsample=0.8; total time=   0.1s\n",
      "[CV] END colsample_bytree=0.8, learning_rate=0.03, max_depth=5, n_estimators=100, subsample=0.9; total time=   0.1s\n",
      "[CV] END colsample_bytree=0.8, learning_rate=0.03, max_depth=5, n_estimators=100, subsample=0.9; total time=   0.0s\n",
      "[CV] END colsample_bytree=0.8, learning_rate=0.03, max_depth=5, n_estimators=100, subsample=0.9; total time=   0.1s\n",
      "[CV] END colsample_bytree=0.8, learning_rate=0.03, max_depth=5, n_estimators=100, subsample=0.9; total time=   0.1s\n",
      "[CV] END colsample_bytree=0.8, learning_rate=0.03, max_depth=5, n_estimators=100, subsample=0.9; total time=   0.1s\n",
      "[CV] END colsample_bytree=0.8, learning_rate=0.03, max_depth=5, n_estimators=200, subsample=0.7; total time=   0.1s\n",
      "[CV] END colsample_bytree=0.8, learning_rate=0.03, max_depth=5, n_estimators=200, subsample=0.7; total time=   0.1s\n",
      "[CV] END colsample_bytree=0.8, learning_rate=0.03, max_depth=5, n_estimators=200, subsample=0.7; total time=   0.1s\n",
      "[CV] END colsample_bytree=0.8, learning_rate=0.03, max_depth=5, n_estimators=200, subsample=0.7; total time=   0.1s\n",
      "[CV] END colsample_bytree=0.8, learning_rate=0.03, max_depth=5, n_estimators=200, subsample=0.7; total time=   0.1s\n",
      "[CV] END colsample_bytree=0.8, learning_rate=0.03, max_depth=5, n_estimators=200, subsample=0.8; total time=   0.1s\n",
      "[CV] END colsample_bytree=0.8, learning_rate=0.03, max_depth=5, n_estimators=200, subsample=0.8; total time=   0.1s\n"
     ]
    },
    {
     "name": "stdout",
     "output_type": "stream",
     "text": [
      "[CV] END colsample_bytree=0.8, learning_rate=0.03, max_depth=5, n_estimators=200, subsample=0.8; total time=   0.1s\n",
      "[CV] END colsample_bytree=0.8, learning_rate=0.03, max_depth=5, n_estimators=200, subsample=0.8; total time=   0.1s\n",
      "[CV] END colsample_bytree=0.8, learning_rate=0.03, max_depth=5, n_estimators=200, subsample=0.8; total time=   0.1s\n",
      "[CV] END colsample_bytree=0.8, learning_rate=0.03, max_depth=5, n_estimators=200, subsample=0.9; total time=   0.1s\n",
      "[CV] END colsample_bytree=0.8, learning_rate=0.03, max_depth=5, n_estimators=200, subsample=0.9; total time=   0.1s\n",
      "[CV] END colsample_bytree=0.8, learning_rate=0.03, max_depth=5, n_estimators=200, subsample=0.9; total time=   0.1s\n",
      "[CV] END colsample_bytree=0.8, learning_rate=0.03, max_depth=5, n_estimators=200, subsample=0.9; total time=   0.1s\n",
      "[CV] END colsample_bytree=0.8, learning_rate=0.03, max_depth=5, n_estimators=200, subsample=0.9; total time=   0.1s\n",
      "[CV] END colsample_bytree=0.8, learning_rate=0.03, max_depth=7, n_estimators=100, subsample=0.7; total time=   0.0s\n",
      "[CV] END colsample_bytree=0.8, learning_rate=0.03, max_depth=7, n_estimators=100, subsample=0.7; total time=   0.0s\n",
      "[CV] END colsample_bytree=0.8, learning_rate=0.03, max_depth=7, n_estimators=100, subsample=0.7; total time=   0.1s\n",
      "[CV] END colsample_bytree=0.8, learning_rate=0.03, max_depth=7, n_estimators=100, subsample=0.7; total time=   0.0s\n",
      "[CV] END colsample_bytree=0.8, learning_rate=0.03, max_depth=7, n_estimators=100, subsample=0.7; total time=   0.0s\n",
      "[CV] END colsample_bytree=0.8, learning_rate=0.03, max_depth=7, n_estimators=100, subsample=0.8; total time=   0.0s\n",
      "[CV] END colsample_bytree=0.8, learning_rate=0.03, max_depth=7, n_estimators=100, subsample=0.8; total time=   0.0s\n",
      "[CV] END colsample_bytree=0.8, learning_rate=0.03, max_depth=7, n_estimators=100, subsample=0.8; total time=   0.1s\n",
      "[CV] END colsample_bytree=0.8, learning_rate=0.03, max_depth=7, n_estimators=100, subsample=0.8; total time=   0.1s\n",
      "[CV] END colsample_bytree=0.8, learning_rate=0.03, max_depth=7, n_estimators=100, subsample=0.8; total time=   0.0s\n",
      "[CV] END colsample_bytree=0.8, learning_rate=0.03, max_depth=7, n_estimators=100, subsample=0.9; total time=   0.0s\n",
      "[CV] END colsample_bytree=0.8, learning_rate=0.03, max_depth=7, n_estimators=100, subsample=0.9; total time=   0.0s\n",
      "[CV] END colsample_bytree=0.8, learning_rate=0.03, max_depth=7, n_estimators=100, subsample=0.9; total time=   0.1s\n",
      "[CV] END colsample_bytree=0.8, learning_rate=0.03, max_depth=7, n_estimators=100, subsample=0.9; total time=   0.0s\n",
      "[CV] END colsample_bytree=0.8, learning_rate=0.03, max_depth=7, n_estimators=100, subsample=0.9; total time=   0.0s\n",
      "[CV] END colsample_bytree=0.8, learning_rate=0.03, max_depth=7, n_estimators=200, subsample=0.7; total time=   0.1s\n",
      "[CV] END colsample_bytree=0.8, learning_rate=0.03, max_depth=7, n_estimators=200, subsample=0.7; total time=   0.1s\n",
      "[CV] END colsample_bytree=0.8, learning_rate=0.03, max_depth=7, n_estimators=200, subsample=0.7; total time=   0.1s\n",
      "[CV] END colsample_bytree=0.8, learning_rate=0.03, max_depth=7, n_estimators=200, subsample=0.7; total time=   0.1s\n",
      "[CV] END colsample_bytree=0.8, learning_rate=0.03, max_depth=7, n_estimators=200, subsample=0.7; total time=   0.1s\n",
      "[CV] END colsample_bytree=0.8, learning_rate=0.03, max_depth=7, n_estimators=200, subsample=0.8; total time=   0.1s\n",
      "[CV] END colsample_bytree=0.8, learning_rate=0.03, max_depth=7, n_estimators=200, subsample=0.8; total time=   0.1s\n",
      "[CV] END colsample_bytree=0.8, learning_rate=0.03, max_depth=7, n_estimators=200, subsample=0.8; total time=   0.1s\n",
      "[CV] END colsample_bytree=0.8, learning_rate=0.03, max_depth=7, n_estimators=200, subsample=0.8; total time=   0.1s\n",
      "[CV] END colsample_bytree=0.8, learning_rate=0.03, max_depth=7, n_estimators=200, subsample=0.8; total time=   0.1s\n",
      "[CV] END colsample_bytree=0.8, learning_rate=0.03, max_depth=7, n_estimators=200, subsample=0.9; total time=   0.1s\n",
      "[CV] END colsample_bytree=0.8, learning_rate=0.03, max_depth=7, n_estimators=200, subsample=0.9; total time=   0.1s\n",
      "[CV] END colsample_bytree=0.8, learning_rate=0.03, max_depth=7, n_estimators=200, subsample=0.9; total time=   0.1s\n",
      "[CV] END colsample_bytree=0.8, learning_rate=0.03, max_depth=7, n_estimators=200, subsample=0.9; total time=   0.1s\n",
      "[CV] END colsample_bytree=0.8, learning_rate=0.03, max_depth=7, n_estimators=200, subsample=0.9; total time=   0.1s\n",
      "[CV] END colsample_bytree=0.8, learning_rate=0.03, max_depth=9, n_estimators=100, subsample=0.7; total time=   0.0s\n",
      "[CV] END colsample_bytree=0.8, learning_rate=0.03, max_depth=9, n_estimators=100, subsample=0.7; total time=   0.0s\n",
      "[CV] END colsample_bytree=0.8, learning_rate=0.03, max_depth=9, n_estimators=100, subsample=0.7; total time=   0.0s\n",
      "[CV] END colsample_bytree=0.8, learning_rate=0.03, max_depth=9, n_estimators=100, subsample=0.7; total time=   0.0s\n",
      "[CV] END colsample_bytree=0.8, learning_rate=0.03, max_depth=9, n_estimators=100, subsample=0.7; total time=   0.0s\n",
      "[CV] END colsample_bytree=0.8, learning_rate=0.03, max_depth=9, n_estimators=100, subsample=0.8; total time=   0.0s\n",
      "[CV] END colsample_bytree=0.8, learning_rate=0.03, max_depth=9, n_estimators=100, subsample=0.8; total time=   0.0s\n",
      "[CV] END colsample_bytree=0.8, learning_rate=0.03, max_depth=9, n_estimators=100, subsample=0.8; total time=   0.0s\n",
      "[CV] END colsample_bytree=0.8, learning_rate=0.03, max_depth=9, n_estimators=100, subsample=0.8; total time=   0.0s\n",
      "[CV] END colsample_bytree=0.8, learning_rate=0.03, max_depth=9, n_estimators=100, subsample=0.8; total time=   0.0s\n",
      "[CV] END colsample_bytree=0.8, learning_rate=0.03, max_depth=9, n_estimators=100, subsample=0.9; total time=   0.0s\n",
      "[CV] END colsample_bytree=0.8, learning_rate=0.03, max_depth=9, n_estimators=100, subsample=0.9; total time=   0.1s\n",
      "[CV] END colsample_bytree=0.8, learning_rate=0.03, max_depth=9, n_estimators=100, subsample=0.9; total time=   0.0s\n",
      "[CV] END colsample_bytree=0.8, learning_rate=0.03, max_depth=9, n_estimators=100, subsample=0.9; total time=   0.0s\n",
      "[CV] END colsample_bytree=0.8, learning_rate=0.03, max_depth=9, n_estimators=100, subsample=0.9; total time=   0.0s\n",
      "[CV] END colsample_bytree=0.8, learning_rate=0.03, max_depth=9, n_estimators=200, subsample=0.7; total time=   0.1s\n",
      "[CV] END colsample_bytree=0.8, learning_rate=0.03, max_depth=9, n_estimators=200, subsample=0.7; total time=   0.1s\n",
      "[CV] END colsample_bytree=0.8, learning_rate=0.03, max_depth=9, n_estimators=200, subsample=0.7; total time=   0.1s\n",
      "[CV] END colsample_bytree=0.8, learning_rate=0.03, max_depth=9, n_estimators=200, subsample=0.7; total time=   0.1s\n",
      "[CV] END colsample_bytree=0.8, learning_rate=0.03, max_depth=9, n_estimators=200, subsample=0.7; total time=   0.1s\n",
      "[CV] END colsample_bytree=0.8, learning_rate=0.03, max_depth=9, n_estimators=200, subsample=0.8; total time=   0.1s\n",
      "[CV] END colsample_bytree=0.8, learning_rate=0.03, max_depth=9, n_estimators=200, subsample=0.8; total time=   0.1s\n",
      "[CV] END colsample_bytree=0.8, learning_rate=0.03, max_depth=9, n_estimators=200, subsample=0.8; total time=   0.1s\n",
      "[CV] END colsample_bytree=0.8, learning_rate=0.03, max_depth=9, n_estimators=200, subsample=0.8; total time=   0.1s\n",
      "[CV] END colsample_bytree=0.8, learning_rate=0.03, max_depth=9, n_estimators=200, subsample=0.8; total time=   0.1s\n",
      "[CV] END colsample_bytree=0.8, learning_rate=0.03, max_depth=9, n_estimators=200, subsample=0.9; total time=   0.1s\n",
      "[CV] END colsample_bytree=0.8, learning_rate=0.03, max_depth=9, n_estimators=200, subsample=0.9; total time=   0.1s\n",
      "[CV] END colsample_bytree=0.8, learning_rate=0.03, max_depth=9, n_estimators=200, subsample=0.9; total time=   0.1s\n",
      "[CV] END colsample_bytree=0.8, learning_rate=0.03, max_depth=9, n_estimators=200, subsample=0.9; total time=   0.1s\n",
      "[CV] END colsample_bytree=0.8, learning_rate=0.03, max_depth=9, n_estimators=200, subsample=0.9; total time=   0.1s\n",
      "[CV] END colsample_bytree=0.8, learning_rate=0.01, max_depth=3, n_estimators=100, subsample=0.7; total time=   0.0s\n",
      "[CV] END colsample_bytree=0.8, learning_rate=0.01, max_depth=3, n_estimators=100, subsample=0.7; total time=   0.0s\n",
      "[CV] END colsample_bytree=0.8, learning_rate=0.01, max_depth=3, n_estimators=100, subsample=0.7; total time=   0.0s\n",
      "[CV] END colsample_bytree=0.8, learning_rate=0.01, max_depth=3, n_estimators=100, subsample=0.7; total time=   0.0s\n",
      "[CV] END colsample_bytree=0.8, learning_rate=0.01, max_depth=3, n_estimators=100, subsample=0.7; total time=   0.0s\n",
      "[CV] END colsample_bytree=0.8, learning_rate=0.01, max_depth=3, n_estimators=100, subsample=0.8; total time=   0.0s\n",
      "[CV] END colsample_bytree=0.8, learning_rate=0.01, max_depth=3, n_estimators=100, subsample=0.8; total time=   0.0s\n",
      "[CV] END colsample_bytree=0.8, learning_rate=0.01, max_depth=3, n_estimators=100, subsample=0.8; total time=   0.0s\n"
     ]
    },
    {
     "name": "stdout",
     "output_type": "stream",
     "text": [
      "[CV] END colsample_bytree=0.8, learning_rate=0.01, max_depth=3, n_estimators=100, subsample=0.8; total time=   0.0s\n",
      "[CV] END colsample_bytree=0.8, learning_rate=0.01, max_depth=3, n_estimators=100, subsample=0.8; total time=   0.0s\n",
      "[CV] END colsample_bytree=0.8, learning_rate=0.01, max_depth=3, n_estimators=100, subsample=0.9; total time=   0.0s\n",
      "[CV] END colsample_bytree=0.8, learning_rate=0.01, max_depth=3, n_estimators=100, subsample=0.9; total time=   0.0s\n",
      "[CV] END colsample_bytree=0.8, learning_rate=0.01, max_depth=3, n_estimators=100, subsample=0.9; total time=   0.0s\n",
      "[CV] END colsample_bytree=0.8, learning_rate=0.01, max_depth=3, n_estimators=100, subsample=0.9; total time=   0.0s\n",
      "[CV] END colsample_bytree=0.8, learning_rate=0.01, max_depth=3, n_estimators=100, subsample=0.9; total time=   0.0s\n",
      "[CV] END colsample_bytree=0.8, learning_rate=0.01, max_depth=3, n_estimators=200, subsample=0.7; total time=   0.1s\n",
      "[CV] END colsample_bytree=0.8, learning_rate=0.01, max_depth=3, n_estimators=200, subsample=0.7; total time=   0.1s\n",
      "[CV] END colsample_bytree=0.8, learning_rate=0.01, max_depth=3, n_estimators=200, subsample=0.7; total time=   0.1s\n",
      "[CV] END colsample_bytree=0.8, learning_rate=0.01, max_depth=3, n_estimators=200, subsample=0.7; total time=   0.1s\n",
      "[CV] END colsample_bytree=0.8, learning_rate=0.01, max_depth=3, n_estimators=200, subsample=0.7; total time=   0.1s\n",
      "[CV] END colsample_bytree=0.8, learning_rate=0.01, max_depth=3, n_estimators=200, subsample=0.8; total time=   0.1s\n",
      "[CV] END colsample_bytree=0.8, learning_rate=0.01, max_depth=3, n_estimators=200, subsample=0.8; total time=   0.1s\n",
      "[CV] END colsample_bytree=0.8, learning_rate=0.01, max_depth=3, n_estimators=200, subsample=0.8; total time=   0.1s\n",
      "[CV] END colsample_bytree=0.8, learning_rate=0.01, max_depth=3, n_estimators=200, subsample=0.8; total time=   0.1s\n",
      "[CV] END colsample_bytree=0.8, learning_rate=0.01, max_depth=3, n_estimators=200, subsample=0.8; total time=   0.1s\n",
      "[CV] END colsample_bytree=0.8, learning_rate=0.01, max_depth=3, n_estimators=200, subsample=0.9; total time=   0.1s\n",
      "[CV] END colsample_bytree=0.8, learning_rate=0.01, max_depth=3, n_estimators=200, subsample=0.9; total time=   0.1s\n",
      "[CV] END colsample_bytree=0.8, learning_rate=0.01, max_depth=3, n_estimators=200, subsample=0.9; total time=   0.1s\n",
      "[CV] END colsample_bytree=0.8, learning_rate=0.01, max_depth=3, n_estimators=200, subsample=0.9; total time=   0.1s\n",
      "[CV] END colsample_bytree=0.8, learning_rate=0.01, max_depth=3, n_estimators=200, subsample=0.9; total time=   0.1s\n",
      "[CV] END colsample_bytree=0.8, learning_rate=0.01, max_depth=5, n_estimators=100, subsample=0.7; total time=   0.1s\n",
      "[CV] END colsample_bytree=0.8, learning_rate=0.01, max_depth=5, n_estimators=100, subsample=0.7; total time=   0.0s\n",
      "[CV] END colsample_bytree=0.8, learning_rate=0.01, max_depth=5, n_estimators=100, subsample=0.7; total time=   0.0s\n",
      "[CV] END colsample_bytree=0.8, learning_rate=0.01, max_depth=5, n_estimators=100, subsample=0.7; total time=   0.0s\n",
      "[CV] END colsample_bytree=0.8, learning_rate=0.01, max_depth=5, n_estimators=100, subsample=0.7; total time=   0.1s\n",
      "[CV] END colsample_bytree=0.8, learning_rate=0.01, max_depth=5, n_estimators=100, subsample=0.8; total time=   0.1s\n",
      "[CV] END colsample_bytree=0.8, learning_rate=0.01, max_depth=5, n_estimators=100, subsample=0.8; total time=   0.0s\n",
      "[CV] END colsample_bytree=0.8, learning_rate=0.01, max_depth=5, n_estimators=100, subsample=0.8; total time=   0.0s\n",
      "[CV] END colsample_bytree=0.8, learning_rate=0.01, max_depth=5, n_estimators=100, subsample=0.8; total time=   0.0s\n",
      "[CV] END colsample_bytree=0.8, learning_rate=0.01, max_depth=5, n_estimators=100, subsample=0.8; total time=   0.0s\n",
      "[CV] END colsample_bytree=0.8, learning_rate=0.01, max_depth=5, n_estimators=100, subsample=0.9; total time=   0.1s\n",
      "[CV] END colsample_bytree=0.8, learning_rate=0.01, max_depth=5, n_estimators=100, subsample=0.9; total time=   0.0s\n",
      "[CV] END colsample_bytree=0.8, learning_rate=0.01, max_depth=5, n_estimators=100, subsample=0.9; total time=   0.0s\n",
      "[CV] END colsample_bytree=0.8, learning_rate=0.01, max_depth=5, n_estimators=100, subsample=0.9; total time=   0.0s\n",
      "[CV] END colsample_bytree=0.8, learning_rate=0.01, max_depth=5, n_estimators=100, subsample=0.9; total time=   0.0s\n",
      "[CV] END colsample_bytree=0.8, learning_rate=0.01, max_depth=5, n_estimators=200, subsample=0.7; total time=   0.1s\n",
      "[CV] END colsample_bytree=0.8, learning_rate=0.01, max_depth=5, n_estimators=200, subsample=0.7; total time=   0.1s\n",
      "[CV] END colsample_bytree=0.8, learning_rate=0.01, max_depth=5, n_estimators=200, subsample=0.7; total time=   0.1s\n",
      "[CV] END colsample_bytree=0.8, learning_rate=0.01, max_depth=5, n_estimators=200, subsample=0.7; total time=   0.1s\n",
      "[CV] END colsample_bytree=0.8, learning_rate=0.01, max_depth=5, n_estimators=200, subsample=0.7; total time=   0.1s\n",
      "[CV] END colsample_bytree=0.8, learning_rate=0.01, max_depth=5, n_estimators=200, subsample=0.8; total time=   0.1s\n",
      "[CV] END colsample_bytree=0.8, learning_rate=0.01, max_depth=5, n_estimators=200, subsample=0.8; total time=   0.1s\n",
      "[CV] END colsample_bytree=0.8, learning_rate=0.01, max_depth=5, n_estimators=200, subsample=0.8; total time=   0.1s\n",
      "[CV] END colsample_bytree=0.8, learning_rate=0.01, max_depth=5, n_estimators=200, subsample=0.8; total time=   0.1s\n",
      "[CV] END colsample_bytree=0.8, learning_rate=0.01, max_depth=5, n_estimators=200, subsample=0.8; total time=   0.1s\n",
      "[CV] END colsample_bytree=0.8, learning_rate=0.01, max_depth=5, n_estimators=200, subsample=0.9; total time=   0.1s\n",
      "[CV] END colsample_bytree=0.8, learning_rate=0.01, max_depth=5, n_estimators=200, subsample=0.9; total time=   0.1s\n",
      "[CV] END colsample_bytree=0.8, learning_rate=0.01, max_depth=5, n_estimators=200, subsample=0.9; total time=   0.1s\n",
      "[CV] END colsample_bytree=0.8, learning_rate=0.01, max_depth=5, n_estimators=200, subsample=0.9; total time=   0.1s\n",
      "[CV] END colsample_bytree=0.8, learning_rate=0.01, max_depth=5, n_estimators=200, subsample=0.9; total time=   0.1s\n",
      "[CV] END colsample_bytree=0.8, learning_rate=0.01, max_depth=7, n_estimators=100, subsample=0.7; total time=   0.0s\n",
      "[CV] END colsample_bytree=0.8, learning_rate=0.01, max_depth=7, n_estimators=100, subsample=0.7; total time=   0.0s\n",
      "[CV] END colsample_bytree=0.8, learning_rate=0.01, max_depth=7, n_estimators=100, subsample=0.7; total time=   0.1s\n",
      "[CV] END colsample_bytree=0.8, learning_rate=0.01, max_depth=7, n_estimators=100, subsample=0.7; total time=   0.0s\n",
      "[CV] END colsample_bytree=0.8, learning_rate=0.01, max_depth=7, n_estimators=100, subsample=0.7; total time=   0.0s\n",
      "[CV] END colsample_bytree=0.8, learning_rate=0.01, max_depth=7, n_estimators=100, subsample=0.8; total time=   0.0s\n",
      "[CV] END colsample_bytree=0.8, learning_rate=0.01, max_depth=7, n_estimators=100, subsample=0.8; total time=   0.0s\n",
      "[CV] END colsample_bytree=0.8, learning_rate=0.01, max_depth=7, n_estimators=100, subsample=0.8; total time=   0.1s\n",
      "[CV] END colsample_bytree=0.8, learning_rate=0.01, max_depth=7, n_estimators=100, subsample=0.8; total time=   0.0s\n",
      "[CV] END colsample_bytree=0.8, learning_rate=0.01, max_depth=7, n_estimators=100, subsample=0.8; total time=   0.0s\n",
      "[CV] END colsample_bytree=0.8, learning_rate=0.01, max_depth=7, n_estimators=100, subsample=0.9; total time=   0.0s\n",
      "[CV] END colsample_bytree=0.8, learning_rate=0.01, max_depth=7, n_estimators=100, subsample=0.9; total time=   0.0s\n",
      "[CV] END colsample_bytree=0.8, learning_rate=0.01, max_depth=7, n_estimators=100, subsample=0.9; total time=   0.1s\n",
      "[CV] END colsample_bytree=0.8, learning_rate=0.01, max_depth=7, n_estimators=100, subsample=0.9; total time=   0.0s\n",
      "[CV] END colsample_bytree=0.8, learning_rate=0.01, max_depth=7, n_estimators=100, subsample=0.9; total time=   0.0s\n",
      "[CV] END colsample_bytree=0.8, learning_rate=0.01, max_depth=7, n_estimators=200, subsample=0.7; total time=   0.1s\n",
      "[CV] END colsample_bytree=0.8, learning_rate=0.01, max_depth=7, n_estimators=200, subsample=0.7; total time=   0.1s\n",
      "[CV] END colsample_bytree=0.8, learning_rate=0.01, max_depth=7, n_estimators=200, subsample=0.7; total time=   0.1s\n",
      "[CV] END colsample_bytree=0.8, learning_rate=0.01, max_depth=7, n_estimators=200, subsample=0.7; total time=   0.1s\n"
     ]
    },
    {
     "name": "stdout",
     "output_type": "stream",
     "text": [
      "[CV] END colsample_bytree=0.8, learning_rate=0.01, max_depth=7, n_estimators=200, subsample=0.7; total time=   0.1s\n",
      "[CV] END colsample_bytree=0.8, learning_rate=0.01, max_depth=7, n_estimators=200, subsample=0.8; total time=   0.1s\n",
      "[CV] END colsample_bytree=0.8, learning_rate=0.01, max_depth=7, n_estimators=200, subsample=0.8; total time=   0.1s\n",
      "[CV] END colsample_bytree=0.8, learning_rate=0.01, max_depth=7, n_estimators=200, subsample=0.8; total time=   0.1s\n",
      "[CV] END colsample_bytree=0.8, learning_rate=0.01, max_depth=7, n_estimators=200, subsample=0.8; total time=   0.1s\n",
      "[CV] END colsample_bytree=0.8, learning_rate=0.01, max_depth=7, n_estimators=200, subsample=0.8; total time=   0.1s\n",
      "[CV] END colsample_bytree=0.8, learning_rate=0.01, max_depth=7, n_estimators=200, subsample=0.9; total time=   0.1s\n",
      "[CV] END colsample_bytree=0.8, learning_rate=0.01, max_depth=7, n_estimators=200, subsample=0.9; total time=   0.1s\n",
      "[CV] END colsample_bytree=0.8, learning_rate=0.01, max_depth=7, n_estimators=200, subsample=0.9; total time=   0.1s\n",
      "[CV] END colsample_bytree=0.8, learning_rate=0.01, max_depth=7, n_estimators=200, subsample=0.9; total time=   0.1s\n",
      "[CV] END colsample_bytree=0.8, learning_rate=0.01, max_depth=7, n_estimators=200, subsample=0.9; total time=   0.1s\n",
      "[CV] END colsample_bytree=0.8, learning_rate=0.01, max_depth=9, n_estimators=100, subsample=0.7; total time=   0.0s\n",
      "[CV] END colsample_bytree=0.8, learning_rate=0.01, max_depth=9, n_estimators=100, subsample=0.7; total time=   0.0s\n",
      "[CV] END colsample_bytree=0.8, learning_rate=0.01, max_depth=9, n_estimators=100, subsample=0.7; total time=   0.1s\n",
      "[CV] END colsample_bytree=0.8, learning_rate=0.01, max_depth=9, n_estimators=100, subsample=0.7; total time=   0.0s\n",
      "[CV] END colsample_bytree=0.8, learning_rate=0.01, max_depth=9, n_estimators=100, subsample=0.7; total time=   0.0s\n",
      "[CV] END colsample_bytree=0.8, learning_rate=0.01, max_depth=9, n_estimators=100, subsample=0.8; total time=   0.0s\n",
      "[CV] END colsample_bytree=0.8, learning_rate=0.01, max_depth=9, n_estimators=100, subsample=0.8; total time=   0.0s\n",
      "[CV] END colsample_bytree=0.8, learning_rate=0.01, max_depth=9, n_estimators=100, subsample=0.8; total time=   0.1s\n",
      "[CV] END colsample_bytree=0.8, learning_rate=0.01, max_depth=9, n_estimators=100, subsample=0.8; total time=   0.0s\n",
      "[CV] END colsample_bytree=0.8, learning_rate=0.01, max_depth=9, n_estimators=100, subsample=0.8; total time=   0.0s\n",
      "[CV] END colsample_bytree=0.8, learning_rate=0.01, max_depth=9, n_estimators=100, subsample=0.9; total time=   0.0s\n",
      "[CV] END colsample_bytree=0.8, learning_rate=0.01, max_depth=9, n_estimators=100, subsample=0.9; total time=   0.0s\n",
      "[CV] END colsample_bytree=0.8, learning_rate=0.01, max_depth=9, n_estimators=100, subsample=0.9; total time=   0.1s\n",
      "[CV] END colsample_bytree=0.8, learning_rate=0.01, max_depth=9, n_estimators=100, subsample=0.9; total time=   0.0s\n",
      "[CV] END colsample_bytree=0.8, learning_rate=0.01, max_depth=9, n_estimators=100, subsample=0.9; total time=   0.0s\n",
      "[CV] END colsample_bytree=0.8, learning_rate=0.01, max_depth=9, n_estimators=200, subsample=0.7; total time=   0.1s\n",
      "[CV] END colsample_bytree=0.8, learning_rate=0.01, max_depth=9, n_estimators=200, subsample=0.7; total time=   0.1s\n",
      "[CV] END colsample_bytree=0.8, learning_rate=0.01, max_depth=9, n_estimators=200, subsample=0.7; total time=   0.1s\n",
      "[CV] END colsample_bytree=0.8, learning_rate=0.01, max_depth=9, n_estimators=200, subsample=0.7; total time=   0.1s\n",
      "[CV] END colsample_bytree=0.8, learning_rate=0.01, max_depth=9, n_estimators=200, subsample=0.7; total time=   0.1s\n",
      "[CV] END colsample_bytree=0.8, learning_rate=0.01, max_depth=9, n_estimators=200, subsample=0.8; total time=   0.1s\n",
      "[CV] END colsample_bytree=0.8, learning_rate=0.01, max_depth=9, n_estimators=200, subsample=0.8; total time=   0.1s\n",
      "[CV] END colsample_bytree=0.8, learning_rate=0.01, max_depth=9, n_estimators=200, subsample=0.8; total time=   0.1s\n",
      "[CV] END colsample_bytree=0.8, learning_rate=0.01, max_depth=9, n_estimators=200, subsample=0.8; total time=   0.1s\n",
      "[CV] END colsample_bytree=0.8, learning_rate=0.01, max_depth=9, n_estimators=200, subsample=0.8; total time=   0.1s\n",
      "[CV] END colsample_bytree=0.8, learning_rate=0.01, max_depth=9, n_estimators=200, subsample=0.9; total time=   0.1s\n",
      "[CV] END colsample_bytree=0.8, learning_rate=0.01, max_depth=9, n_estimators=200, subsample=0.9; total time=   0.1s\n",
      "[CV] END colsample_bytree=0.8, learning_rate=0.01, max_depth=9, n_estimators=200, subsample=0.9; total time=   0.1s\n",
      "[CV] END colsample_bytree=0.8, learning_rate=0.01, max_depth=9, n_estimators=200, subsample=0.9; total time=   0.1s\n",
      "[CV] END colsample_bytree=0.8, learning_rate=0.01, max_depth=9, n_estimators=200, subsample=0.9; total time=   0.1s\n",
      "[CV] END colsample_bytree=0.9, learning_rate=0.03, max_depth=3, n_estimators=100, subsample=0.7; total time=   0.0s\n",
      "[CV] END colsample_bytree=0.9, learning_rate=0.03, max_depth=3, n_estimators=100, subsample=0.7; total time=   0.0s\n",
      "[CV] END colsample_bytree=0.9, learning_rate=0.03, max_depth=3, n_estimators=100, subsample=0.7; total time=   0.0s\n",
      "[CV] END colsample_bytree=0.9, learning_rate=0.03, max_depth=3, n_estimators=100, subsample=0.7; total time=   0.0s\n",
      "[CV] END colsample_bytree=0.9, learning_rate=0.03, max_depth=3, n_estimators=100, subsample=0.7; total time=   0.0s\n",
      "[CV] END colsample_bytree=0.9, learning_rate=0.03, max_depth=3, n_estimators=100, subsample=0.8; total time=   0.0s\n",
      "[CV] END colsample_bytree=0.9, learning_rate=0.03, max_depth=3, n_estimators=100, subsample=0.8; total time=   0.0s\n",
      "[CV] END colsample_bytree=0.9, learning_rate=0.03, max_depth=3, n_estimators=100, subsample=0.8; total time=   0.0s\n",
      "[CV] END colsample_bytree=0.9, learning_rate=0.03, max_depth=3, n_estimators=100, subsample=0.8; total time=   0.0s\n",
      "[CV] END colsample_bytree=0.9, learning_rate=0.03, max_depth=3, n_estimators=100, subsample=0.8; total time=   0.0s\n",
      "[CV] END colsample_bytree=0.9, learning_rate=0.03, max_depth=3, n_estimators=100, subsample=0.9; total time=   0.0s\n",
      "[CV] END colsample_bytree=0.9, learning_rate=0.03, max_depth=3, n_estimators=100, subsample=0.9; total time=   0.0s\n",
      "[CV] END colsample_bytree=0.9, learning_rate=0.03, max_depth=3, n_estimators=100, subsample=0.9; total time=   0.1s\n",
      "[CV] END colsample_bytree=0.9, learning_rate=0.03, max_depth=3, n_estimators=100, subsample=0.9; total time=   0.1s\n",
      "[CV] END colsample_bytree=0.9, learning_rate=0.03, max_depth=3, n_estimators=100, subsample=0.9; total time=   0.1s\n",
      "[CV] END colsample_bytree=0.9, learning_rate=0.03, max_depth=3, n_estimators=200, subsample=0.7; total time=   0.1s\n",
      "[CV] END colsample_bytree=0.9, learning_rate=0.03, max_depth=3, n_estimators=200, subsample=0.7; total time=   0.1s\n",
      "[CV] END colsample_bytree=0.9, learning_rate=0.03, max_depth=3, n_estimators=200, subsample=0.7; total time=   0.1s\n",
      "[CV] END colsample_bytree=0.9, learning_rate=0.03, max_depth=3, n_estimators=200, subsample=0.7; total time=   0.1s\n",
      "[CV] END colsample_bytree=0.9, learning_rate=0.03, max_depth=3, n_estimators=200, subsample=0.7; total time=   0.1s\n",
      "[CV] END colsample_bytree=0.9, learning_rate=0.03, max_depth=3, n_estimators=200, subsample=0.8; total time=   0.1s\n",
      "[CV] END colsample_bytree=0.9, learning_rate=0.03, max_depth=3, n_estimators=200, subsample=0.8; total time=   0.1s\n",
      "[CV] END colsample_bytree=0.9, learning_rate=0.03, max_depth=3, n_estimators=200, subsample=0.8; total time=   0.1s\n",
      "[CV] END colsample_bytree=0.9, learning_rate=0.03, max_depth=3, n_estimators=200, subsample=0.8; total time=   0.1s\n",
      "[CV] END colsample_bytree=0.9, learning_rate=0.03, max_depth=3, n_estimators=200, subsample=0.8; total time=   0.1s\n",
      "[CV] END colsample_bytree=0.9, learning_rate=0.03, max_depth=3, n_estimators=200, subsample=0.9; total time=   0.1s\n",
      "[CV] END colsample_bytree=0.9, learning_rate=0.03, max_depth=3, n_estimators=200, subsample=0.9; total time=   0.1s\n",
      "[CV] END colsample_bytree=0.9, learning_rate=0.03, max_depth=3, n_estimators=200, subsample=0.9; total time=   0.1s\n",
      "[CV] END colsample_bytree=0.9, learning_rate=0.03, max_depth=3, n_estimators=200, subsample=0.9; total time=   0.1s\n",
      "[CV] END colsample_bytree=0.9, learning_rate=0.03, max_depth=3, n_estimators=200, subsample=0.9; total time=   0.1s\n",
      "[CV] END colsample_bytree=0.9, learning_rate=0.03, max_depth=5, n_estimators=100, subsample=0.7; total time=   0.0s\n",
      "[CV] END colsample_bytree=0.9, learning_rate=0.03, max_depth=5, n_estimators=100, subsample=0.7; total time=   0.0s\n",
      "[CV] END colsample_bytree=0.9, learning_rate=0.03, max_depth=5, n_estimators=100, subsample=0.7; total time=   0.0s\n",
      "[CV] END colsample_bytree=0.9, learning_rate=0.03, max_depth=5, n_estimators=100, subsample=0.7; total time=   0.1s\n"
     ]
    },
    {
     "name": "stdout",
     "output_type": "stream",
     "text": [
      "[CV] END colsample_bytree=0.9, learning_rate=0.03, max_depth=5, n_estimators=100, subsample=0.7; total time=   0.0s\n",
      "[CV] END colsample_bytree=0.9, learning_rate=0.03, max_depth=5, n_estimators=100, subsample=0.8; total time=   0.0s\n",
      "[CV] END colsample_bytree=0.9, learning_rate=0.03, max_depth=5, n_estimators=100, subsample=0.8; total time=   0.0s\n",
      "[CV] END colsample_bytree=0.9, learning_rate=0.03, max_depth=5, n_estimators=100, subsample=0.8; total time=   0.0s\n",
      "[CV] END colsample_bytree=0.9, learning_rate=0.03, max_depth=5, n_estimators=100, subsample=0.8; total time=   0.0s\n",
      "[CV] END colsample_bytree=0.9, learning_rate=0.03, max_depth=5, n_estimators=100, subsample=0.8; total time=   0.0s\n",
      "[CV] END colsample_bytree=0.9, learning_rate=0.03, max_depth=5, n_estimators=100, subsample=0.9; total time=   0.1s\n",
      "[CV] END colsample_bytree=0.9, learning_rate=0.03, max_depth=5, n_estimators=100, subsample=0.9; total time=   0.0s\n",
      "[CV] END colsample_bytree=0.9, learning_rate=0.03, max_depth=5, n_estimators=100, subsample=0.9; total time=   0.0s\n",
      "[CV] END colsample_bytree=0.9, learning_rate=0.03, max_depth=5, n_estimators=100, subsample=0.9; total time=   0.0s\n",
      "[CV] END colsample_bytree=0.9, learning_rate=0.03, max_depth=5, n_estimators=100, subsample=0.9; total time=   0.0s\n",
      "[CV] END colsample_bytree=0.9, learning_rate=0.03, max_depth=5, n_estimators=200, subsample=0.7; total time=   0.1s\n",
      "[CV] END colsample_bytree=0.9, learning_rate=0.03, max_depth=5, n_estimators=200, subsample=0.7; total time=   0.1s\n",
      "[CV] END colsample_bytree=0.9, learning_rate=0.03, max_depth=5, n_estimators=200, subsample=0.7; total time=   0.1s\n",
      "[CV] END colsample_bytree=0.9, learning_rate=0.03, max_depth=5, n_estimators=200, subsample=0.7; total time=   0.1s\n",
      "[CV] END colsample_bytree=0.9, learning_rate=0.03, max_depth=5, n_estimators=200, subsample=0.7; total time=   0.1s\n",
      "[CV] END colsample_bytree=0.9, learning_rate=0.03, max_depth=5, n_estimators=200, subsample=0.8; total time=   0.1s\n",
      "[CV] END colsample_bytree=0.9, learning_rate=0.03, max_depth=5, n_estimators=200, subsample=0.8; total time=   0.1s\n",
      "[CV] END colsample_bytree=0.9, learning_rate=0.03, max_depth=5, n_estimators=200, subsample=0.8; total time=   0.1s\n",
      "[CV] END colsample_bytree=0.9, learning_rate=0.03, max_depth=5, n_estimators=200, subsample=0.8; total time=   0.1s\n",
      "[CV] END colsample_bytree=0.9, learning_rate=0.03, max_depth=5, n_estimators=200, subsample=0.8; total time=   0.1s\n",
      "[CV] END colsample_bytree=0.9, learning_rate=0.03, max_depth=5, n_estimators=200, subsample=0.9; total time=   0.1s\n",
      "[CV] END colsample_bytree=0.9, learning_rate=0.03, max_depth=5, n_estimators=200, subsample=0.9; total time=   0.1s\n",
      "[CV] END colsample_bytree=0.9, learning_rate=0.03, max_depth=5, n_estimators=200, subsample=0.9; total time=   0.1s\n",
      "[CV] END colsample_bytree=0.9, learning_rate=0.03, max_depth=5, n_estimators=200, subsample=0.9; total time=   0.1s\n",
      "[CV] END colsample_bytree=0.9, learning_rate=0.03, max_depth=5, n_estimators=200, subsample=0.9; total time=   0.1s\n",
      "[CV] END colsample_bytree=0.9, learning_rate=0.03, max_depth=7, n_estimators=100, subsample=0.7; total time=   0.0s\n",
      "[CV] END colsample_bytree=0.9, learning_rate=0.03, max_depth=7, n_estimators=100, subsample=0.7; total time=   0.0s\n",
      "[CV] END colsample_bytree=0.9, learning_rate=0.03, max_depth=7, n_estimators=100, subsample=0.7; total time=   0.0s\n",
      "[CV] END colsample_bytree=0.9, learning_rate=0.03, max_depth=7, n_estimators=100, subsample=0.7; total time=   0.0s\n",
      "[CV] END colsample_bytree=0.9, learning_rate=0.03, max_depth=7, n_estimators=100, subsample=0.7; total time=   0.0s\n",
      "[CV] END colsample_bytree=0.9, learning_rate=0.03, max_depth=7, n_estimators=100, subsample=0.8; total time=   0.0s\n",
      "[CV] END colsample_bytree=0.9, learning_rate=0.03, max_depth=7, n_estimators=100, subsample=0.8; total time=   0.0s\n",
      "[CV] END colsample_bytree=0.9, learning_rate=0.03, max_depth=7, n_estimators=100, subsample=0.8; total time=   0.1s\n",
      "[CV] END colsample_bytree=0.9, learning_rate=0.03, max_depth=7, n_estimators=100, subsample=0.8; total time=   0.0s\n",
      "[CV] END colsample_bytree=0.9, learning_rate=0.03, max_depth=7, n_estimators=100, subsample=0.8; total time=   0.0s\n",
      "[CV] END colsample_bytree=0.9, learning_rate=0.03, max_depth=7, n_estimators=100, subsample=0.9; total time=   0.0s\n",
      "[CV] END colsample_bytree=0.9, learning_rate=0.03, max_depth=7, n_estimators=100, subsample=0.9; total time=   0.1s\n",
      "[CV] END colsample_bytree=0.9, learning_rate=0.03, max_depth=7, n_estimators=100, subsample=0.9; total time=   0.0s\n",
      "[CV] END colsample_bytree=0.9, learning_rate=0.03, max_depth=7, n_estimators=100, subsample=0.9; total time=   0.0s\n",
      "[CV] END colsample_bytree=0.9, learning_rate=0.03, max_depth=7, n_estimators=100, subsample=0.9; total time=   0.0s\n",
      "[CV] END colsample_bytree=0.9, learning_rate=0.03, max_depth=7, n_estimators=200, subsample=0.7; total time=   0.1s\n",
      "[CV] END colsample_bytree=0.9, learning_rate=0.03, max_depth=7, n_estimators=200, subsample=0.7; total time=   0.1s\n",
      "[CV] END colsample_bytree=0.9, learning_rate=0.03, max_depth=7, n_estimators=200, subsample=0.7; total time=   0.1s\n",
      "[CV] END colsample_bytree=0.9, learning_rate=0.03, max_depth=7, n_estimators=200, subsample=0.7; total time=   0.1s\n",
      "[CV] END colsample_bytree=0.9, learning_rate=0.03, max_depth=7, n_estimators=200, subsample=0.7; total time=   0.1s\n",
      "[CV] END colsample_bytree=0.9, learning_rate=0.03, max_depth=7, n_estimators=200, subsample=0.8; total time=   0.1s\n",
      "[CV] END colsample_bytree=0.9, learning_rate=0.03, max_depth=7, n_estimators=200, subsample=0.8; total time=   0.1s\n",
      "[CV] END colsample_bytree=0.9, learning_rate=0.03, max_depth=7, n_estimators=200, subsample=0.8; total time=   0.1s\n",
      "[CV] END colsample_bytree=0.9, learning_rate=0.03, max_depth=7, n_estimators=200, subsample=0.8; total time=   0.1s\n",
      "[CV] END colsample_bytree=0.9, learning_rate=0.03, max_depth=7, n_estimators=200, subsample=0.8; total time=   0.1s\n",
      "[CV] END colsample_bytree=0.9, learning_rate=0.03, max_depth=7, n_estimators=200, subsample=0.9; total time=   0.1s\n",
      "[CV] END colsample_bytree=0.9, learning_rate=0.03, max_depth=7, n_estimators=200, subsample=0.9; total time=   0.1s\n",
      "[CV] END colsample_bytree=0.9, learning_rate=0.03, max_depth=7, n_estimators=200, subsample=0.9; total time=   0.1s\n",
      "[CV] END colsample_bytree=0.9, learning_rate=0.03, max_depth=7, n_estimators=200, subsample=0.9; total time=   0.1s\n",
      "[CV] END colsample_bytree=0.9, learning_rate=0.03, max_depth=7, n_estimators=200, subsample=0.9; total time=   0.1s\n",
      "[CV] END colsample_bytree=0.9, learning_rate=0.03, max_depth=9, n_estimators=100, subsample=0.7; total time=   0.0s\n",
      "[CV] END colsample_bytree=0.9, learning_rate=0.03, max_depth=9, n_estimators=100, subsample=0.7; total time=   0.1s\n",
      "[CV] END colsample_bytree=0.9, learning_rate=0.03, max_depth=9, n_estimators=100, subsample=0.7; total time=   0.0s\n",
      "[CV] END colsample_bytree=0.9, learning_rate=0.03, max_depth=9, n_estimators=100, subsample=0.7; total time=   0.0s\n",
      "[CV] END colsample_bytree=0.9, learning_rate=0.03, max_depth=9, n_estimators=100, subsample=0.7; total time=   0.0s\n",
      "[CV] END colsample_bytree=0.9, learning_rate=0.03, max_depth=9, n_estimators=100, subsample=0.8; total time=   0.0s\n",
      "[CV] END colsample_bytree=0.9, learning_rate=0.03, max_depth=9, n_estimators=100, subsample=0.8; total time=   0.0s\n",
      "[CV] END colsample_bytree=0.9, learning_rate=0.03, max_depth=9, n_estimators=100, subsample=0.8; total time=   0.1s\n",
      "[CV] END colsample_bytree=0.9, learning_rate=0.03, max_depth=9, n_estimators=100, subsample=0.8; total time=   0.0s\n",
      "[CV] END colsample_bytree=0.9, learning_rate=0.03, max_depth=9, n_estimators=100, subsample=0.8; total time=   0.0s\n",
      "[CV] END colsample_bytree=0.9, learning_rate=0.03, max_depth=9, n_estimators=100, subsample=0.9; total time=   0.0s\n",
      "[CV] END colsample_bytree=0.9, learning_rate=0.03, max_depth=9, n_estimators=100, subsample=0.9; total time=   0.1s\n",
      "[CV] END colsample_bytree=0.9, learning_rate=0.03, max_depth=9, n_estimators=100, subsample=0.9; total time=   0.1s\n",
      "[CV] END colsample_bytree=0.9, learning_rate=0.03, max_depth=9, n_estimators=100, subsample=0.9; total time=   0.0s\n",
      "[CV] END colsample_bytree=0.9, learning_rate=0.03, max_depth=9, n_estimators=100, subsample=0.9; total time=   0.0s\n"
     ]
    },
    {
     "name": "stdout",
     "output_type": "stream",
     "text": [
      "[CV] END colsample_bytree=0.9, learning_rate=0.03, max_depth=9, n_estimators=200, subsample=0.7; total time=   0.1s\n",
      "[CV] END colsample_bytree=0.9, learning_rate=0.03, max_depth=9, n_estimators=200, subsample=0.7; total time=   0.1s\n",
      "[CV] END colsample_bytree=0.9, learning_rate=0.03, max_depth=9, n_estimators=200, subsample=0.7; total time=   0.1s\n",
      "[CV] END colsample_bytree=0.9, learning_rate=0.03, max_depth=9, n_estimators=200, subsample=0.7; total time=   0.1s\n",
      "[CV] END colsample_bytree=0.9, learning_rate=0.03, max_depth=9, n_estimators=200, subsample=0.7; total time=   0.1s\n",
      "[CV] END colsample_bytree=0.9, learning_rate=0.03, max_depth=9, n_estimators=200, subsample=0.8; total time=   0.1s\n",
      "[CV] END colsample_bytree=0.9, learning_rate=0.03, max_depth=9, n_estimators=200, subsample=0.8; total time=   0.1s\n",
      "[CV] END colsample_bytree=0.9, learning_rate=0.03, max_depth=9, n_estimators=200, subsample=0.8; total time=   0.1s\n",
      "[CV] END colsample_bytree=0.9, learning_rate=0.03, max_depth=9, n_estimators=200, subsample=0.8; total time=   0.1s\n",
      "[CV] END colsample_bytree=0.9, learning_rate=0.03, max_depth=9, n_estimators=200, subsample=0.8; total time=   0.1s\n",
      "[CV] END colsample_bytree=0.9, learning_rate=0.03, max_depth=9, n_estimators=200, subsample=0.9; total time=   0.1s\n",
      "[CV] END colsample_bytree=0.9, learning_rate=0.03, max_depth=9, n_estimators=200, subsample=0.9; total time=   0.1s\n",
      "[CV] END colsample_bytree=0.9, learning_rate=0.03, max_depth=9, n_estimators=200, subsample=0.9; total time=   0.1s\n",
      "[CV] END colsample_bytree=0.9, learning_rate=0.03, max_depth=9, n_estimators=200, subsample=0.9; total time=   0.1s\n",
      "[CV] END colsample_bytree=0.9, learning_rate=0.03, max_depth=9, n_estimators=200, subsample=0.9; total time=   0.1s\n",
      "[CV] END colsample_bytree=0.9, learning_rate=0.01, max_depth=3, n_estimators=100, subsample=0.7; total time=   0.0s\n",
      "[CV] END colsample_bytree=0.9, learning_rate=0.01, max_depth=3, n_estimators=100, subsample=0.7; total time=   0.0s\n",
      "[CV] END colsample_bytree=0.9, learning_rate=0.01, max_depth=3, n_estimators=100, subsample=0.7; total time=   0.0s\n",
      "[CV] END colsample_bytree=0.9, learning_rate=0.01, max_depth=3, n_estimators=100, subsample=0.7; total time=   0.0s\n",
      "[CV] END colsample_bytree=0.9, learning_rate=0.01, max_depth=3, n_estimators=100, subsample=0.7; total time=   0.0s\n",
      "[CV] END colsample_bytree=0.9, learning_rate=0.01, max_depth=3, n_estimators=100, subsample=0.8; total time=   0.0s\n",
      "[CV] END colsample_bytree=0.9, learning_rate=0.01, max_depth=3, n_estimators=100, subsample=0.8; total time=   0.0s\n",
      "[CV] END colsample_bytree=0.9, learning_rate=0.01, max_depth=3, n_estimators=100, subsample=0.8; total time=   0.0s\n",
      "[CV] END colsample_bytree=0.9, learning_rate=0.01, max_depth=3, n_estimators=100, subsample=0.8; total time=   0.0s\n",
      "[CV] END colsample_bytree=0.9, learning_rate=0.01, max_depth=3, n_estimators=100, subsample=0.8; total time=   0.0s\n",
      "[CV] END colsample_bytree=0.9, learning_rate=0.01, max_depth=3, n_estimators=100, subsample=0.9; total time=   0.0s\n",
      "[CV] END colsample_bytree=0.9, learning_rate=0.01, max_depth=3, n_estimators=100, subsample=0.9; total time=   0.0s\n",
      "[CV] END colsample_bytree=0.9, learning_rate=0.01, max_depth=3, n_estimators=100, subsample=0.9; total time=   0.0s\n",
      "[CV] END colsample_bytree=0.9, learning_rate=0.01, max_depth=3, n_estimators=100, subsample=0.9; total time=   0.0s\n",
      "[CV] END colsample_bytree=0.9, learning_rate=0.01, max_depth=3, n_estimators=100, subsample=0.9; total time=   0.0s\n",
      "[CV] END colsample_bytree=0.9, learning_rate=0.01, max_depth=3, n_estimators=200, subsample=0.7; total time=   0.1s\n",
      "[CV] END colsample_bytree=0.9, learning_rate=0.01, max_depth=3, n_estimators=200, subsample=0.7; total time=   0.1s\n",
      "[CV] END colsample_bytree=0.9, learning_rate=0.01, max_depth=3, n_estimators=200, subsample=0.7; total time=   0.1s\n",
      "[CV] END colsample_bytree=0.9, learning_rate=0.01, max_depth=3, n_estimators=200, subsample=0.7; total time=   0.1s\n",
      "[CV] END colsample_bytree=0.9, learning_rate=0.01, max_depth=3, n_estimators=200, subsample=0.7; total time=   0.1s\n",
      "[CV] END colsample_bytree=0.9, learning_rate=0.01, max_depth=3, n_estimators=200, subsample=0.8; total time=   0.1s\n",
      "[CV] END colsample_bytree=0.9, learning_rate=0.01, max_depth=3, n_estimators=200, subsample=0.8; total time=   0.1s\n",
      "[CV] END colsample_bytree=0.9, learning_rate=0.01, max_depth=3, n_estimators=200, subsample=0.8; total time=   0.1s\n",
      "[CV] END colsample_bytree=0.9, learning_rate=0.01, max_depth=3, n_estimators=200, subsample=0.8; total time=   0.1s\n",
      "[CV] END colsample_bytree=0.9, learning_rate=0.01, max_depth=3, n_estimators=200, subsample=0.8; total time=   0.1s\n",
      "[CV] END colsample_bytree=0.9, learning_rate=0.01, max_depth=3, n_estimators=200, subsample=0.9; total time=   0.1s\n",
      "[CV] END colsample_bytree=0.9, learning_rate=0.01, max_depth=3, n_estimators=200, subsample=0.9; total time=   0.1s\n",
      "[CV] END colsample_bytree=0.9, learning_rate=0.01, max_depth=3, n_estimators=200, subsample=0.9; total time=   0.1s\n",
      "[CV] END colsample_bytree=0.9, learning_rate=0.01, max_depth=3, n_estimators=200, subsample=0.9; total time=   0.1s\n",
      "[CV] END colsample_bytree=0.9, learning_rate=0.01, max_depth=3, n_estimators=200, subsample=0.9; total time=   0.1s\n",
      "[CV] END colsample_bytree=0.9, learning_rate=0.01, max_depth=5, n_estimators=100, subsample=0.7; total time=   0.0s\n",
      "[CV] END colsample_bytree=0.9, learning_rate=0.01, max_depth=5, n_estimators=100, subsample=0.7; total time=   0.0s\n",
      "[CV] END colsample_bytree=0.9, learning_rate=0.01, max_depth=5, n_estimators=100, subsample=0.7; total time=   0.1s\n",
      "[CV] END colsample_bytree=0.9, learning_rate=0.01, max_depth=5, n_estimators=100, subsample=0.7; total time=   0.0s\n",
      "[CV] END colsample_bytree=0.9, learning_rate=0.01, max_depth=5, n_estimators=100, subsample=0.7; total time=   0.0s\n",
      "[CV] END colsample_bytree=0.9, learning_rate=0.01, max_depth=5, n_estimators=100, subsample=0.8; total time=   0.0s\n",
      "[CV] END colsample_bytree=0.9, learning_rate=0.01, max_depth=5, n_estimators=100, subsample=0.8; total time=   0.0s\n",
      "[CV] END colsample_bytree=0.9, learning_rate=0.01, max_depth=5, n_estimators=100, subsample=0.8; total time=   0.1s\n",
      "[CV] END colsample_bytree=0.9, learning_rate=0.01, max_depth=5, n_estimators=100, subsample=0.8; total time=   0.0s\n",
      "[CV] END colsample_bytree=0.9, learning_rate=0.01, max_depth=5, n_estimators=100, subsample=0.8; total time=   0.0s\n",
      "[CV] END colsample_bytree=0.9, learning_rate=0.01, max_depth=5, n_estimators=100, subsample=0.9; total time=   0.0s\n",
      "[CV] END colsample_bytree=0.9, learning_rate=0.01, max_depth=5, n_estimators=100, subsample=0.9; total time=   0.0s\n",
      "[CV] END colsample_bytree=0.9, learning_rate=0.01, max_depth=5, n_estimators=100, subsample=0.9; total time=   0.1s\n",
      "[CV] END colsample_bytree=0.9, learning_rate=0.01, max_depth=5, n_estimators=100, subsample=0.9; total time=   0.1s\n",
      "[CV] END colsample_bytree=0.9, learning_rate=0.01, max_depth=5, n_estimators=100, subsample=0.9; total time=   0.0s\n",
      "[CV] END colsample_bytree=0.9, learning_rate=0.01, max_depth=5, n_estimators=200, subsample=0.7; total time=   0.1s\n",
      "[CV] END colsample_bytree=0.9, learning_rate=0.01, max_depth=5, n_estimators=200, subsample=0.7; total time=   0.1s\n",
      "[CV] END colsample_bytree=0.9, learning_rate=0.01, max_depth=5, n_estimators=200, subsample=0.7; total time=   0.1s\n",
      "[CV] END colsample_bytree=0.9, learning_rate=0.01, max_depth=5, n_estimators=200, subsample=0.7; total time=   0.1s\n",
      "[CV] END colsample_bytree=0.9, learning_rate=0.01, max_depth=5, n_estimators=200, subsample=0.7; total time=   0.1s\n",
      "[CV] END colsample_bytree=0.9, learning_rate=0.01, max_depth=5, n_estimators=200, subsample=0.8; total time=   0.1s\n",
      "[CV] END colsample_bytree=0.9, learning_rate=0.01, max_depth=5, n_estimators=200, subsample=0.8; total time=   0.1s\n",
      "[CV] END colsample_bytree=0.9, learning_rate=0.01, max_depth=5, n_estimators=200, subsample=0.8; total time=   0.1s\n",
      "[CV] END colsample_bytree=0.9, learning_rate=0.01, max_depth=5, n_estimators=200, subsample=0.8; total time=   0.1s\n",
      "[CV] END colsample_bytree=0.9, learning_rate=0.01, max_depth=5, n_estimators=200, subsample=0.8; total time=   0.1s\n",
      "[CV] END colsample_bytree=0.9, learning_rate=0.01, max_depth=5, n_estimators=200, subsample=0.9; total time=   0.1s\n",
      "[CV] END colsample_bytree=0.9, learning_rate=0.01, max_depth=5, n_estimators=200, subsample=0.9; total time=   0.1s\n",
      "[CV] END colsample_bytree=0.9, learning_rate=0.01, max_depth=5, n_estimators=200, subsample=0.9; total time=   0.1s\n"
     ]
    },
    {
     "name": "stdout",
     "output_type": "stream",
     "text": [
      "[CV] END colsample_bytree=0.9, learning_rate=0.01, max_depth=5, n_estimators=200, subsample=0.9; total time=   0.1s\n",
      "[CV] END colsample_bytree=0.9, learning_rate=0.01, max_depth=5, n_estimators=200, subsample=0.9; total time=   0.1s\n",
      "[CV] END colsample_bytree=0.9, learning_rate=0.01, max_depth=7, n_estimators=100, subsample=0.7; total time=   0.0s\n",
      "[CV] END colsample_bytree=0.9, learning_rate=0.01, max_depth=7, n_estimators=100, subsample=0.7; total time=   0.0s\n",
      "[CV] END colsample_bytree=0.9, learning_rate=0.01, max_depth=7, n_estimators=100, subsample=0.7; total time=   0.1s\n",
      "[CV] END colsample_bytree=0.9, learning_rate=0.01, max_depth=7, n_estimators=100, subsample=0.7; total time=   0.0s\n",
      "[CV] END colsample_bytree=0.9, learning_rate=0.01, max_depth=7, n_estimators=100, subsample=0.7; total time=   0.0s\n",
      "[CV] END colsample_bytree=0.9, learning_rate=0.01, max_depth=7, n_estimators=100, subsample=0.8; total time=   0.0s\n",
      "[CV] END colsample_bytree=0.9, learning_rate=0.01, max_depth=7, n_estimators=100, subsample=0.8; total time=   0.0s\n",
      "[CV] END colsample_bytree=0.9, learning_rate=0.01, max_depth=7, n_estimators=100, subsample=0.8; total time=   0.1s\n",
      "[CV] END colsample_bytree=0.9, learning_rate=0.01, max_depth=7, n_estimators=100, subsample=0.8; total time=   0.1s\n",
      "[CV] END colsample_bytree=0.9, learning_rate=0.01, max_depth=7, n_estimators=100, subsample=0.8; total time=   0.0s\n",
      "[CV] END colsample_bytree=0.9, learning_rate=0.01, max_depth=7, n_estimators=100, subsample=0.9; total time=   0.0s\n",
      "[CV] END colsample_bytree=0.9, learning_rate=0.01, max_depth=7, n_estimators=100, subsample=0.9; total time=   0.0s\n",
      "[CV] END colsample_bytree=0.9, learning_rate=0.01, max_depth=7, n_estimators=100, subsample=0.9; total time=   0.1s\n",
      "[CV] END colsample_bytree=0.9, learning_rate=0.01, max_depth=7, n_estimators=100, subsample=0.9; total time=   0.0s\n",
      "[CV] END colsample_bytree=0.9, learning_rate=0.01, max_depth=7, n_estimators=100, subsample=0.9; total time=   0.0s\n",
      "[CV] END colsample_bytree=0.9, learning_rate=0.01, max_depth=7, n_estimators=200, subsample=0.7; total time=   0.1s\n",
      "[CV] END colsample_bytree=0.9, learning_rate=0.01, max_depth=7, n_estimators=200, subsample=0.7; total time=   0.1s\n",
      "[CV] END colsample_bytree=0.9, learning_rate=0.01, max_depth=7, n_estimators=200, subsample=0.7; total time=   0.1s\n",
      "[CV] END colsample_bytree=0.9, learning_rate=0.01, max_depth=7, n_estimators=200, subsample=0.7; total time=   0.1s\n",
      "[CV] END colsample_bytree=0.9, learning_rate=0.01, max_depth=7, n_estimators=200, subsample=0.7; total time=   0.1s\n",
      "[CV] END colsample_bytree=0.9, learning_rate=0.01, max_depth=7, n_estimators=200, subsample=0.8; total time=   0.1s\n",
      "[CV] END colsample_bytree=0.9, learning_rate=0.01, max_depth=7, n_estimators=200, subsample=0.8; total time=   0.1s\n",
      "[CV] END colsample_bytree=0.9, learning_rate=0.01, max_depth=7, n_estimators=200, subsample=0.8; total time=   0.1s\n",
      "[CV] END colsample_bytree=0.9, learning_rate=0.01, max_depth=7, n_estimators=200, subsample=0.8; total time=   0.1s\n",
      "[CV] END colsample_bytree=0.9, learning_rate=0.01, max_depth=7, n_estimators=200, subsample=0.8; total time=   0.1s\n",
      "[CV] END colsample_bytree=0.9, learning_rate=0.01, max_depth=7, n_estimators=200, subsample=0.9; total time=   0.1s\n",
      "[CV] END colsample_bytree=0.9, learning_rate=0.01, max_depth=7, n_estimators=200, subsample=0.9; total time=   0.1s\n",
      "[CV] END colsample_bytree=0.9, learning_rate=0.01, max_depth=7, n_estimators=200, subsample=0.9; total time=   0.1s\n",
      "[CV] END colsample_bytree=0.9, learning_rate=0.01, max_depth=7, n_estimators=200, subsample=0.9; total time=   0.1s\n",
      "[CV] END colsample_bytree=0.9, learning_rate=0.01, max_depth=7, n_estimators=200, subsample=0.9; total time=   0.1s\n",
      "[CV] END colsample_bytree=0.9, learning_rate=0.01, max_depth=9, n_estimators=100, subsample=0.7; total time=   0.0s\n",
      "[CV] END colsample_bytree=0.9, learning_rate=0.01, max_depth=9, n_estimators=100, subsample=0.7; total time=   0.0s\n",
      "[CV] END colsample_bytree=0.9, learning_rate=0.01, max_depth=9, n_estimators=100, subsample=0.7; total time=   0.1s\n",
      "[CV] END colsample_bytree=0.9, learning_rate=0.01, max_depth=9, n_estimators=100, subsample=0.7; total time=   0.0s\n",
      "[CV] END colsample_bytree=0.9, learning_rate=0.01, max_depth=9, n_estimators=100, subsample=0.7; total time=   0.0s\n",
      "[CV] END colsample_bytree=0.9, learning_rate=0.01, max_depth=9, n_estimators=100, subsample=0.8; total time=   0.0s\n",
      "[CV] END colsample_bytree=0.9, learning_rate=0.01, max_depth=9, n_estimators=100, subsample=0.8; total time=   0.0s\n",
      "[CV] END colsample_bytree=0.9, learning_rate=0.01, max_depth=9, n_estimators=100, subsample=0.8; total time=   0.1s\n",
      "[CV] END colsample_bytree=0.9, learning_rate=0.01, max_depth=9, n_estimators=100, subsample=0.8; total time=   0.0s\n",
      "[CV] END colsample_bytree=0.9, learning_rate=0.01, max_depth=9, n_estimators=100, subsample=0.8; total time=   0.0s\n",
      "[CV] END colsample_bytree=0.9, learning_rate=0.01, max_depth=9, n_estimators=100, subsample=0.9; total time=   0.1s\n",
      "[CV] END colsample_bytree=0.9, learning_rate=0.01, max_depth=9, n_estimators=100, subsample=0.9; total time=   0.0s\n",
      "[CV] END colsample_bytree=0.9, learning_rate=0.01, max_depth=9, n_estimators=100, subsample=0.9; total time=   0.1s\n",
      "[CV] END colsample_bytree=0.9, learning_rate=0.01, max_depth=9, n_estimators=100, subsample=0.9; total time=   0.0s\n",
      "[CV] END colsample_bytree=0.9, learning_rate=0.01, max_depth=9, n_estimators=100, subsample=0.9; total time=   0.0s\n",
      "[CV] END colsample_bytree=0.9, learning_rate=0.01, max_depth=9, n_estimators=200, subsample=0.7; total time=   0.1s\n",
      "[CV] END colsample_bytree=0.9, learning_rate=0.01, max_depth=9, n_estimators=200, subsample=0.7; total time=   0.1s\n",
      "[CV] END colsample_bytree=0.9, learning_rate=0.01, max_depth=9, n_estimators=200, subsample=0.7; total time=   0.1s\n",
      "[CV] END colsample_bytree=0.9, learning_rate=0.01, max_depth=9, n_estimators=200, subsample=0.7; total time=   0.1s\n",
      "[CV] END colsample_bytree=0.9, learning_rate=0.01, max_depth=9, n_estimators=200, subsample=0.7; total time=   0.1s\n",
      "[CV] END colsample_bytree=0.9, learning_rate=0.01, max_depth=9, n_estimators=200, subsample=0.8; total time=   0.1s\n",
      "[CV] END colsample_bytree=0.9, learning_rate=0.01, max_depth=9, n_estimators=200, subsample=0.8; total time=   0.1s\n",
      "[CV] END colsample_bytree=0.9, learning_rate=0.01, max_depth=9, n_estimators=200, subsample=0.8; total time=   0.1s\n",
      "[CV] END colsample_bytree=0.9, learning_rate=0.01, max_depth=9, n_estimators=200, subsample=0.8; total time=   0.1s\n",
      "[CV] END colsample_bytree=0.9, learning_rate=0.01, max_depth=9, n_estimators=200, subsample=0.8; total time=   0.1s\n",
      "[CV] END colsample_bytree=0.9, learning_rate=0.01, max_depth=9, n_estimators=200, subsample=0.9; total time=   0.1s\n",
      "[CV] END colsample_bytree=0.9, learning_rate=0.01, max_depth=9, n_estimators=200, subsample=0.9; total time=   0.1s\n",
      "[CV] END colsample_bytree=0.9, learning_rate=0.01, max_depth=9, n_estimators=200, subsample=0.9; total time=   0.1s\n",
      "[CV] END colsample_bytree=0.9, learning_rate=0.01, max_depth=9, n_estimators=200, subsample=0.9; total time=   0.1s\n",
      "[CV] END colsample_bytree=0.9, learning_rate=0.01, max_depth=9, n_estimators=200, subsample=0.9; total time=   0.1s\n"
     ]
    },
    {
     "data": {
      "text/html": [
       "<style>#sk-container-id-5 {color: black;}#sk-container-id-5 pre{padding: 0;}#sk-container-id-5 div.sk-toggleable {background-color: white;}#sk-container-id-5 label.sk-toggleable__label {cursor: pointer;display: block;width: 100%;margin-bottom: 0;padding: 0.3em;box-sizing: border-box;text-align: center;}#sk-container-id-5 label.sk-toggleable__label-arrow:before {content: \"▸\";float: left;margin-right: 0.25em;color: #696969;}#sk-container-id-5 label.sk-toggleable__label-arrow:hover:before {color: black;}#sk-container-id-5 div.sk-estimator:hover label.sk-toggleable__label-arrow:before {color: black;}#sk-container-id-5 div.sk-toggleable__content {max-height: 0;max-width: 0;overflow: hidden;text-align: left;background-color: #f0f8ff;}#sk-container-id-5 div.sk-toggleable__content pre {margin: 0.2em;color: black;border-radius: 0.25em;background-color: #f0f8ff;}#sk-container-id-5 input.sk-toggleable__control:checked~div.sk-toggleable__content {max-height: 200px;max-width: 100%;overflow: auto;}#sk-container-id-5 input.sk-toggleable__control:checked~label.sk-toggleable__label-arrow:before {content: \"▾\";}#sk-container-id-5 div.sk-estimator input.sk-toggleable__control:checked~label.sk-toggleable__label {background-color: #d4ebff;}#sk-container-id-5 div.sk-label input.sk-toggleable__control:checked~label.sk-toggleable__label {background-color: #d4ebff;}#sk-container-id-5 input.sk-hidden--visually {border: 0;clip: rect(1px 1px 1px 1px);clip: rect(1px, 1px, 1px, 1px);height: 1px;margin: -1px;overflow: hidden;padding: 0;position: absolute;width: 1px;}#sk-container-id-5 div.sk-estimator {font-family: monospace;background-color: #f0f8ff;border: 1px dotted black;border-radius: 0.25em;box-sizing: border-box;margin-bottom: 0.5em;}#sk-container-id-5 div.sk-estimator:hover {background-color: #d4ebff;}#sk-container-id-5 div.sk-parallel-item::after {content: \"\";width: 100%;border-bottom: 1px solid gray;flex-grow: 1;}#sk-container-id-5 div.sk-label:hover label.sk-toggleable__label {background-color: #d4ebff;}#sk-container-id-5 div.sk-serial::before {content: \"\";position: absolute;border-left: 1px solid gray;box-sizing: border-box;top: 0;bottom: 0;left: 50%;z-index: 0;}#sk-container-id-5 div.sk-serial {display: flex;flex-direction: column;align-items: center;background-color: white;padding-right: 0.2em;padding-left: 0.2em;position: relative;}#sk-container-id-5 div.sk-item {position: relative;z-index: 1;}#sk-container-id-5 div.sk-parallel {display: flex;align-items: stretch;justify-content: center;background-color: white;position: relative;}#sk-container-id-5 div.sk-item::before, #sk-container-id-5 div.sk-parallel-item::before {content: \"\";position: absolute;border-left: 1px solid gray;box-sizing: border-box;top: 0;bottom: 0;left: 50%;z-index: -1;}#sk-container-id-5 div.sk-parallel-item {display: flex;flex-direction: column;z-index: 1;position: relative;background-color: white;}#sk-container-id-5 div.sk-parallel-item:first-child::after {align-self: flex-end;width: 50%;}#sk-container-id-5 div.sk-parallel-item:last-child::after {align-self: flex-start;width: 50%;}#sk-container-id-5 div.sk-parallel-item:only-child::after {width: 0;}#sk-container-id-5 div.sk-dashed-wrapped {border: 1px dashed gray;margin: 0 0.4em 0.5em 0.4em;box-sizing: border-box;padding-bottom: 0.4em;background-color: white;}#sk-container-id-5 div.sk-label label {font-family: monospace;font-weight: bold;display: inline-block;line-height: 1.2em;}#sk-container-id-5 div.sk-label-container {text-align: center;}#sk-container-id-5 div.sk-container {/* jupyter's `normalize.less` sets `[hidden] { display: none; }` but bootstrap.min.css set `[hidden] { display: none !important; }` so we also need the `!important` here to be able to override the default hidden behavior on the sphinx rendered scikit-learn.org. See: https://github.com/scikit-learn/scikit-learn/issues/21755 */display: inline-block !important;position: relative;}#sk-container-id-5 div.sk-text-repr-fallback {display: none;}</style><div id=\"sk-container-id-5\" class=\"sk-top-container\"><div class=\"sk-text-repr-fallback\"><pre>GridSearchCV(cv=5,\n",
       "             estimator=XGBClassifier(base_score=None, booster=None,\n",
       "                                     callbacks=None, colsample_bylevel=None,\n",
       "                                     colsample_bynode=None,\n",
       "                                     colsample_bytree=None, device=None,\n",
       "                                     early_stopping_rounds=None,\n",
       "                                     enable_categorical=False, eval_metric=None,\n",
       "                                     feature_types=None, gamma=None,\n",
       "                                     grow_policy=None, importance_type=None,\n",
       "                                     interaction_constraints=None,\n",
       "                                     learning_rate=None,...\n",
       "                                     max_delta_step=None, max_depth=None,\n",
       "                                     max_leaves=None, min_child_weight=None,\n",
       "                                     missing=nan, monotone_constraints=None,\n",
       "                                     multi_strategy=None, n_estimators=None,\n",
       "                                     n_jobs=None, num_parallel_tree=None,\n",
       "                                     random_state=42, ...),\n",
       "             param_grid={&#x27;colsample_bytree&#x27;: [0.7, 0.8, 0.9],\n",
       "                         &#x27;learning_rate&#x27;: [0.03, 0.01],\n",
       "                         &#x27;max_depth&#x27;: [3, 5, 7, 9], &#x27;n_estimators&#x27;: [100, 200],\n",
       "                         &#x27;subsample&#x27;: [0.7, 0.8, 0.9]},\n",
       "             scoring=&#x27;recall&#x27;, verbose=2)</pre><b>In a Jupyter environment, please rerun this cell to show the HTML representation or trust the notebook. <br />On GitHub, the HTML representation is unable to render, please try loading this page with nbviewer.org.</b></div><div class=\"sk-container\" hidden><div class=\"sk-item sk-dashed-wrapped\"><div class=\"sk-label-container\"><div class=\"sk-label sk-toggleable\"><input class=\"sk-toggleable__control sk-hidden--visually\" id=\"sk-estimator-id-13\" type=\"checkbox\" ><label for=\"sk-estimator-id-13\" class=\"sk-toggleable__label sk-toggleable__label-arrow\">GridSearchCV</label><div class=\"sk-toggleable__content\"><pre>GridSearchCV(cv=5,\n",
       "             estimator=XGBClassifier(base_score=None, booster=None,\n",
       "                                     callbacks=None, colsample_bylevel=None,\n",
       "                                     colsample_bynode=None,\n",
       "                                     colsample_bytree=None, device=None,\n",
       "                                     early_stopping_rounds=None,\n",
       "                                     enable_categorical=False, eval_metric=None,\n",
       "                                     feature_types=None, gamma=None,\n",
       "                                     grow_policy=None, importance_type=None,\n",
       "                                     interaction_constraints=None,\n",
       "                                     learning_rate=None,...\n",
       "                                     max_delta_step=None, max_depth=None,\n",
       "                                     max_leaves=None, min_child_weight=None,\n",
       "                                     missing=nan, monotone_constraints=None,\n",
       "                                     multi_strategy=None, n_estimators=None,\n",
       "                                     n_jobs=None, num_parallel_tree=None,\n",
       "                                     random_state=42, ...),\n",
       "             param_grid={&#x27;colsample_bytree&#x27;: [0.7, 0.8, 0.9],\n",
       "                         &#x27;learning_rate&#x27;: [0.03, 0.01],\n",
       "                         &#x27;max_depth&#x27;: [3, 5, 7, 9], &#x27;n_estimators&#x27;: [100, 200],\n",
       "                         &#x27;subsample&#x27;: [0.7, 0.8, 0.9]},\n",
       "             scoring=&#x27;recall&#x27;, verbose=2)</pre></div></div></div><div class=\"sk-parallel\"><div class=\"sk-parallel-item\"><div class=\"sk-item\"><div class=\"sk-label-container\"><div class=\"sk-label sk-toggleable\"><input class=\"sk-toggleable__control sk-hidden--visually\" id=\"sk-estimator-id-14\" type=\"checkbox\" ><label for=\"sk-estimator-id-14\" class=\"sk-toggleable__label sk-toggleable__label-arrow\">estimator: XGBClassifier</label><div class=\"sk-toggleable__content\"><pre>XGBClassifier(base_score=None, booster=None, callbacks=None,\n",
       "              colsample_bylevel=None, colsample_bynode=None,\n",
       "              colsample_bytree=None, device=None, early_stopping_rounds=None,\n",
       "              enable_categorical=False, eval_metric=None, feature_types=None,\n",
       "              gamma=None, grow_policy=None, importance_type=None,\n",
       "              interaction_constraints=None, learning_rate=None, max_bin=None,\n",
       "              max_cat_threshold=None, max_cat_to_onehot=None,\n",
       "              max_delta_step=None, max_depth=None, max_leaves=None,\n",
       "              min_child_weight=None, missing=nan, monotone_constraints=None,\n",
       "              multi_strategy=None, n_estimators=None, n_jobs=None,\n",
       "              num_parallel_tree=None, random_state=42, ...)</pre></div></div></div><div class=\"sk-serial\"><div class=\"sk-item\"><div class=\"sk-estimator sk-toggleable\"><input class=\"sk-toggleable__control sk-hidden--visually\" id=\"sk-estimator-id-15\" type=\"checkbox\" ><label for=\"sk-estimator-id-15\" class=\"sk-toggleable__label sk-toggleable__label-arrow\">XGBClassifier</label><div class=\"sk-toggleable__content\"><pre>XGBClassifier(base_score=None, booster=None, callbacks=None,\n",
       "              colsample_bylevel=None, colsample_bynode=None,\n",
       "              colsample_bytree=None, device=None, early_stopping_rounds=None,\n",
       "              enable_categorical=False, eval_metric=None, feature_types=None,\n",
       "              gamma=None, grow_policy=None, importance_type=None,\n",
       "              interaction_constraints=None, learning_rate=None, max_bin=None,\n",
       "              max_cat_threshold=None, max_cat_to_onehot=None,\n",
       "              max_delta_step=None, max_depth=None, max_leaves=None,\n",
       "              min_child_weight=None, missing=nan, monotone_constraints=None,\n",
       "              multi_strategy=None, n_estimators=None, n_jobs=None,\n",
       "              num_parallel_tree=None, random_state=42, ...)</pre></div></div></div></div></div></div></div></div></div></div>"
      ],
      "text/plain": [
       "GridSearchCV(cv=5,\n",
       "             estimator=XGBClassifier(base_score=None, booster=None,\n",
       "                                     callbacks=None, colsample_bylevel=None,\n",
       "                                     colsample_bynode=None,\n",
       "                                     colsample_bytree=None, device=None,\n",
       "                                     early_stopping_rounds=None,\n",
       "                                     enable_categorical=False, eval_metric=None,\n",
       "                                     feature_types=None, gamma=None,\n",
       "                                     grow_policy=None, importance_type=None,\n",
       "                                     interaction_constraints=None,\n",
       "                                     learning_rate=None,...\n",
       "                                     max_delta_step=None, max_depth=None,\n",
       "                                     max_leaves=None, min_child_weight=None,\n",
       "                                     missing=nan, monotone_constraints=None,\n",
       "                                     multi_strategy=None, n_estimators=None,\n",
       "                                     n_jobs=None, num_parallel_tree=None,\n",
       "                                     random_state=42, ...),\n",
       "             param_grid={'colsample_bytree': [0.7, 0.8, 0.9],\n",
       "                         'learning_rate': [0.03, 0.01],\n",
       "                         'max_depth': [3, 5, 7, 9], 'n_estimators': [100, 200],\n",
       "                         'subsample': [0.7, 0.8, 0.9]},\n",
       "             scoring='recall', verbose=2)"
      ]
     },
     "execution_count": 88,
     "metadata": {},
     "output_type": "execute_result"
    }
   ],
   "source": [
    "grid2.fit(X_train, y_train)"
   ]
  },
  {
   "cell_type": "code",
   "execution_count": 89,
   "metadata": {
    "ExecuteTime": {
     "end_time": "2023-10-26T01:20:23.339258Z",
     "start_time": "2023-10-26T01:20:23.337182Z"
    }
   },
   "outputs": [],
   "source": [
    "grid2_pred = grid2.predict(X_test)"
   ]
  },
  {
   "cell_type": "code",
   "execution_count": 90,
   "metadata": {
    "ExecuteTime": {
     "end_time": "2023-10-26T01:20:23.345490Z",
     "start_time": "2023-10-26T01:20:23.340099Z"
    }
   },
   "outputs": [
    {
     "name": "stdout",
     "output_type": "stream",
     "text": [
      "[[105   3]\n",
      " [  4  59]]\n",
      "              precision    recall  f1-score   support\n",
      "\n",
      "           0       0.96      0.97      0.97       108\n",
      "           1       0.95      0.94      0.94        63\n",
      "\n",
      "    accuracy                           0.96       171\n",
      "   macro avg       0.96      0.95      0.96       171\n",
      "weighted avg       0.96      0.96      0.96       171\n",
      "\n"
     ]
    }
   ],
   "source": [
    "print(confusion_matrix(y_test, grid2_pred))\n",
    "print(classification_report(y_test, grid2_pred))"
   ]
  },
  {
   "cell_type": "markdown",
   "metadata": {},
   "source": [
    "# 디스이즈 컴퍼티션!!"
   ]
  },
  {
   "cell_type": "code",
   "execution_count": 82,
   "metadata": {
    "ExecuteTime": {
     "end_time": "2023-10-26T01:14:06.594579Z",
     "start_time": "2023-10-26T01:14:06.542078Z"
    }
   },
   "outputs": [
    {
     "data": {
      "text/html": [
       "<div>\n",
       "<style scoped>\n",
       "    .dataframe tbody tr th:only-of-type {\n",
       "        vertical-align: middle;\n",
       "    }\n",
       "\n",
       "    .dataframe tbody tr th {\n",
       "        vertical-align: top;\n",
       "    }\n",
       "\n",
       "    .dataframe thead th {\n",
       "        text-align: right;\n",
       "    }\n",
       "</style>\n",
       "<table border=\"1\" class=\"dataframe\">\n",
       "  <thead>\n",
       "    <tr style=\"text-align: right;\">\n",
       "      <th></th>\n",
       "      <th>전경련BSI</th>\n",
       "      <th>주택매매가격</th>\n",
       "      <th>건설BSI(전망)</th>\n",
       "      <th>실업률(계절조정,%)</th>\n",
       "      <th>어음부도율</th>\n",
       "      <th>일별수출액YoY</th>\n",
       "      <th>내국인출국자수YoY</th>\n",
       "      <th>코스피 200 변동성지수</th>\n",
       "      <th>통안채 364일</th>\n",
       "      <th>공사채 AAA 3년</th>\n",
       "      <th>은행채 AAA 3년</th>\n",
       "      <th>국고채5년 - CD</th>\n",
       "      <th>국고채10년 - 통안채1년</th>\n",
       "      <th>은행채AAA3년 - 국고채3년</th>\n",
       "      <th>회사채AA-3년 - 국고채3년</th>\n",
       "      <th>내국인출국자수</th>\n",
       "      <th>한국(OECD)</th>\n",
       "      <th>GDP서비스업</th>\n",
       "      <th>설비투자</th>\n",
       "      <th>건설투자</th>\n",
       "      <th>재화수출</th>\n",
       "      <th>내수</th>\n",
       "      <th>GDP디플레이터</th>\n",
       "      <th>총저축률</th>\n",
       "      <th>총투자율</th>\n",
       "      <th>Reuter CRB(EW)상품선물지수</th>\n",
       "      <th>Reuter CRB(EW)에너지지수</th>\n",
       "      <th>Reuter CRB(EW)산업지수</th>\n",
       "      <th>Reuter CRB(EW)귀금속지수</th>\n",
       "      <th>코스피지수</th>\n",
       "    </tr>\n",
       "  </thead>\n",
       "  <tbody>\n",
       "    <tr>\n",
       "      <th>0</th>\n",
       "      <td>96.4</td>\n",
       "      <td>70.13</td>\n",
       "      <td>83.3</td>\n",
       "      <td>3.7</td>\n",
       "      <td>0.09</td>\n",
       "      <td>14.50</td>\n",
       "      <td>-37.03</td>\n",
       "      <td>25.50</td>\n",
       "      <td>4.06</td>\n",
       "      <td>4.97</td>\n",
       "      <td>5.01</td>\n",
       "      <td>0.47</td>\n",
       "      <td>0.60</td>\n",
       "      <td>0.43</td>\n",
       "      <td>0.92</td>\n",
       "      <td>726316</td>\n",
       "      <td>1.11</td>\n",
       "      <td>0.3</td>\n",
       "      <td>-2.3</td>\n",
       "      <td>2.6</td>\n",
       "      <td>1.6</td>\n",
       "      <td>-0.4</td>\n",
       "      <td>3.1</td>\n",
       "      <td>32.8</td>\n",
       "      <td>32.3</td>\n",
       "      <td>243.7</td>\n",
       "      <td>247.7</td>\n",
       "      <td>217.5</td>\n",
       "      <td>322.4</td>\n",
       "      <td>633.4</td>\n",
       "    </tr>\n",
       "    <tr>\n",
       "      <th>1</th>\n",
       "      <td>90.3</td>\n",
       "      <td>70.83</td>\n",
       "      <td>86.7</td>\n",
       "      <td>3.7</td>\n",
       "      <td>0.08</td>\n",
       "      <td>10.56</td>\n",
       "      <td>-9.67</td>\n",
       "      <td>20.83</td>\n",
       "      <td>4.24</td>\n",
       "      <td>4.83</td>\n",
       "      <td>4.88</td>\n",
       "      <td>0.73</td>\n",
       "      <td>0.85</td>\n",
       "      <td>0.42</td>\n",
       "      <td>0.85</td>\n",
       "      <td>529877</td>\n",
       "      <td>1.57</td>\n",
       "      <td>0.3</td>\n",
       "      <td>-2.3</td>\n",
       "      <td>-0.1</td>\n",
       "      <td>7.8</td>\n",
       "      <td>-0.4</td>\n",
       "      <td>4.0</td>\n",
       "      <td>33.3</td>\n",
       "      <td>32.3</td>\n",
       "      <td>247.6</td>\n",
       "      <td>255.7</td>\n",
       "      <td>247.3</td>\n",
       "      <td>326.4</td>\n",
       "      <td>669.9</td>\n",
       "    </tr>\n",
       "    <tr>\n",
       "      <th>2</th>\n",
       "      <td>91.4</td>\n",
       "      <td>70.57</td>\n",
       "      <td>86.7</td>\n",
       "      <td>3.8</td>\n",
       "      <td>0.06</td>\n",
       "      <td>14.83</td>\n",
       "      <td>0.93</td>\n",
       "      <td>26.98</td>\n",
       "      <td>4.60</td>\n",
       "      <td>4.43</td>\n",
       "      <td>4.49</td>\n",
       "      <td>0.88</td>\n",
       "      <td>0.83</td>\n",
       "      <td>0.38</td>\n",
       "      <td>0.80</td>\n",
       "      <td>581230</td>\n",
       "      <td>2.19</td>\n",
       "      <td>1.4</td>\n",
       "      <td>-3.3</td>\n",
       "      <td>-0.1</td>\n",
       "      <td>7.8</td>\n",
       "      <td>0.3</td>\n",
       "      <td>4.0</td>\n",
       "      <td>33.3</td>\n",
       "      <td>31.8</td>\n",
       "      <td>249.9</td>\n",
       "      <td>268.7</td>\n",
       "      <td>232.3</td>\n",
       "      <td>340.1</td>\n",
       "      <td>713.5</td>\n",
       "    </tr>\n",
       "    <tr>\n",
       "      <th>3</th>\n",
       "      <td>109.6</td>\n",
       "      <td>69.99</td>\n",
       "      <td>92.4</td>\n",
       "      <td>3.9</td>\n",
       "      <td>0.06</td>\n",
       "      <td>24.13</td>\n",
       "      <td>2.85</td>\n",
       "      <td>28.33</td>\n",
       "      <td>4.66</td>\n",
       "      <td>4.74</td>\n",
       "      <td>4.78</td>\n",
       "      <td>0.70</td>\n",
       "      <td>0.72</td>\n",
       "      <td>0.30</td>\n",
       "      <td>0.60</td>\n",
       "      <td>576348</td>\n",
       "      <td>2.86</td>\n",
       "      <td>1.4</td>\n",
       "      <td>-3.3</td>\n",
       "      <td>-0.1</td>\n",
       "      <td>7.8</td>\n",
       "      <td>0.3</td>\n",
       "      <td>4.0</td>\n",
       "      <td>33.3</td>\n",
       "      <td>31.8</td>\n",
       "      <td>255.3</td>\n",
       "      <td>283.3</td>\n",
       "      <td>256.6</td>\n",
       "      <td>364.1</td>\n",
       "      <td>759.5</td>\n",
       "    </tr>\n",
       "    <tr>\n",
       "      <th>4</th>\n",
       "      <td>110.3</td>\n",
       "      <td>69.70</td>\n",
       "      <td>64.1</td>\n",
       "      <td>3.8</td>\n",
       "      <td>0.08</td>\n",
       "      <td>25.49</td>\n",
       "      <td>14.34</td>\n",
       "      <td>25.35</td>\n",
       "      <td>4.51</td>\n",
       "      <td>5.21</td>\n",
       "      <td>5.26</td>\n",
       "      <td>1.05</td>\n",
       "      <td>0.99</td>\n",
       "      <td>0.38</td>\n",
       "      <td>0.67</td>\n",
       "      <td>549973</td>\n",
       "      <td>3.58</td>\n",
       "      <td>1.4</td>\n",
       "      <td>-3.3</td>\n",
       "      <td>2.0</td>\n",
       "      <td>10.9</td>\n",
       "      <td>0.3</td>\n",
       "      <td>3.3</td>\n",
       "      <td>34.7</td>\n",
       "      <td>31.8</td>\n",
       "      <td>262.6</td>\n",
       "      <td>292.7</td>\n",
       "      <td>262.0</td>\n",
       "      <td>368.3</td>\n",
       "      <td>697.5</td>\n",
       "    </tr>\n",
       "  </tbody>\n",
       "</table>\n",
       "</div>"
      ],
      "text/plain": [
       "   전경련BSI  주택매매가격  건설BSI(전망)  ...  Reuter CRB(EW)산업지수  Reuter CRB(EW)귀금속지수  코스피지수\n",
       "0    96.4   70.13       83.3  ...               217.5                322.4  633.4\n",
       "1    90.3   70.83       86.7  ...               247.3                326.4  669.9\n",
       "2    91.4   70.57       86.7  ...               232.3                340.1  713.5\n",
       "3   109.6   69.99       92.4  ...               256.6                364.1  759.5\n",
       "4   110.3   69.70       64.1  ...               262.0                368.3  697.5\n",
       "\n",
       "[5 rows x 30 columns]"
      ]
     },
     "execution_count": 82,
     "metadata": {},
     "output_type": "execute_result"
    }
   ],
   "source": [
    "kospi = pd.read_csv('./data/kospi.csv', encoding='cp949')\n",
    "kospi.head()"
   ]
  },
  {
   "cell_type": "markdown",
   "metadata": {},
   "source": [
    "## test_size=0.3, random_state=42\n",
    "## RMSE 기준 소수점 네자리 가장 작은 스코어를 만들어 내시면 됩니다."
   ]
  },
  {
   "cell_type": "code",
   "execution_count": 100,
   "metadata": {
    "ExecuteTime": {
     "end_time": "2023-10-26T02:19:17.077462Z",
     "start_time": "2023-10-26T02:19:17.067458Z"
    }
   },
   "outputs": [
    {
     "data": {
      "text/plain": [
       "1559.0"
      ]
     },
     "execution_count": 100,
     "metadata": {},
     "output_type": "execute_result"
    }
   ],
   "source": [
    "y.max() - y.min()"
   ]
  },
  {
   "cell_type": "code",
   "execution_count": 98,
   "metadata": {
    "ExecuteTime": {
     "end_time": "2023-10-26T02:18:53.375138Z",
     "start_time": "2023-10-26T02:18:53.366810Z"
    }
   },
   "outputs": [
    {
     "data": {
      "text/plain": [
       "2192.4"
      ]
     },
     "execution_count": 98,
     "metadata": {},
     "output_type": "execute_result"
    }
   ],
   "source": [
    "y.max()"
   ]
  },
  {
   "cell_type": "code",
   "execution_count": 101,
   "metadata": {
    "ExecuteTime": {
     "end_time": "2023-10-26T02:20:36.751216Z",
     "start_time": "2023-10-26T02:20:29.863946Z"
    }
   },
   "outputs": [
    {
     "data": {
      "text/html": [
       "<style>#sk-container-id-7 {color: black;}#sk-container-id-7 pre{padding: 0;}#sk-container-id-7 div.sk-toggleable {background-color: white;}#sk-container-id-7 label.sk-toggleable__label {cursor: pointer;display: block;width: 100%;margin-bottom: 0;padding: 0.3em;box-sizing: border-box;text-align: center;}#sk-container-id-7 label.sk-toggleable__label-arrow:before {content: \"▸\";float: left;margin-right: 0.25em;color: #696969;}#sk-container-id-7 label.sk-toggleable__label-arrow:hover:before {color: black;}#sk-container-id-7 div.sk-estimator:hover label.sk-toggleable__label-arrow:before {color: black;}#sk-container-id-7 div.sk-toggleable__content {max-height: 0;max-width: 0;overflow: hidden;text-align: left;background-color: #f0f8ff;}#sk-container-id-7 div.sk-toggleable__content pre {margin: 0.2em;color: black;border-radius: 0.25em;background-color: #f0f8ff;}#sk-container-id-7 input.sk-toggleable__control:checked~div.sk-toggleable__content {max-height: 200px;max-width: 100%;overflow: auto;}#sk-container-id-7 input.sk-toggleable__control:checked~label.sk-toggleable__label-arrow:before {content: \"▾\";}#sk-container-id-7 div.sk-estimator input.sk-toggleable__control:checked~label.sk-toggleable__label {background-color: #d4ebff;}#sk-container-id-7 div.sk-label input.sk-toggleable__control:checked~label.sk-toggleable__label {background-color: #d4ebff;}#sk-container-id-7 input.sk-hidden--visually {border: 0;clip: rect(1px 1px 1px 1px);clip: rect(1px, 1px, 1px, 1px);height: 1px;margin: -1px;overflow: hidden;padding: 0;position: absolute;width: 1px;}#sk-container-id-7 div.sk-estimator {font-family: monospace;background-color: #f0f8ff;border: 1px dotted black;border-radius: 0.25em;box-sizing: border-box;margin-bottom: 0.5em;}#sk-container-id-7 div.sk-estimator:hover {background-color: #d4ebff;}#sk-container-id-7 div.sk-parallel-item::after {content: \"\";width: 100%;border-bottom: 1px solid gray;flex-grow: 1;}#sk-container-id-7 div.sk-label:hover label.sk-toggleable__label {background-color: #d4ebff;}#sk-container-id-7 div.sk-serial::before {content: \"\";position: absolute;border-left: 1px solid gray;box-sizing: border-box;top: 0;bottom: 0;left: 50%;z-index: 0;}#sk-container-id-7 div.sk-serial {display: flex;flex-direction: column;align-items: center;background-color: white;padding-right: 0.2em;padding-left: 0.2em;position: relative;}#sk-container-id-7 div.sk-item {position: relative;z-index: 1;}#sk-container-id-7 div.sk-parallel {display: flex;align-items: stretch;justify-content: center;background-color: white;position: relative;}#sk-container-id-7 div.sk-item::before, #sk-container-id-7 div.sk-parallel-item::before {content: \"\";position: absolute;border-left: 1px solid gray;box-sizing: border-box;top: 0;bottom: 0;left: 50%;z-index: -1;}#sk-container-id-7 div.sk-parallel-item {display: flex;flex-direction: column;z-index: 1;position: relative;background-color: white;}#sk-container-id-7 div.sk-parallel-item:first-child::after {align-self: flex-end;width: 50%;}#sk-container-id-7 div.sk-parallel-item:last-child::after {align-self: flex-start;width: 50%;}#sk-container-id-7 div.sk-parallel-item:only-child::after {width: 0;}#sk-container-id-7 div.sk-dashed-wrapped {border: 1px dashed gray;margin: 0 0.4em 0.5em 0.4em;box-sizing: border-box;padding-bottom: 0.4em;background-color: white;}#sk-container-id-7 div.sk-label label {font-family: monospace;font-weight: bold;display: inline-block;line-height: 1.2em;}#sk-container-id-7 div.sk-label-container {text-align: center;}#sk-container-id-7 div.sk-container {/* jupyter's `normalize.less` sets `[hidden] { display: none; }` but bootstrap.min.css set `[hidden] { display: none !important; }` so we also need the `!important` here to be able to override the default hidden behavior on the sphinx rendered scikit-learn.org. See: https://github.com/scikit-learn/scikit-learn/issues/21755 */display: inline-block !important;position: relative;}#sk-container-id-7 div.sk-text-repr-fallback {display: none;}</style><div id=\"sk-container-id-7\" class=\"sk-top-container\"><div class=\"sk-text-repr-fallback\"><pre>GridSearchCV(cv=5,\n",
       "             estimator=XGBRegressor(base_score=None, booster=None,\n",
       "                                    callbacks=None, colsample_bylevel=None,\n",
       "                                    colsample_bynode=None,\n",
       "                                    colsample_bytree=None, device=None,\n",
       "                                    early_stopping_rounds=None,\n",
       "                                    enable_categorical=False, eval_metric=None,\n",
       "                                    feature_types=None, gamma=None,\n",
       "                                    grow_policy=None, importance_type=None,\n",
       "                                    interaction_constraints=None,\n",
       "                                    learning_rate=None, m...\n",
       "                                    min_child_weight=None, missing=nan,\n",
       "                                    monotone_constraints=None,\n",
       "                                    multi_strategy=None, n_estimators=None,\n",
       "                                    n_jobs=None, num_parallel_tree=None,\n",
       "                                    random_state=42, ...),\n",
       "             n_jobs=-1,\n",
       "             param_grid={&#x27;colsample_bytree&#x27;: [0.7, 0.8, 0.9],\n",
       "                         &#x27;learning_rate&#x27;: [0.01, 0.03],\n",
       "                         &#x27;max_depth&#x27;: [15, 17, 19, 21],\n",
       "                         &#x27;n_estimators&#x27;: [50, 70, 100, 200],\n",
       "                         &#x27;subsample&#x27;: [0.7, 0.8, 0.9]},\n",
       "             scoring=&#x27;neg_root_mean_squared_error&#x27;)</pre><b>In a Jupyter environment, please rerun this cell to show the HTML representation or trust the notebook. <br />On GitHub, the HTML representation is unable to render, please try loading this page with nbviewer.org.</b></div><div class=\"sk-container\" hidden><div class=\"sk-item sk-dashed-wrapped\"><div class=\"sk-label-container\"><div class=\"sk-label sk-toggleable\"><input class=\"sk-toggleable__control sk-hidden--visually\" id=\"sk-estimator-id-19\" type=\"checkbox\" ><label for=\"sk-estimator-id-19\" class=\"sk-toggleable__label sk-toggleable__label-arrow\">GridSearchCV</label><div class=\"sk-toggleable__content\"><pre>GridSearchCV(cv=5,\n",
       "             estimator=XGBRegressor(base_score=None, booster=None,\n",
       "                                    callbacks=None, colsample_bylevel=None,\n",
       "                                    colsample_bynode=None,\n",
       "                                    colsample_bytree=None, device=None,\n",
       "                                    early_stopping_rounds=None,\n",
       "                                    enable_categorical=False, eval_metric=None,\n",
       "                                    feature_types=None, gamma=None,\n",
       "                                    grow_policy=None, importance_type=None,\n",
       "                                    interaction_constraints=None,\n",
       "                                    learning_rate=None, m...\n",
       "                                    min_child_weight=None, missing=nan,\n",
       "                                    monotone_constraints=None,\n",
       "                                    multi_strategy=None, n_estimators=None,\n",
       "                                    n_jobs=None, num_parallel_tree=None,\n",
       "                                    random_state=42, ...),\n",
       "             n_jobs=-1,\n",
       "             param_grid={&#x27;colsample_bytree&#x27;: [0.7, 0.8, 0.9],\n",
       "                         &#x27;learning_rate&#x27;: [0.01, 0.03],\n",
       "                         &#x27;max_depth&#x27;: [15, 17, 19, 21],\n",
       "                         &#x27;n_estimators&#x27;: [50, 70, 100, 200],\n",
       "                         &#x27;subsample&#x27;: [0.7, 0.8, 0.9]},\n",
       "             scoring=&#x27;neg_root_mean_squared_error&#x27;)</pre></div></div></div><div class=\"sk-parallel\"><div class=\"sk-parallel-item\"><div class=\"sk-item\"><div class=\"sk-label-container\"><div class=\"sk-label sk-toggleable\"><input class=\"sk-toggleable__control sk-hidden--visually\" id=\"sk-estimator-id-20\" type=\"checkbox\" ><label for=\"sk-estimator-id-20\" class=\"sk-toggleable__label sk-toggleable__label-arrow\">estimator: XGBRegressor</label><div class=\"sk-toggleable__content\"><pre>XGBRegressor(base_score=None, booster=None, callbacks=None,\n",
       "             colsample_bylevel=None, colsample_bynode=None,\n",
       "             colsample_bytree=None, device=None, early_stopping_rounds=None,\n",
       "             enable_categorical=False, eval_metric=None, feature_types=None,\n",
       "             gamma=None, grow_policy=None, importance_type=None,\n",
       "             interaction_constraints=None, learning_rate=None, max_bin=None,\n",
       "             max_cat_threshold=None, max_cat_to_onehot=None,\n",
       "             max_delta_step=None, max_depth=None, max_leaves=None,\n",
       "             min_child_weight=None, missing=nan, monotone_constraints=None,\n",
       "             multi_strategy=None, n_estimators=None, n_jobs=None,\n",
       "             num_parallel_tree=None, random_state=42, ...)</pre></div></div></div><div class=\"sk-serial\"><div class=\"sk-item\"><div class=\"sk-estimator sk-toggleable\"><input class=\"sk-toggleable__control sk-hidden--visually\" id=\"sk-estimator-id-21\" type=\"checkbox\" ><label for=\"sk-estimator-id-21\" class=\"sk-toggleable__label sk-toggleable__label-arrow\">XGBRegressor</label><div class=\"sk-toggleable__content\"><pre>XGBRegressor(base_score=None, booster=None, callbacks=None,\n",
       "             colsample_bylevel=None, colsample_bynode=None,\n",
       "             colsample_bytree=None, device=None, early_stopping_rounds=None,\n",
       "             enable_categorical=False, eval_metric=None, feature_types=None,\n",
       "             gamma=None, grow_policy=None, importance_type=None,\n",
       "             interaction_constraints=None, learning_rate=None, max_bin=None,\n",
       "             max_cat_threshold=None, max_cat_to_onehot=None,\n",
       "             max_delta_step=None, max_depth=None, max_leaves=None,\n",
       "             min_child_weight=None, missing=nan, monotone_constraints=None,\n",
       "             multi_strategy=None, n_estimators=None, n_jobs=None,\n",
       "             num_parallel_tree=None, random_state=42, ...)</pre></div></div></div></div></div></div></div></div></div></div>"
      ],
      "text/plain": [
       "GridSearchCV(cv=5,\n",
       "             estimator=XGBRegressor(base_score=None, booster=None,\n",
       "                                    callbacks=None, colsample_bylevel=None,\n",
       "                                    colsample_bynode=None,\n",
       "                                    colsample_bytree=None, device=None,\n",
       "                                    early_stopping_rounds=None,\n",
       "                                    enable_categorical=False, eval_metric=None,\n",
       "                                    feature_types=None, gamma=None,\n",
       "                                    grow_policy=None, importance_type=None,\n",
       "                                    interaction_constraints=None,\n",
       "                                    learning_rate=None, m...\n",
       "                                    min_child_weight=None, missing=nan,\n",
       "                                    monotone_constraints=None,\n",
       "                                    multi_strategy=None, n_estimators=None,\n",
       "                                    n_jobs=None, num_parallel_tree=None,\n",
       "                                    random_state=42, ...),\n",
       "             n_jobs=-1,\n",
       "             param_grid={'colsample_bytree': [0.7, 0.8, 0.9],\n",
       "                         'learning_rate': [0.01, 0.03],\n",
       "                         'max_depth': [15, 17, 19, 21],\n",
       "                         'n_estimators': [50, 70, 100, 200],\n",
       "                         'subsample': [0.7, 0.8, 0.9]},\n",
       "             scoring='neg_root_mean_squared_error')"
      ]
     },
     "execution_count": 101,
     "metadata": {},
     "output_type": "execute_result"
    }
   ],
   "source": [
    "y = kospi['코스피지수']\n",
    "X = kospi.drop('코스피지수', axis=1)\n",
    "from sklearn.preprocessing import MinMaxScaler\n",
    "y\n",
    "scaler = MinMaxScaler()\n",
    "scaled_X = scaler.fit_transform(X)\n",
    "scaled_y = y - y.min() / (y.max() - y.min()) \n",
    "X_train, X_test, y_train, y_test = train_test_split(scaled_X, scaled_y, test_size=0.3, random_state=42)\n",
    "params = {\n",
    "'max_depth' : [15,17,19,21],\n",
    "'n_estimators' : [50,70,100,200],\n",
    "'learning_rate' : [0.01, 0.03],\n",
    "'subsample' : [0.7,0.8,0.9],\n",
    "'colsample_bytree' : [0.7,0.8,0.9]\n",
    "}\n",
    "model = XGBRegressor(random_state=42)\n",
    "grid = GridSearchCV(estimator=model, param_grid=params, scoring='neg_root_mean_squared_error', n_jobs=-1, cv=5)\n",
    "grid.fit(X_train, y_train)"
   ]
  },
  {
   "cell_type": "code",
   "execution_count": 102,
   "metadata": {
    "ExecuteTime": {
     "end_time": "2023-10-26T02:20:40.954188Z",
     "start_time": "2023-10-26T02:20:40.942366Z"
    }
   },
   "outputs": [
    {
     "name": "stdout",
     "output_type": "stream",
     "text": [
      "0.9469857510440162\n",
      "103.80369117974232\n"
     ]
    }
   ],
   "source": [
    "grid_pred = grid.predict(X_test)\n",
    "print(r2_score(y_test, grid_pred))\n",
    "print(mean_squared_error(y_test, grid_pred, squared=False))"
   ]
  },
  {
   "cell_type": "code",
   "execution_count": null,
   "metadata": {},
   "outputs": [],
   "source": []
  }
 ],
 "metadata": {
  "kernelspec": {
   "display_name": "Python 3 (ipykernel)",
   "language": "python",
   "name": "python3"
  },
  "language_info": {
   "codemirror_mode": {
    "name": "ipython",
    "version": 3
   },
   "file_extension": ".py",
   "mimetype": "text/x-python",
   "name": "python",
   "nbconvert_exporter": "python",
   "pygments_lexer": "ipython3",
   "version": "3.11.4"
  },
  "toc": {
   "base_numbering": 1,
   "nav_menu": {},
   "number_sections": true,
   "sideBar": true,
   "skip_h1_title": true,
   "title_cell": "Table of Contents",
   "title_sidebar": "Contents",
   "toc_cell": false,
   "toc_position": {},
   "toc_section_display": true,
   "toc_window_display": false
  },
  "varInspector": {
   "cols": {
    "lenName": 16,
    "lenType": 16,
    "lenVar": 40
   },
   "kernels_config": {
    "python": {
     "delete_cmd_postfix": "",
     "delete_cmd_prefix": "del ",
     "library": "var_list.py",
     "varRefreshCmd": "print(var_dic_list())"
    },
    "r": {
     "delete_cmd_postfix": ") ",
     "delete_cmd_prefix": "rm(",
     "library": "var_list.r",
     "varRefreshCmd": "cat(var_dic_list()) "
    }
   },
   "types_to_exclude": [
    "module",
    "function",
    "builtin_function_or_method",
    "instance",
    "_Feature"
   ],
   "window_display": false
  }
 },
 "nbformat": 4,
 "nbformat_minor": 2
}
