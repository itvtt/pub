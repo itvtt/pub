{
 "cells": [
  {
   "cell_type": "code",
   "execution_count": 6,
   "metadata": {},
   "outputs": [
    {
     "name": "stdout",
     "output_type": "stream",
     "text": [
      "item        time      foup          id  al  ca  da  fa  ha  kz  ra  sa  va  za\n",
      "0     2023-07-06  gywf1011  aadsfsf.01   1   2   0   0   0   3   4   0   3   1\n"
     ]
    }
   ],
   "source": [
    "\n",
    "import pandas as pd\n",
    "\n",
    "# CSV 파일 경로\n",
    "csv_file = \"c:/icpms.csv\"\n",
    "\n",
    "\n",
    "\n",
    "# CSV 파일 읽기\n",
    "df = pd.read_csv(csv_file)\n",
    "\n",
    "# 필요한 열만 선택하여 데이터프레임 생성\n",
    "df_selected = df[[\"time\", \"foup\", \"id\", \"item\", \"value\"]]\n",
    "\n",
    "# 데이터프레임 재구성\n",
    "df_pivot = df_selected.pivot(index=[\"time\", \"foup\", \"id\"], columns=\"item\", values=\"value\").reset_index()\n",
    "\n",
    "# 결과 출력\n",
    "print(df_pivot)\n",
    "\n",
    "df_pivot.to_csv(\"c:/icpms4.csv\",index=False)\n"
   ]
  },
  {
   "cell_type": "code",
   "execution_count": 11,
   "metadata": {},
   "outputs": [],
   "source": [
    "import pandas as pd\n",
    "import tkinter as tk\n",
    "from tkinter import messagebox, filedialog\n",
    "\n",
    "# CSV 파일 경로\n",
    "csv_file = \"c:/icpms.csv\"\n",
    "\n",
    "\n",
    "# CSV 파일 읽기\n",
    "df = pd.read_csv(csv_file)\n",
    "\n",
    "# 필요한 열만 선택하여 데이터프레임 생성\n",
    "df_selected = df[[\"time\", \"foup\", \"id\", \"item\", \"value\"]]\n",
    "\n",
    "# 데이터프레임 재구성\n",
    "df_pivot = df_selected.pivot(index=[\"time\", \"foup\", \"id\"], columns=\"item\", values=\"value\").reset_index()\n",
    "\n",
    "# 결과 파일 경로\n",
    "result_file = \"result.txt\"\n",
    "\n",
    "# 결과 저장\n",
    "df_pivot.to_csv(result_file, index=False)\n",
    "\n",
    "# 팝업 창 생성 및 결과 파일 열기\n",
    "root = tk.Tk()\n",
    "root.withdraw()\n",
    "messagebox.showinfo(\"결과\", \"결과가 저장되었습니다. 파일을 확인하세요.\")\n",
    "file_path = filedialog.askopenfilename(initialdir=\"./\", title=\"결과 파일 열기\", filetypes=((\"텍스트 파일\", \"*.txt\"), (\"모든 파일\", \"*.*\")))\n",
    "if file_path:\n",
    "    with open(file_path, \"r\") as file:\n",
    "        content = file.read()\n",
    "        messagebox.showinfo(\"결과 파일 내용\", content)\n"
   ]
  }
 ],
 "metadata": {
  "kernelspec": {
   "display_name": "Python 3",
   "language": "python",
   "name": "python3"
  },
  "language_info": {
   "codemirror_mode": {
    "name": "ipython",
    "version": 3
   },
   "file_extension": ".py",
   "mimetype": "text/x-python",
   "name": "python",
   "nbconvert_exporter": "python",
   "pygments_lexer": "ipython3",
   "version": "3.10.9"
  },
  "orig_nbformat": 4
 },
 "nbformat": 4,
 "nbformat_minor": 2
}
