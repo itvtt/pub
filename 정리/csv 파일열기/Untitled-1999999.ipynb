{
 "cells": [
  {
   "cell_type": "code",
   "execution_count": null,
   "metadata": {},
   "outputs": [],
   "source": [
    "# CSV 파일 열기\n",
    "with open('파일이름.csv', 'r') as csvfile:\n",
    "    # 파일의 각 줄을 읽어와서 처리\n",
    "    for line in csvfile:\n",
    "        # 줄을 쉼표로 분리하여 리스트로 만듦\n",
    "        values = line.strip().split(',')\n",
    "        \n",
    "        # 리스트에 '2020202020'이 포함되어 있는지 확인\n",
    "        if '2020202020' in values:\n",
    "            print('match')\n"
   ]
  }
 ],
 "metadata": {
  "language_info": {
   "name": "python"
  },
  "orig_nbformat": 4
 },
 "nbformat": 4,
 "nbformat_minor": 2
}
