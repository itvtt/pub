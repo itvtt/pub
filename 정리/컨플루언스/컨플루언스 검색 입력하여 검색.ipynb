{
 "cells": [
  {
   "cell_type": "code",
   "execution_count": 1,
   "metadata": {},
   "outputs": [],
   "source": [
    "from atlassian import Confluence\n",
    "import requests\n",
    "import tkinter as tk\n",
    "import webbrowser\n",
    "import pyautogui\n",
    "\n",
    "\n",
    "a=\"https://dalmong.atlassian.net/wiki\"\n",
    "schtem = pyautogui.prompt('내용을 입력하시오')+\"*\"\n",
    "\n",
    "\n",
    "confluence = Confluence(\n",
    "    url='https://dalmong.atlassian.net/wiki',\n",
    "    username='vreal00000@gmail.com',\n",
    "    password='ATATT3xFfGF05GJ2zvJi3Mev6BR4BcbDYcGhc-GMQnGKhwnnhpjXdPu40imIy-z-HOUfRqRfqRMOKmvuaAzCQn8iD8EUg_Mu3D6Q6cKs3dcwzt2FthoCtIksfbyYpp0yabEBoznaU2_z6Yq-uwf_9ZVI6rK-cakNLJQwfmJwJn43cf3bvpDput8=50FD1D7A')\n",
    "\n",
    "search_term = schtem\n",
    "\n",
    "# 검색 API 호출\n",
    "url = f\"{confluence.url}/rest/api/content/search?cql=text~'{search_term}'\"\n",
    "response = requests.get(url, auth=(confluence.username, confluence.password))\n",
    "\n",
    "# 팝업 창 생성\n",
    "root = tk.Tk()\n",
    "root.withdraw()\n",
    "\n",
    "# 검색 결과 출력\n",
    "result = tk.Toplevel(root)\n",
    "result.title(\"Search Result\")\n",
    "\n",
    "\n",
    "# 검색 결과를 리스트 박스에 출력\n",
    "pages_list = tk.Listbox(result, width=100, height=50)\n",
    "for item in response.json().get('results', []):\n",
    "    page_title = item['title']\n",
    "    page_url = item['_links']['webui']\n",
    "    pages_list.insert(tk.END, page_title)\n",
    "\n",
    "pages_list.pack(side=\"right\")\n",
    "\n",
    "# 리스트 박스에서 선택한 페이지 링크 연결\n",
    "def open_page(event):\n",
    "    selection = pages_list.curselection()\n",
    "    if selection:\n",
    "        index = selection[0]\n",
    "        item = response.json()['results'][index]\n",
    "        page_url = item['_links']['webui']\n",
    "        webbrowser.open(a+page_url)\n",
    "\n",
    "pages_list.bind('<Double-Button-1>', open_page)\n",
    "\n",
    "\n",
    "# 팝업창 유지\n",
    "result.mainloop()"
   ]
  }
 ],
 "metadata": {
  "kernelspec": {
   "display_name": "Python 3",
   "language": "python",
   "name": "python3"
  },
  "language_info": {
   "codemirror_mode": {
    "name": "ipython",
    "version": 3
   },
   "file_extension": ".py",
   "mimetype": "text/x-python",
   "name": "python",
   "nbconvert_exporter": "python",
   "pygments_lexer": "ipython3",
   "version": "3.10.9"
  },
  "orig_nbformat": 4
 },
 "nbformat": 4,
 "nbformat_minor": 2
}
