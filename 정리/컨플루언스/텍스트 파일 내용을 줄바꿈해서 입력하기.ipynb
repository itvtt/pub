{
 "cells": [
  {
   "cell_type": "code",
   "execution_count": 8,
   "metadata": {},
   "outputs": [
    {
     "name": "stdout",
     "output_type": "stream",
     "text": [
      "{'id': '1900558', 'type': 'page', 'status': 'current', 'title': 'ssfae', 'space': {'id': 98421, 'key': 'dpndpn', 'name': 'dpndpn', 'type': 'global', 'status': 'current', '_expandable': {'settings': '/rest/api/space/dpndpn/settings', 'metadata': '', 'operations': '', 'lookAndFeel': '/rest/api/settings/lookandfeel?spaceKey=dpndpn', 'identifiers': '', 'permissions': '', 'icon': '', 'description': '', 'theme': '/rest/api/space/dpndpn/theme', 'history': '', 'homepage': '/rest/api/content/98482'}, '_links': {'webui': '/spaces/dpndpn', 'self': 'https://dalmong.atlassian.net/wiki/rest/api/space/dpndpn'}}, 'history': {'latest': True, 'createdBy': {'type': 'known', 'accountId': '6407d36d81de11a1adfc39f9', 'accountType': 'atlassian', 'email': 'vreal00000@gmail.com', 'publicName': 'jason', 'profilePicture': {'path': '/wiki/aa-avatar/6407d36d81de11a1adfc39f9', 'width': 48, 'height': 48, 'isDefault': False}, 'displayName': 'jason', 'isExternalCollaborator': False, '_expandable': {'operations': '', 'personalSpace': ''}, '_links': {'self': 'https://dalmong.atlassian.net/wiki/rest/api/user?accountId=6407d36d81de11a1adfc39f9'}}, 'createdDate': '2023-03-11T14:00:10.205Z', '_expandable': {'lastUpdated': '', 'previousVersion': '', 'contributors': '', 'nextVersion': '', 'ownedBy': ''}, '_links': {'self': 'https://dalmong.atlassian.net/wiki/rest/api/content/1900558/history'}}, 'version': {'by': {'type': 'known', 'accountId': '6407d36d81de11a1adfc39f9', 'accountType': 'atlassian', 'email': 'vreal00000@gmail.com', 'publicName': 'jason', 'profilePicture': {'path': '/wiki/aa-avatar/6407d36d81de11a1adfc39f9', 'width': 48, 'height': 48, 'isDefault': False}, 'displayName': 'jason', 'isExternalCollaborator': False, '_expandable': {'operations': '', 'personalSpace': ''}, '_links': {'self': 'https://dalmong.atlassian.net/wiki/rest/api/user?accountId=6407d36d81de11a1adfc39f9'}}, 'when': '2023-03-11T14:00:10.205Z', 'friendlyWhen': '조금 전', 'message': '', 'number': 1, 'minorEdit': False, 'confRev': 'confluence$content$1900558.2', 'contentTypeModified': False, '_expandable': {'collaborators': '', 'content': '/rest/api/content/1900558'}, '_links': {'self': 'https://dalmong.atlassian.net/wiki/rest/api/content/1900558/version/1'}}, 'ancestors': [{'id': '98482', 'type': 'page', 'status': 'current', 'title': 'dpndpn Home', 'macroRenderedOutput': {}, 'extensions': {'position': 705}, '_expandable': {'container': '/rest/api/space/dpndpn', 'metadata': '', 'restrictions': '/rest/api/content/98482/restriction/byOperation', 'history': '/rest/api/content/98482/history', 'body': '', 'version': '', 'descendants': '/rest/api/content/98482/descendant', 'space': '/rest/api/space/dpndpn', 'childTypes': '', 'schedulePublishInfo': '', 'operations': '', 'schedulePublishDate': '', 'children': '/rest/api/content/98482/child', 'ancestors': ''}, '_links': {'self': 'https://dalmong.atlassian.net/wiki/rest/api/content/98482', 'tinyui': '/x/soAB', 'editui': '/pages/resumedraft.action?draftId=98482', 'webui': '/spaces/dpndpn/overview'}}, {'id': '950273', 'type': 'page', 'status': 'current', 'title': 'parent', 'macroRenderedOutput': {}, 'extensions': {'position': 1622}, '_expandable': {'container': '/rest/api/space/dpndpn', 'metadata': '', 'restrictions': '/rest/api/content/950273/restriction/byOperation', 'history': '/rest/api/content/950273/history', 'body': '', 'version': '', 'descendants': '/rest/api/content/950273/descendant', 'space': '/rest/api/space/dpndpn', 'childTypes': '', 'schedulePublishInfo': '', 'operations': '', 'schedulePublishDate': '', 'children': '/rest/api/content/950273/child', 'ancestors': ''}, '_links': {'self': 'https://dalmong.atlassian.net/wiki/rest/api/content/950273', 'tinyui': '/x/AYAO', 'editui': '/pages/resumedraft.action?draftId=950273', 'webui': '/spaces/dpndpn/pages/950273/parent'}}], 'container': {'id': 98421, 'key': 'dpndpn', 'name': 'dpndpn', 'type': 'global', 'status': 'current', 'history': {'createdBy': {'type': 'known', 'accountId': '6407d36d81de11a1adfc39f9', 'accountType': 'atlassian', 'email': 'vreal00000@gmail.com', 'publicName': 'jason', 'profilePicture': {'path': '/wiki/aa-avatar/6407d36d81de11a1adfc39f9', 'width': 48, 'height': 48, 'isDefault': False}, 'displayName': 'jason', 'isExternalCollaborator': False, '_expandable': {'operations': '', 'personalSpace': ''}, '_links': {'self': 'https://dalmong.atlassian.net/wiki/rest/api/user?accountId=6407d36d81de11a1adfc39f9'}}, 'createdDate': '2023-03-08T00:53:03.913Z'}, '_expandable': {'settings': '/rest/api/space/dpndpn/settings', 'metadata': '', 'operations': '', 'lookAndFeel': '/rest/api/settings/lookandfeel?spaceKey=dpndpn', 'identifiers': '', 'permissions': '', 'icon': '', 'description': '', 'theme': '/rest/api/space/dpndpn/theme', 'homepage': '/rest/api/content/98482'}, '_links': {'webui': '/spaces/dpndpn', 'self': 'https://dalmong.atlassian.net/wiki/rest/api/space/dpndpn'}}, 'macroRenderedOutput': {}, 'body': {'storage': {'value': '[MAIN]\\nFormMain.Maximized=0\\nFormMain.Left=312\\nFormMain.Top=235\\nFormMain.Width=399\\nFormMain.Height=505\\nLanguageFile=\\nchPermanent=1\\nrbCurrentUser=0\\nrbAllUsers=1\\n\\n[MAIN]\\nFormMain.Maximized=0\\nFormMain.Left=312\\nFormMain.Top=235\\nFormMain.Width=399\\nFormMain.Height=505\\nLanguageFile=\\nchPermanent=1\\nrbCurrentUser=0\\nrbAllUsers=1\\n\\n[MAIN]\\nFormMain.Maximized=0\\nFormMain.Left=312\\nFormMain.Top=235\\nFormMain.Width=399\\nFormMain.Height=505\\nLanguageFile=\\nchPermanent=1\\nrbCurrentUser=0\\nrbAllUsers=1\\n\\n[MAIN]\\nFormMain.Maximized=0\\nFormMain.Left=312\\nFormMain.Top=235\\nFormMain.Width=399\\nFormMain.Height=505\\nLanguageFile=\\nchPermanent=1\\nrbCurrentUser=0\\nrbAllUsers=1', 'representation': 'storage', 'embeddedContent': [], '_expandable': {'content': '/rest/api/content/1900558'}}, '_expandable': {'editor': '', 'atlas_doc_format': '', 'view': '', 'export_view': '', 'styled_view': '', 'dynamic': '', 'editor2': '', 'anonymous_export_view': ''}}, 'extensions': {'position': 4426}, '_expandable': {'childTypes': '', 'schedulePublishInfo': '', 'metadata': '', 'operations': '', 'schedulePublishDate': '', 'children': '/rest/api/content/1900558/child', 'restrictions': '/rest/api/content/1900558/restriction/byOperation', 'descendants': '/rest/api/content/1900558/descendant'}, '_links': {'editui': '/pages/resumedraft.action?draftId=1900558', 'webui': '/spaces/dpndpn/pages/1900558/ssfae', 'context': '/wiki', 'self': 'https://dalmong.atlassian.net/wiki/rest/api/content/1900558', 'tinyui': '/x/DgAd', 'collection': '/rest/api/content', 'base': 'https://dalmong.atlassian.net/wiki'}}\n"
     ]
    }
   ],
   "source": [
    "from atlassian import Confluence\n",
    "import pyautogui\n",
    "\n",
    "# 텍스트 파일로부터 본문 내용 읽기\n",
    "with open('D:/b.txt', 'r',encoding=\"utf-8\") as f:\n",
    "    bodyinput = f.read()\n",
    "\n",
    "titleinput = pyautogui.prompt('내용을 입력하시오')\n",
    "parent_id = '950273'\n",
    "\n",
    "confluence = Confluence(\n",
    "    url='https://dalmong.atlassian.net/wiki',\n",
    "    username='vreal00000@gmail.com',\n",
    "    password='ATATT3xFfGF05GJ2zvJi3Mev6BR4BcbDYcGhc-GMQnGKhwnnhpjXdPu40imIy-z-HOUfRqRfqRMOKmvuaAzCQn8iD8EUg_Mu3D6Q6cKs3dcwzt2FthoCtIksfbyYpp0yabEBoznaU2_z6Yq-uwf_9ZVI6rK-cakNLJQwfmJwJn43cf3bvpDput8=50FD1D7A')\n",
    "\n",
    "# 페이지 생성 요청\n",
    "status = confluence.create_page(\n",
    "    parent_id=parent_id,\n",
    "    body=f\"{bodyinput}\",\n",
    "    title=titleinput,\n",
    "    space='dpndpn'\n",
    ")\n",
    "\n",
    "print(status)\n"
   ]
  }
 ],
 "metadata": {
  "kernelspec": {
   "display_name": "Python 3",
   "language": "python",
   "name": "python3"
  },
  "language_info": {
   "codemirror_mode": {
    "name": "ipython",
    "version": 3
   },
   "file_extension": ".py",
   "mimetype": "text/x-python",
   "name": "python",
   "nbconvert_exporter": "python",
   "pygments_lexer": "ipython3",
   "version": "3.10.9"
  },
  "orig_nbformat": 4
 },
 "nbformat": 4,
 "nbformat_minor": 2
}
