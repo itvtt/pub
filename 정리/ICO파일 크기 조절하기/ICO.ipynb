{
 "cells": [
  {
   "cell_type": "code",
   "execution_count": 15,
   "metadata": {},
   "outputs": [
    {
     "name": "stdout",
     "output_type": "stream",
     "text": [
      "Resized and saved: re/32Phone Book.ico\n"
     ]
    },
    {
     "name": "stderr",
     "output_type": "stream",
     "text": [
      "C:\\Users\\itvtt\\AppData\\Local\\Temp\\ipykernel_7476\\3732533149.py:14: DeprecationWarning: ANTIALIAS is deprecated and will be removed in Pillow 10 (2023-07-01). Use LANCZOS or Resampling.LANCZOS instead.\n",
      "  img_resized = img.resize(size, Image.ANTIALIAS)\n"
     ]
    }
   ],
   "source": [
    "import os\n",
    "from PIL import Image\n",
    "\n",
    "def resize_ico_in_folder(folder_path, size=(32, 32)):\n",
    "    # 폴더 내의 모든 파일을 순회합니다.\n",
    "    for filename in os.listdir(folder_path):\n",
    "        if filename.lower().endswith(\".ico\"):  # .ico 파일인지 확인합니다.\n",
    "            # 파일의 전체 경로를 구성합니다.\n",
    "            file_path = os.path.join(folder_path, filename)\n",
    "            \n",
    "            # .ico 파일을 불러옵니다.\n",
    "            with Image.open(file_path) as img:\n",
    "                # 이미지 크기를 조정합니다.\n",
    "                img_resized = img.resize(size, Image.ANTIALIAS)\n",
    "                \n",
    "                # 조정된 이미지의 새로운 파일 경로를 생성합니다.\n",
    "                new_filename = f're/32{filename}'\n",
    "                output_path = os.path.join(folder_path, new_filename)\n",
    "                \n",
    "                # 조정된 이미지를 .ico 파일로 저장합니다.\n",
    "                img_resized.save(output_path, format='ICO')\n",
    "                \n",
    "                print(f'Resized and saved: {new_filename}')\n",
    "\n",
    "# 사용 예시:\n",
    "# 'path_to_your_folder'를 원하는 폴더 경로로 바꾸세요.\n",
    "resize_ico_in_folder('D:/icon', size=(32, 32))\n"
   ]
  }
 ],
 "metadata": {
  "kernelspec": {
   "display_name": "Python 3",
   "language": "python",
   "name": "python3"
  },
  "language_info": {
   "codemirror_mode": {
    "name": "ipython",
    "version": 3
   },
   "file_extension": ".py",
   "mimetype": "text/x-python",
   "name": "python",
   "nbconvert_exporter": "python",
   "pygments_lexer": "ipython3",
   "version": "3.10.9"
  }
 },
 "nbformat": 4,
 "nbformat_minor": 2
}
