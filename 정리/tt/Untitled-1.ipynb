{
 "cells": [
  {
   "cell_type": "code",
   "execution_count": null,
   "metadata": {},
   "outputs": [],
   "source": []
  },
  {
   "cell_type": "code",
   "execution_count": null,
   "metadata": {},
   "outputs": [],
   "source": []
  },
  {
   "cell_type": "code",
   "execution_count": 1,
   "metadata": {},
   "outputs": [],
   "source": [
    "import tkinter as tk\n",
    "from tkinter import messagebox\n",
    "\n",
    "def show_message():\n",
    "    messagebox.showinfo(\"안내\", \"안녕하세요!\")\n",
    "\n",
    "# 메인 창 생성\n",
    "root = tk.Tk()\n",
    "root.title(\"버튼 예제\")\n",
    "\n",
    "# 버튼 생성\n",
    "button = tk.Button(root, text=\"클릭하세요\", command=show_message)\n",
    "\n",
    "# 버튼 배치\n",
    "button.pack(pady=20)\n",
    "\n",
    "# 이벤트 루프 시작\n",
    "root.mainloop()\n"
   ]
  }
 ],
 "metadata": {
  "kernelspec": {
   "display_name": "Python 3",
   "language": "python",
   "name": "python3"
  },
  "language_info": {
   "codemirror_mode": {
    "name": "ipython",
    "version": 3
   },
   "file_extension": ".py",
   "mimetype": "text/x-python",
   "name": "python",
   "nbconvert_exporter": "python",
   "pygments_lexer": "ipython3",
   "version": "3.10.9"
  }
 },
 "nbformat": 4,
 "nbformat_minor": 2
}
