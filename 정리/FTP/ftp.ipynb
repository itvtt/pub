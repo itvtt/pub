{
 "cells": [
  {
   "cell_type": "code",
   "execution_count": 1,
   "metadata": {},
   "outputs": [
    {
     "name": "stdout",
     "output_type": "stream",
     "text": [
      "drwxrwxrwx   1 root     root        32768 Jan  1  1970 HDD1\n",
      "None\n",
      "FTP 접속 성공!\n"
     ]
    }
   ],
   "source": [
    "from ftplib import FTP\n",
    "\n",
    "# FTP 서버 설정\n",
    "ftp_server = 'itvtt.ipdisk.co.kr'\n",
    "ftp_port = 21  # 예를 들어, 다른 포트를 사용해야 한다면 여기에 해당 포트 번호를 입력하세요.\n",
    "ftp_user = 'itvtt'\n",
    "ftp_password = 'dmdm8520!'\n",
    "# FTP에 접속을 시도합니다.\n",
    "try:\n",
    "    # FTP 서버에 연결 (포트 지정)\n",
    "    with FTP() as ftp:\n",
    "        ftp.connect(host=ftp_server, port=ftp_port)\n",
    "\n",
    "        # 익명 로그인 시도\n",
    "        ftp.login(user=ftp_user, passwd=ftp_password)\n",
    "        \n",
    "        # 현재 디렉토리의 파일 목록을 가져와 출력\n",
    "        print(ftp.dir())\n",
    "        ftp.cwd('HDD1/ftp/')  # 디렉토리 변경\n",
    "        \n",
    "        # 정상적으로 연결되었는지 확인\n",
    "        print(\"FTP 접속 성공!\")\n",
    "        # 파일 전송 (업로드)\n",
    "        filename = './dr.jpeg'  # 전송할 파일 이름\n",
    "        with open(filename, 'rb') as file:  # 로컬 파일을 바이너리 읽기 모드로 오픈\n",
    "            ftp.storbinary(f'STOR {filename}', file)  # FTP 서버로 파일 전송\n",
    "\n",
    "        # 종료\n",
    "        ftp.quit()\n",
    "\n",
    "except Exception as e:\n",
    "    # FTP 접속 오류 처리\n",
    "    print(f\"FTP 접속 실패: {e}\")\n"
   ]
  }
 ],
 "metadata": {
  "kernelspec": {
   "display_name": "Python 3",
   "language": "python",
   "name": "python3"
  },
  "language_info": {
   "codemirror_mode": {
    "name": "ipython",
    "version": 3
   },
   "file_extension": ".py",
   "mimetype": "text/x-python",
   "name": "python",
   "nbconvert_exporter": "python",
   "pygments_lexer": "ipython3",
   "version": "3.10.9"
  }
 },
 "nbformat": 4,
 "nbformat_minor": 2
}
