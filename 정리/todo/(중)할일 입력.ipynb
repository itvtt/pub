{
 "cells": [
  {
   "cell_type": "code",
   "execution_count": 1,
   "metadata": {},
   "outputs": [
    {
     "ename": "NameError",
     "evalue": "name 'input_text' is not defined",
     "output_type": "error",
     "traceback": [
      "\u001b[1;31m---------------------------------------------------------------------------\u001b[0m",
      "\u001b[1;31mNameError\u001b[0m                                 Traceback (most recent call last)",
      "\u001b[1;32md:\\github\\pub\\old\\(중)할일 입력.ipynb 셀 1\u001b[0m line \u001b[0;36m1\n\u001b[0;32m     <a href='vscode-notebook-cell:/d%3A/github/pub/old/%28%EC%A4%91%29%ED%95%A0%EC%9D%BC%20%EC%9E%85%EB%A0%A5.ipynb#W0sZmlsZQ%3D%3D?line=10'>11</a>\u001b[0m var4 \u001b[39m=\u001b[39m tk\u001b[39m.\u001b[39mBooleanVar()\n\u001b[0;32m     <a href='vscode-notebook-cell:/d%3A/github/pub/old/%28%EC%A4%91%29%ED%95%A0%EC%9D%BC%20%EC%9E%85%EB%A0%A5.ipynb#W0sZmlsZQ%3D%3D?line=11'>12</a>\u001b[0m var5 \u001b[39m=\u001b[39m tk\u001b[39m.\u001b[39mBooleanVar()\n\u001b[1;32m---> <a href='vscode-notebook-cell:/d%3A/github/pub/old/%28%EC%A4%91%29%ED%95%A0%EC%9D%BC%20%EC%9E%85%EB%A0%A5.ipynb#W0sZmlsZQ%3D%3D?line=13'>14</a>\u001b[0m chk1 \u001b[39m=\u001b[39m tk\u001b[39m.\u001b[39mCheckbutton(root, text\u001b[39m=\u001b[39m\u001b[39m\"\u001b[39m\u001b[39m항목 1\u001b[39m\u001b[39m\"\u001b[39m, variable\u001b[39m=\u001b[39mvar1, command\u001b[39m=\u001b[39minput_text)\n\u001b[0;32m     <a href='vscode-notebook-cell:/d%3A/github/pub/old/%28%EC%A4%91%29%ED%95%A0%EC%9D%BC%20%EC%9E%85%EB%A0%A5.ipynb#W0sZmlsZQ%3D%3D?line=14'>15</a>\u001b[0m chk2 \u001b[39m=\u001b[39m tk\u001b[39m.\u001b[39mCheckbutton(root, text\u001b[39m=\u001b[39m\u001b[39m\"\u001b[39m\u001b[39m항목 2\u001b[39m\u001b[39m\"\u001b[39m, variable\u001b[39m=\u001b[39mvar2, command\u001b[39m=\u001b[39minput_text)\n\u001b[0;32m     <a href='vscode-notebook-cell:/d%3A/github/pub/old/%28%EC%A4%91%29%ED%95%A0%EC%9D%BC%20%EC%9E%85%EB%A0%A5.ipynb#W0sZmlsZQ%3D%3D?line=15'>16</a>\u001b[0m chk3 \u001b[39m=\u001b[39m tk\u001b[39m.\u001b[39mCheckbutton(root, text\u001b[39m=\u001b[39m\u001b[39m\"\u001b[39m\u001b[39m항목 3\u001b[39m\u001b[39m\"\u001b[39m, variable\u001b[39m=\u001b[39mvar3, command\u001b[39m=\u001b[39minput_text)\n",
      "\u001b[1;31mNameError\u001b[0m: name 'input_text' is not defined"
     ]
    }
   ],
   "source": [
    "import tkinter as tk\n",
    "from tkinter import messagebox\n",
    "import openpyxl\n",
    "\n",
    "root = tk.Tk()\n",
    "# sd\n",
    "# 체크박스 5개 생성\n",
    "var1 = tk.BooleanVar()\n",
    "var2 = tk.BooleanVar()\n",
    "var3 = tk.BooleanVar()\n",
    "var4 = tk.BooleanVar()\n",
    "var5 = tk.BooleanVar()\n",
    "\n",
    "chk1 = tk.Checkbutton(root, text=\"항목 1\", variable=var1, command=input_text)\n",
    "chk2 = tk.Checkbutton(root, text=\"항목 2\", variable=var2, command=input_text)\n",
    "chk3 = tk.Checkbutton(root, text=\"항목 3\", variable=var3, command=input_text)\n",
    "chk4 = tk.Checkbutton(root, text=\"항목 4\", variable=var4, command=input_text)\n",
    "chk5 = tk.Checkbutton(root, text=\"항목 5\", variable=var5, command=input_text)\n",
    "#aa\n",
    "chk1.pack()\n",
    "chk2.pack()\n",
    "chk3.pack()\n",
    "chk4.pack()\n",
    "chk5.pack()\n",
    "\n",
    "# 일괄 선택 버튼 생성\n",
    "def select_all():\n",
    "    pass\n",
    "\n",
    "btn_select_all = tk.Button(root, text=\"일괄 선택\", command=select_all)\n",
    "btn_select_all.pack()\n",
    "\n",
    "# 결과 저장 버튼 생성\n",
    "def save_result():\n",
    "    if var1.get() or var2.get() or var3.get() or var4.get() or var5.get():\n",
    "        wb = openpyxl.Workbook()\n",
    "        sheet = wb.active\n",
    "        sheet.title = \"Results\"\n",
    "        sheet[\"A1\"] = \"Result\"\n",
    "        for i, var in enumerate([var1, var2, var3, var4, var5]):\n",
    "            if var.get():\n",
    "                sheet.cell(row=2, column=i+2, value=input_box.get())\n",
    "        wb.save(\"results.xlsx\")\n",
    "        messagebox.showinfo(\"알림\", \"결과가 성공적으로 저장되었습니다.\")\n",
    "    else:\n",
    "        messagebox.showwarning(\"경고\", \"하나 이상의 항목을 선택해주세요.\")\n",
    "\n",
    "btn_save = tk.Button(root, text=\"결과 저장\", command=save_result)\n",
    "btn_save.pack()\n",
    "\n",
    "# 텍스트 입력을 받는 함수\n",
    "def input_text():\n",
    "    if var1.get() or var2.get() or var3.get() or var4.get() or var5.get():\n",
    "        text = input_box.get()\n",
    "        print(\"입력된 텍스트: \", text)\n",
    "\n",
    "# 텍스트 입력 박스 생성\n",
    "input_box = tk.Entry(root)\n",
    "input_box.pack()\n",
    "\n",
    "root.mainloop()\n"
   ]
  }
 ],
 "metadata": {
  "kernelspec": {
   "display_name": "Python 3",
   "language": "python",
   "name": "python3"
  },
  "language_info": {
   "codemirror_mode": {
    "name": "ipython",
    "version": 3
   },
   "file_extension": ".py",
   "mimetype": "text/x-python",
   "name": "python",
   "nbconvert_exporter": "python",
   "pygments_lexer": "ipython3",
   "version": "3.10.9"
  },
  "orig_nbformat": 4,
  "vscode": {
   "interpreter": {
    "hash": "37b3a10f0fe6aa0e5ff02142c615fd0f647ea8ba61207c0fb385157d79d8b27a"
   }
  }
 },
 "nbformat": 4,
 "nbformat_minor": 2
}
