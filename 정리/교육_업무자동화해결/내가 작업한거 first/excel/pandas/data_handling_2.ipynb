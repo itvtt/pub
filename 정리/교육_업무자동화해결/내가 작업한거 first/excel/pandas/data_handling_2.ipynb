{
 "cells": [
  {
   "cell_type": "code",
   "execution_count": 2,
   "id": "dae9112b",
   "metadata": {},
   "outputs": [],
   "source": [
    "import pandas as pd"
   ]
  },
  {
   "cell_type": "markdown",
   "id": "f9b6560e",
   "metadata": {},
   "source": [
    "### ### best_movies_on_netflix.xlsx 파일을 Rank 컬럼을 인덱스로 컬럼은 A:F까지 데이터프레임으로 가져오기"
   ]
  },
  {
   "cell_type": "code",
   "execution_count": 3,
   "id": "71e41792",
   "metadata": {},
   "outputs": [],
   "source": [
    "df = pd.read_excel('best_movies_on_netflix.xlsx', index_col='Rank', usecols='A:F')"
   ]
  },
  {
   "cell_type": "markdown",
   "id": "c9aaa062",
   "metadata": {},
   "source": [
    "### 원하는 컬럼들만 가져오기"
   ]
  },
  {
   "cell_type": "code",
   "execution_count": null,
   "id": "79edbc6c",
   "metadata": {},
   "outputs": [],
   "source": []
  },
  {
   "cell_type": "markdown",
   "id": "3bb79b41",
   "metadata": {},
   "source": [
    "### 컬럼을 정수로 다루기"
   ]
  },
  {
   "cell_type": "markdown",
   "id": "8622f35c",
   "metadata": {},
   "source": [
    "### 원하는 행들만 가져오기"
   ]
  },
  {
   "cell_type": "markdown",
   "id": "3e49d4be",
   "metadata": {},
   "source": [
    "##### 개봉연도가 2020년 이후"
   ]
  },
  {
   "cell_type": "markdown",
   "id": "04d2e19d",
   "metadata": {},
   "source": [
    "##### 개봉 연도가 2019년 이후이면서 점수가 95점 이상인 영화들"
   ]
  },
  {
   "cell_type": "markdown",
   "id": "09bdc6fd",
   "metadata": {},
   "source": [
    "##### 개봉 연도가 2019년 이후이거나 점수가 95점 이상인 영화들"
   ]
  },
  {
   "cell_type": "code",
   "execution_count": null,
   "id": "bc0ad8b8",
   "metadata": {},
   "outputs": [],
   "source": [
    "df[(df['Year'| > 2019) | ])]"
   ]
  },
  {
   "cell_type": "markdown",
   "id": "f09100e5",
   "metadata": {},
   "source": [
    "### 원하는 조건의 행과 열을 추출하기"
   ]
  },
  {
   "cell_type": "markdown",
   "id": "109836ab",
   "metadata": {},
   "source": [
    "##### 순위가 2~10위이고 개봉 연도가 2010년 이후인 영화의 영화 제목과 개봉연도"
   ]
  },
  {
   "cell_type": "code",
   "execution_count": null,
   "id": "d82f4d8c",
   "metadata": {},
   "outputs": [],
   "source": [
    ",,"
   ]
  }
 ],
 "metadata": {
  "kernelspec": {
   "display_name": "Python 3 (ipykernel)",
   "language": "python",
   "name": "python3"
  },
  "language_info": {
   "codemirror_mode": {
    "name": "ipython",
    "version": 3
   },
   "file_extension": ".py",
   "mimetype": "text/x-python",
   "name": "python",
   "nbconvert_exporter": "python",
   "pygments_lexer": "ipython3",
   "version": "3.10.9"
  }
 },
 "nbformat": 4,
 "nbformat_minor": 5
}
