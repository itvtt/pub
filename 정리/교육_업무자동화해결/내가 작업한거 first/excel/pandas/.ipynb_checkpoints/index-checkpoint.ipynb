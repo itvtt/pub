{
 "cells": [
  {
   "cell_type": "code",
   "execution_count": 1,
   "id": "1714f252",
   "metadata": {},
   "outputs": [],
   "source": [
    "import pandas as pd"
   ]
  },
  {
   "cell_type": "code",
   "execution_count": 2,
   "id": "eaceaf1b",
   "metadata": {},
   "outputs": [],
   "source": [
    "data = {\n",
    "    'Movie Title' : ['His House', 'How to Train Your Dragon', 'The Forty-Year-Old Version', \n",
    "                     'Under the Shadow', 'Monty Python and the Holy Grail'],\n",
    "    'Year' : [2020, 2010, 2020, 2016, 1975],\n",
    "    'Score' : [100, 98, 95, 89, 86],\n",
    "    'Director' : ['Remi Weekes', 'Christopher Sanders', 'Radha Blank', 'Babak Anvari', 'Terry Gilliam'],\n",
    "    'Cast' : ['Wunmi Mosaku, Sope Dirisu', 'Jay Baruchel, Gerard Butler', 'Welker White, Reed Birney', \n",
    "              'Narges Rashidi, Avin Manshadi', 'Graham Chapman, John Cleese']\n",
    "}"
   ]
  },
  {
   "cell_type": "code",
   "execution_count": 3,
   "id": "7ac0d097",
   "metadata": {},
   "outputs": [],
   "source": [
    "df = pd.DataFrame(data, index=['1위', '2위', '3위', '4위', '5위'])"
   ]
  },
  {
   "cell_type": "code",
   "execution_count": 4,
   "id": "aafb8dd3",
   "metadata": {},
   "outputs": [
    {
     "data": {
      "text/html": [
       "<div>\n",
       "<style scoped>\n",
       "    .dataframe tbody tr th:only-of-type {\n",
       "        vertical-align: middle;\n",
       "    }\n",
       "\n",
       "    .dataframe tbody tr th {\n",
       "        vertical-align: top;\n",
       "    }\n",
       "\n",
       "    .dataframe thead th {\n",
       "        text-align: right;\n",
       "    }\n",
       "</style>\n",
       "<table border=\"1\" class=\"dataframe\">\n",
       "  <thead>\n",
       "    <tr style=\"text-align: right;\">\n",
       "      <th></th>\n",
       "      <th>Movie Title</th>\n",
       "      <th>Year</th>\n",
       "      <th>Score</th>\n",
       "      <th>Director</th>\n",
       "      <th>Cast</th>\n",
       "    </tr>\n",
       "  </thead>\n",
       "  <tbody>\n",
       "    <tr>\n",
       "      <th>1위</th>\n",
       "      <td>His House</td>\n",
       "      <td>2020</td>\n",
       "      <td>100</td>\n",
       "      <td>Remi Weekes</td>\n",
       "      <td>Wunmi Mosaku, Sope Dirisu</td>\n",
       "    </tr>\n",
       "    <tr>\n",
       "      <th>2위</th>\n",
       "      <td>How to Train Your Dragon</td>\n",
       "      <td>2010</td>\n",
       "      <td>98</td>\n",
       "      <td>Christopher Sanders</td>\n",
       "      <td>Jay Baruchel, Gerard Butler</td>\n",
       "    </tr>\n",
       "  </tbody>\n",
       "</table>\n",
       "</div>"
      ],
      "text/plain": [
       "                 Movie Title  Year  Score             Director  \\\n",
       "1위                 His House  2020    100          Remi Weekes   \n",
       "2위  How to Train Your Dragon  2010     98  Christopher Sanders   \n",
       "\n",
       "                           Cast  \n",
       "1위    Wunmi Mosaku, Sope Dirisu  \n",
       "2위  Jay Baruchel, Gerard Butler  "
      ]
     },
     "execution_count": 4,
     "metadata": {},
     "output_type": "execute_result"
    }
   ],
   "source": [
    "df.head(2)"
   ]
  },
  {
   "cell_type": "markdown",
   "id": "adbf681e",
   "metadata": {},
   "source": [
    "### 인덱스 가져오기"
   ]
  },
  {
   "cell_type": "code",
   "execution_count": 5,
   "id": "dc57a8c4",
   "metadata": {},
   "outputs": [
    {
     "data": {
      "text/plain": [
       "Index(['1위', '2위', '3위', '4위', '5위'], dtype='object')"
      ]
     },
     "execution_count": 5,
     "metadata": {},
     "output_type": "execute_result"
    }
   ],
   "source": [
    "df.index"
   ]
  },
  {
   "cell_type": "markdown",
   "id": "54174960",
   "metadata": {},
   "source": [
    "### 인덱스 이름 지정"
   ]
  },
  {
   "cell_type": "code",
   "execution_count": 6,
   "id": "a0f62322",
   "metadata": {},
   "outputs": [],
   "source": [
    "df.index.name = 'Rank'"
   ]
  },
  {
   "cell_type": "markdown",
   "id": "e1e9335a",
   "metadata": {},
   "source": [
    "### 인덱스 리셋 - 기존 인덱스는 컬럼으로 유지"
   ]
  },
  {
   "cell_type": "code",
   "execution_count": 7,
   "id": "5bc3c5ee",
   "metadata": {},
   "outputs": [
    {
     "data": {
      "text/html": [
       "<div>\n",
       "<style scoped>\n",
       "    .dataframe tbody tr th:only-of-type {\n",
       "        vertical-align: middle;\n",
       "    }\n",
       "\n",
       "    .dataframe tbody tr th {\n",
       "        vertical-align: top;\n",
       "    }\n",
       "\n",
       "    .dataframe thead th {\n",
       "        text-align: right;\n",
       "    }\n",
       "</style>\n",
       "<table border=\"1\" class=\"dataframe\">\n",
       "  <thead>\n",
       "    <tr style=\"text-align: right;\">\n",
       "      <th></th>\n",
       "      <th>Rank</th>\n",
       "      <th>Movie Title</th>\n",
       "      <th>Year</th>\n",
       "      <th>Score</th>\n",
       "      <th>Director</th>\n",
       "      <th>Cast</th>\n",
       "    </tr>\n",
       "  </thead>\n",
       "  <tbody>\n",
       "    <tr>\n",
       "      <th>0</th>\n",
       "      <td>1위</td>\n",
       "      <td>His House</td>\n",
       "      <td>2020</td>\n",
       "      <td>100</td>\n",
       "      <td>Remi Weekes</td>\n",
       "      <td>Wunmi Mosaku, Sope Dirisu</td>\n",
       "    </tr>\n",
       "    <tr>\n",
       "      <th>1</th>\n",
       "      <td>2위</td>\n",
       "      <td>How to Train Your Dragon</td>\n",
       "      <td>2010</td>\n",
       "      <td>98</td>\n",
       "      <td>Christopher Sanders</td>\n",
       "      <td>Jay Baruchel, Gerard Butler</td>\n",
       "    </tr>\n",
       "    <tr>\n",
       "      <th>2</th>\n",
       "      <td>3위</td>\n",
       "      <td>The Forty-Year-Old Version</td>\n",
       "      <td>2020</td>\n",
       "      <td>95</td>\n",
       "      <td>Radha Blank</td>\n",
       "      <td>Welker White, Reed Birney</td>\n",
       "    </tr>\n",
       "    <tr>\n",
       "      <th>3</th>\n",
       "      <td>4위</td>\n",
       "      <td>Under the Shadow</td>\n",
       "      <td>2016</td>\n",
       "      <td>89</td>\n",
       "      <td>Babak Anvari</td>\n",
       "      <td>Narges Rashidi, Avin Manshadi</td>\n",
       "    </tr>\n",
       "    <tr>\n",
       "      <th>4</th>\n",
       "      <td>5위</td>\n",
       "      <td>Monty Python and the Holy Grail</td>\n",
       "      <td>1975</td>\n",
       "      <td>86</td>\n",
       "      <td>Terry Gilliam</td>\n",
       "      <td>Graham Chapman, John Cleese</td>\n",
       "    </tr>\n",
       "  </tbody>\n",
       "</table>\n",
       "</div>"
      ],
      "text/plain": [
       "  Rank                      Movie Title  Year  Score             Director  \\\n",
       "0   1위                        His House  2020    100          Remi Weekes   \n",
       "1   2위         How to Train Your Dragon  2010     98  Christopher Sanders   \n",
       "2   3위       The Forty-Year-Old Version  2020     95          Radha Blank   \n",
       "3   4위                 Under the Shadow  2016     89         Babak Anvari   \n",
       "4   5위  Monty Python and the Holy Grail  1975     86        Terry Gilliam   \n",
       "\n",
       "                            Cast  \n",
       "0      Wunmi Mosaku, Sope Dirisu  \n",
       "1    Jay Baruchel, Gerard Butler  \n",
       "2      Welker White, Reed Birney  \n",
       "3  Narges Rashidi, Avin Manshadi  \n",
       "4    Graham Chapman, John Cleese  "
      ]
     },
     "execution_count": 7,
     "metadata": {},
     "output_type": "execute_result"
    }
   ],
   "source": [
    "df.reset_index()"
   ]
  },
  {
   "cell_type": "markdown",
   "id": "484bc86a",
   "metadata": {},
   "source": [
    "### 인덱스를 리셋하면서 현재 인덱스는 없앤다"
   ]
  },
  {
   "cell_type": "code",
   "execution_count": 8,
   "id": "fc5ba881",
   "metadata": {},
   "outputs": [
    {
     "data": {
      "text/html": [
       "<div>\n",
       "<style scoped>\n",
       "    .dataframe tbody tr th:only-of-type {\n",
       "        vertical-align: middle;\n",
       "    }\n",
       "\n",
       "    .dataframe tbody tr th {\n",
       "        vertical-align: top;\n",
       "    }\n",
       "\n",
       "    .dataframe thead th {\n",
       "        text-align: right;\n",
       "    }\n",
       "</style>\n",
       "<table border=\"1\" class=\"dataframe\">\n",
       "  <thead>\n",
       "    <tr style=\"text-align: right;\">\n",
       "      <th></th>\n",
       "      <th>Movie Title</th>\n",
       "      <th>Year</th>\n",
       "      <th>Score</th>\n",
       "      <th>Director</th>\n",
       "      <th>Cast</th>\n",
       "    </tr>\n",
       "  </thead>\n",
       "  <tbody>\n",
       "    <tr>\n",
       "      <th>0</th>\n",
       "      <td>His House</td>\n",
       "      <td>2020</td>\n",
       "      <td>100</td>\n",
       "      <td>Remi Weekes</td>\n",
       "      <td>Wunmi Mosaku, Sope Dirisu</td>\n",
       "    </tr>\n",
       "    <tr>\n",
       "      <th>1</th>\n",
       "      <td>How to Train Your Dragon</td>\n",
       "      <td>2010</td>\n",
       "      <td>98</td>\n",
       "      <td>Christopher Sanders</td>\n",
       "      <td>Jay Baruchel, Gerard Butler</td>\n",
       "    </tr>\n",
       "    <tr>\n",
       "      <th>2</th>\n",
       "      <td>The Forty-Year-Old Version</td>\n",
       "      <td>2020</td>\n",
       "      <td>95</td>\n",
       "      <td>Radha Blank</td>\n",
       "      <td>Welker White, Reed Birney</td>\n",
       "    </tr>\n",
       "    <tr>\n",
       "      <th>3</th>\n",
       "      <td>Under the Shadow</td>\n",
       "      <td>2016</td>\n",
       "      <td>89</td>\n",
       "      <td>Babak Anvari</td>\n",
       "      <td>Narges Rashidi, Avin Manshadi</td>\n",
       "    </tr>\n",
       "    <tr>\n",
       "      <th>4</th>\n",
       "      <td>Monty Python and the Holy Grail</td>\n",
       "      <td>1975</td>\n",
       "      <td>86</td>\n",
       "      <td>Terry Gilliam</td>\n",
       "      <td>Graham Chapman, John Cleese</td>\n",
       "    </tr>\n",
       "  </tbody>\n",
       "</table>\n",
       "</div>"
      ],
      "text/plain": [
       "                       Movie Title  Year  Score             Director  \\\n",
       "0                        His House  2020    100          Remi Weekes   \n",
       "1         How to Train Your Dragon  2010     98  Christopher Sanders   \n",
       "2       The Forty-Year-Old Version  2020     95          Radha Blank   \n",
       "3                 Under the Shadow  2016     89         Babak Anvari   \n",
       "4  Monty Python and the Holy Grail  1975     86        Terry Gilliam   \n",
       "\n",
       "                            Cast  \n",
       "0      Wunmi Mosaku, Sope Dirisu  \n",
       "1    Jay Baruchel, Gerard Butler  \n",
       "2      Welker White, Reed Birney  \n",
       "3  Narges Rashidi, Avin Manshadi  \n",
       "4    Graham Chapman, John Cleese  "
      ]
     },
     "execution_count": 8,
     "metadata": {},
     "output_type": "execute_result"
    }
   ],
   "source": [
    "df.reset_index(drop=True)"
   ]
  },
  {
   "cell_type": "markdown",
   "id": "683104ae",
   "metadata": {},
   "source": [
    "### 지금까지의 연산은 현재 데이터프레임에는 영향을 미치지 않는다"
   ]
  },
  {
   "cell_type": "code",
   "execution_count": null,
   "id": "70ecc3ca",
   "metadata": {},
   "outputs": [],
   "source": []
  },
  {
   "cell_type": "markdown",
   "id": "62a5b8eb",
   "metadata": {},
   "source": [
    "### 연산을 바로 데이터프레임에 적용하기"
   ]
  },
  {
   "cell_type": "code",
   "execution_count": 10,
   "id": "e1a61340",
   "metadata": {},
   "outputs": [],
   "source": [
    "df.reset_index(drop=True, inplace=True)"
   ]
  },
  {
   "cell_type": "code",
   "execution_count": 11,
   "id": "f0560a5c",
   "metadata": {},
   "outputs": [
    {
     "data": {
      "text/html": [
       "<div>\n",
       "<style scoped>\n",
       "    .dataframe tbody tr th:only-of-type {\n",
       "        vertical-align: middle;\n",
       "    }\n",
       "\n",
       "    .dataframe tbody tr th {\n",
       "        vertical-align: top;\n",
       "    }\n",
       "\n",
       "    .dataframe thead th {\n",
       "        text-align: right;\n",
       "    }\n",
       "</style>\n",
       "<table border=\"1\" class=\"dataframe\">\n",
       "  <thead>\n",
       "    <tr style=\"text-align: right;\">\n",
       "      <th></th>\n",
       "      <th>Movie Title</th>\n",
       "      <th>Year</th>\n",
       "      <th>Score</th>\n",
       "      <th>Director</th>\n",
       "      <th>Cast</th>\n",
       "    </tr>\n",
       "  </thead>\n",
       "  <tbody>\n",
       "    <tr>\n",
       "      <th>0</th>\n",
       "      <td>His House</td>\n",
       "      <td>2020</td>\n",
       "      <td>100</td>\n",
       "      <td>Remi Weekes</td>\n",
       "      <td>Wunmi Mosaku, Sope Dirisu</td>\n",
       "    </tr>\n",
       "    <tr>\n",
       "      <th>1</th>\n",
       "      <td>How to Train Your Dragon</td>\n",
       "      <td>2010</td>\n",
       "      <td>98</td>\n",
       "      <td>Christopher Sanders</td>\n",
       "      <td>Jay Baruchel, Gerard Butler</td>\n",
       "    </tr>\n",
       "    <tr>\n",
       "      <th>2</th>\n",
       "      <td>The Forty-Year-Old Version</td>\n",
       "      <td>2020</td>\n",
       "      <td>95</td>\n",
       "      <td>Radha Blank</td>\n",
       "      <td>Welker White, Reed Birney</td>\n",
       "    </tr>\n",
       "    <tr>\n",
       "      <th>3</th>\n",
       "      <td>Under the Shadow</td>\n",
       "      <td>2016</td>\n",
       "      <td>89</td>\n",
       "      <td>Babak Anvari</td>\n",
       "      <td>Narges Rashidi, Avin Manshadi</td>\n",
       "    </tr>\n",
       "    <tr>\n",
       "      <th>4</th>\n",
       "      <td>Monty Python and the Holy Grail</td>\n",
       "      <td>1975</td>\n",
       "      <td>86</td>\n",
       "      <td>Terry Gilliam</td>\n",
       "      <td>Graham Chapman, John Cleese</td>\n",
       "    </tr>\n",
       "  </tbody>\n",
       "</table>\n",
       "</div>"
      ],
      "text/plain": [
       "                       Movie Title  Year  Score             Director  \\\n",
       "0                        His House  2020    100          Remi Weekes   \n",
       "1         How to Train Your Dragon  2010     98  Christopher Sanders   \n",
       "2       The Forty-Year-Old Version  2020     95          Radha Blank   \n",
       "3                 Under the Shadow  2016     89         Babak Anvari   \n",
       "4  Monty Python and the Holy Grail  1975     86        Terry Gilliam   \n",
       "\n",
       "                            Cast  \n",
       "0      Wunmi Mosaku, Sope Dirisu  \n",
       "1    Jay Baruchel, Gerard Butler  \n",
       "2      Welker White, Reed Birney  \n",
       "3  Narges Rashidi, Avin Manshadi  \n",
       "4    Graham Chapman, John Cleese  "
      ]
     },
     "execution_count": 11,
     "metadata": {},
     "output_type": "execute_result"
    }
   ],
   "source": [
    "df"
   ]
  },
  {
   "cell_type": "markdown",
   "id": "59185cee",
   "metadata": {},
   "source": [
    "### 특정 컬럼을 인덱스로 만들기"
   ]
  },
  {
   "cell_type": "code",
   "execution_count": 12,
   "id": "50769fa4",
   "metadata": {},
   "outputs": [],
   "source": [
    "df.set_index('Movie Title', inplace=True)"
   ]
  },
  {
   "cell_type": "code",
   "execution_count": 13,
   "id": "123d9e9d",
   "metadata": {},
   "outputs": [
    {
     "data": {
      "text/html": [
       "<div>\n",
       "<style scoped>\n",
       "    .dataframe tbody tr th:only-of-type {\n",
       "        vertical-align: middle;\n",
       "    }\n",
       "\n",
       "    .dataframe tbody tr th {\n",
       "        vertical-align: top;\n",
       "    }\n",
       "\n",
       "    .dataframe thead th {\n",
       "        text-align: right;\n",
       "    }\n",
       "</style>\n",
       "<table border=\"1\" class=\"dataframe\">\n",
       "  <thead>\n",
       "    <tr style=\"text-align: right;\">\n",
       "      <th></th>\n",
       "      <th>Year</th>\n",
       "      <th>Score</th>\n",
       "      <th>Director</th>\n",
       "      <th>Cast</th>\n",
       "    </tr>\n",
       "    <tr>\n",
       "      <th>Movie Title</th>\n",
       "      <th></th>\n",
       "      <th></th>\n",
       "      <th></th>\n",
       "      <th></th>\n",
       "    </tr>\n",
       "  </thead>\n",
       "  <tbody>\n",
       "    <tr>\n",
       "      <th>His House</th>\n",
       "      <td>2020</td>\n",
       "      <td>100</td>\n",
       "      <td>Remi Weekes</td>\n",
       "      <td>Wunmi Mosaku, Sope Dirisu</td>\n",
       "    </tr>\n",
       "    <tr>\n",
       "      <th>How to Train Your Dragon</th>\n",
       "      <td>2010</td>\n",
       "      <td>98</td>\n",
       "      <td>Christopher Sanders</td>\n",
       "      <td>Jay Baruchel, Gerard Butler</td>\n",
       "    </tr>\n",
       "  </tbody>\n",
       "</table>\n",
       "</div>"
      ],
      "text/plain": [
       "                          Year  Score             Director  \\\n",
       "Movie Title                                                  \n",
       "His House                 2020    100          Remi Weekes   \n",
       "How to Train Your Dragon  2010     98  Christopher Sanders   \n",
       "\n",
       "                                                 Cast  \n",
       "Movie Title                                            \n",
       "His House                   Wunmi Mosaku, Sope Dirisu  \n",
       "How to Train Your Dragon  Jay Baruchel, Gerard Butler  "
      ]
     },
     "execution_count": 13,
     "metadata": {},
     "output_type": "execute_result"
    }
   ],
   "source": [
    "df.head(2)"
   ]
  },
  {
   "cell_type": "code",
   "execution_count": 14,
   "id": "d01c1b85",
   "metadata": {},
   "outputs": [
    {
     "data": {
      "text/plain": [
       "Index(['His House', 'How to Train Your Dragon', 'The Forty-Year-Old Version',\n",
       "       'Under the Shadow', 'Monty Python and the Holy Grail'],\n",
       "      dtype='object', name='Movie Title')"
      ]
     },
     "execution_count": 14,
     "metadata": {},
     "output_type": "execute_result"
    }
   ],
   "source": [
    "df.index"
   ]
  },
  {
   "cell_type": "markdown",
   "id": "d1261cd8",
   "metadata": {},
   "source": [
    "### 인덱스 정렬 - 오름차순"
   ]
  },
  {
   "cell_type": "code",
   "execution_count": 17,
   "id": "f1cc15f5",
   "metadata": {},
   "outputs": [
    {
     "data": {
      "text/html": [
       "<div>\n",
       "<style scoped>\n",
       "    .dataframe tbody tr th:only-of-type {\n",
       "        vertical-align: middle;\n",
       "    }\n",
       "\n",
       "    .dataframe tbody tr th {\n",
       "        vertical-align: top;\n",
       "    }\n",
       "\n",
       "    .dataframe thead th {\n",
       "        text-align: right;\n",
       "    }\n",
       "</style>\n",
       "<table border=\"1\" class=\"dataframe\">\n",
       "  <thead>\n",
       "    <tr style=\"text-align: right;\">\n",
       "      <th></th>\n",
       "      <th>Year</th>\n",
       "      <th>Score</th>\n",
       "      <th>Director</th>\n",
       "      <th>Cast</th>\n",
       "    </tr>\n",
       "    <tr>\n",
       "      <th>Movie Title</th>\n",
       "      <th></th>\n",
       "      <th></th>\n",
       "      <th></th>\n",
       "      <th></th>\n",
       "    </tr>\n",
       "  </thead>\n",
       "  <tbody>\n",
       "    <tr>\n",
       "      <th>His House</th>\n",
       "      <td>2020</td>\n",
       "      <td>100</td>\n",
       "      <td>Remi Weekes</td>\n",
       "      <td>Wunmi Mosaku, Sope Dirisu</td>\n",
       "    </tr>\n",
       "    <tr>\n",
       "      <th>How to Train Your Dragon</th>\n",
       "      <td>2010</td>\n",
       "      <td>98</td>\n",
       "      <td>Christopher Sanders</td>\n",
       "      <td>Jay Baruchel, Gerard Butler</td>\n",
       "    </tr>\n",
       "    <tr>\n",
       "      <th>Monty Python and the Holy Grail</th>\n",
       "      <td>1975</td>\n",
       "      <td>86</td>\n",
       "      <td>Terry Gilliam</td>\n",
       "      <td>Graham Chapman, John Cleese</td>\n",
       "    </tr>\n",
       "    <tr>\n",
       "      <th>The Forty-Year-Old Version</th>\n",
       "      <td>2020</td>\n",
       "      <td>95</td>\n",
       "      <td>Radha Blank</td>\n",
       "      <td>Welker White, Reed Birney</td>\n",
       "    </tr>\n",
       "    <tr>\n",
       "      <th>Under the Shadow</th>\n",
       "      <td>2016</td>\n",
       "      <td>89</td>\n",
       "      <td>Babak Anvari</td>\n",
       "      <td>Narges Rashidi, Avin Manshadi</td>\n",
       "    </tr>\n",
       "  </tbody>\n",
       "</table>\n",
       "</div>"
      ],
      "text/plain": [
       "                                 Year  Score             Director  \\\n",
       "Movie Title                                                         \n",
       "His House                        2020    100          Remi Weekes   \n",
       "How to Train Your Dragon         2010     98  Christopher Sanders   \n",
       "Monty Python and the Holy Grail  1975     86        Terry Gilliam   \n",
       "The Forty-Year-Old Version       2020     95          Radha Blank   \n",
       "Under the Shadow                 2016     89         Babak Anvari   \n",
       "\n",
       "                                                          Cast  \n",
       "Movie Title                                                     \n",
       "His House                            Wunmi Mosaku, Sope Dirisu  \n",
       "How to Train Your Dragon           Jay Baruchel, Gerard Butler  \n",
       "Monty Python and the Holy Grail    Graham Chapman, John Cleese  \n",
       "The Forty-Year-Old Version           Welker White, Reed Birney  \n",
       "Under the Shadow                 Narges Rashidi, Avin Manshadi  "
      ]
     },
     "execution_count": 17,
     "metadata": {},
     "output_type": "execute_result"
    }
   ],
   "source": [
    "df.sort_index()"
   ]
  },
  {
   "cell_type": "markdown",
   "id": "2b8bd848",
   "metadata": {},
   "source": [
    "### 인덱스 정렬 - 내림차순"
   ]
  },
  {
   "cell_type": "code",
   "execution_count": 19,
   "id": "428ae45d",
   "metadata": {},
   "outputs": [
    {
     "data": {
      "text/html": [
       "<div>\n",
       "<style scoped>\n",
       "    .dataframe tbody tr th:only-of-type {\n",
       "        vertical-align: middle;\n",
       "    }\n",
       "\n",
       "    .dataframe tbody tr th {\n",
       "        vertical-align: top;\n",
       "    }\n",
       "\n",
       "    .dataframe thead th {\n",
       "        text-align: right;\n",
       "    }\n",
       "</style>\n",
       "<table border=\"1\" class=\"dataframe\">\n",
       "  <thead>\n",
       "    <tr style=\"text-align: right;\">\n",
       "      <th></th>\n",
       "      <th>Year</th>\n",
       "      <th>Score</th>\n",
       "      <th>Director</th>\n",
       "      <th>Cast</th>\n",
       "    </tr>\n",
       "    <tr>\n",
       "      <th>Movie Title</th>\n",
       "      <th></th>\n",
       "      <th></th>\n",
       "      <th></th>\n",
       "      <th></th>\n",
       "    </tr>\n",
       "  </thead>\n",
       "  <tbody>\n",
       "    <tr>\n",
       "      <th>Under the Shadow</th>\n",
       "      <td>2016</td>\n",
       "      <td>89</td>\n",
       "      <td>Babak Anvari</td>\n",
       "      <td>Narges Rashidi, Avin Manshadi</td>\n",
       "    </tr>\n",
       "    <tr>\n",
       "      <th>The Forty-Year-Old Version</th>\n",
       "      <td>2020</td>\n",
       "      <td>95</td>\n",
       "      <td>Radha Blank</td>\n",
       "      <td>Welker White, Reed Birney</td>\n",
       "    </tr>\n",
       "    <tr>\n",
       "      <th>Monty Python and the Holy Grail</th>\n",
       "      <td>1975</td>\n",
       "      <td>86</td>\n",
       "      <td>Terry Gilliam</td>\n",
       "      <td>Graham Chapman, John Cleese</td>\n",
       "    </tr>\n",
       "    <tr>\n",
       "      <th>How to Train Your Dragon</th>\n",
       "      <td>2010</td>\n",
       "      <td>98</td>\n",
       "      <td>Christopher Sanders</td>\n",
       "      <td>Jay Baruchel, Gerard Butler</td>\n",
       "    </tr>\n",
       "    <tr>\n",
       "      <th>His House</th>\n",
       "      <td>2020</td>\n",
       "      <td>100</td>\n",
       "      <td>Remi Weekes</td>\n",
       "      <td>Wunmi Mosaku, Sope Dirisu</td>\n",
       "    </tr>\n",
       "  </tbody>\n",
       "</table>\n",
       "</div>"
      ],
      "text/plain": [
       "                                 Year  Score             Director  \\\n",
       "Movie Title                                                         \n",
       "Under the Shadow                 2016     89         Babak Anvari   \n",
       "The Forty-Year-Old Version       2020     95          Radha Blank   \n",
       "Monty Python and the Holy Grail  1975     86        Terry Gilliam   \n",
       "How to Train Your Dragon         2010     98  Christopher Sanders   \n",
       "His House                        2020    100          Remi Weekes   \n",
       "\n",
       "                                                          Cast  \n",
       "Movie Title                                                     \n",
       "Under the Shadow                 Narges Rashidi, Avin Manshadi  \n",
       "The Forty-Year-Old Version           Welker White, Reed Birney  \n",
       "Monty Python and the Holy Grail    Graham Chapman, John Cleese  \n",
       "How to Train Your Dragon           Jay Baruchel, Gerard Butler  \n",
       "His House                            Wunmi Mosaku, Sope Dirisu  "
      ]
     },
     "execution_count": 19,
     "metadata": {},
     "output_type": "execute_result"
    }
   ],
   "source": [
    "df.sort_index(ascending=False)"
   ]
  },
  {
   "cell_type": "markdown",
   "id": "a3c7a5b8",
   "metadata": {},
   "source": [
    "### 컬럼 이름 변경하기"
   ]
  },
  {
   "cell_type": "code",
   "execution_count": 21,
   "id": "9c55b0d5",
   "metadata": {},
   "outputs": [],
   "source": [
    "df.rename(columns={'Year': 'Release', 'Cast' : 'Actor'}, inplace=True)"
   ]
  },
  {
   "cell_type": "code",
   "execution_count": 22,
   "id": "3f87fd55",
   "metadata": {},
   "outputs": [
    {
     "data": {
      "text/plain": [
       "Index(['Release', 'Score', 'Director', 'Actor'], dtype='object')"
      ]
     },
     "execution_count": 22,
     "metadata": {},
     "output_type": "execute_result"
    }
   ],
   "source": [
    "df.columns"
   ]
  },
  {
   "cell_type": "code",
   "execution_count": 23,
   "id": "47c0b1b4",
   "metadata": {},
   "outputs": [
    {
     "data": {
      "text/html": [
       "<div>\n",
       "<style scoped>\n",
       "    .dataframe tbody tr th:only-of-type {\n",
       "        vertical-align: middle;\n",
       "    }\n",
       "\n",
       "    .dataframe tbody tr th {\n",
       "        vertical-align: top;\n",
       "    }\n",
       "\n",
       "    .dataframe thead th {\n",
       "        text-align: right;\n",
       "    }\n",
       "</style>\n",
       "<table border=\"1\" class=\"dataframe\">\n",
       "  <thead>\n",
       "    <tr style=\"text-align: right;\">\n",
       "      <th></th>\n",
       "      <th>Release</th>\n",
       "      <th>Score</th>\n",
       "      <th>Director</th>\n",
       "      <th>Actor</th>\n",
       "    </tr>\n",
       "    <tr>\n",
       "      <th>Movie Title</th>\n",
       "      <th></th>\n",
       "      <th></th>\n",
       "      <th></th>\n",
       "      <th></th>\n",
       "    </tr>\n",
       "  </thead>\n",
       "  <tbody>\n",
       "    <tr>\n",
       "      <th>His House</th>\n",
       "      <td>2020</td>\n",
       "      <td>100</td>\n",
       "      <td>Remi Weekes</td>\n",
       "      <td>Wunmi Mosaku, Sope Dirisu</td>\n",
       "    </tr>\n",
       "    <tr>\n",
       "      <th>How to Train Your Dragon</th>\n",
       "      <td>2010</td>\n",
       "      <td>98</td>\n",
       "      <td>Christopher Sanders</td>\n",
       "      <td>Jay Baruchel, Gerard Butler</td>\n",
       "    </tr>\n",
       "    <tr>\n",
       "      <th>The Forty-Year-Old Version</th>\n",
       "      <td>2020</td>\n",
       "      <td>95</td>\n",
       "      <td>Radha Blank</td>\n",
       "      <td>Welker White, Reed Birney</td>\n",
       "    </tr>\n",
       "  </tbody>\n",
       "</table>\n",
       "</div>"
      ],
      "text/plain": [
       "                            Release  Score             Director  \\\n",
       "Movie Title                                                       \n",
       "His House                      2020    100          Remi Weekes   \n",
       "How to Train Your Dragon       2010     98  Christopher Sanders   \n",
       "The Forty-Year-Old Version     2020     95          Radha Blank   \n",
       "\n",
       "                                                  Actor  \n",
       "Movie Title                                              \n",
       "His House                     Wunmi Mosaku, Sope Dirisu  \n",
       "How to Train Your Dragon    Jay Baruchel, Gerard Butler  \n",
       "The Forty-Year-Old Version    Welker White, Reed Birney  "
      ]
     },
     "execution_count": 23,
     "metadata": {},
     "output_type": "execute_result"
    }
   ],
   "source": [
    "df.head(3)"
   ]
  },
  {
   "cell_type": "markdown",
   "id": "d4cb9845",
   "metadata": {},
   "source": [
    "### 인덱스 이름 변경"
   ]
  },
  {
   "cell_type": "code",
   "execution_count": 27,
   "id": "889aa3b2",
   "metadata": {},
   "outputs": [],
   "source": [
    "df.rename(index={'His House' : 'My House'}, inplace=True)"
   ]
  },
  {
   "cell_type": "markdown",
   "id": "51528cc1",
   "metadata": {},
   "source": [
    "### 인덱스를 다시 1위~5위로 바꾸기"
   ]
  },
  {
   "cell_type": "code",
   "execution_count": 28,
   "id": "4815e4e0",
   "metadata": {},
   "outputs": [],
   "source": [
    "df.reset_index(inplace=True)\n",
    "df.index=['1위','2위','3위','4위','5위']"
   ]
  }
 ],
 "metadata": {
  "kernelspec": {
   "display_name": "Python 3 (ipykernel)",
   "language": "python",
   "name": "python3"
  },
  "language_info": {
   "codemirror_mode": {
    "name": "ipython",
    "version": 3
   },
   "file_extension": ".py",
   "mimetype": "text/x-python",
   "name": "python",
   "nbconvert_exporter": "python",
   "pygments_lexer": "ipython3",
   "version": "3.10.9"
  }
 },
 "nbformat": 4,
 "nbformat_minor": 5
}
