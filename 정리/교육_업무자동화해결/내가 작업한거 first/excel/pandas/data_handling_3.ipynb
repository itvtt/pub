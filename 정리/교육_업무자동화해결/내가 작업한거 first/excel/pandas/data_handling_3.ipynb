{
 "cells": [
  {
   "cell_type": "code",
   "execution_count": 1,
   "id": "e68edf97",
   "metadata": {},
   "outputs": [],
   "source": [
    "import pandas as pd"
   ]
  },
  {
   "cell_type": "markdown",
   "id": "77043312",
   "metadata": {},
   "source": [
    "### ### best_movies_on_netflix.xlsx 파일을 Rank 컬럼을 인덱스로 컬럼은 A:F까지 데이터프레임으로 가져오기"
   ]
  },
  {
   "cell_type": "code",
   "execution_count": 4,
   "id": "9b093122",
   "metadata": {},
   "outputs": [],
   "source": [
    "df = pd.read_excel('best_movies_on_netflix.xlsx',index_col='Rank',usecols='A:F')"
   ]
  },
  {
   "cell_type": "code",
   "execution_count": 5,
   "id": "c7b43874",
   "metadata": {},
   "outputs": [
    {
     "data": {
      "text/html": [
       "<div>\n",
       "<style scoped>\n",
       "    .dataframe tbody tr th:only-of-type {\n",
       "        vertical-align: middle;\n",
       "    }\n",
       "\n",
       "    .dataframe tbody tr th {\n",
       "        vertical-align: top;\n",
       "    }\n",
       "\n",
       "    .dataframe thead th {\n",
       "        text-align: right;\n",
       "    }\n",
       "</style>\n",
       "<table border=\"1\" class=\"dataframe\">\n",
       "  <thead>\n",
       "    <tr style=\"text-align: right;\">\n",
       "      <th></th>\n",
       "      <th>Movie Title</th>\n",
       "      <th>Year</th>\n",
       "      <th>Score</th>\n",
       "      <th>Director</th>\n",
       "      <th>Cast</th>\n",
       "    </tr>\n",
       "    <tr>\n",
       "      <th>Rank</th>\n",
       "      <th></th>\n",
       "      <th></th>\n",
       "      <th></th>\n",
       "      <th></th>\n",
       "      <th></th>\n",
       "    </tr>\n",
       "  </thead>\n",
       "  <tbody>\n",
       "    <tr>\n",
       "      <th>1</th>\n",
       "      <td>His House</td>\n",
       "      <td>2020</td>\n",
       "      <td>100</td>\n",
       "      <td>Remi Weekes</td>\n",
       "      <td>Wunmi Mosaku, Sope Dirisu, Matt Smith, Cornell...</td>\n",
       "    </tr>\n",
       "    <tr>\n",
       "      <th>2</th>\n",
       "      <td>How to Train Your Dragon</td>\n",
       "      <td>2010</td>\n",
       "      <td>99</td>\n",
       "      <td>Christopher Sanders</td>\n",
       "      <td>Jay Baruchel, Gerard Butler, America Ferrera, ...</td>\n",
       "    </tr>\n",
       "    <tr>\n",
       "      <th>3</th>\n",
       "      <td>The Forty-Year-Old Version</td>\n",
       "      <td>2020</td>\n",
       "      <td>99</td>\n",
       "      <td>Radha Blank</td>\n",
       "      <td>Welker White, Reed Birney, Radha Blank, Peter Kim</td>\n",
       "    </tr>\n",
       "    <tr>\n",
       "      <th>4</th>\n",
       "      <td>Under the Shadow</td>\n",
       "      <td>2016</td>\n",
       "      <td>99</td>\n",
       "      <td>Babak Anvari</td>\n",
       "      <td>Narges Rashidi, Avin Manshadi, Bobby Naderi, R...</td>\n",
       "    </tr>\n",
       "    <tr>\n",
       "      <th>5</th>\n",
       "      <td>Monty Python and the Holy Grail</td>\n",
       "      <td>1975</td>\n",
       "      <td>98</td>\n",
       "      <td>Terry Gilliam</td>\n",
       "      <td>Graham Chapman, John Cleese, Terry Gilliam, Er...</td>\n",
       "    </tr>\n",
       "    <tr>\n",
       "      <th>...</th>\n",
       "      <td>...</td>\n",
       "      <td>...</td>\n",
       "      <td>...</td>\n",
       "      <td>...</td>\n",
       "      <td>...</td>\n",
       "    </tr>\n",
       "    <tr>\n",
       "      <th>96</th>\n",
       "      <td>Fear Street Part Three: 1666</td>\n",
       "      <td>2021</td>\n",
       "      <td>88</td>\n",
       "      <td>Leigh Janiak</td>\n",
       "      <td>Kiana Madeira, Ashley Zukerman, Gillian Jacobs...</td>\n",
       "    </tr>\n",
       "    <tr>\n",
       "      <th>97</th>\n",
       "      <td>Donnie Brasco</td>\n",
       "      <td>1997</td>\n",
       "      <td>88</td>\n",
       "      <td>Mike Newell</td>\n",
       "      <td>Al Pacino, Johnny Depp, Michael Madsen, Bruno ...</td>\n",
       "    </tr>\n",
       "    <tr>\n",
       "      <th>98</th>\n",
       "      <td>Inception</td>\n",
       "      <td>2010</td>\n",
       "      <td>87</td>\n",
       "      <td>Christopher Nolan</td>\n",
       "      <td>Leonardo DiCaprio, Joseph Gordon-Levitt, Ellio...</td>\n",
       "    </tr>\n",
       "    <tr>\n",
       "      <th>99</th>\n",
       "      <td>American Beauty</td>\n",
       "      <td>1999</td>\n",
       "      <td>87</td>\n",
       "      <td>Sam Mendes</td>\n",
       "      <td>Kevin Spacey, Annette Bening, Thora Birch, Wes...</td>\n",
       "    </tr>\n",
       "    <tr>\n",
       "      <th>100</th>\n",
       "      <td>Kung Fu Panda</td>\n",
       "      <td>2008</td>\n",
       "      <td>87</td>\n",
       "      <td>John Stevenson</td>\n",
       "      <td>Jack Black, Angelina Jolie, Jackie Chan, David...</td>\n",
       "    </tr>\n",
       "  </tbody>\n",
       "</table>\n",
       "<p>100 rows × 5 columns</p>\n",
       "</div>"
      ],
      "text/plain": [
       "                          Movie Title  Year  Score             Director  \\\n",
       "Rank                                                                      \n",
       "1                           His House  2020    100          Remi Weekes   \n",
       "2            How to Train Your Dragon  2010     99  Christopher Sanders   \n",
       "3          The Forty-Year-Old Version  2020     99          Radha Blank   \n",
       "4                    Under the Shadow  2016     99         Babak Anvari   \n",
       "5     Monty Python and the Holy Grail  1975     98        Terry Gilliam   \n",
       "...                               ...   ...    ...                  ...   \n",
       "96       Fear Street Part Three: 1666  2021     88         Leigh Janiak   \n",
       "97                      Donnie Brasco  1997     88          Mike Newell   \n",
       "98                          Inception  2010     87    Christopher Nolan   \n",
       "99                    American Beauty  1999     87           Sam Mendes   \n",
       "100                     Kung Fu Panda  2008     87       John Stevenson   \n",
       "\n",
       "                                                   Cast  \n",
       "Rank                                                     \n",
       "1     Wunmi Mosaku, Sope Dirisu, Matt Smith, Cornell...  \n",
       "2     Jay Baruchel, Gerard Butler, America Ferrera, ...  \n",
       "3     Welker White, Reed Birney, Radha Blank, Peter Kim  \n",
       "4     Narges Rashidi, Avin Manshadi, Bobby Naderi, R...  \n",
       "5     Graham Chapman, John Cleese, Terry Gilliam, Er...  \n",
       "...                                                 ...  \n",
       "96    Kiana Madeira, Ashley Zukerman, Gillian Jacobs...  \n",
       "97    Al Pacino, Johnny Depp, Michael Madsen, Bruno ...  \n",
       "98    Leonardo DiCaprio, Joseph Gordon-Levitt, Ellio...  \n",
       "99    Kevin Spacey, Annette Bening, Thora Birch, Wes...  \n",
       "100   Jack Black, Angelina Jolie, Jackie Chan, David...  \n",
       "\n",
       "[100 rows x 5 columns]"
      ]
     },
     "execution_count": 5,
     "metadata": {},
     "output_type": "execute_result"
    }
   ],
   "source": [
    "df"
   ]
  },
  {
   "cell_type": "markdown",
   "id": "9a0b5a29",
   "metadata": {},
   "source": [
    "### loc\n",
    "##### 1. 행으로 접근\n",
    "##### 2. 열로 접근"
   ]
  },
  {
   "cell_type": "code",
   "execution_count": null,
   "id": "4623605e",
   "metadata": {},
   "outputs": [],
   "source": []
  },
  {
   "cell_type": "markdown",
   "id": "a5055421",
   "metadata": {},
   "source": [
    "##### 인덱스 5로 행에 접근"
   ]
  },
  {
   "cell_type": "code",
   "execution_count": 9,
   "id": "46043fa3",
   "metadata": {},
   "outputs": [
    {
     "data": {
      "text/plain": [
       "Movie Title                      Monty Python and the Holy Grail\n",
       "Year                                                        1975\n",
       "Score                                                         98\n",
       "Director                                           Terry Gilliam\n",
       "Cast           Graham Chapman, John Cleese, Terry Gilliam, Er...\n",
       "Name: 5, dtype: object"
      ]
     },
     "execution_count": 9,
     "metadata": {},
     "output_type": "execute_result"
    }
   ],
   "source": [
    "df.loc[5]"
   ]
  },
  {
   "cell_type": "markdown",
   "id": "be9633af",
   "metadata": {},
   "source": [
    "##### 인덱스 5와 인덱스 10으로 행에 접근"
   ]
  },
  {
   "cell_type": "code",
   "execution_count": 13,
   "id": "7365ab91",
   "metadata": {},
   "outputs": [
    {
     "data": {
      "text/html": [
       "<div>\n",
       "<style scoped>\n",
       "    .dataframe tbody tr th:only-of-type {\n",
       "        vertical-align: middle;\n",
       "    }\n",
       "\n",
       "    .dataframe tbody tr th {\n",
       "        vertical-align: top;\n",
       "    }\n",
       "\n",
       "    .dataframe thead th {\n",
       "        text-align: right;\n",
       "    }\n",
       "</style>\n",
       "<table border=\"1\" class=\"dataframe\">\n",
       "  <thead>\n",
       "    <tr style=\"text-align: right;\">\n",
       "      <th></th>\n",
       "      <th>Movie Title</th>\n",
       "      <th>Year</th>\n",
       "      <th>Score</th>\n",
       "      <th>Director</th>\n",
       "      <th>Cast</th>\n",
       "    </tr>\n",
       "    <tr>\n",
       "      <th>Rank</th>\n",
       "      <th></th>\n",
       "      <th></th>\n",
       "      <th></th>\n",
       "      <th></th>\n",
       "      <th></th>\n",
       "    </tr>\n",
       "  </thead>\n",
       "  <tbody>\n",
       "    <tr>\n",
       "      <th>5</th>\n",
       "      <td>Monty Python and the Holy Grail</td>\n",
       "      <td>1975</td>\n",
       "      <td>98</td>\n",
       "      <td>Terry Gilliam</td>\n",
       "      <td>Graham Chapman, John Cleese, Terry Gilliam, Er...</td>\n",
       "    </tr>\n",
       "    <tr>\n",
       "      <th>10</th>\n",
       "      <td>Dolemite Is My Name</td>\n",
       "      <td>2019</td>\n",
       "      <td>97</td>\n",
       "      <td>Craig Brewer</td>\n",
       "      <td>Eddie Murphy, Wesley Snipes, Kodi Smit-McPhee,...</td>\n",
       "    </tr>\n",
       "  </tbody>\n",
       "</table>\n",
       "</div>"
      ],
      "text/plain": [
       "                          Movie Title  Year  Score       Director  \\\n",
       "Rank                                                                \n",
       "5     Monty Python and the Holy Grail  1975     98  Terry Gilliam   \n",
       "10                Dolemite Is My Name  2019     97   Craig Brewer   \n",
       "\n",
       "                                                   Cast  \n",
       "Rank                                                     \n",
       "5     Graham Chapman, John Cleese, Terry Gilliam, Er...  \n",
       "10    Eddie Murphy, Wesley Snipes, Kodi Smit-McPhee,...  "
      ]
     },
     "execution_count": 13,
     "metadata": {},
     "output_type": "execute_result"
    }
   ],
   "source": [
    "df.loc [[5, 10]]"
   ]
  },
  {
   "cell_type": "markdown",
   "id": "d965fb77",
   "metadata": {},
   "source": [
    "##### 인덱스 5로 행에 접근 후 컬럼 'Year'로 열에 접근 "
   ]
  },
  {
   "cell_type": "code",
   "execution_count": 14,
   "id": "a158f11e",
   "metadata": {},
   "outputs": [
    {
     "data": {
      "text/plain": [
       "1975"
      ]
     },
     "execution_count": 14,
     "metadata": {},
     "output_type": "execute_result"
    }
   ],
   "source": [
    "df.loc[5, 'Year']"
   ]
  },
  {
   "cell_type": "markdown",
   "id": "b75eda83",
   "metadata": {},
   "source": [
    "##### 인덱스 5, 10으로 행에 접근 후 컬럼 'Year'로 열에 접근"
   ]
  },
  {
   "cell_type": "code",
   "execution_count": 15,
   "id": "83bae875",
   "metadata": {},
   "outputs": [
    {
     "data": {
      "text/plain": [
       "Rank\n",
       "5     1975\n",
       "10    2019\n",
       "Name: Year, dtype: int64"
      ]
     },
     "execution_count": 15,
     "metadata": {},
     "output_type": "execute_result"
    }
   ],
   "source": [
    "df.loc [[5, 10], 'Year' ]"
   ]
  },
  {
   "cell_type": "markdown",
   "id": "9557fb5b",
   "metadata": {},
   "source": [
    "##### 인덱스 5, 10으로 행에 접근 후 컬럼 'Movie Title', 'Year', 'Director'로 열에 접근"
   ]
  },
  {
   "cell_type": "code",
   "execution_count": 20,
   "id": "4e4a178e",
   "metadata": {},
   "outputs": [
    {
     "data": {
      "text/html": [
       "<div>\n",
       "<style scoped>\n",
       "    .dataframe tbody tr th:only-of-type {\n",
       "        vertical-align: middle;\n",
       "    }\n",
       "\n",
       "    .dataframe tbody tr th {\n",
       "        vertical-align: top;\n",
       "    }\n",
       "\n",
       "    .dataframe thead th {\n",
       "        text-align: right;\n",
       "    }\n",
       "</style>\n",
       "<table border=\"1\" class=\"dataframe\">\n",
       "  <thead>\n",
       "    <tr style=\"text-align: right;\">\n",
       "      <th></th>\n",
       "      <th>Movie Title</th>\n",
       "      <th>Year</th>\n",
       "      <th>Director</th>\n",
       "    </tr>\n",
       "    <tr>\n",
       "      <th>Rank</th>\n",
       "      <th></th>\n",
       "      <th></th>\n",
       "      <th></th>\n",
       "    </tr>\n",
       "  </thead>\n",
       "  <tbody>\n",
       "    <tr>\n",
       "      <th>5</th>\n",
       "      <td>Monty Python and the Holy Grail</td>\n",
       "      <td>1975</td>\n",
       "      <td>Terry Gilliam</td>\n",
       "    </tr>\n",
       "    <tr>\n",
       "      <th>10</th>\n",
       "      <td>Dolemite Is My Name</td>\n",
       "      <td>2019</td>\n",
       "      <td>Craig Brewer</td>\n",
       "    </tr>\n",
       "  </tbody>\n",
       "</table>\n",
       "</div>"
      ],
      "text/plain": [
       "                          Movie Title  Year       Director\n",
       "Rank                                                      \n",
       "5     Monty Python and the Holy Grail  1975  Terry Gilliam\n",
       "10                Dolemite Is My Name  2019   Craig Brewer"
      ]
     },
     "execution_count": 20,
     "metadata": {},
     "output_type": "execute_result"
    }
   ],
   "source": [
    "df.loc [[5, 10], ['Movie Title', 'Year', 'Director']]"
   ]
  },
  {
   "cell_type": "markdown",
   "id": "f6d75e05",
   "metadata": {},
   "source": [
    "### 인덱스 5부터 10 까지 행을, 컬럼 'Movie Title'부터 'Year' 까지 열을  "
   ]
  },
  {
   "cell_type": "code",
   "execution_count": 28,
   "id": "02a08f93",
   "metadata": {},
   "outputs": [
    {
     "data": {
      "text/html": [
       "<div>\n",
       "<style scoped>\n",
       "    .dataframe tbody tr th:only-of-type {\n",
       "        vertical-align: middle;\n",
       "    }\n",
       "\n",
       "    .dataframe tbody tr th {\n",
       "        vertical-align: top;\n",
       "    }\n",
       "\n",
       "    .dataframe thead th {\n",
       "        text-align: right;\n",
       "    }\n",
       "</style>\n",
       "<table border=\"1\" class=\"dataframe\">\n",
       "  <thead>\n",
       "    <tr style=\"text-align: right;\">\n",
       "      <th></th>\n",
       "      <th>Movie Title</th>\n",
       "      <th>Year</th>\n",
       "    </tr>\n",
       "    <tr>\n",
       "      <th>Rank</th>\n",
       "      <th></th>\n",
       "      <th></th>\n",
       "    </tr>\n",
       "  </thead>\n",
       "  <tbody>\n",
       "    <tr>\n",
       "      <th>5</th>\n",
       "      <td>Monty Python and the Holy Grail</td>\n",
       "      <td>1975</td>\n",
       "    </tr>\n",
       "    <tr>\n",
       "      <th>6</th>\n",
       "      <td>Ma Rainey's Black Bottom</td>\n",
       "      <td>2020</td>\n",
       "    </tr>\n",
       "    <tr>\n",
       "      <th>7</th>\n",
       "      <td>The Hurt Locker</td>\n",
       "      <td>2008</td>\n",
       "    </tr>\n",
       "    <tr>\n",
       "      <th>8</th>\n",
       "      <td>Hell or High Water</td>\n",
       "      <td>2016</td>\n",
       "    </tr>\n",
       "    <tr>\n",
       "      <th>9</th>\n",
       "      <td>Won't You Be My Neighbor?</td>\n",
       "      <td>2018</td>\n",
       "    </tr>\n",
       "    <tr>\n",
       "      <th>10</th>\n",
       "      <td>Dolemite Is My Name</td>\n",
       "      <td>2019</td>\n",
       "    </tr>\n",
       "  </tbody>\n",
       "</table>\n",
       "</div>"
      ],
      "text/plain": [
       "                          Movie Title  Year\n",
       "Rank                                       \n",
       "5     Monty Python and the Holy Grail  1975\n",
       "6            Ma Rainey's Black Bottom  2020\n",
       "7                     The Hurt Locker  2008\n",
       "8                  Hell or High Water  2016\n",
       "9           Won't You Be My Neighbor?  2018\n",
       "10                Dolemite Is My Name  2019"
      ]
     },
     "execution_count": 28,
     "metadata": {},
     "output_type": "execute_result"
    }
   ],
   "source": [
    "df.loc [5:10, 'Movie Title' :'Year']"
   ]
  }
 ],
 "metadata": {
  "kernelspec": {
   "display_name": "Python 3 (ipykernel)",
   "language": "python",
   "name": "python3"
  },
  "language_info": {
   "codemirror_mode": {
    "name": "ipython",
    "version": 3
   },
   "file_extension": ".py",
   "mimetype": "text/x-python",
   "name": "python",
   "nbconvert_exporter": "python",
   "pygments_lexer": "ipython3",
   "version": "3.10.9"
  }
 },
 "nbformat": 4,
 "nbformat_minor": 5
}
