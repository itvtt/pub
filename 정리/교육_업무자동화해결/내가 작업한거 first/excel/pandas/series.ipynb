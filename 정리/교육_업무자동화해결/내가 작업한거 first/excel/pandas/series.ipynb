{
 "cells": [
  {
   "cell_type": "code",
   "execution_count": 5,
   "id": "e69da868",
   "metadata": {},
   "outputs": [],
   "source": [
    "import pandas as pd"
   ]
  },
  {
   "cell_type": "markdown",
   "id": "fb439ba2",
   "metadata": {},
   "source": [
    "### Series 객체 만들기"
   ]
  },
  {
   "cell_type": "code",
   "execution_count": 12,
   "id": "831ae392",
   "metadata": {},
   "outputs": [],
   "source": [
    "score = pd.Series([100, 96, 94, 83, 23], index=['1위','2위','3위','4위','5위'])"
   ]
  },
  {
   "cell_type": "code",
   "execution_count": 13,
   "id": "db88f18d",
   "metadata": {},
   "outputs": [
    {
     "data": {
      "text/plain": [
       "pandas.core.series.Series"
      ]
     },
     "execution_count": 13,
     "metadata": {},
     "output_type": "execute_result"
    }
   ],
   "source": [
    "type(score)"
   ]
  },
  {
   "cell_type": "markdown",
   "id": "950bf194",
   "metadata": {},
   "source": [
    "### 데이터 접근하기"
   ]
  },
  {
   "cell_type": "code",
   "execution_count": 15,
   "id": "047c7950",
   "metadata": {},
   "outputs": [
    {
     "data": {
      "text/plain": [
       "100"
      ]
     },
     "execution_count": 15,
     "metadata": {},
     "output_type": "execute_result"
    }
   ],
   "source": [
    "score['1위']"
   ]
  },
  {
   "cell_type": "markdown",
   "id": "2e9d7920",
   "metadata": {},
   "source": [
    "### 인덱스 지정해서 시리즈 객체 만들기"
   ]
  },
  {
   "cell_type": "code",
   "execution_count": null,
   "id": "813782e6",
   "metadata": {},
   "outputs": [],
   "source": []
  },
  {
   "cell_type": "markdown",
   "id": "e7e6cb5d",
   "metadata": {},
   "source": [
    "### 시리즈의 인덱스 이름 설정"
   ]
  },
  {
   "cell_type": "code",
   "execution_count": 16,
   "id": "c403de77",
   "metadata": {},
   "outputs": [],
   "source": [
    "score.index.name = 'Rank'"
   ]
  },
  {
   "cell_type": "code",
   "execution_count": 17,
   "id": "5edccfaf",
   "metadata": {},
   "outputs": [
    {
     "data": {
      "text/plain": [
       "Rank\n",
       "1위    100\n",
       "2위     96\n",
       "3위     94\n",
       "4위     83\n",
       "5위     23\n",
       "dtype: int64"
      ]
     },
     "execution_count": 17,
     "metadata": {},
     "output_type": "execute_result"
    }
   ],
   "source": [
    "score"
   ]
  },
  {
   "cell_type": "markdown",
   "id": "7a996463",
   "metadata": {},
   "source": [
    "### 잘못된 인덱스 접근"
   ]
  },
  {
   "cell_type": "code",
   "execution_count": 19,
   "id": "47b7bcd2",
   "metadata": {},
   "outputs": [
    {
     "data": {
      "text/plain": [
       "23"
      ]
     },
     "execution_count": 19,
     "metadata": {},
     "output_type": "execute_result"
    }
   ],
   "source": [
    "score['5위']"
   ]
  }
 ],
 "metadata": {
  "kernelspec": {
   "display_name": "Python 3 (ipykernel)",
   "language": "python",
   "name": "python3"
  },
  "language_info": {
   "codemirror_mode": {
    "name": "ipython",
    "version": 3
   },
   "file_extension": ".py",
   "mimetype": "text/x-python",
   "name": "python",
   "nbconvert_exporter": "python",
   "pygments_lexer": "ipython3",
   "version": "3.10.9"
  }
 },
 "nbformat": 4,
 "nbformat_minor": 5
}
