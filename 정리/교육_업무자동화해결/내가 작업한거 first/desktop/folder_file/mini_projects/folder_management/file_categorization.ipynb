{
 "cells": [
  {
   "cell_type": "markdown",
   "id": "50484662",
   "metadata": {},
   "source": [
    "### 확장자에 따라 폴더 만들고 파일 분류하기"
   ]
  },
  {
   "cell_type": "markdown",
   "id": "d46415be",
   "metadata": {},
   "source": [
    "##### 모듈 가져오기"
   ]
  },
  {
   "cell_type": "code",
   "execution_count": 8,
   "id": "57789ff0",
   "metadata": {},
   "outputs": [],
   "source": [
    "import os\n",
    "import glob\n",
    "import shutil"
   ]
  },
  {
   "cell_type": "markdown",
   "id": "e8369d95",
   "metadata": {},
   "source": [
    "##### 확장자 모음"
   ]
  },
  {
   "cell_type": "code",
   "execution_count": 3,
   "id": "d718f8cf",
   "metadata": {},
   "outputs": [],
   "source": [
    "extensions=('docx', 'xlsx', 'pptx')"
   ]
  },
  {
   "cell_type": "markdown",
   "id": "cb50ce2f",
   "metadata": {},
   "source": [
    "##### '파일모음' 폴더 아래 확장자별로 폴더이름 만들기"
   ]
  },
  {
   "cell_type": "markdown",
   "id": "f3ed4f23",
   "metadata": {},
   "source": [
    "##### glob을 이용해 각 확장자별 리스트 얻기"
   ]
  },
  {
   "cell_type": "markdown",
   "id": "344f25c5",
   "metadata": {},
   "source": [
    "#####  확장자에 따라 파일을 해당 확장자 폴더로 이동"
   ]
  },
  {
   "cell_type": "code",
   "execution_count": null,
   "id": "55784be2",
   "metadata": {},
   "outputs": [],
   "source": []
  }
 ],
 "metadata": {
  "kernelspec": {
   "display_name": "Python 3 (ipykernel)",
   "language": "python",
   "name": "python3"
  },
  "language_info": {
   "codemirror_mode": {
    "name": "ipython",
    "version": 3
   },
   "file_extension": ".py",
   "mimetype": "text/x-python",
   "name": "python",
   "nbconvert_exporter": "python",
   "pygments_lexer": "ipython3",
   "version": "3.10.9"
  }
 },
 "nbformat": 4,
 "nbformat_minor": 5
}
