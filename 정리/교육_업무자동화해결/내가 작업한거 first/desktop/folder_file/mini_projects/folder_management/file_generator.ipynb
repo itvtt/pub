{
 "cells": [
  {
   "cell_type": "markdown",
   "id": "222643f8",
   "metadata": {},
   "source": [
    "### 임의로 파일 100개 만들기"
   ]
  },
  {
   "cell_type": "markdown",
   "id": "268866ee",
   "metadata": {},
   "source": [
    "##### 모듈 가져오기"
   ]
  },
  {
   "cell_type": "code",
   "execution_count": 1,
   "id": "2465c0dc",
   "metadata": {},
   "outputs": [],
   "source": [
    "import os\n",
    "import string\n",
    "import random"
   ]
  },
  {
   "cell_type": "markdown",
   "id": "07abcf5b",
   "metadata": {},
   "source": [
    "### 알아야 할 파이썬 기법"
   ]
  },
  {
   "cell_type": "markdown",
   "id": "4bd1ef6f",
   "metadata": {},
   "source": [
    "##### 소문자, 대문자 집합"
   ]
  },
  {
   "cell_type": "markdown",
   "id": "16665e33",
   "metadata": {},
   "source": [
    "##### 랜덤하게 문자 선택하기"
   ]
  },
  {
   "cell_type": "markdown",
   "id": "b830a960",
   "metadata": {},
   "source": [
    "##### 구분자로 문자열 조합"
   ]
  },
  {
   "cell_type": "markdown",
   "id": "8d381c6e",
   "metadata": {},
   "source": [
    "##### 리스트 컴프리헨션으로 5글자 임의 파일 이름 5개 만들기"
   ]
  },
  {
   "cell_type": "markdown",
   "id": "a0533b37",
   "metadata": {},
   "source": [
    "### 파일 확장자 {'docx', 'xlsx', 'pptx'}로 '파일모음' 폴더에 임의의 파일 100개 만들기"
   ]
  },
  {
   "cell_type": "code",
   "execution_count": 1,
   "id": "76c0994c",
   "metadata": {},
   "outputs": [],
   "source": [
    "extensions=('docx', 'xlsx', 'pptx')"
   ]
  },
  {
   "cell_type": "markdown",
   "id": "96660a22",
   "metadata": {},
   "source": [
    "##### '파일모음' 폴더 만들기"
   ]
  },
  {
   "cell_type": "markdown",
   "id": "068d097d",
   "metadata": {},
   "source": [
    "##### 임의 파일 100개 생성"
   ]
  },
  {
   "cell_type": "code",
   "execution_count": null,
   "id": "fe117b64",
   "metadata": {},
   "outputs": [],
   "source": []
  }
 ],
 "metadata": {
  "kernelspec": {
   "display_name": "Python 3 (ipykernel)",
   "language": "python",
   "name": "python3"
  },
  "language_info": {
   "codemirror_mode": {
    "name": "ipython",
    "version": 3
   },
   "file_extension": ".py",
   "mimetype": "text/x-python",
   "name": "python",
   "nbconvert_exporter": "python",
   "pygments_lexer": "ipython3",
   "version": "3.10.9"
  }
 },
 "nbformat": 4,
 "nbformat_minor": 5
}
