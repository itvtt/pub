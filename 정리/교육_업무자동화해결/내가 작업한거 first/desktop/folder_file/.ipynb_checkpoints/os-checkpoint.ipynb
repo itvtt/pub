{
 "cells": [
  {
   "cell_type": "code",
   "execution_count": 2,
   "id": "7e0798dc",
   "metadata": {},
   "outputs": [],
   "source": [
    "import os"
   ]
  },
  {
   "cell_type": "markdown",
   "id": "c5b1c1bc",
   "metadata": {},
   "source": [
    "### 상대 경로에 폴더 만들기"
   ]
  },
  {
   "cell_type": "code",
   "execution_count": 8,
   "id": "fafd85d1",
   "metadata": {},
   "outputs": [
    {
     "ename": "FileExistsError",
     "evalue": "[WinError 183] 파일이 이미 있으므로 만들 수 없습니다: '../test'",
     "output_type": "error",
     "traceback": [
      "\u001b[1;31m---------------------------------------------------------------------------\u001b[0m",
      "\u001b[1;31mFileExistsError\u001b[0m                           Traceback (most recent call last)",
      "Cell \u001b[1;32mIn[8], line 2\u001b[0m\n\u001b[0;32m      1\u001b[0m \u001b[38;5;66;03m# os.mkdir('test')\u001b[39;00m\n\u001b[1;32m----> 2\u001b[0m \u001b[43mos\u001b[49m\u001b[38;5;241;43m.\u001b[39;49m\u001b[43mmkdir\u001b[49m\u001b[43m(\u001b[49m\u001b[38;5;124;43m'\u001b[39;49m\u001b[38;5;124;43m../test\u001b[39;49m\u001b[38;5;124;43m'\u001b[39;49m\u001b[43m)\u001b[49m\n",
      "\u001b[1;31mFileExistsError\u001b[0m: [WinError 183] 파일이 이미 있으므로 만들 수 없습니다: '../test'"
     ]
    }
   ],
   "source": [
    "os.mkdir('test')\n",
    "os.mkdir('../test')"
   ]
  },
  {
   "cell_type": "markdown",
   "id": "8c07a7e8",
   "metadata": {},
   "source": [
    "### 현재 경로 확인하기"
   ]
  },
  {
   "cell_type": "code",
   "execution_count": 3,
   "id": "63db7352",
   "metadata": {},
   "outputs": [
    {
     "data": {
      "text/plain": [
       "'C:\\\\Users\\\\itvtt\\\\Desktop\\\\first\\\\desktop\\\\folder_file'"
      ]
     },
     "execution_count": 3,
     "metadata": {},
     "output_type": "execute_result"
    }
   ],
   "source": [
    "os.getcwd()\n"
   ]
  },
  {
   "cell_type": "markdown",
   "id": "f561aae6",
   "metadata": {},
   "source": [
    "### 절대경로에 폴더 만들기"
   ]
  },
  {
   "cell_type": "code",
   "execution_count": 11,
   "id": "8802e235",
   "metadata": {},
   "outputs": [
    {
     "ename": "FileExistsError",
     "evalue": "[WinError 183] 파일이 이미 있으므로 만들 수 없습니다: 'C://Users//itvtt//Desktop//first//desktop//folder_file//test3'",
     "output_type": "error",
     "traceback": [
      "\u001b[1;31m---------------------------------------------------------------------------\u001b[0m",
      "\u001b[1;31mFileExistsError\u001b[0m                           Traceback (most recent call last)",
      "Cell \u001b[1;32mIn[11], line 1\u001b[0m\n\u001b[1;32m----> 1\u001b[0m \u001b[43mos\u001b[49m\u001b[38;5;241;43m.\u001b[39;49m\u001b[43mmkdir\u001b[49m\u001b[43m(\u001b[49m\u001b[38;5;124;43m'\u001b[39;49m\u001b[38;5;124;43mC://Users//itvtt//Desktop//first//desktop//folder_file//test3\u001b[39;49m\u001b[38;5;124;43m'\u001b[39;49m\u001b[43m)\u001b[49m\n",
      "\u001b[1;31mFileExistsError\u001b[0m: [WinError 183] 파일이 이미 있으므로 만들 수 없습니다: 'C://Users//itvtt//Desktop//first//desktop//folder_file//test3'"
     ]
    }
   ],
   "source": [
    "os.mkdir('C://Users//itvtt//Desktop//first//desktop//folder_file//test3')"
   ]
  },
  {
   "cell_type": "markdown",
   "id": "c9a5670c",
   "metadata": {},
   "source": [
    "### 파일 존재 여부 판단하기"
   ]
  },
  {
   "cell_type": "code",
   "execution_count": 13,
   "id": "1b594e9d",
   "metadata": {},
   "outputs": [
    {
     "data": {
      "text/plain": [
       "True"
      ]
     },
     "execution_count": 13,
     "metadata": {},
     "output_type": "execute_result"
    }
   ],
   "source": [
    "os.path.exists('test3')"
   ]
  },
  {
   "cell_type": "markdown",
   "id": "2ffaaa80",
   "metadata": {},
   "source": [
    "### 폴더를 만드는 일반적인 방법"
   ]
  },
  {
   "cell_type": "code",
   "execution_count": 15,
   "id": "1679a369",
   "metadata": {},
   "outputs": [],
   "source": [
    "if not os.path.exists('test4'):\n",
    "    os.mkdir('test4')"
   ]
  },
  {
   "cell_type": "markdown",
   "id": "e7fca216",
   "metadata": {},
   "source": [
    "### 디렉토리 변경"
   ]
  },
  {
   "cell_type": "code",
   "execution_count": 35,
   "id": "3e4651c8",
   "metadata": {
    "scrolled": true
   },
   "outputs": [
    {
     "data": {
      "text/plain": [
       "'C:\\\\Users\\\\itvtt\\\\Desktop\\\\first\\\\desktop\\\\folder_file\\\\test'"
      ]
     },
     "execution_count": 35,
     "metadata": {},
     "output_type": "execute_result"
    }
   ],
   "source": [
    "os.getcwd()"
   ]
  },
  {
   "cell_type": "code",
   "execution_count": 37,
   "id": "d033938f",
   "metadata": {},
   "outputs": [
    {
     "ename": "SyntaxError",
     "evalue": "unterminated string literal (detected at line 1) (2097587814.py, line 1)",
     "output_type": "error",
     "traceback": [
      "\u001b[1;36m  Cell \u001b[1;32mIn[37], line 1\u001b[1;36m\u001b[0m\n\u001b[1;33m    os.chdir('C://Users//itvtt//Desktop//first//desktop//folder_file)\u001b[0m\n\u001b[1;37m             ^\u001b[0m\n\u001b[1;31mSyntaxError\u001b[0m\u001b[1;31m:\u001b[0m unterminated string literal (detected at line 1)\n"
     ]
    }
   ],
   "source": [
    "os.chdir('C://Users//itvtt//Desktop//first//desktop//folder_file)"
   ]
  },
  {
   "cell_type": "code",
   "execution_count": 19,
   "id": "84b4b0d1",
   "metadata": {},
   "outputs": [
    {
     "ename": "FileNotFoundError",
     "evalue": "[WinError 3] 지정된 경로를 찾을 수 없습니다: 'test/testt/testtt'",
     "output_type": "error",
     "traceback": [
      "\u001b[1;31m---------------------------------------------------------------------------\u001b[0m",
      "\u001b[1;31mFileNotFoundError\u001b[0m                         Traceback (most recent call last)",
      "Cell \u001b[1;32mIn[19], line 1\u001b[0m\n\u001b[1;32m----> 1\u001b[0m \u001b[43mos\u001b[49m\u001b[38;5;241;43m.\u001b[39;49m\u001b[43mmkdir\u001b[49m\u001b[43m(\u001b[49m\u001b[38;5;124;43m'\u001b[39;49m\u001b[38;5;124;43mtest/testt/testtt\u001b[39;49m\u001b[38;5;124;43m'\u001b[39;49m\u001b[43m)\u001b[49m\n",
      "\u001b[1;31mFileNotFoundError\u001b[0m: [WinError 3] 지정된 경로를 찾을 수 없습니다: 'test/testt/testtt'"
     ]
    }
   ],
   "source": [
    "os.mkdir('test/testt/testtt')"
   ]
  },
  {
   "cell_type": "markdown",
   "id": "289855a3",
   "metadata": {},
   "source": [
    "### 계층적으로 디렉토리 만들기"
   ]
  },
  {
   "cell_type": "code",
   "execution_count": 21,
   "id": "3be1c91e",
   "metadata": {},
   "outputs": [
    {
     "ename": "FileExistsError",
     "evalue": "[WinError 183] 파일이 이미 있으므로 만들 수 없습니다: 'test/testt/testtt'",
     "output_type": "error",
     "traceback": [
      "\u001b[1;31m---------------------------------------------------------------------------\u001b[0m",
      "\u001b[1;31mFileExistsError\u001b[0m                           Traceback (most recent call last)",
      "Cell \u001b[1;32mIn[21], line 1\u001b[0m\n\u001b[1;32m----> 1\u001b[0m \u001b[43mos\u001b[49m\u001b[38;5;241;43m.\u001b[39;49m\u001b[43mmakedirs\u001b[49m\u001b[43m(\u001b[49m\u001b[38;5;124;43m'\u001b[39;49m\u001b[38;5;124;43mtest/testt/testtt\u001b[39;49m\u001b[38;5;124;43m'\u001b[39;49m\u001b[43m)\u001b[49m\n",
      "File \u001b[1;32mC:\\ProgramData\\anaconda3\\lib\\os.py:225\u001b[0m, in \u001b[0;36mmakedirs\u001b[1;34m(name, mode, exist_ok)\u001b[0m\n\u001b[0;32m    223\u001b[0m         \u001b[38;5;28;01mreturn\u001b[39;00m\n\u001b[0;32m    224\u001b[0m \u001b[38;5;28;01mtry\u001b[39;00m:\n\u001b[1;32m--> 225\u001b[0m     \u001b[43mmkdir\u001b[49m\u001b[43m(\u001b[49m\u001b[43mname\u001b[49m\u001b[43m,\u001b[49m\u001b[43m \u001b[49m\u001b[43mmode\u001b[49m\u001b[43m)\u001b[49m\n\u001b[0;32m    226\u001b[0m \u001b[38;5;28;01mexcept\u001b[39;00m \u001b[38;5;167;01mOSError\u001b[39;00m:\n\u001b[0;32m    227\u001b[0m     \u001b[38;5;66;03m# Cannot rely on checking for EEXIST, since the operating system\u001b[39;00m\n\u001b[0;32m    228\u001b[0m     \u001b[38;5;66;03m# could give priority to other errors like EACCES or EROFS\u001b[39;00m\n\u001b[0;32m    229\u001b[0m     \u001b[38;5;28;01mif\u001b[39;00m \u001b[38;5;129;01mnot\u001b[39;00m exist_ok \u001b[38;5;129;01mor\u001b[39;00m \u001b[38;5;129;01mnot\u001b[39;00m path\u001b[38;5;241m.\u001b[39misdir(name):\n",
      "\u001b[1;31mFileExistsError\u001b[0m: [WinError 183] 파일이 이미 있으므로 만들 수 없습니다: 'test/testt/testtt'"
     ]
    }
   ],
   "source": [
    "os.makedirs('test/testt/testtt')"
   ]
  },
  {
   "cell_type": "markdown",
   "id": "54af817f",
   "metadata": {},
   "source": [
    "### 경로 조합하기"
   ]
  },
  {
   "cell_type": "code",
   "execution_count": null,
   "id": "ee2aa0bd",
   "metadata": {},
   "outputs": [],
   "source": []
  },
  {
   "cell_type": "markdown",
   "id": "382a5ab8",
   "metadata": {},
   "source": [
    "### 문자열 결합의 문제점\n",
    "#### 운영체제마다 폴더 구분자가 다르다."
   ]
  },
  {
   "cell_type": "code",
   "execution_count": null,
   "id": "9ffbfe15",
   "metadata": {},
   "outputs": [],
   "source": []
  },
  {
   "cell_type": "code",
   "execution_count": 23,
   "id": "29712f8f",
   "metadata": {},
   "outputs": [
    {
     "data": {
      "text/plain": [
       "'user\\\\test\\\\test\\\\test.txt'"
      ]
     },
     "execution_count": 23,
     "metadata": {},
     "output_type": "execute_result"
    }
   ],
   "source": [
    "folder = 'user\\\\test'\n",
    "file = 'test\\\\test.txt'\n",
    "path = folder + '\\\\' + file\n",
    "path"
   ]
  },
  {
   "cell_type": "markdown",
   "id": "3dbf5671",
   "metadata": {},
   "source": [
    "### 운영체제마다 알아서 구분자를 넣어서 경로를 완성한다."
   ]
  },
  {
   "cell_type": "code",
   "execution_count": 24,
   "id": "ddf87585",
   "metadata": {},
   "outputs": [
    {
     "data": {
      "text/plain": [
       "'user\\\\test\\\\test\\\\test.txt'"
      ]
     },
     "execution_count": 24,
     "metadata": {},
     "output_type": "execute_result"
    }
   ],
   "source": [
    "os.path.join(folder, file)"
   ]
  },
  {
   "cell_type": "markdown",
   "id": "9fd4f578",
   "metadata": {},
   "source": [
    "### 파일 삭제"
   ]
  },
  {
   "cell_type": "code",
   "execution_count": 30,
   "id": "e953d9c8",
   "metadata": {},
   "outputs": [
    {
     "ename": "OSError",
     "evalue": "[WinError 145] 디렉터리가 비어 있지 않습니다: 'test'",
     "output_type": "error",
     "traceback": [
      "\u001b[1;31m---------------------------------------------------------------------------\u001b[0m",
      "\u001b[1;31mOSError\u001b[0m                                   Traceback (most recent call last)",
      "Cell \u001b[1;32mIn[30], line 1\u001b[0m\n\u001b[1;32m----> 1\u001b[0m \u001b[43mos\u001b[49m\u001b[38;5;241;43m.\u001b[39;49m\u001b[43mremovedirs\u001b[49m\u001b[43m(\u001b[49m\u001b[38;5;124;43m'\u001b[39;49m\u001b[38;5;124;43mtest\u001b[39;49m\u001b[38;5;124;43m'\u001b[39;49m\u001b[43m)\u001b[49m\n",
      "File \u001b[1;32mC:\\ProgramData\\anaconda3\\lib\\os.py:243\u001b[0m, in \u001b[0;36mremovedirs\u001b[1;34m(name)\u001b[0m\n\u001b[0;32m    232\u001b[0m \u001b[38;5;28;01mdef\u001b[39;00m \u001b[38;5;21mremovedirs\u001b[39m(name):\n\u001b[0;32m    233\u001b[0m \u001b[38;5;250m    \u001b[39m\u001b[38;5;124;03m\"\"\"removedirs(name)\u001b[39;00m\n\u001b[0;32m    234\u001b[0m \n\u001b[0;32m    235\u001b[0m \u001b[38;5;124;03m    Super-rmdir; remove a leaf directory and all empty intermediate\u001b[39;00m\n\u001b[1;32m   (...)\u001b[0m\n\u001b[0;32m    241\u001b[0m \n\u001b[0;32m    242\u001b[0m \u001b[38;5;124;03m    \"\"\"\u001b[39;00m\n\u001b[1;32m--> 243\u001b[0m     \u001b[43mrmdir\u001b[49m\u001b[43m(\u001b[49m\u001b[43mname\u001b[49m\u001b[43m)\u001b[49m\n\u001b[0;32m    244\u001b[0m     head, tail \u001b[38;5;241m=\u001b[39m path\u001b[38;5;241m.\u001b[39msplit(name)\n\u001b[0;32m    245\u001b[0m     \u001b[38;5;28;01mif\u001b[39;00m \u001b[38;5;129;01mnot\u001b[39;00m tail:\n",
      "\u001b[1;31mOSError\u001b[0m: [WinError 145] 디렉터리가 비어 있지 않습니다: 'test'"
     ]
    }
   ],
   "source": [
    "os.removedirs('test')"
   ]
  },
  {
   "cell_type": "markdown",
   "id": "c9f09aae",
   "metadata": {},
   "source": [
    "##### 먼저 파일을 만들자."
   ]
  },
  {
   "cell_type": "code",
   "execution_count": null,
   "id": "89e86736",
   "metadata": {},
   "outputs": [],
   "source": []
  },
  {
   "cell_type": "markdown",
   "id": "6bf5c6d3",
   "metadata": {},
   "source": [
    "##### 파일 삭제"
   ]
  },
  {
   "cell_type": "code",
   "execution_count": null,
   "id": "d01eb04c",
   "metadata": {},
   "outputs": [],
   "source": []
  },
  {
   "cell_type": "markdown",
   "id": "070db05f",
   "metadata": {},
   "source": [
    "### 폴더 삭제"
   ]
  },
  {
   "cell_type": "code",
   "execution_count": null,
   "id": "ab6213f3",
   "metadata": {},
   "outputs": [],
   "source": []
  },
  {
   "cell_type": "markdown",
   "id": "05a1d512",
   "metadata": {},
   "source": [
    "##### 먼저 폴더를 만들자."
   ]
  },
  {
   "cell_type": "code",
   "execution_count": null,
   "id": "c022c9ac",
   "metadata": {},
   "outputs": [],
   "source": []
  },
  {
   "cell_type": "markdown",
   "id": "0f2a1187",
   "metadata": {},
   "source": [
    "##### 폴더 삭제"
   ]
  },
  {
   "cell_type": "code",
   "execution_count": null,
   "id": "4b1f4895",
   "metadata": {},
   "outputs": [],
   "source": []
  },
  {
   "cell_type": "markdown",
   "id": "107d3c24",
   "metadata": {},
   "source": [
    "### 폴더에 있는 파일 & 폴더 목록 보기"
   ]
  },
  {
   "cell_type": "code",
   "execution_count": null,
   "id": "d92e2d92",
   "metadata": {},
   "outputs": [],
   "source": []
  },
  {
   "cell_type": "markdown",
   "id": "7ffe626e",
   "metadata": {},
   "source": [
    "##### 현재 디렉토리 "
   ]
  },
  {
   "cell_type": "code",
   "execution_count": null,
   "id": "282a1ed3",
   "metadata": {},
   "outputs": [],
   "source": []
  },
  {
   "cell_type": "markdown",
   "id": "f2221883",
   "metadata": {},
   "source": [
    "##### 특정 디렉토리"
   ]
  },
  {
   "cell_type": "code",
   "execution_count": null,
   "id": "3a2446e4",
   "metadata": {},
   "outputs": [],
   "source": []
  },
  {
   "cell_type": "markdown",
   "id": "605b794a",
   "metadata": {},
   "source": [
    "### 파일 이름 변경"
   ]
  },
  {
   "cell_type": "code",
   "execution_count": null,
   "id": "2ae261bd",
   "metadata": {},
   "outputs": [],
   "source": []
  },
  {
   "cell_type": "markdown",
   "id": "852ed857",
   "metadata": {},
   "source": [
    "### 파일인지 폴더인지 알아보기"
   ]
  },
  {
   "cell_type": "code",
   "execution_count": null,
   "id": "9a213d60",
   "metadata": {},
   "outputs": [],
   "source": []
  }
 ],
 "metadata": {
  "kernelspec": {
   "display_name": "Python 3 (ipykernel)",
   "language": "python",
   "name": "python3"
  },
  "language_info": {
   "codemirror_mode": {
    "name": "ipython",
    "version": 3
   },
   "file_extension": ".py",
   "mimetype": "text/x-python",
   "name": "python",
   "nbconvert_exporter": "python",
   "pygments_lexer": "ipython3",
   "version": "3.10.9"
  }
 },
 "nbformat": 4,
 "nbformat_minor": 5
}
