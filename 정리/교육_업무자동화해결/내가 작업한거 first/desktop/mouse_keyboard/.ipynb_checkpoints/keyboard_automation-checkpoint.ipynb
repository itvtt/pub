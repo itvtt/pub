{
 "cells": [
  {
   "cell_type": "code",
   "execution_count": 6,
   "id": "58373705",
   "metadata": {},
   "outputs": [],
   "source": [
    "import pyautogui as gui\n",
    "import time"
   ]
  },
  {
   "cell_type": "markdown",
   "id": "6fee1854",
   "metadata": {},
   "source": [
    "### 타이핑"
   ]
  },
  {
   "cell_type": "code",
   "execution_count": null,
   "id": "56e8ebc5",
   "metadata": {},
   "outputs": [],
   "source": []
  },
  {
   "cell_type": "markdown",
   "id": "c8a3062c",
   "metadata": {},
   "source": [
    "### 키 입력"
   ]
  },
  {
   "cell_type": "code",
   "execution_count": null,
   "id": "62f822ab",
   "metadata": {},
   "outputs": [],
   "source": []
  },
  {
   "cell_type": "markdown",
   "id": "cc3f8798",
   "metadata": {},
   "source": [
    "### 키보드 키 목록"
   ]
  },
  {
   "cell_type": "code",
   "execution_count": null,
   "id": "f2d7766b",
   "metadata": {},
   "outputs": [],
   "source": []
  },
  {
   "cell_type": "markdown",
   "id": "f6ad4a28",
   "metadata": {},
   "source": [
    "### 한글을 입력해봅시다."
   ]
  },
  {
   "cell_type": "code",
   "execution_count": 7,
   "id": "2a92ef5f",
   "metadata": {},
   "outputs": [],
   "source": [
    "time.sleep(3)\n",
    "gui.write('cciic')"
   ]
  },
  {
   "cell_type": "code",
   "execution_count": null,
   "id": "3b630cd9",
   "metadata": {},
   "outputs": [],
   "source": []
  },
  {
   "cell_type": "code",
   "execution_count": null,
   "id": "9401be2e",
   "metadata": {},
   "outputs": [],
   "source": [
    "cciic"
   ]
  }
 ],
 "metadata": {
  "kernelspec": {
   "display_name": "Python 3 (ipykernel)",
   "language": "python",
   "name": "python3"
  },
  "language_info": {
   "codemirror_mode": {
    "name": "ipython",
    "version": 3
   },
   "file_extension": ".py",
   "mimetype": "text/x-python",
   "name": "python",
   "nbconvert_exporter": "python",
   "pygments_lexer": "ipython3",
   "version": "3.10.9"
  }
 },
 "nbformat": 4,
 "nbformat_minor": 5
}
