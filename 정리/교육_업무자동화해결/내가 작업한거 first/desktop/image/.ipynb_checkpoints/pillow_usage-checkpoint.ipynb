{
 "cells": [
  {
   "cell_type": "markdown",
   "id": "d9afbaaf",
   "metadata": {},
   "source": [
    "### 라이브러리에서 Image 객체 가져오기"
   ]
  },
  {
   "cell_type": "code",
   "execution_count": 1,
   "id": "adb7bb58",
   "metadata": {},
   "outputs": [],
   "source": [
    "from PIL import Image"
   ]
  },
  {
   "cell_type": "markdown",
   "id": "7daca463",
   "metadata": {},
   "source": [
    "### python.png 이미지 가져오기"
   ]
  },
  {
   "cell_type": "code",
   "execution_count": null,
   "id": "5bbe5d3a",
   "metadata": {},
   "outputs": [],
   "source": []
  },
  {
   "cell_type": "markdown",
   "id": "985b0d45",
   "metadata": {},
   "source": [
    "### 이미지 사이즈 "
   ]
  },
  {
   "cell_type": "code",
   "execution_count": null,
   "id": "23dee99c",
   "metadata": {},
   "outputs": [],
   "source": []
  },
  {
   "cell_type": "markdown",
   "id": "2919c490",
   "metadata": {},
   "source": [
    "### 외장 프로그램으로 이미지 출력"
   ]
  },
  {
   "cell_type": "code",
   "execution_count": null,
   "id": "20972610",
   "metadata": {},
   "outputs": [],
   "source": []
  },
  {
   "cell_type": "markdown",
   "id": "81a10d32",
   "metadata": {},
   "source": [
    "### 주피터 노트북에 인라인으로 이미지 출력"
   ]
  },
  {
   "cell_type": "code",
   "execution_count": null,
   "id": "26ec1331",
   "metadata": {},
   "outputs": [],
   "source": []
  },
  {
   "cell_type": "markdown",
   "id": "571b13e6",
   "metadata": {},
   "source": [
    "### 이미지 리사이징"
   ]
  },
  {
   "cell_type": "code",
   "execution_count": null,
   "id": "a3527bac",
   "metadata": {},
   "outputs": [],
   "source": []
  },
  {
   "cell_type": "markdown",
   "id": "d74c716d",
   "metadata": {},
   "source": [
    "### 이미지 자르기"
   ]
  },
  {
   "cell_type": "code",
   "execution_count": 26,
   "id": "e4ff8266",
   "metadata": {},
   "outputs": [],
   "source": [
    "from PIL import ImageFilter"
   ]
  },
  {
   "cell_type": "markdown",
   "id": "4378fdcd",
   "metadata": {},
   "source": [
    "### 가우시안 블러 처리"
   ]
  },
  {
   "cell_type": "code",
   "execution_count": null,
   "id": "599c5100",
   "metadata": {},
   "outputs": [],
   "source": []
  },
  {
   "cell_type": "markdown",
   "id": "64a96944",
   "metadata": {},
   "source": [
    "### 머리 부분만 블러처리해보기"
   ]
  },
  {
   "cell_type": "code",
   "execution_count": 36,
   "id": "42cfa49a",
   "metadata": {},
   "outputs": [],
   "source": [
    "img.save('python_head_blurred.png')"
   ]
  },
  {
   "cell_type": "code",
   "execution_count": null,
   "id": "5fda62ca",
   "metadata": {},
   "outputs": [],
   "source": []
  }
 ],
 "metadata": {
  "kernelspec": {
   "display_name": "Python 3 (ipykernel)",
   "language": "python",
   "name": "python3"
  },
  "language_info": {
   "codemirror_mode": {
    "name": "ipython",
    "version": 3
   },
   "file_extension": ".py",
   "mimetype": "text/x-python",
   "name": "python",
   "nbconvert_exporter": "python",
   "pygments_lexer": "ipython3",
   "version": "3.10.9"
  }
 },
 "nbformat": 4,
 "nbformat_minor": 5
}
