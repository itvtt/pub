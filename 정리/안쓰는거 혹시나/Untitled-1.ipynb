{
 "cells": [
  {
   "cell_type": "code",
   "execution_count": 1,
   "metadata": {},
   "outputs": [],
   "source": [
    "import tkinter as tk\n",
    "\n",
    "def show_doraemon():\n",
    "    doraemon_img = tk.PhotoImage(file=\"doraemon.gif\")\n",
    "    tk.Label(image=doraemon_img).pack()\n",
    "\n",
    "root = tk.Tk()\n",
    "root.title(\"원형 버튼 예제\")\n",
    "\n",
    "canvas = tk.Canvas(root, width=100, height=100, bg=\"white\")\n",
    "canvas.pack()\n",
    "\n",
    "canvas.create_oval(10, 10, 90, 90, fill=\"blue\", outline=\"white\")\n",
    "canvas.create_text(50, 50, text=\"도라에몽\", fill=\"white\", font=(\"Arial\", 12, \"bold\"))\n",
    "\n",
    "canvas.bind(\"<Button-1>\", lambda event: show_doraemon())\n",
    "\n",
    "root.mainloop()\n"
   ]
  }
 ],
 "metadata": {
  "kernelspec": {
   "display_name": "Python 3",
   "language": "python",
   "name": "python3"
  },
  "language_info": {
   "codemirror_mode": {
    "name": "ipython",
    "version": 3
   },
   "file_extension": ".py",
   "mimetype": "text/x-python",
   "name": "python",
   "nbconvert_exporter": "python",
   "pygments_lexer": "ipython3",
   "version": "3.10.9"
  },
  "orig_nbformat": 4
 },
 "nbformat": 4,
 "nbformat_minor": 2
}
